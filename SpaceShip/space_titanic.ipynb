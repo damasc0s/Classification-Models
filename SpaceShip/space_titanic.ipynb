{
 "cells": [
  {
   "cell_type": "markdown",
   "id": "99991028",
   "metadata": {},
   "source": [
    "### Import Required Libraries"
   ]
  },
  {
   "cell_type": "code",
   "execution_count": 1,
   "id": "381ce6bf",
   "metadata": {},
   "outputs": [],
   "source": [
    "import numpy as np\n",
    "import pandas as pd\n",
    "import matplotlib.pyplot as plt\n",
    "import seaborn as sns\n",
    "\n",
    "import random"
   ]
  },
  {
   "cell_type": "code",
   "execution_count": 2,
   "id": "e44d5d65",
   "metadata": {},
   "outputs": [],
   "source": [
    "import warnings\n",
    "warnings.filterwarnings('ignore')"
   ]
  },
  {
   "cell_type": "code",
   "execution_count": 108,
   "id": "5b46e638",
   "metadata": {},
   "outputs": [],
   "source": [
    "import scipy.stats as stats\n",
    "from statsmodels.stats.anova import anova_lm\n",
    "import statsmodels.formula.api as sm\n",
    "from sklearn.preprocessing import PowerTransformer, StandardScaler, LabelBinarizer\n",
    "from sklearn.model_selection import train_test_split\n",
    "\n",
    "from sklearn.linear_model import LogisticRegression\n",
    "from sklearn.tree import DecisionTreeClassifier\n",
    "from sklearn.ensemble import RandomForestClassifier, AdaBoostClassifier, StackingClassifier\n",
    "from xgboost import XGBClassifier\n",
    "from sklearn.neighbors import KNeighborsClassifier\n",
    "\n",
    "from sklearn.metrics import confusion_matrix, classification_report, roc_auc_score, roc_curve\n",
    "from sklearn.model_selection import GridSearchCV"
   ]
  },
  {
   "cell_type": "code",
   "execution_count": 4,
   "id": "3423ce83",
   "metadata": {},
   "outputs": [],
   "source": [
    "pd.options.display.max_columns = None"
   ]
  },
  {
   "cell_type": "markdown",
   "id": "0e0fd892",
   "metadata": {},
   "source": [
    "### Import Dataset"
   ]
  },
  {
   "cell_type": "code",
   "execution_count": 5,
   "id": "e712d908",
   "metadata": {},
   "outputs": [
    {
     "data": {
      "text/html": [
       "<div>\n",
       "<style scoped>\n",
       "    .dataframe tbody tr th:only-of-type {\n",
       "        vertical-align: middle;\n",
       "    }\n",
       "\n",
       "    .dataframe tbody tr th {\n",
       "        vertical-align: top;\n",
       "    }\n",
       "\n",
       "    .dataframe thead th {\n",
       "        text-align: right;\n",
       "    }\n",
       "</style>\n",
       "<table border=\"1\" class=\"dataframe\">\n",
       "  <thead>\n",
       "    <tr style=\"text-align: right;\">\n",
       "      <th></th>\n",
       "      <th>PassengerId</th>\n",
       "      <th>HomePlanet</th>\n",
       "      <th>CryoSleep</th>\n",
       "      <th>Cabin</th>\n",
       "      <th>Destination</th>\n",
       "      <th>Age</th>\n",
       "      <th>VIP</th>\n",
       "      <th>RoomService</th>\n",
       "      <th>FoodCourt</th>\n",
       "      <th>ShoppingMall</th>\n",
       "      <th>Spa</th>\n",
       "      <th>VRDeck</th>\n",
       "      <th>Name</th>\n",
       "      <th>Transported</th>\n",
       "    </tr>\n",
       "  </thead>\n",
       "  <tbody>\n",
       "    <tr>\n",
       "      <th>0</th>\n",
       "      <td>0001_01</td>\n",
       "      <td>Europa</td>\n",
       "      <td>False</td>\n",
       "      <td>B/0/P</td>\n",
       "      <td>TRAPPIST-1e</td>\n",
       "      <td>39.0</td>\n",
       "      <td>False</td>\n",
       "      <td>0.0</td>\n",
       "      <td>0.0</td>\n",
       "      <td>0.0</td>\n",
       "      <td>0.0</td>\n",
       "      <td>0.0</td>\n",
       "      <td>Maham Ofracculy</td>\n",
       "      <td>False</td>\n",
       "    </tr>\n",
       "    <tr>\n",
       "      <th>1</th>\n",
       "      <td>0002_01</td>\n",
       "      <td>Earth</td>\n",
       "      <td>False</td>\n",
       "      <td>F/0/S</td>\n",
       "      <td>TRAPPIST-1e</td>\n",
       "      <td>24.0</td>\n",
       "      <td>False</td>\n",
       "      <td>109.0</td>\n",
       "      <td>9.0</td>\n",
       "      <td>25.0</td>\n",
       "      <td>549.0</td>\n",
       "      <td>44.0</td>\n",
       "      <td>Juanna Vines</td>\n",
       "      <td>True</td>\n",
       "    </tr>\n",
       "    <tr>\n",
       "      <th>2</th>\n",
       "      <td>0003_01</td>\n",
       "      <td>Europa</td>\n",
       "      <td>False</td>\n",
       "      <td>A/0/S</td>\n",
       "      <td>TRAPPIST-1e</td>\n",
       "      <td>58.0</td>\n",
       "      <td>True</td>\n",
       "      <td>43.0</td>\n",
       "      <td>3576.0</td>\n",
       "      <td>0.0</td>\n",
       "      <td>6715.0</td>\n",
       "      <td>49.0</td>\n",
       "      <td>Altark Susent</td>\n",
       "      <td>False</td>\n",
       "    </tr>\n",
       "    <tr>\n",
       "      <th>3</th>\n",
       "      <td>0003_02</td>\n",
       "      <td>Europa</td>\n",
       "      <td>False</td>\n",
       "      <td>A/0/S</td>\n",
       "      <td>TRAPPIST-1e</td>\n",
       "      <td>33.0</td>\n",
       "      <td>False</td>\n",
       "      <td>0.0</td>\n",
       "      <td>1283.0</td>\n",
       "      <td>371.0</td>\n",
       "      <td>3329.0</td>\n",
       "      <td>193.0</td>\n",
       "      <td>Solam Susent</td>\n",
       "      <td>False</td>\n",
       "    </tr>\n",
       "    <tr>\n",
       "      <th>4</th>\n",
       "      <td>0004_01</td>\n",
       "      <td>Earth</td>\n",
       "      <td>False</td>\n",
       "      <td>F/1/S</td>\n",
       "      <td>TRAPPIST-1e</td>\n",
       "      <td>16.0</td>\n",
       "      <td>False</td>\n",
       "      <td>303.0</td>\n",
       "      <td>70.0</td>\n",
       "      <td>151.0</td>\n",
       "      <td>565.0</td>\n",
       "      <td>2.0</td>\n",
       "      <td>Willy Santantines</td>\n",
       "      <td>True</td>\n",
       "    </tr>\n",
       "  </tbody>\n",
       "</table>\n",
       "</div>"
      ],
      "text/plain": [
       "  PassengerId HomePlanet CryoSleep  Cabin  Destination   Age    VIP  \\\n",
       "0     0001_01     Europa     False  B/0/P  TRAPPIST-1e  39.0  False   \n",
       "1     0002_01      Earth     False  F/0/S  TRAPPIST-1e  24.0  False   \n",
       "2     0003_01     Europa     False  A/0/S  TRAPPIST-1e  58.0   True   \n",
       "3     0003_02     Europa     False  A/0/S  TRAPPIST-1e  33.0  False   \n",
       "4     0004_01      Earth     False  F/1/S  TRAPPIST-1e  16.0  False   \n",
       "\n",
       "   RoomService  FoodCourt  ShoppingMall     Spa  VRDeck               Name  \\\n",
       "0          0.0        0.0           0.0     0.0     0.0    Maham Ofracculy   \n",
       "1        109.0        9.0          25.0   549.0    44.0       Juanna Vines   \n",
       "2         43.0     3576.0           0.0  6715.0    49.0      Altark Susent   \n",
       "3          0.0     1283.0         371.0  3329.0   193.0       Solam Susent   \n",
       "4        303.0       70.0         151.0   565.0     2.0  Willy Santantines   \n",
       "\n",
       "   Transported  \n",
       "0        False  \n",
       "1         True  \n",
       "2        False  \n",
       "3        False  \n",
       "4         True  "
      ]
     },
     "execution_count": 5,
     "metadata": {},
     "output_type": "execute_result"
    }
   ],
   "source": [
    "df = pd.read_csv('train.csv')\n",
    "df.head()"
   ]
  },
  {
   "cell_type": "code",
   "execution_count": 6,
   "id": "e6ea1f8d",
   "metadata": {},
   "outputs": [
    {
     "data": {
      "text/plain": [
       "(8693, 14)"
      ]
     },
     "execution_count": 6,
     "metadata": {},
     "output_type": "execute_result"
    }
   ],
   "source": [
    "df.shape"
   ]
  },
  {
   "cell_type": "code",
   "execution_count": 7,
   "id": "1f6a93eb",
   "metadata": {},
   "outputs": [
    {
     "data": {
      "text/plain": [
       "PassengerId       0\n",
       "HomePlanet      201\n",
       "CryoSleep       217\n",
       "Cabin           199\n",
       "Destination     182\n",
       "Age             179\n",
       "VIP             203\n",
       "RoomService     181\n",
       "FoodCourt       183\n",
       "ShoppingMall    208\n",
       "Spa             183\n",
       "VRDeck          188\n",
       "Name            200\n",
       "Transported       0\n",
       "dtype: int64"
      ]
     },
     "execution_count": 7,
     "metadata": {},
     "output_type": "execute_result"
    }
   ],
   "source": [
    "df.isna().sum()"
   ]
  },
  {
   "cell_type": "code",
   "execution_count": 176,
   "id": "5f80c9ef",
   "metadata": {},
   "outputs": [
    {
     "data": {
      "text/plain": [
       "((4277, 13),\n",
       " PassengerId       0\n",
       " HomePlanet       87\n",
       " CryoSleep        93\n",
       " Cabin           100\n",
       " Destination      92\n",
       " Age              91\n",
       " VIP              93\n",
       " RoomService      82\n",
       " FoodCourt       106\n",
       " ShoppingMall     98\n",
       " Spa             101\n",
       " VRDeck           80\n",
       " Name             94\n",
       " dtype: int64)"
      ]
     },
     "execution_count": 176,
     "metadata": {},
     "output_type": "execute_result"
    }
   ],
   "source": [
    "test = pd.read_csv('test.csv')\n",
    "test1 = test.copy()\n",
    "test.shape, test.isna().sum()"
   ]
  },
  {
   "cell_type": "markdown",
   "id": "100d45d6",
   "metadata": {},
   "source": [
    "### Feature Engineering"
   ]
  },
  {
   "cell_type": "code",
   "execution_count": 9,
   "id": "19acde85",
   "metadata": {},
   "outputs": [],
   "source": [
    "df1 = df.copy()"
   ]
  },
  {
   "cell_type": "code",
   "execution_count": 10,
   "id": "e9b4376e",
   "metadata": {},
   "outputs": [],
   "source": [
    "x = df1.PassengerId.str[:4].value_counts()\n",
    "df1['Group'] = df1.PassengerId.str[:4].map(x)"
   ]
  },
  {
   "cell_type": "code",
   "execution_count": 11,
   "id": "2601be6c",
   "metadata": {},
   "outputs": [],
   "source": [
    "df1[['Deck', 'Cabin_Number', 'Side']] = df1.Cabin.str.split('/', expand=True)"
   ]
  },
  {
   "cell_type": "code",
   "execution_count": 177,
   "id": "ecdba446",
   "metadata": {},
   "outputs": [],
   "source": [
    "x_test = test.PassengerId.str[:4].value_counts()\n",
    "test['Group'] = test.PassengerId.str[:4].map(x_test)\n",
    "test[['Deck', 'Cabin_Number', 'Side']] = test.Cabin.str.split('/', expand=True)"
   ]
  },
  {
   "cell_type": "code",
   "execution_count": 13,
   "id": "fc887bc2",
   "metadata": {},
   "outputs": [
    {
     "data": {
      "text/html": [
       "<div>\n",
       "<style scoped>\n",
       "    .dataframe tbody tr th:only-of-type {\n",
       "        vertical-align: middle;\n",
       "    }\n",
       "\n",
       "    .dataframe tbody tr th {\n",
       "        vertical-align: top;\n",
       "    }\n",
       "\n",
       "    .dataframe thead th {\n",
       "        text-align: right;\n",
       "    }\n",
       "</style>\n",
       "<table border=\"1\" class=\"dataframe\">\n",
       "  <thead>\n",
       "    <tr style=\"text-align: right;\">\n",
       "      <th></th>\n",
       "      <th>PassengerId</th>\n",
       "      <th>HomePlanet</th>\n",
       "      <th>CryoSleep</th>\n",
       "      <th>Cabin</th>\n",
       "      <th>Destination</th>\n",
       "      <th>Age</th>\n",
       "      <th>VIP</th>\n",
       "      <th>RoomService</th>\n",
       "      <th>FoodCourt</th>\n",
       "      <th>ShoppingMall</th>\n",
       "      <th>Spa</th>\n",
       "      <th>VRDeck</th>\n",
       "      <th>Name</th>\n",
       "      <th>Transported</th>\n",
       "      <th>Group</th>\n",
       "      <th>Deck</th>\n",
       "      <th>Cabin_Number</th>\n",
       "      <th>Side</th>\n",
       "    </tr>\n",
       "  </thead>\n",
       "  <tbody>\n",
       "    <tr>\n",
       "      <th>0</th>\n",
       "      <td>0001_01</td>\n",
       "      <td>Europa</td>\n",
       "      <td>False</td>\n",
       "      <td>B/0/P</td>\n",
       "      <td>TRAPPIST-1e</td>\n",
       "      <td>39.0</td>\n",
       "      <td>False</td>\n",
       "      <td>0.0</td>\n",
       "      <td>0.0</td>\n",
       "      <td>0.0</td>\n",
       "      <td>0.0</td>\n",
       "      <td>0.0</td>\n",
       "      <td>Maham Ofracculy</td>\n",
       "      <td>False</td>\n",
       "      <td>1</td>\n",
       "      <td>B</td>\n",
       "      <td>0</td>\n",
       "      <td>P</td>\n",
       "    </tr>\n",
       "    <tr>\n",
       "      <th>1</th>\n",
       "      <td>0002_01</td>\n",
       "      <td>Earth</td>\n",
       "      <td>False</td>\n",
       "      <td>F/0/S</td>\n",
       "      <td>TRAPPIST-1e</td>\n",
       "      <td>24.0</td>\n",
       "      <td>False</td>\n",
       "      <td>109.0</td>\n",
       "      <td>9.0</td>\n",
       "      <td>25.0</td>\n",
       "      <td>549.0</td>\n",
       "      <td>44.0</td>\n",
       "      <td>Juanna Vines</td>\n",
       "      <td>True</td>\n",
       "      <td>1</td>\n",
       "      <td>F</td>\n",
       "      <td>0</td>\n",
       "      <td>S</td>\n",
       "    </tr>\n",
       "    <tr>\n",
       "      <th>2</th>\n",
       "      <td>0003_01</td>\n",
       "      <td>Europa</td>\n",
       "      <td>False</td>\n",
       "      <td>A/0/S</td>\n",
       "      <td>TRAPPIST-1e</td>\n",
       "      <td>58.0</td>\n",
       "      <td>True</td>\n",
       "      <td>43.0</td>\n",
       "      <td>3576.0</td>\n",
       "      <td>0.0</td>\n",
       "      <td>6715.0</td>\n",
       "      <td>49.0</td>\n",
       "      <td>Altark Susent</td>\n",
       "      <td>False</td>\n",
       "      <td>2</td>\n",
       "      <td>A</td>\n",
       "      <td>0</td>\n",
       "      <td>S</td>\n",
       "    </tr>\n",
       "    <tr>\n",
       "      <th>3</th>\n",
       "      <td>0003_02</td>\n",
       "      <td>Europa</td>\n",
       "      <td>False</td>\n",
       "      <td>A/0/S</td>\n",
       "      <td>TRAPPIST-1e</td>\n",
       "      <td>33.0</td>\n",
       "      <td>False</td>\n",
       "      <td>0.0</td>\n",
       "      <td>1283.0</td>\n",
       "      <td>371.0</td>\n",
       "      <td>3329.0</td>\n",
       "      <td>193.0</td>\n",
       "      <td>Solam Susent</td>\n",
       "      <td>False</td>\n",
       "      <td>2</td>\n",
       "      <td>A</td>\n",
       "      <td>0</td>\n",
       "      <td>S</td>\n",
       "    </tr>\n",
       "    <tr>\n",
       "      <th>4</th>\n",
       "      <td>0004_01</td>\n",
       "      <td>Earth</td>\n",
       "      <td>False</td>\n",
       "      <td>F/1/S</td>\n",
       "      <td>TRAPPIST-1e</td>\n",
       "      <td>16.0</td>\n",
       "      <td>False</td>\n",
       "      <td>303.0</td>\n",
       "      <td>70.0</td>\n",
       "      <td>151.0</td>\n",
       "      <td>565.0</td>\n",
       "      <td>2.0</td>\n",
       "      <td>Willy Santantines</td>\n",
       "      <td>True</td>\n",
       "      <td>1</td>\n",
       "      <td>F</td>\n",
       "      <td>1</td>\n",
       "      <td>S</td>\n",
       "    </tr>\n",
       "  </tbody>\n",
       "</table>\n",
       "</div>"
      ],
      "text/plain": [
       "  PassengerId HomePlanet CryoSleep  Cabin  Destination   Age    VIP  \\\n",
       "0     0001_01     Europa     False  B/0/P  TRAPPIST-1e  39.0  False   \n",
       "1     0002_01      Earth     False  F/0/S  TRAPPIST-1e  24.0  False   \n",
       "2     0003_01     Europa     False  A/0/S  TRAPPIST-1e  58.0   True   \n",
       "3     0003_02     Europa     False  A/0/S  TRAPPIST-1e  33.0  False   \n",
       "4     0004_01      Earth     False  F/1/S  TRAPPIST-1e  16.0  False   \n",
       "\n",
       "   RoomService  FoodCourt  ShoppingMall     Spa  VRDeck               Name  \\\n",
       "0          0.0        0.0           0.0     0.0     0.0    Maham Ofracculy   \n",
       "1        109.0        9.0          25.0   549.0    44.0       Juanna Vines   \n",
       "2         43.0     3576.0           0.0  6715.0    49.0      Altark Susent   \n",
       "3          0.0     1283.0         371.0  3329.0   193.0       Solam Susent   \n",
       "4        303.0       70.0         151.0   565.0     2.0  Willy Santantines   \n",
       "\n",
       "   Transported  Group Deck Cabin_Number Side  \n",
       "0        False      1    B            0    P  \n",
       "1         True      1    F            0    S  \n",
       "2        False      2    A            0    S  \n",
       "3        False      2    A            0    S  \n",
       "4         True      1    F            1    S  "
      ]
     },
     "execution_count": 13,
     "metadata": {},
     "output_type": "execute_result"
    }
   ],
   "source": [
    "df1.head()"
   ]
  },
  {
   "cell_type": "markdown",
   "id": "f699f189",
   "metadata": {},
   "source": [
    "### Missing Values"
   ]
  },
  {
   "cell_type": "markdown",
   "id": "b0a6542e",
   "metadata": {},
   "source": [
    "#### HomePlanet"
   ]
  },
  {
   "cell_type": "code",
   "execution_count": 14,
   "id": "c6a13eb9",
   "metadata": {},
   "outputs": [
    {
     "data": {
      "text/plain": [
       "Earth     4602\n",
       "Europa    2131\n",
       "Mars      1759\n",
       "Name: HomePlanet, dtype: int64"
      ]
     },
     "execution_count": 14,
     "metadata": {},
     "output_type": "execute_result"
    }
   ],
   "source": [
    "df1.HomePlanet.value_counts()"
   ]
  },
  {
   "cell_type": "code",
   "execution_count": 15,
   "id": "be3fad16",
   "metadata": {},
   "outputs": [
    {
     "data": {
      "text/plain": [
       "Europa    131\n",
       "Mars       63\n",
       "Name: HomePlanet, dtype: int64"
      ]
     },
     "execution_count": 15,
     "metadata": {},
     "output_type": "execute_result"
    }
   ],
   "source": [
    "df1.loc[df.VIP == True, 'HomePlanet'].value_counts()"
   ]
  },
  {
   "cell_type": "code",
   "execution_count": 16,
   "id": "3d7f4d11",
   "metadata": {},
   "outputs": [
    {
     "data": {
      "text/plain": [
       "TRAPPIST-1e      114\n",
       "55 Cancri e       65\n",
       "PSO J318.5-22     18\n",
       "Name: Destination, dtype: int64"
      ]
     },
     "execution_count": 16,
     "metadata": {},
     "output_type": "execute_result"
    }
   ],
   "source": [
    "df1.loc[df.VIP == True, 'Destination'].value_counts()"
   ]
  },
  {
   "cell_type": "code",
   "execution_count": 17,
   "id": "a15ec7b7",
   "metadata": {},
   "outputs": [
    {
     "data": {
      "text/plain": [
       "False    8291\n",
       "True      199\n",
       "Name: VIP, dtype: int64"
      ]
     },
     "execution_count": 17,
     "metadata": {},
     "output_type": "execute_result"
    }
   ],
   "source": [
    "df1.VIP.value_counts()"
   ]
  },
  {
   "cell_type": "code",
   "execution_count": 18,
   "id": "c8ba1332",
   "metadata": {},
   "outputs": [
    {
     "data": {
      "text/html": [
       "<div>\n",
       "<style scoped>\n",
       "    .dataframe tbody tr th:only-of-type {\n",
       "        vertical-align: middle;\n",
       "    }\n",
       "\n",
       "    .dataframe tbody tr th {\n",
       "        vertical-align: top;\n",
       "    }\n",
       "\n",
       "    .dataframe thead th {\n",
       "        text-align: right;\n",
       "    }\n",
       "</style>\n",
       "<table border=\"1\" class=\"dataframe\">\n",
       "  <thead>\n",
       "    <tr style=\"text-align: right;\">\n",
       "      <th>Destination</th>\n",
       "      <th>55 Cancri e</th>\n",
       "      <th>PSO J318.5-22</th>\n",
       "      <th>TRAPPIST-1e</th>\n",
       "    </tr>\n",
       "    <tr>\n",
       "      <th>HomePlanet</th>\n",
       "      <th></th>\n",
       "      <th></th>\n",
       "      <th></th>\n",
       "    </tr>\n",
       "  </thead>\n",
       "  <tbody>\n",
       "    <tr>\n",
       "      <th>Earth</th>\n",
       "      <td>690</td>\n",
       "      <td>712</td>\n",
       "      <td>3101</td>\n",
       "    </tr>\n",
       "    <tr>\n",
       "      <th>Europa</th>\n",
       "      <td>886</td>\n",
       "      <td>19</td>\n",
       "      <td>1189</td>\n",
       "    </tr>\n",
       "    <tr>\n",
       "      <th>Mars</th>\n",
       "      <td>193</td>\n",
       "      <td>49</td>\n",
       "      <td>1475</td>\n",
       "    </tr>\n",
       "  </tbody>\n",
       "</table>\n",
       "</div>"
      ],
      "text/plain": [
       "Destination  55 Cancri e  PSO J318.5-22  TRAPPIST-1e\n",
       "HomePlanet                                          \n",
       "Earth                690            712         3101\n",
       "Europa               886             19         1189\n",
       "Mars                 193             49         1475"
      ]
     },
     "execution_count": 18,
     "metadata": {},
     "output_type": "execute_result"
    }
   ],
   "source": [
    "tab = pd.crosstab(df1.HomePlanet, df1.Destination)\n",
    "tab"
   ]
  },
  {
   "cell_type": "code",
   "execution_count": 19,
   "id": "d620d8b7",
   "metadata": {},
   "outputs": [
    {
     "data": {
      "text/plain": [
       "(1144.18502191443,\n",
       " 2.0026455334311217e-246,\n",
       " 4,\n",
       " array([[ 958.11967765,  422.46090931, 3122.41941304],\n",
       "        [ 445.54799134,  196.45417368, 1451.99783498],\n",
       "        [ 365.33233101,  161.08491701, 1190.58275198]]))"
      ]
     },
     "execution_count": 19,
     "metadata": {},
     "output_type": "execute_result"
    }
   ],
   "source": [
    "stats.chi2_contingency(tab)"
   ]
  },
  {
   "cell_type": "code",
   "execution_count": 20,
   "id": "a0dd98d1",
   "metadata": {},
   "outputs": [
    {
     "data": {
      "text/plain": [
       "347     2\n",
       "5208    2\n",
       "5687    2\n",
       "6629    2\n",
       "dtype: int64"
      ]
     },
     "execution_count": 20,
     "metadata": {},
     "output_type": "execute_result"
    }
   ],
   "source": [
    "x = df.loc[df.HomePlanet.isna(), ['HomePlanet', 'Destination']].isna().sum(axis=1)\n",
    "x[x > 1]"
   ]
  },
  {
   "cell_type": "code",
   "execution_count": 21,
   "id": "8d5ae6a6",
   "metadata": {},
   "outputs": [],
   "source": [
    "df1.loc[((df1.HomePlanet.isna()) & (df1.Destination == '55 Cancri e')), 'HomePlanet'] = 'Europa'\n",
    "df1.HomePlanet.fillna('Earth', inplace=True)"
   ]
  },
  {
   "cell_type": "code",
   "execution_count": 22,
   "id": "779cef5c",
   "metadata": {},
   "outputs": [
    {
     "data": {
      "text/plain": [
       "0"
      ]
     },
     "execution_count": 22,
     "metadata": {},
     "output_type": "execute_result"
    }
   ],
   "source": [
    "df1.HomePlanet.isna().sum()"
   ]
  },
  {
   "cell_type": "markdown",
   "id": "d917b7cb",
   "metadata": {},
   "source": [
    "#### Cryosleep"
   ]
  },
  {
   "cell_type": "code",
   "execution_count": 23,
   "id": "54e25a52",
   "metadata": {},
   "outputs": [
    {
     "data": {
      "text/plain": [
       "False    5439\n",
       "True     3037\n",
       "Name: CryoSleep, dtype: int64"
      ]
     },
     "execution_count": 23,
     "metadata": {},
     "output_type": "execute_result"
    }
   ],
   "source": [
    "df1.CryoSleep.value_counts()"
   ]
  },
  {
   "cell_type": "code",
   "execution_count": 24,
   "id": "629b3741",
   "metadata": {},
   "outputs": [
    {
     "data": {
      "text/plain": [
       "F    68\n",
       "G    63\n",
       "C    23\n",
       "E    20\n",
       "B    19\n",
       "D    10\n",
       "A     6\n",
       "T     1\n",
       "Name: Deck, dtype: int64"
      ]
     },
     "execution_count": 24,
     "metadata": {},
     "output_type": "execute_result"
    }
   ],
   "source": [
    "df1.loc[df.CryoSleep.isna(), 'Deck'].value_counts()"
   ]
  },
  {
   "cell_type": "code",
   "execution_count": 25,
   "id": "921893d1",
   "metadata": {},
   "outputs": [
    {
     "data": {
      "text/html": [
       "<div>\n",
       "<style scoped>\n",
       "    .dataframe tbody tr th:only-of-type {\n",
       "        vertical-align: middle;\n",
       "    }\n",
       "\n",
       "    .dataframe tbody tr th {\n",
       "        vertical-align: top;\n",
       "    }\n",
       "\n",
       "    .dataframe thead th {\n",
       "        text-align: right;\n",
       "    }\n",
       "</style>\n",
       "<table border=\"1\" class=\"dataframe\">\n",
       "  <thead>\n",
       "    <tr style=\"text-align: right;\">\n",
       "      <th>CryoSleep</th>\n",
       "      <th>False</th>\n",
       "      <th>True</th>\n",
       "    </tr>\n",
       "    <tr>\n",
       "      <th>Deck</th>\n",
       "      <th></th>\n",
       "      <th></th>\n",
       "    </tr>\n",
       "  </thead>\n",
       "  <tbody>\n",
       "    <tr>\n",
       "      <th>A</th>\n",
       "      <td>182</td>\n",
       "      <td>68</td>\n",
       "    </tr>\n",
       "    <tr>\n",
       "      <th>B</th>\n",
       "      <td>341</td>\n",
       "      <td>419</td>\n",
       "    </tr>\n",
       "    <tr>\n",
       "      <th>C</th>\n",
       "      <td>430</td>\n",
       "      <td>294</td>\n",
       "    </tr>\n",
       "    <tr>\n",
       "      <th>D</th>\n",
       "      <td>364</td>\n",
       "      <td>104</td>\n",
       "    </tr>\n",
       "    <tr>\n",
       "      <th>E</th>\n",
       "      <td>688</td>\n",
       "      <td>168</td>\n",
       "    </tr>\n",
       "    <tr>\n",
       "      <th>F</th>\n",
       "      <td>2176</td>\n",
       "      <td>550</td>\n",
       "    </tr>\n",
       "    <tr>\n",
       "      <th>G</th>\n",
       "      <td>1146</td>\n",
       "      <td>1350</td>\n",
       "    </tr>\n",
       "    <tr>\n",
       "      <th>T</th>\n",
       "      <td>4</td>\n",
       "      <td>0</td>\n",
       "    </tr>\n",
       "  </tbody>\n",
       "</table>\n",
       "</div>"
      ],
      "text/plain": [
       "CryoSleep  False  True\n",
       "Deck                  \n",
       "A            182    68\n",
       "B            341   419\n",
       "C            430   294\n",
       "D            364   104\n",
       "E            688   168\n",
       "F           2176   550\n",
       "G           1146  1350\n",
       "T              4     0"
      ]
     },
     "execution_count": 25,
     "metadata": {},
     "output_type": "execute_result"
    }
   ],
   "source": [
    "pd.crosstab(df1.Deck, df1.CryoSleep)"
   ]
  },
  {
   "cell_type": "code",
   "execution_count": 26,
   "id": "94e5a551",
   "metadata": {},
   "outputs": [
    {
     "data": {
      "text/html": [
       "<div>\n",
       "<style scoped>\n",
       "    .dataframe tbody tr th:only-of-type {\n",
       "        vertical-align: middle;\n",
       "    }\n",
       "\n",
       "    .dataframe tbody tr th {\n",
       "        vertical-align: top;\n",
       "    }\n",
       "\n",
       "    .dataframe thead th {\n",
       "        text-align: right;\n",
       "    }\n",
       "</style>\n",
       "<table border=\"1\" class=\"dataframe\">\n",
       "  <thead>\n",
       "    <tr style=\"text-align: right;\">\n",
       "      <th>CryoSleep</th>\n",
       "      <th>False</th>\n",
       "      <th>True</th>\n",
       "    </tr>\n",
       "    <tr>\n",
       "      <th>Side</th>\n",
       "      <th></th>\n",
       "      <th></th>\n",
       "    </tr>\n",
       "  </thead>\n",
       "  <tbody>\n",
       "    <tr>\n",
       "      <th>P</th>\n",
       "      <td>2673</td>\n",
       "      <td>1420</td>\n",
       "    </tr>\n",
       "    <tr>\n",
       "      <th>S</th>\n",
       "      <td>2658</td>\n",
       "      <td>1533</td>\n",
       "    </tr>\n",
       "  </tbody>\n",
       "</table>\n",
       "</div>"
      ],
      "text/plain": [
       "CryoSleep  False  True\n",
       "Side                  \n",
       "P           2673  1420\n",
       "S           2658  1533"
      ]
     },
     "execution_count": 26,
     "metadata": {},
     "output_type": "execute_result"
    }
   ],
   "source": [
    "pd.crosstab(df1.Side, df1.CryoSleep)"
   ]
  },
  {
   "cell_type": "code",
   "execution_count": 27,
   "id": "81e53e66",
   "metadata": {},
   "outputs": [],
   "source": [
    "df1.CryoSleep.fillna(False, inplace=True)"
   ]
  },
  {
   "cell_type": "markdown",
   "id": "2160cfcf",
   "metadata": {},
   "source": [
    "#### Destination"
   ]
  },
  {
   "cell_type": "code",
   "execution_count": 28,
   "id": "75d4f20f",
   "metadata": {},
   "outputs": [
    {
     "data": {
      "text/plain": [
       "TRAPPIST-1e      5915\n",
       "55 Cancri e      1800\n",
       "PSO J318.5-22     796\n",
       "Name: Destination, dtype: int64"
      ]
     },
     "execution_count": 28,
     "metadata": {},
     "output_type": "execute_result"
    }
   ],
   "source": [
    "df1.Destination.value_counts()"
   ]
  },
  {
   "cell_type": "code",
   "execution_count": 29,
   "id": "274df835",
   "metadata": {},
   "outputs": [
    {
     "data": {
      "text/html": [
       "<div>\n",
       "<style scoped>\n",
       "    .dataframe tbody tr th:only-of-type {\n",
       "        vertical-align: middle;\n",
       "    }\n",
       "\n",
       "    .dataframe tbody tr th {\n",
       "        vertical-align: top;\n",
       "    }\n",
       "\n",
       "    .dataframe thead th {\n",
       "        text-align: right;\n",
       "    }\n",
       "</style>\n",
       "<table border=\"1\" class=\"dataframe\">\n",
       "  <thead>\n",
       "    <tr style=\"text-align: right;\">\n",
       "      <th>Destination</th>\n",
       "      <th>55 Cancri e</th>\n",
       "      <th>PSO J318.5-22</th>\n",
       "      <th>TRAPPIST-1e</th>\n",
       "    </tr>\n",
       "    <tr>\n",
       "      <th>HomePlanet</th>\n",
       "      <th></th>\n",
       "      <th></th>\n",
       "      <th></th>\n",
       "    </tr>\n",
       "  </thead>\n",
       "  <tbody>\n",
       "    <tr>\n",
       "      <th>Earth</th>\n",
       "      <td>690</td>\n",
       "      <td>728</td>\n",
       "      <td>3251</td>\n",
       "    </tr>\n",
       "    <tr>\n",
       "      <th>Europa</th>\n",
       "      <td>917</td>\n",
       "      <td>19</td>\n",
       "      <td>1189</td>\n",
       "    </tr>\n",
       "    <tr>\n",
       "      <th>Mars</th>\n",
       "      <td>193</td>\n",
       "      <td>49</td>\n",
       "      <td>1475</td>\n",
       "    </tr>\n",
       "  </tbody>\n",
       "</table>\n",
       "</div>"
      ],
      "text/plain": [
       "Destination  55 Cancri e  PSO J318.5-22  TRAPPIST-1e\n",
       "HomePlanet                                          \n",
       "Earth                690            728         3251\n",
       "Europa               917             19         1189\n",
       "Mars                 193             49         1475"
      ]
     },
     "execution_count": 29,
     "metadata": {},
     "output_type": "execute_result"
    }
   ],
   "source": [
    "tab = pd.crosstab(df1.HomePlanet, df1.Destination)\n",
    "tab"
   ]
  },
  {
   "cell_type": "code",
   "execution_count": 30,
   "id": "47cb932f",
   "metadata": {
    "scrolled": true
   },
   "outputs": [
    {
     "data": {
      "text/plain": [
       "Destination    Deck\n",
       "55 Cancri e    F        398\n",
       "               G        365\n",
       "               B        333\n",
       "               C        317\n",
       "               E        116\n",
       "               D        113\n",
       "               A        108\n",
       "PSO J318.5-22  G        461\n",
       "               F        241\n",
       "               E         41\n",
       "               D         17\n",
       "               C         13\n",
       "               B          3\n",
       "               A          2\n",
       "TRAPPIST-1e    F       2088\n",
       "               G       1688\n",
       "               E        696\n",
       "               B        426\n",
       "               C        405\n",
       "               D        338\n",
       "               A        142\n",
       "               T          5\n",
       "Name: Deck, dtype: int64"
      ]
     },
     "execution_count": 30,
     "metadata": {},
     "output_type": "execute_result"
    }
   ],
   "source": [
    "df1.groupby('Destination')['Deck'].value_counts()"
   ]
  },
  {
   "cell_type": "code",
   "execution_count": 31,
   "id": "e4ca57fb",
   "metadata": {},
   "outputs": [],
   "source": [
    "df1.Destination.fillna('TRAPPIST-1e', inplace=True)"
   ]
  },
  {
   "cell_type": "code",
   "execution_count": 32,
   "id": "0875830a",
   "metadata": {},
   "outputs": [
    {
     "data": {
      "text/plain": [
       "0"
      ]
     },
     "execution_count": 32,
     "metadata": {},
     "output_type": "execute_result"
    }
   ],
   "source": [
    "df1.Destination.isna().sum()"
   ]
  },
  {
   "cell_type": "markdown",
   "id": "0c2bedc5",
   "metadata": {},
   "source": [
    "#### Age"
   ]
  },
  {
   "cell_type": "code",
   "execution_count": 33,
   "id": "28344778",
   "metadata": {},
   "outputs": [
    {
     "data": {
      "text/plain": [
       "count    8514.000000\n",
       "mean       28.827930\n",
       "std        14.489021\n",
       "min         0.000000\n",
       "25%        19.000000\n",
       "50%        27.000000\n",
       "75%        38.000000\n",
       "max        79.000000\n",
       "Name: Age, dtype: float64"
      ]
     },
     "execution_count": 33,
     "metadata": {},
     "output_type": "execute_result"
    }
   ],
   "source": [
    "df1.Age.describe()"
   ]
  },
  {
   "cell_type": "code",
   "execution_count": 34,
   "id": "beeeb8ce",
   "metadata": {},
   "outputs": [
    {
     "data": {
      "image/png": "[encoded data removed]",
      "text/plain": [
       "<Figure size 432x288 with 1 Axes>"
      ]
     },
     "metadata": {
      "needs_background": "light"
     },
     "output_type": "display_data"
    }
   ],
   "source": [
    "sns.distplot(df1.Age)\n",
    "plt.show()"
   ]
  },
  {
   "cell_type": "code",
   "execution_count": 35,
   "id": "496b905c",
   "metadata": {},
   "outputs": [
    {
     "data": {
      "text/plain": [
       "(178, 18)"
      ]
     },
     "execution_count": 35,
     "metadata": {},
     "output_type": "execute_result"
    }
   ],
   "source": [
    "df1[df1.Age == 0].shape"
   ]
  },
  {
   "cell_type": "code",
   "execution_count": 36,
   "id": "58264da2",
   "metadata": {},
   "outputs": [
    {
     "data": {
      "text/html": [
       "<div>\n",
       "<style scoped>\n",
       "    .dataframe tbody tr th:only-of-type {\n",
       "        vertical-align: middle;\n",
       "    }\n",
       "\n",
       "    .dataframe tbody tr th {\n",
       "        vertical-align: top;\n",
       "    }\n",
       "\n",
       "    .dataframe thead th {\n",
       "        text-align: right;\n",
       "    }\n",
       "</style>\n",
       "<table border=\"1\" class=\"dataframe\">\n",
       "  <thead>\n",
       "    <tr style=\"text-align: right;\">\n",
       "      <th></th>\n",
       "      <th>PassengerId</th>\n",
       "      <th>HomePlanet</th>\n",
       "      <th>CryoSleep</th>\n",
       "      <th>Cabin</th>\n",
       "      <th>Destination</th>\n",
       "      <th>Age</th>\n",
       "      <th>VIP</th>\n",
       "      <th>RoomService</th>\n",
       "      <th>FoodCourt</th>\n",
       "      <th>ShoppingMall</th>\n",
       "      <th>Spa</th>\n",
       "      <th>VRDeck</th>\n",
       "      <th>Name</th>\n",
       "      <th>Transported</th>\n",
       "      <th>Group</th>\n",
       "      <th>Deck</th>\n",
       "      <th>Cabin_Number</th>\n",
       "      <th>Side</th>\n",
       "    </tr>\n",
       "  </thead>\n",
       "  <tbody>\n",
       "    <tr>\n",
       "      <th>19</th>\n",
       "      <td>0017_01</td>\n",
       "      <td>Earth</td>\n",
       "      <td>False</td>\n",
       "      <td>G/0/P</td>\n",
       "      <td>TRAPPIST-1e</td>\n",
       "      <td>0.0</td>\n",
       "      <td>False</td>\n",
       "      <td>0.0</td>\n",
       "      <td>0.0</td>\n",
       "      <td>0.0</td>\n",
       "      <td>0.0</td>\n",
       "      <td>0.0</td>\n",
       "      <td>Lyde Brighttt</td>\n",
       "      <td>True</td>\n",
       "      <td>2</td>\n",
       "      <td>G</td>\n",
       "      <td>0</td>\n",
       "      <td>P</td>\n",
       "    </tr>\n",
       "    <tr>\n",
       "      <th>21</th>\n",
       "      <td>0020_01</td>\n",
       "      <td>Earth</td>\n",
       "      <td>True</td>\n",
       "      <td>E/0/S</td>\n",
       "      <td>TRAPPIST-1e</td>\n",
       "      <td>1.0</td>\n",
       "      <td>False</td>\n",
       "      <td>0.0</td>\n",
       "      <td>0.0</td>\n",
       "      <td>0.0</td>\n",
       "      <td>0.0</td>\n",
       "      <td>0.0</td>\n",
       "      <td>Almary Brantuarez</td>\n",
       "      <td>False</td>\n",
       "      <td>6</td>\n",
       "      <td>E</td>\n",
       "      <td>0</td>\n",
       "      <td>S</td>\n",
       "    </tr>\n",
       "    <tr>\n",
       "      <th>25</th>\n",
       "      <td>0020_05</td>\n",
       "      <td>Earth</td>\n",
       "      <td>True</td>\n",
       "      <td>E/0/S</td>\n",
       "      <td>PSO J318.5-22</td>\n",
       "      <td>1.0</td>\n",
       "      <td>False</td>\n",
       "      <td>NaN</td>\n",
       "      <td>0.0</td>\n",
       "      <td>0.0</td>\n",
       "      <td>0.0</td>\n",
       "      <td>0.0</td>\n",
       "      <td>Mael Brantuarez</td>\n",
       "      <td>False</td>\n",
       "      <td>6</td>\n",
       "      <td>E</td>\n",
       "      <td>0</td>\n",
       "      <td>S</td>\n",
       "    </tr>\n",
       "    <tr>\n",
       "      <th>34</th>\n",
       "      <td>0031_02</td>\n",
       "      <td>Mars</td>\n",
       "      <td>False</td>\n",
       "      <td>F/9/P</td>\n",
       "      <td>TRAPPIST-1e</td>\n",
       "      <td>2.0</td>\n",
       "      <td>False</td>\n",
       "      <td>0.0</td>\n",
       "      <td>0.0</td>\n",
       "      <td>0.0</td>\n",
       "      <td>0.0</td>\n",
       "      <td>0.0</td>\n",
       "      <td>Cinets Datie</td>\n",
       "      <td>True</td>\n",
       "      <td>3</td>\n",
       "      <td>F</td>\n",
       "      <td>9</td>\n",
       "      <td>P</td>\n",
       "    </tr>\n",
       "    <tr>\n",
       "      <th>44</th>\n",
       "      <td>0044_02</td>\n",
       "      <td>Earth</td>\n",
       "      <td>True</td>\n",
       "      <td>G/3/P</td>\n",
       "      <td>55 Cancri e</td>\n",
       "      <td>4.0</td>\n",
       "      <td>False</td>\n",
       "      <td>0.0</td>\n",
       "      <td>0.0</td>\n",
       "      <td>0.0</td>\n",
       "      <td>0.0</td>\n",
       "      <td>0.0</td>\n",
       "      <td>Kayne Coopelandez</td>\n",
       "      <td>True</td>\n",
       "      <td>3</td>\n",
       "      <td>G</td>\n",
       "      <td>3</td>\n",
       "      <td>P</td>\n",
       "    </tr>\n",
       "    <tr>\n",
       "      <th>...</th>\n",
       "      <td>...</td>\n",
       "      <td>...</td>\n",
       "      <td>...</td>\n",
       "      <td>...</td>\n",
       "      <td>...</td>\n",
       "      <td>...</td>\n",
       "      <td>...</td>\n",
       "      <td>...</td>\n",
       "      <td>...</td>\n",
       "      <td>...</td>\n",
       "      <td>...</td>\n",
       "      <td>...</td>\n",
       "      <td>...</td>\n",
       "      <td>...</td>\n",
       "      <td>...</td>\n",
       "      <td>...</td>\n",
       "      <td>...</td>\n",
       "      <td>...</td>\n",
       "    </tr>\n",
       "    <tr>\n",
       "      <th>8649</th>\n",
       "      <td>9227_03</td>\n",
       "      <td>Earth</td>\n",
       "      <td>True</td>\n",
       "      <td>G/1498/P</td>\n",
       "      <td>PSO J318.5-22</td>\n",
       "      <td>1.0</td>\n",
       "      <td>False</td>\n",
       "      <td>0.0</td>\n",
       "      <td>0.0</td>\n",
       "      <td>0.0</td>\n",
       "      <td>0.0</td>\n",
       "      <td>0.0</td>\n",
       "      <td>Paulas Hinglendez</td>\n",
       "      <td>True</td>\n",
       "      <td>5</td>\n",
       "      <td>G</td>\n",
       "      <td>1498</td>\n",
       "      <td>P</td>\n",
       "    </tr>\n",
       "    <tr>\n",
       "      <th>8650</th>\n",
       "      <td>9227_04</td>\n",
       "      <td>Earth</td>\n",
       "      <td>True</td>\n",
       "      <td>G/1498/P</td>\n",
       "      <td>TRAPPIST-1e</td>\n",
       "      <td>0.0</td>\n",
       "      <td>False</td>\n",
       "      <td>0.0</td>\n",
       "      <td>0.0</td>\n",
       "      <td>0.0</td>\n",
       "      <td>0.0</td>\n",
       "      <td>0.0</td>\n",
       "      <td>Robyny Hinglendez</td>\n",
       "      <td>True</td>\n",
       "      <td>5</td>\n",
       "      <td>G</td>\n",
       "      <td>1498</td>\n",
       "      <td>P</td>\n",
       "    </tr>\n",
       "    <tr>\n",
       "      <th>8653</th>\n",
       "      <td>9231_01</td>\n",
       "      <td>Mars</td>\n",
       "      <td>True</td>\n",
       "      <td>F/1888/P</td>\n",
       "      <td>55 Cancri e</td>\n",
       "      <td>2.0</td>\n",
       "      <td>False</td>\n",
       "      <td>0.0</td>\n",
       "      <td>0.0</td>\n",
       "      <td>0.0</td>\n",
       "      <td>0.0</td>\n",
       "      <td>0.0</td>\n",
       "      <td>Denuts Paie</td>\n",
       "      <td>True</td>\n",
       "      <td>3</td>\n",
       "      <td>F</td>\n",
       "      <td>1888</td>\n",
       "      <td>P</td>\n",
       "    </tr>\n",
       "    <tr>\n",
       "      <th>8654</th>\n",
       "      <td>9231_02</td>\n",
       "      <td>Mars</td>\n",
       "      <td>False</td>\n",
       "      <td>F/1888/P</td>\n",
       "      <td>TRAPPIST-1e</td>\n",
       "      <td>0.0</td>\n",
       "      <td>False</td>\n",
       "      <td>0.0</td>\n",
       "      <td>0.0</td>\n",
       "      <td>0.0</td>\n",
       "      <td>0.0</td>\n",
       "      <td>0.0</td>\n",
       "      <td>Walls Paie</td>\n",
       "      <td>True</td>\n",
       "      <td>3</td>\n",
       "      <td>F</td>\n",
       "      <td>1888</td>\n",
       "      <td>P</td>\n",
       "    </tr>\n",
       "    <tr>\n",
       "      <th>8685</th>\n",
       "      <td>9275_01</td>\n",
       "      <td>Europa</td>\n",
       "      <td>False</td>\n",
       "      <td>A/97/P</td>\n",
       "      <td>TRAPPIST-1e</td>\n",
       "      <td>0.0</td>\n",
       "      <td>False</td>\n",
       "      <td>0.0</td>\n",
       "      <td>0.0</td>\n",
       "      <td>0.0</td>\n",
       "      <td>0.0</td>\n",
       "      <td>0.0</td>\n",
       "      <td>Polaton Conable</td>\n",
       "      <td>True</td>\n",
       "      <td>3</td>\n",
       "      <td>A</td>\n",
       "      <td>97</td>\n",
       "      <td>P</td>\n",
       "    </tr>\n",
       "  </tbody>\n",
       "</table>\n",
       "<p>466 rows × 18 columns</p>\n",
       "</div>"
      ],
      "text/plain": [
       "     PassengerId HomePlanet  CryoSleep     Cabin    Destination  Age    VIP  \\\n",
       "19       0017_01      Earth      False     G/0/P    TRAPPIST-1e  0.0  False   \n",
       "21       0020_01      Earth       True     E/0/S    TRAPPIST-1e  1.0  False   \n",
       "25       0020_05      Earth       True     E/0/S  PSO J318.5-22  1.0  False   \n",
       "34       0031_02       Mars      False     F/9/P    TRAPPIST-1e  2.0  False   \n",
       "44       0044_02      Earth       True     G/3/P    55 Cancri e  4.0  False   \n",
       "...          ...        ...        ...       ...            ...  ...    ...   \n",
       "8649     9227_03      Earth       True  G/1498/P  PSO J318.5-22  1.0  False   \n",
       "8650     9227_04      Earth       True  G/1498/P    TRAPPIST-1e  0.0  False   \n",
       "8653     9231_01       Mars       True  F/1888/P    55 Cancri e  2.0  False   \n",
       "8654     9231_02       Mars      False  F/1888/P    TRAPPIST-1e  0.0  False   \n",
       "8685     9275_01     Europa      False    A/97/P    TRAPPIST-1e  0.0  False   \n",
       "\n",
       "      RoomService  FoodCourt  ShoppingMall  Spa  VRDeck               Name  \\\n",
       "19            0.0        0.0           0.0  0.0     0.0      Lyde Brighttt   \n",
       "21            0.0        0.0           0.0  0.0     0.0  Almary Brantuarez   \n",
       "25            NaN        0.0           0.0  0.0     0.0    Mael Brantuarez   \n",
       "34            0.0        0.0           0.0  0.0     0.0       Cinets Datie   \n",
       "44            0.0        0.0           0.0  0.0     0.0  Kayne Coopelandez   \n",
       "...           ...        ...           ...  ...     ...                ...   \n",
       "8649          0.0        0.0           0.0  0.0     0.0  Paulas Hinglendez   \n",
       "8650          0.0        0.0           0.0  0.0     0.0  Robyny Hinglendez   \n",
       "8653          0.0        0.0           0.0  0.0     0.0        Denuts Paie   \n",
       "8654          0.0        0.0           0.0  0.0     0.0         Walls Paie   \n",
       "8685          0.0        0.0           0.0  0.0     0.0    Polaton Conable   \n",
       "\n",
       "      Transported  Group Deck Cabin_Number Side  \n",
       "19           True      2    G            0    P  \n",
       "21          False      6    E            0    S  \n",
       "25          False      6    E            0    S  \n",
       "34           True      3    F            9    P  \n",
       "44           True      3    G            3    P  \n",
       "...           ...    ...  ...          ...  ...  \n",
       "8649         True      5    G         1498    P  \n",
       "8650         True      5    G         1498    P  \n",
       "8653         True      3    F         1888    P  \n",
       "8654         True      3    F         1888    P  \n",
       "8685         True      3    A           97    P  \n",
       "\n",
       "[466 rows x 18 columns]"
      ]
     },
     "execution_count": 36,
     "metadata": {},
     "output_type": "execute_result"
    }
   ],
   "source": [
    "df1[df1.Age < 5]"
   ]
  },
  {
   "cell_type": "code",
   "execution_count": 37,
   "id": "6a43f8a5",
   "metadata": {},
   "outputs": [
    {
     "data": {
      "text/plain": [
       "HomePlanet\n",
       "Earth     24.0\n",
       "Europa    33.0\n",
       "Mars      28.0\n",
       "Name: Age, dtype: float64"
      ]
     },
     "execution_count": 37,
     "metadata": {},
     "output_type": "execute_result"
    }
   ],
   "source": [
    "df1.groupby('HomePlanet')['Age'].median()"
   ]
  },
  {
   "cell_type": "code",
   "execution_count": 38,
   "id": "79525537",
   "metadata": {},
   "outputs": [
    {
     "data": {
      "text/plain": [
       "Destination\n",
       "55 Cancri e      28.0\n",
       "PSO J318.5-22    24.0\n",
       "TRAPPIST-1e      27.0\n",
       "Name: Age, dtype: float64"
      ]
     },
     "execution_count": 38,
     "metadata": {},
     "output_type": "execute_result"
    }
   ],
   "source": [
    "df1.groupby('Destination')['Age'].median()"
   ]
  },
  {
   "cell_type": "code",
   "execution_count": 39,
   "id": "69c051c2",
   "metadata": {},
   "outputs": [
    {
     "data": {
      "text/plain": [
       "3    188\n",
       "4     67\n",
       "2     55\n",
       "6     50\n",
       "7     41\n",
       "5     40\n",
       "1     17\n",
       "8      8\n",
       "Name: Group, dtype: int64"
      ]
     },
     "execution_count": 39,
     "metadata": {},
     "output_type": "execute_result"
    }
   ],
   "source": [
    "df1[df1.Age < 5]['Group'].value_counts()"
   ]
  },
  {
   "cell_type": "code",
   "execution_count": 40,
   "id": "eeba7e5c",
   "metadata": {},
   "outputs": [],
   "source": [
    "df1['Age'] = df1.groupby('HomePlanet')['Age'].transform(lambda x:x.replace(np.nan, x.median()))"
   ]
  },
  {
   "cell_type": "code",
   "execution_count": 41,
   "id": "ea47fa16",
   "metadata": {},
   "outputs": [
    {
     "data": {
      "text/plain": [
       "0"
      ]
     },
     "execution_count": 41,
     "metadata": {},
     "output_type": "execute_result"
    }
   ],
   "source": [
    "df1.Age.isna().sum()"
   ]
  },
  {
   "cell_type": "markdown",
   "id": "db63df97",
   "metadata": {},
   "source": [
    "#### VIP"
   ]
  },
  {
   "cell_type": "code",
   "execution_count": 42,
   "id": "1c9b3cf9",
   "metadata": {},
   "outputs": [
    {
     "data": {
      "text/plain": [
       "False    8291\n",
       "True      199\n",
       "Name: VIP, dtype: int64"
      ]
     },
     "execution_count": 42,
     "metadata": {},
     "output_type": "execute_result"
    }
   ],
   "source": [
    "df1.VIP.value_counts()"
   ]
  },
  {
   "cell_type": "code",
   "execution_count": 43,
   "id": "d3633ab0",
   "metadata": {},
   "outputs": [
    {
     "data": {
      "text/plain": [
       "Deck  VIP  \n",
       "A     False     215\n",
       "      True       35\n",
       "B     False     725\n",
       "      True       42\n",
       "C     False     687\n",
       "      True       41\n",
       "D     False     438\n",
       "      True       31\n",
       "E     False     846\n",
       "      True       15\n",
       "F     False    2695\n",
       "      True       29\n",
       "G     False    2493\n",
       "T     False       5\n",
       "Name: VIP, dtype: int64"
      ]
     },
     "execution_count": 43,
     "metadata": {},
     "output_type": "execute_result"
    }
   ],
   "source": [
    "df1.groupby('Deck')['VIP'].value_counts()"
   ]
  },
  {
   "cell_type": "code",
   "execution_count": 44,
   "id": "27fa31da",
   "metadata": {},
   "outputs": [
    {
     "data": {
      "text/plain": [
       "Side  VIP  \n",
       "P     False    4011\n",
       "      True      102\n",
       "S     False    4093\n",
       "      True       91\n",
       "Name: VIP, dtype: int64"
      ]
     },
     "execution_count": 44,
     "metadata": {},
     "output_type": "execute_result"
    }
   ],
   "source": [
    "df1.groupby('Side')['VIP'].value_counts()"
   ]
  },
  {
   "cell_type": "code",
   "execution_count": 45,
   "id": "05294554",
   "metadata": {},
   "outputs": [
    {
     "data": {
      "text/plain": [
       "F    70\n",
       "G    66\n",
       "C    19\n",
       "E    15\n",
       "B    12\n",
       "D     9\n",
       "A     6\n",
       "Name: Deck, dtype: int64"
      ]
     },
     "execution_count": 45,
     "metadata": {},
     "output_type": "execute_result"
    }
   ],
   "source": [
    "df1.loc[df1.VIP.isna(), 'Deck'].value_counts()"
   ]
  },
  {
   "cell_type": "code",
   "execution_count": 46,
   "id": "30e1e384",
   "metadata": {},
   "outputs": [],
   "source": [
    "df1.VIP.fillna(False, inplace=True)"
   ]
  },
  {
   "cell_type": "code",
   "execution_count": null,
   "id": "0a03e354",
   "metadata": {},
   "outputs": [],
   "source": []
  },
  {
   "cell_type": "markdown",
   "id": "a1ec9d35",
   "metadata": {},
   "source": [
    "### Transformation of Numeric(Spending) Variables"
   ]
  },
  {
   "cell_type": "code",
   "execution_count": 47,
   "id": "4b2ad16c",
   "metadata": {},
   "outputs": [
    {
     "data": {
      "text/html": [
       "<div>\n",
       "<style scoped>\n",
       "    .dataframe tbody tr th:only-of-type {\n",
       "        vertical-align: middle;\n",
       "    }\n",
       "\n",
       "    .dataframe tbody tr th {\n",
       "        vertical-align: top;\n",
       "    }\n",
       "\n",
       "    .dataframe thead th {\n",
       "        text-align: right;\n",
       "    }\n",
       "</style>\n",
       "<table border=\"1\" class=\"dataframe\">\n",
       "  <thead>\n",
       "    <tr style=\"text-align: right;\">\n",
       "      <th></th>\n",
       "      <th>RoomService</th>\n",
       "      <th>FoodCourt</th>\n",
       "      <th>ShoppingMall</th>\n",
       "      <th>Spa</th>\n",
       "      <th>VRDeck</th>\n",
       "    </tr>\n",
       "  </thead>\n",
       "  <tbody>\n",
       "    <tr>\n",
       "      <th>0</th>\n",
       "      <td>0.0</td>\n",
       "      <td>0.0</td>\n",
       "      <td>0.0</td>\n",
       "      <td>0.0</td>\n",
       "      <td>0.0</td>\n",
       "    </tr>\n",
       "    <tr>\n",
       "      <th>1</th>\n",
       "      <td>109.0</td>\n",
       "      <td>9.0</td>\n",
       "      <td>25.0</td>\n",
       "      <td>549.0</td>\n",
       "      <td>44.0</td>\n",
       "    </tr>\n",
       "    <tr>\n",
       "      <th>2</th>\n",
       "      <td>43.0</td>\n",
       "      <td>3576.0</td>\n",
       "      <td>0.0</td>\n",
       "      <td>6715.0</td>\n",
       "      <td>49.0</td>\n",
       "    </tr>\n",
       "    <tr>\n",
       "      <th>3</th>\n",
       "      <td>0.0</td>\n",
       "      <td>1283.0</td>\n",
       "      <td>371.0</td>\n",
       "      <td>3329.0</td>\n",
       "      <td>193.0</td>\n",
       "    </tr>\n",
       "    <tr>\n",
       "      <th>4</th>\n",
       "      <td>303.0</td>\n",
       "      <td>70.0</td>\n",
       "      <td>151.0</td>\n",
       "      <td>565.0</td>\n",
       "      <td>2.0</td>\n",
       "    </tr>\n",
       "  </tbody>\n",
       "</table>\n",
       "</div>"
      ],
      "text/plain": [
       "   RoomService  FoodCourt  ShoppingMall     Spa  VRDeck\n",
       "0          0.0        0.0           0.0     0.0     0.0\n",
       "1        109.0        9.0          25.0   549.0    44.0\n",
       "2         43.0     3576.0           0.0  6715.0    49.0\n",
       "3          0.0     1283.0         371.0  3329.0   193.0\n",
       "4        303.0       70.0         151.0   565.0     2.0"
      ]
     },
     "execution_count": 47,
     "metadata": {},
     "output_type": "execute_result"
    }
   ],
   "source": [
    "spend = df1.iloc[:,7:12]\n",
    "spend.head()"
   ]
  },
  {
   "cell_type": "code",
   "execution_count": 48,
   "id": "26ac66f3",
   "metadata": {},
   "outputs": [
    {
     "data": {
      "text/html": [
       "<div>\n",
       "<style scoped>\n",
       "    .dataframe tbody tr th:only-of-type {\n",
       "        vertical-align: middle;\n",
       "    }\n",
       "\n",
       "    .dataframe tbody tr th {\n",
       "        vertical-align: top;\n",
       "    }\n",
       "\n",
       "    .dataframe thead th {\n",
       "        text-align: right;\n",
       "    }\n",
       "</style>\n",
       "<table border=\"1\" class=\"dataframe\">\n",
       "  <thead>\n",
       "    <tr style=\"text-align: right;\">\n",
       "      <th></th>\n",
       "      <th>RoomService_trans</th>\n",
       "      <th>FoodCourt_trans</th>\n",
       "      <th>ShoppingMall_trans</th>\n",
       "      <th>Spa_trans</th>\n",
       "      <th>VRDeck_trans</th>\n",
       "    </tr>\n",
       "  </thead>\n",
       "  <tbody>\n",
       "    <tr>\n",
       "      <th>0</th>\n",
       "      <td>-0.699294</td>\n",
       "      <td>-0.717494</td>\n",
       "      <td>-0.692680</td>\n",
       "      <td>-0.737298</td>\n",
       "      <td>-0.710182</td>\n",
       "    </tr>\n",
       "    <tr>\n",
       "      <th>1</th>\n",
       "      <td>1.426200</td>\n",
       "      <td>0.731535</td>\n",
       "      <td>1.236751</td>\n",
       "      <td>1.539799</td>\n",
       "      <td>1.258226</td>\n",
       "    </tr>\n",
       "    <tr>\n",
       "      <th>2</th>\n",
       "      <td>1.271105</td>\n",
       "      <td>1.641673</td>\n",
       "      <td>-0.692680</td>\n",
       "      <td>1.672922</td>\n",
       "      <td>1.279716</td>\n",
       "    </tr>\n",
       "    <tr>\n",
       "      <th>3</th>\n",
       "      <td>-0.699294</td>\n",
       "      <td>1.590605</td>\n",
       "      <td>1.611079</td>\n",
       "      <td>1.647562</td>\n",
       "      <td>1.485681</td>\n",
       "    </tr>\n",
       "    <tr>\n",
       "      <th>4</th>\n",
       "      <td>1.539479</td>\n",
       "      <td>1.269689</td>\n",
       "      <td>1.532958</td>\n",
       "      <td>1.542173</td>\n",
       "      <td>0.203209</td>\n",
       "    </tr>\n",
       "  </tbody>\n",
       "</table>\n",
       "</div>"
      ],
      "text/plain": [
       "   RoomService_trans  FoodCourt_trans  ShoppingMall_trans  Spa_trans  \\\n",
       "0          -0.699294        -0.717494           -0.692680  -0.737298   \n",
       "1           1.426200         0.731535            1.236751   1.539799   \n",
       "2           1.271105         1.641673           -0.692680   1.672922   \n",
       "3          -0.699294         1.590605            1.611079   1.647562   \n",
       "4           1.539479         1.269689            1.532958   1.542173   \n",
       "\n",
       "   VRDeck_trans  \n",
       "0     -0.710182  \n",
       "1      1.258226  \n",
       "2      1.279716  \n",
       "3      1.485681  \n",
       "4      0.203209  "
      ]
     },
     "execution_count": 48,
     "metadata": {},
     "output_type": "execute_result"
    }
   ],
   "source": [
    "pt = PowerTransformer()\n",
    "spend_trans = pd.DataFrame(pt.fit_transform(spend), columns=[\"RoomService_trans\",\"FoodCourt_trans\",\"ShoppingMall_trans\",\"Spa_trans\",\"VRDeck_trans\"])\n",
    "spend_trans.reset_index(drop=True, inplace=True)\n",
    "spend_trans.head()"
   ]
  },
  {
   "cell_type": "code",
   "execution_count": 49,
   "id": "597cfec3",
   "metadata": {},
   "outputs": [
    {
     "data": {
      "text/html": [
       "<div>\n",
       "<style scoped>\n",
       "    .dataframe tbody tr th:only-of-type {\n",
       "        vertical-align: middle;\n",
       "    }\n",
       "\n",
       "    .dataframe tbody tr th {\n",
       "        vertical-align: top;\n",
       "    }\n",
       "\n",
       "    .dataframe thead th {\n",
       "        text-align: right;\n",
       "    }\n",
       "</style>\n",
       "<table border=\"1\" class=\"dataframe\">\n",
       "  <thead>\n",
       "    <tr style=\"text-align: right;\">\n",
       "      <th></th>\n",
       "      <th>PassengerId</th>\n",
       "      <th>HomePlanet</th>\n",
       "      <th>CryoSleep</th>\n",
       "      <th>Cabin</th>\n",
       "      <th>Destination</th>\n",
       "      <th>Age</th>\n",
       "      <th>VIP</th>\n",
       "      <th>RoomService</th>\n",
       "      <th>FoodCourt</th>\n",
       "      <th>ShoppingMall</th>\n",
       "      <th>Spa</th>\n",
       "      <th>VRDeck</th>\n",
       "      <th>Name</th>\n",
       "      <th>Transported</th>\n",
       "      <th>Group</th>\n",
       "      <th>Deck</th>\n",
       "      <th>Cabin_Number</th>\n",
       "      <th>Side</th>\n",
       "      <th>RoomService_trans</th>\n",
       "      <th>FoodCourt_trans</th>\n",
       "      <th>ShoppingMall_trans</th>\n",
       "      <th>Spa_trans</th>\n",
       "      <th>VRDeck_trans</th>\n",
       "    </tr>\n",
       "  </thead>\n",
       "  <tbody>\n",
       "    <tr>\n",
       "      <th>0</th>\n",
       "      <td>0001_01</td>\n",
       "      <td>Europa</td>\n",
       "      <td>False</td>\n",
       "      <td>B/0/P</td>\n",
       "      <td>TRAPPIST-1e</td>\n",
       "      <td>39.0</td>\n",
       "      <td>False</td>\n",
       "      <td>0.0</td>\n",
       "      <td>0.0</td>\n",
       "      <td>0.0</td>\n",
       "      <td>0.0</td>\n",
       "      <td>0.0</td>\n",
       "      <td>Maham Ofracculy</td>\n",
       "      <td>False</td>\n",
       "      <td>1</td>\n",
       "      <td>B</td>\n",
       "      <td>0</td>\n",
       "      <td>P</td>\n",
       "      <td>-0.699294</td>\n",
       "      <td>-0.717494</td>\n",
       "      <td>-0.692680</td>\n",
       "      <td>-0.737298</td>\n",
       "      <td>-0.710182</td>\n",
       "    </tr>\n",
       "    <tr>\n",
       "      <th>1</th>\n",
       "      <td>0002_01</td>\n",
       "      <td>Earth</td>\n",
       "      <td>False</td>\n",
       "      <td>F/0/S</td>\n",
       "      <td>TRAPPIST-1e</td>\n",
       "      <td>24.0</td>\n",
       "      <td>False</td>\n",
       "      <td>109.0</td>\n",
       "      <td>9.0</td>\n",
       "      <td>25.0</td>\n",
       "      <td>549.0</td>\n",
       "      <td>44.0</td>\n",
       "      <td>Juanna Vines</td>\n",
       "      <td>True</td>\n",
       "      <td>1</td>\n",
       "      <td>F</td>\n",
       "      <td>0</td>\n",
       "      <td>S</td>\n",
       "      <td>1.426200</td>\n",
       "      <td>0.731535</td>\n",
       "      <td>1.236751</td>\n",
       "      <td>1.539799</td>\n",
       "      <td>1.258226</td>\n",
       "    </tr>\n",
       "    <tr>\n",
       "      <th>2</th>\n",
       "      <td>0003_01</td>\n",
       "      <td>Europa</td>\n",
       "      <td>False</td>\n",
       "      <td>A/0/S</td>\n",
       "      <td>TRAPPIST-1e</td>\n",
       "      <td>58.0</td>\n",
       "      <td>True</td>\n",
       "      <td>43.0</td>\n",
       "      <td>3576.0</td>\n",
       "      <td>0.0</td>\n",
       "      <td>6715.0</td>\n",
       "      <td>49.0</td>\n",
       "      <td>Altark Susent</td>\n",
       "      <td>False</td>\n",
       "      <td>2</td>\n",
       "      <td>A</td>\n",
       "      <td>0</td>\n",
       "      <td>S</td>\n",
       "      <td>1.271105</td>\n",
       "      <td>1.641673</td>\n",
       "      <td>-0.692680</td>\n",
       "      <td>1.672922</td>\n",
       "      <td>1.279716</td>\n",
       "    </tr>\n",
       "    <tr>\n",
       "      <th>3</th>\n",
       "      <td>0003_02</td>\n",
       "      <td>Europa</td>\n",
       "      <td>False</td>\n",
       "      <td>A/0/S</td>\n",
       "      <td>TRAPPIST-1e</td>\n",
       "      <td>33.0</td>\n",
       "      <td>False</td>\n",
       "      <td>0.0</td>\n",
       "      <td>1283.0</td>\n",
       "      <td>371.0</td>\n",
       "      <td>3329.0</td>\n",
       "      <td>193.0</td>\n",
       "      <td>Solam Susent</td>\n",
       "      <td>False</td>\n",
       "      <td>2</td>\n",
       "      <td>A</td>\n",
       "      <td>0</td>\n",
       "      <td>S</td>\n",
       "      <td>-0.699294</td>\n",
       "      <td>1.590605</td>\n",
       "      <td>1.611079</td>\n",
       "      <td>1.647562</td>\n",
       "      <td>1.485681</td>\n",
       "    </tr>\n",
       "    <tr>\n",
       "      <th>4</th>\n",
       "      <td>0004_01</td>\n",
       "      <td>Earth</td>\n",
       "      <td>False</td>\n",
       "      <td>F/1/S</td>\n",
       "      <td>TRAPPIST-1e</td>\n",
       "      <td>16.0</td>\n",
       "      <td>False</td>\n",
       "      <td>303.0</td>\n",
       "      <td>70.0</td>\n",
       "      <td>151.0</td>\n",
       "      <td>565.0</td>\n",
       "      <td>2.0</td>\n",
       "      <td>Willy Santantines</td>\n",
       "      <td>True</td>\n",
       "      <td>1</td>\n",
       "      <td>F</td>\n",
       "      <td>1</td>\n",
       "      <td>S</td>\n",
       "      <td>1.539479</td>\n",
       "      <td>1.269689</td>\n",
       "      <td>1.532958</td>\n",
       "      <td>1.542173</td>\n",
       "      <td>0.203209</td>\n",
       "    </tr>\n",
       "  </tbody>\n",
       "</table>\n",
       "</div>"
      ],
      "text/plain": [
       "  PassengerId HomePlanet  CryoSleep  Cabin  Destination   Age    VIP  \\\n",
       "0     0001_01     Europa      False  B/0/P  TRAPPIST-1e  39.0  False   \n",
       "1     0002_01      Earth      False  F/0/S  TRAPPIST-1e  24.0  False   \n",
       "2     0003_01     Europa      False  A/0/S  TRAPPIST-1e  58.0   True   \n",
       "3     0003_02     Europa      False  A/0/S  TRAPPIST-1e  33.0  False   \n",
       "4     0004_01      Earth      False  F/1/S  TRAPPIST-1e  16.0  False   \n",
       "\n",
       "   RoomService  FoodCourt  ShoppingMall     Spa  VRDeck               Name  \\\n",
       "0          0.0        0.0           0.0     0.0     0.0    Maham Ofracculy   \n",
       "1        109.0        9.0          25.0   549.0    44.0       Juanna Vines   \n",
       "2         43.0     3576.0           0.0  6715.0    49.0      Altark Susent   \n",
       "3          0.0     1283.0         371.0  3329.0   193.0       Solam Susent   \n",
       "4        303.0       70.0         151.0   565.0     2.0  Willy Santantines   \n",
       "\n",
       "   Transported  Group Deck Cabin_Number Side  RoomService_trans  \\\n",
       "0        False      1    B            0    P          -0.699294   \n",
       "1         True      1    F            0    S           1.426200   \n",
       "2        False      2    A            0    S           1.271105   \n",
       "3        False      2    A            0    S          -0.699294   \n",
       "4         True      1    F            1    S           1.539479   \n",
       "\n",
       "   FoodCourt_trans  ShoppingMall_trans  Spa_trans  VRDeck_trans  \n",
       "0        -0.717494           -0.692680  -0.737298     -0.710182  \n",
       "1         0.731535            1.236751   1.539799      1.258226  \n",
       "2         1.641673           -0.692680   1.672922      1.279716  \n",
       "3         1.590605            1.611079   1.647562      1.485681  \n",
       "4         1.269689            1.532958   1.542173      0.203209  "
      ]
     },
     "execution_count": 49,
     "metadata": {},
     "output_type": "execute_result"
    }
   ],
   "source": [
    "df2 = pd.concat([df1, spend_trans], axis=1)\n",
    "df2.head()"
   ]
  },
  {
   "cell_type": "markdown",
   "id": "c9644584",
   "metadata": {},
   "source": [
    "#### RoomService"
   ]
  },
  {
   "cell_type": "code",
   "execution_count": 50,
   "id": "85c2ada2",
   "metadata": {},
   "outputs": [
    {
     "data": {
      "text/plain": [
       "count    8.512000e+03\n",
       "mean     5.227126e-16\n",
       "std      1.000059e+00\n",
       "min     -6.992939e-01\n",
       "25%     -6.992939e-01\n",
       "50%     -6.992939e-01\n",
       "75%      1.288623e+00\n",
       "max      1.705347e+00\n",
       "Name: RoomService_trans, dtype: float64"
      ]
     },
     "execution_count": 50,
     "metadata": {},
     "output_type": "execute_result"
    }
   ],
   "source": [
    "df2.RoomService_trans.describe()"
   ]
  },
  {
   "cell_type": "code",
   "execution_count": 51,
   "id": "2f1534c6",
   "metadata": {},
   "outputs": [
    {
     "data": {
      "text/html": [
       "<div>\n",
       "<style scoped>\n",
       "    .dataframe tbody tr th:only-of-type {\n",
       "        vertical-align: middle;\n",
       "    }\n",
       "\n",
       "    .dataframe tbody tr th {\n",
       "        vertical-align: top;\n",
       "    }\n",
       "\n",
       "    .dataframe thead th {\n",
       "        text-align: right;\n",
       "    }\n",
       "</style>\n",
       "<table border=\"1\" class=\"dataframe\">\n",
       "  <thead>\n",
       "    <tr style=\"text-align: right;\">\n",
       "      <th></th>\n",
       "      <th>df</th>\n",
       "      <th>sum_sq</th>\n",
       "      <th>mean_sq</th>\n",
       "      <th>F</th>\n",
       "      <th>PR(&gt;F)</th>\n",
       "    </tr>\n",
       "  </thead>\n",
       "  <tbody>\n",
       "    <tr>\n",
       "      <th>HomePlanet</th>\n",
       "      <td>2.0</td>\n",
       "      <td>692.668304</td>\n",
       "      <td>346.334152</td>\n",
       "      <td>376.880968</td>\n",
       "      <td>1.481534e-157</td>\n",
       "    </tr>\n",
       "    <tr>\n",
       "      <th>Residual</th>\n",
       "      <td>8509.0</td>\n",
       "      <td>7819.331696</td>\n",
       "      <td>0.918948</td>\n",
       "      <td>NaN</td>\n",
       "      <td>NaN</td>\n",
       "    </tr>\n",
       "  </tbody>\n",
       "</table>\n",
       "</div>"
      ],
      "text/plain": [
       "                df       sum_sq     mean_sq           F         PR(>F)\n",
       "HomePlanet     2.0   692.668304  346.334152  376.880968  1.481534e-157\n",
       "Residual    8509.0  7819.331696    0.918948         NaN            NaN"
      ]
     },
     "execution_count": 51,
     "metadata": {},
     "output_type": "execute_result"
    }
   ],
   "source": [
    "mod = sm.ols(\"RoomService_trans ~ HomePlanet\", data=df2).fit()\n",
    "anova_lm(mod)"
   ]
  },
  {
   "cell_type": "code",
   "execution_count": 52,
   "id": "f7d3f9f5",
   "metadata": {},
   "outputs": [
    {
     "data": {
      "text/plain": [
       "HomePlanet\n",
       "Earth    -0.011868\n",
       "Europa   -0.367254\n",
       "Mars      0.485065\n",
       "Name: RoomService_trans, dtype: float64"
      ]
     },
     "execution_count": 52,
     "metadata": {},
     "output_type": "execute_result"
    }
   ],
   "source": [
    "df2.groupby('HomePlanet')['RoomService_trans'].mean()"
   ]
  },
  {
   "cell_type": "code",
   "execution_count": 53,
   "id": "0405818a",
   "metadata": {},
   "outputs": [],
   "source": [
    "df2['RoomService_trans'] = df2.groupby('HomePlanet')['RoomService_trans'].transform(lambda x:x.replace(np.nan, x.mean()))"
   ]
  },
  {
   "cell_type": "code",
   "execution_count": 54,
   "id": "15cc4327",
   "metadata": {},
   "outputs": [
    {
     "data": {
      "text/plain": [
       "0"
      ]
     },
     "execution_count": 54,
     "metadata": {},
     "output_type": "execute_result"
    }
   ],
   "source": [
    "df2.RoomService_trans.isna().sum()"
   ]
  },
  {
   "cell_type": "markdown",
   "id": "2308031b",
   "metadata": {},
   "source": [
    "#### FoodCourt"
   ]
  },
  {
   "cell_type": "code",
   "execution_count": 55,
   "id": "cd29955f",
   "metadata": {},
   "outputs": [
    {
     "data": {
      "text/plain": [
       "count    8.510000e+03\n",
       "mean     2.124688e-16\n",
       "std      1.000059e+00\n",
       "min     -7.174945e-01\n",
       "25%     -7.174945e-01\n",
       "50%     -7.174945e-01\n",
       "75%      1.284375e+00\n",
       "max      1.700598e+00\n",
       "Name: FoodCourt_trans, dtype: float64"
      ]
     },
     "execution_count": 55,
     "metadata": {},
     "output_type": "execute_result"
    }
   ],
   "source": [
    "df2.FoodCourt_trans.describe()"
   ]
  },
  {
   "cell_type": "code",
   "execution_count": 56,
   "id": "249a9883",
   "metadata": {},
   "outputs": [
    {
     "data": {
      "text/html": [
       "<div>\n",
       "<style scoped>\n",
       "    .dataframe tbody tr th:only-of-type {\n",
       "        vertical-align: middle;\n",
       "    }\n",
       "\n",
       "    .dataframe tbody tr th {\n",
       "        vertical-align: top;\n",
       "    }\n",
       "\n",
       "    .dataframe thead th {\n",
       "        text-align: right;\n",
       "    }\n",
       "</style>\n",
       "<table border=\"1\" class=\"dataframe\">\n",
       "  <thead>\n",
       "    <tr style=\"text-align: right;\">\n",
       "      <th></th>\n",
       "      <th>df</th>\n",
       "      <th>sum_sq</th>\n",
       "      <th>mean_sq</th>\n",
       "      <th>F</th>\n",
       "      <th>PR(&gt;F)</th>\n",
       "    </tr>\n",
       "  </thead>\n",
       "  <tbody>\n",
       "    <tr>\n",
       "      <th>HomePlanet</th>\n",
       "      <td>2.0</td>\n",
       "      <td>726.903087</td>\n",
       "      <td>363.451544</td>\n",
       "      <td>397.256043</td>\n",
       "      <td>1.152158e-165</td>\n",
       "    </tr>\n",
       "    <tr>\n",
       "      <th>Residual</th>\n",
       "      <td>8507.0</td>\n",
       "      <td>7783.096913</td>\n",
       "      <td>0.914905</td>\n",
       "      <td>NaN</td>\n",
       "      <td>NaN</td>\n",
       "    </tr>\n",
       "  </tbody>\n",
       "</table>\n",
       "</div>"
      ],
      "text/plain": [
       "                df       sum_sq     mean_sq           F         PR(>F)\n",
       "HomePlanet     2.0   726.903087  363.451544  397.256043  1.152158e-165\n",
       "Residual    8507.0  7783.096913    0.914905         NaN            NaN"
      ]
     },
     "execution_count": 56,
     "metadata": {},
     "output_type": "execute_result"
    }
   ],
   "source": [
    "mod = sm.ols(\"FoodCourt_trans ~ HomePlanet\",data=df2).fit()\n",
    "anova_lm(mod)"
   ]
  },
  {
   "cell_type": "code",
   "execution_count": 57,
   "id": "9ba77c8f",
   "metadata": {},
   "outputs": [
    {
     "data": {
      "text/plain": [
       "HomePlanet\n",
       "Earth    -0.039391\n",
       "Europa    0.436139\n",
       "Mars     -0.429284\n",
       "Name: FoodCourt_trans, dtype: float64"
      ]
     },
     "execution_count": 57,
     "metadata": {},
     "output_type": "execute_result"
    }
   ],
   "source": [
    "df2.groupby('HomePlanet')['FoodCourt_trans'].mean()"
   ]
  },
  {
   "cell_type": "code",
   "execution_count": 58,
   "id": "47a7b75d",
   "metadata": {},
   "outputs": [],
   "source": [
    "df2['FoodCourt_trans'] = df2.groupby('HomePlanet')['FoodCourt_trans'].transform(lambda x:x.replace(np.nan, x.mean()))"
   ]
  },
  {
   "cell_type": "code",
   "execution_count": null,
   "id": "723b0b5a",
   "metadata": {},
   "outputs": [],
   "source": []
  },
  {
   "cell_type": "code",
   "execution_count": 59,
   "id": "63b19b54",
   "metadata": {},
   "outputs": [
    {
     "data": {
      "text/plain": [
       "0"
      ]
     },
     "execution_count": 59,
     "metadata": {},
     "output_type": "execute_result"
    }
   ],
   "source": [
    "df2.FoodCourt_trans.isna().sum()"
   ]
  },
  {
   "cell_type": "markdown",
   "id": "3722bd0b",
   "metadata": {},
   "source": [
    "#### ShoppingMall"
   ]
  },
  {
   "cell_type": "code",
   "execution_count": 60,
   "id": "b45b4400",
   "metadata": {},
   "outputs": [
    {
     "data": {
      "text/plain": [
       "count    8.485000e+03\n",
       "mean     2.948731e-16\n",
       "std      1.000059e+00\n",
       "min     -6.926804e-01\n",
       "25%     -6.926804e-01\n",
       "50%     -6.926804e-01\n",
       "75%      1.254794e+00\n",
       "max      1.737999e+00\n",
       "Name: ShoppingMall_trans, dtype: float64"
      ]
     },
     "execution_count": 60,
     "metadata": {},
     "output_type": "execute_result"
    }
   ],
   "source": [
    "df2.ShoppingMall_trans.describe()"
   ]
  },
  {
   "cell_type": "code",
   "execution_count": 61,
   "id": "0717bd73",
   "metadata": {},
   "outputs": [
    {
     "data": {
      "text/html": [
       "<div>\n",
       "<style scoped>\n",
       "    .dataframe tbody tr th:only-of-type {\n",
       "        vertical-align: middle;\n",
       "    }\n",
       "\n",
       "    .dataframe tbody tr th {\n",
       "        vertical-align: top;\n",
       "    }\n",
       "\n",
       "    .dataframe thead th {\n",
       "        text-align: right;\n",
       "    }\n",
       "</style>\n",
       "<table border=\"1\" class=\"dataframe\">\n",
       "  <thead>\n",
       "    <tr style=\"text-align: right;\">\n",
       "      <th></th>\n",
       "      <th>df</th>\n",
       "      <th>sum_sq</th>\n",
       "      <th>mean_sq</th>\n",
       "      <th>F</th>\n",
       "      <th>PR(&gt;F)</th>\n",
       "    </tr>\n",
       "  </thead>\n",
       "  <tbody>\n",
       "    <tr>\n",
       "      <th>HomePlanet</th>\n",
       "      <td>2.0</td>\n",
       "      <td>470.763711</td>\n",
       "      <td>235.381856</td>\n",
       "      <td>249.120294</td>\n",
       "      <td>7.359803e-106</td>\n",
       "    </tr>\n",
       "    <tr>\n",
       "      <th>Residual</th>\n",
       "      <td>8482.0</td>\n",
       "      <td>8014.236289</td>\n",
       "      <td>0.944852</td>\n",
       "      <td>NaN</td>\n",
       "      <td>NaN</td>\n",
       "    </tr>\n",
       "  </tbody>\n",
       "</table>\n",
       "</div>"
      ],
      "text/plain": [
       "                df       sum_sq     mean_sq           F         PR(>F)\n",
       "HomePlanet     2.0   470.763711  235.381856  249.120294  7.359803e-106\n",
       "Residual    8482.0  8014.236289    0.944852         NaN            NaN"
      ]
     },
     "execution_count": 61,
     "metadata": {},
     "output_type": "execute_result"
    }
   ],
   "source": [
    "mod = sm.ols(\"ShoppingMall_trans ~ HomePlanet\", data=df2).fit()\n",
    "anova_lm(mod)"
   ]
  },
  {
   "cell_type": "code",
   "execution_count": 62,
   "id": "091bd53e",
   "metadata": {},
   "outputs": [
    {
     "data": {
      "text/plain": [
       "HomePlanet\n",
       "Earth     0.025040\n",
       "Europa   -0.345288\n",
       "Mars      0.354591\n",
       "Name: ShoppingMall_trans, dtype: float64"
      ]
     },
     "execution_count": 62,
     "metadata": {},
     "output_type": "execute_result"
    }
   ],
   "source": [
    "df2.groupby('HomePlanet')['ShoppingMall_trans'].mean()"
   ]
  },
  {
   "cell_type": "code",
   "execution_count": 63,
   "id": "064dac08",
   "metadata": {},
   "outputs": [],
   "source": [
    "df2['ShoppingMall_trans'] = df2.groupby('HomePlanet')['ShoppingMall_trans'].transform(lambda x:x.replace(np.nan, x.mean()))"
   ]
  },
  {
   "cell_type": "code",
   "execution_count": 64,
   "id": "79999ef0",
   "metadata": {},
   "outputs": [
    {
     "data": {
      "text/plain": [
       "0"
      ]
     },
     "execution_count": 64,
     "metadata": {},
     "output_type": "execute_result"
    }
   ],
   "source": [
    "df2.ShoppingMall_trans.isna().sum()"
   ]
  },
  {
   "cell_type": "markdown",
   "id": "0115e2a4",
   "metadata": {},
   "source": [
    "### Spa"
   ]
  },
  {
   "cell_type": "code",
   "execution_count": 65,
   "id": "02428faf",
   "metadata": {},
   "outputs": [
    {
     "data": {
      "text/plain": [
       "count    8.510000e+03\n",
       "mean    -2.924153e-16\n",
       "std      1.000059e+00\n",
       "min     -7.372984e-01\n",
       "25%     -7.372984e-01\n",
       "50%     -7.372984e-01\n",
       "75%      1.247187e+00\n",
       "max      1.703168e+00\n",
       "Name: Spa_trans, dtype: float64"
      ]
     },
     "execution_count": 65,
     "metadata": {},
     "output_type": "execute_result"
    }
   ],
   "source": [
    "df2.Spa_trans.describe()"
   ]
  },
  {
   "cell_type": "code",
   "execution_count": 66,
   "id": "bdc16002",
   "metadata": {},
   "outputs": [
    {
     "data": {
      "text/html": [
       "<div>\n",
       "<style scoped>\n",
       "    .dataframe tbody tr th:only-of-type {\n",
       "        vertical-align: middle;\n",
       "    }\n",
       "\n",
       "    .dataframe tbody tr th {\n",
       "        vertical-align: top;\n",
       "    }\n",
       "\n",
       "    .dataframe thead th {\n",
       "        text-align: right;\n",
       "    }\n",
       "</style>\n",
       "<table border=\"1\" class=\"dataframe\">\n",
       "  <thead>\n",
       "    <tr style=\"text-align: right;\">\n",
       "      <th></th>\n",
       "      <th>df</th>\n",
       "      <th>sum_sq</th>\n",
       "      <th>mean_sq</th>\n",
       "      <th>F</th>\n",
       "      <th>PR(&gt;F)</th>\n",
       "    </tr>\n",
       "  </thead>\n",
       "  <tbody>\n",
       "    <tr>\n",
       "      <th>HomePlanet</th>\n",
       "      <td>2.0</td>\n",
       "      <td>242.968328</td>\n",
       "      <td>121.484164</td>\n",
       "      <td>125.010502</td>\n",
       "      <td>3.098461e-54</td>\n",
       "    </tr>\n",
       "    <tr>\n",
       "      <th>Residual</th>\n",
       "      <td>8507.0</td>\n",
       "      <td>8267.031672</td>\n",
       "      <td>0.971792</td>\n",
       "      <td>NaN</td>\n",
       "      <td>NaN</td>\n",
       "    </tr>\n",
       "  </tbody>\n",
       "</table>\n",
       "</div>"
      ],
      "text/plain": [
       "                df       sum_sq     mean_sq           F        PR(>F)\n",
       "HomePlanet     2.0   242.968328  121.484164  125.010502  3.098461e-54\n",
       "Residual    8507.0  8267.031672    0.971792         NaN           NaN"
      ]
     },
     "execution_count": 66,
     "metadata": {},
     "output_type": "execute_result"
    }
   ],
   "source": [
    "mod = sm.ols(\"Spa_trans ~ HomePlanet\", data=df2).fit()\n",
    "anova_lm(mod)"
   ]
  },
  {
   "cell_type": "code",
   "execution_count": 67,
   "id": "70ad5660",
   "metadata": {},
   "outputs": [
    {
     "data": {
      "text/plain": [
       "HomePlanet\n",
       "Earth    -0.045775\n",
       "Europa    0.272235\n",
       "Mars     -0.210420\n",
       "Name: Spa_trans, dtype: float64"
      ]
     },
     "execution_count": 67,
     "metadata": {},
     "output_type": "execute_result"
    }
   ],
   "source": [
    "df2.groupby('HomePlanet')['Spa_trans'].mean()"
   ]
  },
  {
   "cell_type": "code",
   "execution_count": 68,
   "id": "117103eb",
   "metadata": {},
   "outputs": [],
   "source": [
    "df2['Spa_trans'] = df2.groupby('HomePlanet')['Spa_trans'].transform(lambda x:x.replace(np.nan, x.mean()))"
   ]
  },
  {
   "cell_type": "code",
   "execution_count": 69,
   "id": "1d0da310",
   "metadata": {},
   "outputs": [
    {
     "data": {
      "text/plain": [
       "0"
      ]
     },
     "execution_count": 69,
     "metadata": {},
     "output_type": "execute_result"
    }
   ],
   "source": [
    "df2.Spa_trans.isna().sum()"
   ]
  },
  {
   "cell_type": "markdown",
   "id": "57d2ec37",
   "metadata": {},
   "source": [
    "### VRDeck"
   ]
  },
  {
   "cell_type": "code",
   "execution_count": 70,
   "id": "917e44b5",
   "metadata": {},
   "outputs": [
    {
     "data": {
      "text/plain": [
       "count    8.505000e+03\n",
       "mean    -1.231754e-16\n",
       "std      1.000059e+00\n",
       "min     -7.101820e-01\n",
       "25%     -7.101820e-01\n",
       "50%     -7.101820e-01\n",
       "75%      1.267211e+00\n",
       "max      1.717690e+00\n",
       "Name: VRDeck_trans, dtype: float64"
      ]
     },
     "execution_count": 70,
     "metadata": {},
     "output_type": "execute_result"
    }
   ],
   "source": [
    "df2.VRDeck_trans.describe()"
   ]
  },
  {
   "cell_type": "code",
   "execution_count": 71,
   "id": "36e0dfd0",
   "metadata": {},
   "outputs": [
    {
     "data": {
      "text/html": [
       "<div>\n",
       "<style scoped>\n",
       "    .dataframe tbody tr th:only-of-type {\n",
       "        vertical-align: middle;\n",
       "    }\n",
       "\n",
       "    .dataframe tbody tr th {\n",
       "        vertical-align: top;\n",
       "    }\n",
       "\n",
       "    .dataframe thead th {\n",
       "        text-align: right;\n",
       "    }\n",
       "</style>\n",
       "<table border=\"1\" class=\"dataframe\">\n",
       "  <thead>\n",
       "    <tr style=\"text-align: right;\">\n",
       "      <th></th>\n",
       "      <th>df</th>\n",
       "      <th>sum_sq</th>\n",
       "      <th>mean_sq</th>\n",
       "      <th>F</th>\n",
       "      <th>PR(&gt;F)</th>\n",
       "    </tr>\n",
       "  </thead>\n",
       "  <tbody>\n",
       "    <tr>\n",
       "      <th>HomePlanet</th>\n",
       "      <td>2.0</td>\n",
       "      <td>502.428999</td>\n",
       "      <td>251.214500</td>\n",
       "      <td>266.892437</td>\n",
       "      <td>3.830293e-113</td>\n",
       "    </tr>\n",
       "    <tr>\n",
       "      <th>Residual</th>\n",
       "      <td>8502.0</td>\n",
       "      <td>8002.571001</td>\n",
       "      <td>0.941257</td>\n",
       "      <td>NaN</td>\n",
       "      <td>NaN</td>\n",
       "    </tr>\n",
       "  </tbody>\n",
       "</table>\n",
       "</div>"
      ],
      "text/plain": [
       "                df       sum_sq     mean_sq           F         PR(>F)\n",
       "HomePlanet     2.0   502.428999  251.214500  266.892437  3.830293e-113\n",
       "Residual    8502.0  8002.571001    0.941257         NaN            NaN"
      ]
     },
     "execution_count": 71,
     "metadata": {},
     "output_type": "execute_result"
    }
   ],
   "source": [
    "mod = sm.ols(\"VRDeck_trans ~ HomePlanet\", data=df2).fit()\n",
    "anova_lm(mod)"
   ]
  },
  {
   "cell_type": "code",
   "execution_count": 72,
   "id": "8ceb5f9d",
   "metadata": {},
   "outputs": [
    {
     "data": {
      "text/plain": [
       "HomePlanet\n",
       "Earth     0.000411\n",
       "Europa    0.324719\n",
       "Mars     -0.402292\n",
       "Name: VRDeck_trans, dtype: float64"
      ]
     },
     "execution_count": 72,
     "metadata": {},
     "output_type": "execute_result"
    }
   ],
   "source": [
    "df2.groupby('HomePlanet')['VRDeck_trans'].mean()"
   ]
  },
  {
   "cell_type": "code",
   "execution_count": 73,
   "id": "43394835",
   "metadata": {},
   "outputs": [],
   "source": [
    "df2['VRDeck_trans'] = df2.groupby('HomePlanet')['VRDeck_trans'].transform(lambda x:x.replace(np.nan, x.mean()))"
   ]
  },
  {
   "cell_type": "code",
   "execution_count": 74,
   "id": "9831e4c2",
   "metadata": {},
   "outputs": [
    {
     "data": {
      "text/plain": [
       "0"
      ]
     },
     "execution_count": 74,
     "metadata": {},
     "output_type": "execute_result"
    }
   ],
   "source": [
    "df2.VRDeck_trans.isna().sum()"
   ]
  },
  {
   "cell_type": "markdown",
   "id": "0cb307ca",
   "metadata": {},
   "source": [
    "#### Deck"
   ]
  },
  {
   "cell_type": "code",
   "execution_count": 75,
   "id": "52c86d1f",
   "metadata": {},
   "outputs": [
    {
     "data": {
      "text/plain": [
       "F    2794\n",
       "G    2559\n",
       "E     876\n",
       "B     779\n",
       "C     747\n",
       "D     478\n",
       "A     256\n",
       "T       5\n",
       "Name: Deck, dtype: int64"
      ]
     },
     "execution_count": 75,
     "metadata": {},
     "output_type": "execute_result"
    }
   ],
   "source": [
    "df1.Deck.value_counts()"
   ]
  },
  {
   "cell_type": "code",
   "execution_count": 76,
   "id": "8e9fc40b",
   "metadata": {},
   "outputs": [
    {
     "data": {
      "text/plain": [
       "HomePlanet  Deck\n",
       "Earth       G       2553\n",
       "            F       1680\n",
       "            E        414\n",
       "            C          9\n",
       "            B          8\n",
       "            D          6\n",
       "            A          2\n",
       "            T          1\n",
       "Europa      B        771\n",
       "            C        738\n",
       "            A        254\n",
       "            D        190\n",
       "            E        132\n",
       "            G          6\n",
       "            F          4\n",
       "            T          4\n",
       "Mars        F       1110\n",
       "            E        330\n",
       "            D        282\n",
       "Name: Deck, dtype: int64"
      ]
     },
     "execution_count": 76,
     "metadata": {},
     "output_type": "execute_result"
    }
   ],
   "source": [
    "df1.groupby('HomePlanet')['Deck'].value_counts()"
   ]
  },
  {
   "cell_type": "code",
   "execution_count": 77,
   "id": "18ec46ca",
   "metadata": {},
   "outputs": [
    {
     "data": {
      "text/plain": [
       "Earth     99\n",
       "Europa    63\n",
       "Mars      37\n",
       "Name: HomePlanet, dtype: int64"
      ]
     },
     "execution_count": 77,
     "metadata": {},
     "output_type": "execute_result"
    }
   ],
   "source": [
    "df1.loc[df1.Deck.isna(), 'HomePlanet'].value_counts()"
   ]
  },
  {
   "cell_type": "code",
   "execution_count": 78,
   "id": "e2c9db27",
   "metadata": {},
   "outputs": [],
   "source": [
    "df1['Deck'] = df1.groupby('HomePlanet')['Deck'].transform(lambda x:x.replace(np.nan, x.mode()[0]))"
   ]
  },
  {
   "cell_type": "markdown",
   "id": "2bb16988",
   "metadata": {},
   "source": [
    "#### Side"
   ]
  },
  {
   "cell_type": "code",
   "execution_count": 79,
   "id": "6d7d5b4a",
   "metadata": {},
   "outputs": [
    {
     "data": {
      "text/plain": [
       "S    4288\n",
       "P    4206\n",
       "Name: Side, dtype: int64"
      ]
     },
     "execution_count": 79,
     "metadata": {},
     "output_type": "execute_result"
    }
   ],
   "source": [
    "df2.Side.value_counts()"
   ]
  },
  {
   "cell_type": "code",
   "execution_count": 80,
   "id": "22db4c94",
   "metadata": {},
   "outputs": [
    {
     "data": {
      "text/plain": [
       "HomePlanet  Side\n",
       "Earth       P       2349\n",
       "            S       2324\n",
       "Europa      S       1130\n",
       "            P        969\n",
       "Mars        P        888\n",
       "            S        834\n",
       "Name: Side, dtype: int64"
      ]
     },
     "execution_count": 80,
     "metadata": {},
     "output_type": "execute_result"
    }
   ],
   "source": [
    "df2.groupby('HomePlanet')['Side'].value_counts()"
   ]
  },
  {
   "cell_type": "code",
   "execution_count": 81,
   "id": "dd6cab97",
   "metadata": {},
   "outputs": [
    {
     "data": {
      "text/plain": [
       "Destination    Side\n",
       "55 Cancri e    S        906\n",
       "               P        844\n",
       "PSO J318.5-22  P        393\n",
       "               S        385\n",
       "TRAPPIST-1e    S       2997\n",
       "               P       2969\n",
       "Name: Side, dtype: int64"
      ]
     },
     "execution_count": 81,
     "metadata": {},
     "output_type": "execute_result"
    }
   ],
   "source": [
    "df2.groupby('Destination')['Side'].value_counts()"
   ]
  },
  {
   "cell_type": "code",
   "execution_count": 82,
   "id": "54494d4f",
   "metadata": {},
   "outputs": [
    {
     "data": {
      "text/plain": [
       "VIP    Side\n",
       "False  S       4197\n",
       "       P       4104\n",
       "True   P        102\n",
       "       S         91\n",
       "Name: Side, dtype: int64"
      ]
     },
     "execution_count": 82,
     "metadata": {},
     "output_type": "execute_result"
    }
   ],
   "source": [
    "df2.groupby('VIP')['Side'].value_counts()"
   ]
  },
  {
   "cell_type": "code",
   "execution_count": 83,
   "id": "ff717d4a",
   "metadata": {},
   "outputs": [],
   "source": [
    "df2.loc[df1.Side.isna(), 'Side'] = random.choices(list(df2.Side.dropna()), k=199)"
   ]
  },
  {
   "cell_type": "code",
   "execution_count": 84,
   "id": "437df2b7",
   "metadata": {},
   "outputs": [
    {
     "data": {
      "text/plain": [
       "S    4390\n",
       "P    4303\n",
       "Name: Side, dtype: int64"
      ]
     },
     "execution_count": 84,
     "metadata": {},
     "output_type": "execute_result"
    }
   ],
   "source": [
    "df2.Side.value_counts()"
   ]
  },
  {
   "cell_type": "code",
   "execution_count": 85,
   "id": "e43d3067",
   "metadata": {},
   "outputs": [
    {
     "data": {
      "text/plain": [
       "PassengerId             0\n",
       "HomePlanet              0\n",
       "CryoSleep               0\n",
       "Cabin                 199\n",
       "Destination             0\n",
       "Age                     0\n",
       "VIP                     0\n",
       "RoomService           181\n",
       "FoodCourt             183\n",
       "ShoppingMall          208\n",
       "Spa                   183\n",
       "VRDeck                188\n",
       "Name                  200\n",
       "Transported             0\n",
       "Group                   0\n",
       "Deck                  199\n",
       "Cabin_Number          199\n",
       "Side                    0\n",
       "RoomService_trans       0\n",
       "FoodCourt_trans         0\n",
       "ShoppingMall_trans      0\n",
       "Spa_trans               0\n",
       "VRDeck_trans            0\n",
       "dtype: int64"
      ]
     },
     "execution_count": 85,
     "metadata": {},
     "output_type": "execute_result"
    }
   ],
   "source": [
    "df2.isna().sum()"
   ]
  },
  {
   "cell_type": "markdown",
   "id": "ce00aef7",
   "metadata": {},
   "source": [
    "### Test Set Missing Data"
   ]
  },
  {
   "cell_type": "code",
   "execution_count": 178,
   "id": "3bc0beb9",
   "metadata": {},
   "outputs": [],
   "source": [
    "test.loc[((test.HomePlanet.isna()) & (test.Destination == '55 Cancri e')), 'HomePlanet'] = 'Europa'\n",
    "test.HomePlanet.fillna('Earth', inplace=True)\n",
    "\n",
    "test.CryoSleep.fillna(False, inplace=True)\n",
    "\n",
    "test.Destination.fillna('TRAPPIST-1e', inplace=True)\n",
    "\n",
    "test['Age'] = test.groupby('HomePlanet')['Age'].transform(lambda x:x.replace(np.nan, x.median()))\n",
    "\n",
    "test.VIP.fillna(False, inplace=True)"
   ]
  },
  {
   "cell_type": "code",
   "execution_count": 179,
   "id": "2d5ffa01",
   "metadata": {},
   "outputs": [],
   "source": [
    "spend_test = test.iloc[:,7:12]\n",
    "spend_test_trans = pd.DataFrame(pt.transform(spend_test), columns=[\"RoomService_trans\",\"FoodCourt_trans\",\"ShoppingMall_trans\",\"Spa_trans\",\"VRDeck_trans\"])\n",
    "spend_test_trans.reset_index(drop=True, inplace=True)\n",
    "test = pd.concat([test, spend_test_trans], axis=1)"
   ]
  },
  {
   "cell_type": "code",
   "execution_count": 180,
   "id": "69db057d",
   "metadata": {},
   "outputs": [
    {
     "name": "stdout",
     "output_type": "stream",
     "text": [
      "100\n"
     ]
    }
   ],
   "source": [
    "test['RoomService_trans'] = test.groupby('HomePlanet')['RoomService_trans'].transform(lambda x:x.replace(np.nan, x.mean()))\n",
    "\n",
    "test['FoodCourt_trans'] = test.groupby('HomePlanet')['FoodCourt_trans'].transform(lambda x:x.replace(np.nan, x.mean()))\n",
    "\n",
    "test['ShoppingMall_trans'] = test.groupby('HomePlanet')['ShoppingMall_trans'].transform(lambda x:x.replace(np.nan, x.mean()))\n",
    "\n",
    "test['Spa_trans'] = test.groupby('HomePlanet')['Spa_trans'].transform(lambda x:x.replace(np.nan, x.mean()))\n",
    "\n",
    "test['VRDeck_trans'] = test.groupby('HomePlanet')['VRDeck_trans'].transform(lambda x:x.replace(np.nan, x.mean()))\n",
    "\n",
    "test['Deck'] = test.groupby('HomePlanet')['Deck'].transform(lambda x:x.replace(np.nan, x.mode()[0]))\n",
    "\n",
    "print(test.Side.isna().sum())\n",
    "test.loc[test.Side.isna(), 'Side'] = random.choices(list(test.Side.dropna()), k=100)"
   ]
  },
  {
   "cell_type": "code",
   "execution_count": 181,
   "id": "9462722c",
   "metadata": {},
   "outputs": [
    {
     "data": {
      "text/html": [
       "<div>\n",
       "<style scoped>\n",
       "    .dataframe tbody tr th:only-of-type {\n",
       "        vertical-align: middle;\n",
       "    }\n",
       "\n",
       "    .dataframe tbody tr th {\n",
       "        vertical-align: top;\n",
       "    }\n",
       "\n",
       "    .dataframe thead th {\n",
       "        text-align: right;\n",
       "    }\n",
       "</style>\n",
       "<table border=\"1\" class=\"dataframe\">\n",
       "  <thead>\n",
       "    <tr style=\"text-align: right;\">\n",
       "      <th></th>\n",
       "      <th>PassengerId</th>\n",
       "      <th>HomePlanet</th>\n",
       "      <th>CryoSleep</th>\n",
       "      <th>Cabin</th>\n",
       "      <th>Destination</th>\n",
       "      <th>Age</th>\n",
       "      <th>VIP</th>\n",
       "      <th>RoomService</th>\n",
       "      <th>FoodCourt</th>\n",
       "      <th>ShoppingMall</th>\n",
       "      <th>Spa</th>\n",
       "      <th>VRDeck</th>\n",
       "      <th>Name</th>\n",
       "      <th>Group</th>\n",
       "      <th>Deck</th>\n",
       "      <th>Cabin_Number</th>\n",
       "      <th>Side</th>\n",
       "      <th>RoomService_trans</th>\n",
       "      <th>FoodCourt_trans</th>\n",
       "      <th>ShoppingMall_trans</th>\n",
       "      <th>Spa_trans</th>\n",
       "      <th>VRDeck_trans</th>\n",
       "    </tr>\n",
       "  </thead>\n",
       "  <tbody>\n",
       "    <tr>\n",
       "      <th>0</th>\n",
       "      <td>0013_01</td>\n",
       "      <td>Earth</td>\n",
       "      <td>True</td>\n",
       "      <td>G/3/S</td>\n",
       "      <td>TRAPPIST-1e</td>\n",
       "      <td>27.0</td>\n",
       "      <td>False</td>\n",
       "      <td>0.0</td>\n",
       "      <td>0.0</td>\n",
       "      <td>0.0</td>\n",
       "      <td>0.0</td>\n",
       "      <td>0.0</td>\n",
       "      <td>Nelly Carsoning</td>\n",
       "      <td>1</td>\n",
       "      <td>G</td>\n",
       "      <td>3</td>\n",
       "      <td>S</td>\n",
       "      <td>-0.699294</td>\n",
       "      <td>-0.717494</td>\n",
       "      <td>-0.692680</td>\n",
       "      <td>-0.737298</td>\n",
       "      <td>-0.710182</td>\n",
       "    </tr>\n",
       "    <tr>\n",
       "      <th>1</th>\n",
       "      <td>0018_01</td>\n",
       "      <td>Earth</td>\n",
       "      <td>False</td>\n",
       "      <td>F/4/S</td>\n",
       "      <td>TRAPPIST-1e</td>\n",
       "      <td>19.0</td>\n",
       "      <td>False</td>\n",
       "      <td>0.0</td>\n",
       "      <td>9.0</td>\n",
       "      <td>0.0</td>\n",
       "      <td>2823.0</td>\n",
       "      <td>0.0</td>\n",
       "      <td>Lerome Peckers</td>\n",
       "      <td>1</td>\n",
       "      <td>F</td>\n",
       "      <td>4</td>\n",
       "      <td>S</td>\n",
       "      <td>-0.699294</td>\n",
       "      <td>0.731535</td>\n",
       "      <td>-0.692680</td>\n",
       "      <td>1.640531</td>\n",
       "      <td>-0.710182</td>\n",
       "    </tr>\n",
       "    <tr>\n",
       "      <th>2</th>\n",
       "      <td>0019_01</td>\n",
       "      <td>Europa</td>\n",
       "      <td>True</td>\n",
       "      <td>C/0/S</td>\n",
       "      <td>55 Cancri e</td>\n",
       "      <td>31.0</td>\n",
       "      <td>False</td>\n",
       "      <td>0.0</td>\n",
       "      <td>0.0</td>\n",
       "      <td>0.0</td>\n",
       "      <td>0.0</td>\n",
       "      <td>0.0</td>\n",
       "      <td>Sabih Unhearfus</td>\n",
       "      <td>1</td>\n",
       "      <td>C</td>\n",
       "      <td>0</td>\n",
       "      <td>S</td>\n",
       "      <td>-0.699294</td>\n",
       "      <td>-0.717494</td>\n",
       "      <td>-0.692680</td>\n",
       "      <td>-0.737298</td>\n",
       "      <td>-0.710182</td>\n",
       "    </tr>\n",
       "    <tr>\n",
       "      <th>3</th>\n",
       "      <td>0021_01</td>\n",
       "      <td>Europa</td>\n",
       "      <td>False</td>\n",
       "      <td>C/1/S</td>\n",
       "      <td>TRAPPIST-1e</td>\n",
       "      <td>38.0</td>\n",
       "      <td>False</td>\n",
       "      <td>0.0</td>\n",
       "      <td>6652.0</td>\n",
       "      <td>0.0</td>\n",
       "      <td>181.0</td>\n",
       "      <td>585.0</td>\n",
       "      <td>Meratz Caltilter</td>\n",
       "      <td>1</td>\n",
       "      <td>C</td>\n",
       "      <td>1</td>\n",
       "      <td>S</td>\n",
       "      <td>-0.699294</td>\n",
       "      <td>1.664115</td>\n",
       "      <td>-0.692680</td>\n",
       "      <td>1.424780</td>\n",
       "      <td>1.585152</td>\n",
       "    </tr>\n",
       "    <tr>\n",
       "      <th>4</th>\n",
       "      <td>0023_01</td>\n",
       "      <td>Earth</td>\n",
       "      <td>False</td>\n",
       "      <td>F/5/S</td>\n",
       "      <td>TRAPPIST-1e</td>\n",
       "      <td>20.0</td>\n",
       "      <td>False</td>\n",
       "      <td>10.0</td>\n",
       "      <td>0.0</td>\n",
       "      <td>635.0</td>\n",
       "      <td>0.0</td>\n",
       "      <td>0.0</td>\n",
       "      <td>Brence Harperez</td>\n",
       "      <td>1</td>\n",
       "      <td>F</td>\n",
       "      <td>5</td>\n",
       "      <td>S</td>\n",
       "      <td>0.881029</td>\n",
       "      <td>-0.717494</td>\n",
       "      <td>1.644244</td>\n",
       "      <td>-0.737298</td>\n",
       "      <td>-0.710182</td>\n",
       "    </tr>\n",
       "  </tbody>\n",
       "</table>\n",
       "</div>"
      ],
      "text/plain": [
       "  PassengerId HomePlanet  CryoSleep  Cabin  Destination   Age    VIP  \\\n",
       "0     0013_01      Earth       True  G/3/S  TRAPPIST-1e  27.0  False   \n",
       "1     0018_01      Earth      False  F/4/S  TRAPPIST-1e  19.0  False   \n",
       "2     0019_01     Europa       True  C/0/S  55 Cancri e  31.0  False   \n",
       "3     0021_01     Europa      False  C/1/S  TRAPPIST-1e  38.0  False   \n",
       "4     0023_01      Earth      False  F/5/S  TRAPPIST-1e  20.0  False   \n",
       "\n",
       "   RoomService  FoodCourt  ShoppingMall     Spa  VRDeck              Name  \\\n",
       "0          0.0        0.0           0.0     0.0     0.0   Nelly Carsoning   \n",
       "1          0.0        9.0           0.0  2823.0     0.0    Lerome Peckers   \n",
       "2          0.0        0.0           0.0     0.0     0.0   Sabih Unhearfus   \n",
       "3          0.0     6652.0           0.0   181.0   585.0  Meratz Caltilter   \n",
       "4         10.0        0.0         635.0     0.0     0.0   Brence Harperez   \n",
       "\n",
       "   Group Deck Cabin_Number Side  RoomService_trans  FoodCourt_trans  \\\n",
       "0      1    G            3    S          -0.699294        -0.717494   \n",
       "1      1    F            4    S          -0.699294         0.731535   \n",
       "2      1    C            0    S          -0.699294        -0.717494   \n",
       "3      1    C            1    S          -0.699294         1.664115   \n",
       "4      1    F            5    S           0.881029        -0.717494   \n",
       "\n",
       "   ShoppingMall_trans  Spa_trans  VRDeck_trans  \n",
       "0           -0.692680  -0.737298     -0.710182  \n",
       "1           -0.692680   1.640531     -0.710182  \n",
       "2           -0.692680  -0.737298     -0.710182  \n",
       "3           -0.692680   1.424780      1.585152  \n",
       "4            1.644244  -0.737298     -0.710182  "
      ]
     },
     "execution_count": 181,
     "metadata": {},
     "output_type": "execute_result"
    }
   ],
   "source": [
    "test.head()"
   ]
  },
  {
   "cell_type": "markdown",
   "id": "8f9e9056",
   "metadata": {},
   "source": [
    "### Data Preparation"
   ]
  },
  {
   "cell_type": "code",
   "execution_count": 90,
   "id": "43782bb3",
   "metadata": {},
   "outputs": [
    {
     "data": {
      "text/html": [
       "<div>\n",
       "<style scoped>\n",
       "    .dataframe tbody tr th:only-of-type {\n",
       "        vertical-align: middle;\n",
       "    }\n",
       "\n",
       "    .dataframe tbody tr th {\n",
       "        vertical-align: top;\n",
       "    }\n",
       "\n",
       "    .dataframe thead th {\n",
       "        text-align: right;\n",
       "    }\n",
       "</style>\n",
       "<table border=\"1\" class=\"dataframe\">\n",
       "  <thead>\n",
       "    <tr style=\"text-align: right;\">\n",
       "      <th></th>\n",
       "      <th>PassengerId</th>\n",
       "      <th>HomePlanet</th>\n",
       "      <th>CryoSleep</th>\n",
       "      <th>Cabin</th>\n",
       "      <th>Destination</th>\n",
       "      <th>Age</th>\n",
       "      <th>VIP</th>\n",
       "      <th>RoomService</th>\n",
       "      <th>FoodCourt</th>\n",
       "      <th>ShoppingMall</th>\n",
       "      <th>Spa</th>\n",
       "      <th>VRDeck</th>\n",
       "      <th>Name</th>\n",
       "      <th>Transported</th>\n",
       "      <th>Group</th>\n",
       "      <th>Deck</th>\n",
       "      <th>Cabin_Number</th>\n",
       "      <th>Side</th>\n",
       "      <th>RoomService_trans</th>\n",
       "      <th>FoodCourt_trans</th>\n",
       "      <th>ShoppingMall_trans</th>\n",
       "      <th>Spa_trans</th>\n",
       "      <th>VRDeck_trans</th>\n",
       "    </tr>\n",
       "  </thead>\n",
       "  <tbody>\n",
       "    <tr>\n",
       "      <th>0</th>\n",
       "      <td>0001_01</td>\n",
       "      <td>Europa</td>\n",
       "      <td>False</td>\n",
       "      <td>B/0/P</td>\n",
       "      <td>TRAPPIST-1e</td>\n",
       "      <td>39.0</td>\n",
       "      <td>False</td>\n",
       "      <td>0.0</td>\n",
       "      <td>0.0</td>\n",
       "      <td>0.0</td>\n",
       "      <td>0.0</td>\n",
       "      <td>0.0</td>\n",
       "      <td>Maham Ofracculy</td>\n",
       "      <td>False</td>\n",
       "      <td>1</td>\n",
       "      <td>B</td>\n",
       "      <td>0</td>\n",
       "      <td>P</td>\n",
       "      <td>-0.699294</td>\n",
       "      <td>-0.717494</td>\n",
       "      <td>-0.692680</td>\n",
       "      <td>-0.737298</td>\n",
       "      <td>-0.710182</td>\n",
       "    </tr>\n",
       "    <tr>\n",
       "      <th>1</th>\n",
       "      <td>0002_01</td>\n",
       "      <td>Earth</td>\n",
       "      <td>False</td>\n",
       "      <td>F/0/S</td>\n",
       "      <td>TRAPPIST-1e</td>\n",
       "      <td>24.0</td>\n",
       "      <td>False</td>\n",
       "      <td>109.0</td>\n",
       "      <td>9.0</td>\n",
       "      <td>25.0</td>\n",
       "      <td>549.0</td>\n",
       "      <td>44.0</td>\n",
       "      <td>Juanna Vines</td>\n",
       "      <td>True</td>\n",
       "      <td>1</td>\n",
       "      <td>F</td>\n",
       "      <td>0</td>\n",
       "      <td>S</td>\n",
       "      <td>1.426200</td>\n",
       "      <td>0.731535</td>\n",
       "      <td>1.236751</td>\n",
       "      <td>1.539799</td>\n",
       "      <td>1.258226</td>\n",
       "    </tr>\n",
       "    <tr>\n",
       "      <th>2</th>\n",
       "      <td>0003_01</td>\n",
       "      <td>Europa</td>\n",
       "      <td>False</td>\n",
       "      <td>A/0/S</td>\n",
       "      <td>TRAPPIST-1e</td>\n",
       "      <td>58.0</td>\n",
       "      <td>True</td>\n",
       "      <td>43.0</td>\n",
       "      <td>3576.0</td>\n",
       "      <td>0.0</td>\n",
       "      <td>6715.0</td>\n",
       "      <td>49.0</td>\n",
       "      <td>Altark Susent</td>\n",
       "      <td>False</td>\n",
       "      <td>2</td>\n",
       "      <td>A</td>\n",
       "      <td>0</td>\n",
       "      <td>S</td>\n",
       "      <td>1.271105</td>\n",
       "      <td>1.641673</td>\n",
       "      <td>-0.692680</td>\n",
       "      <td>1.672922</td>\n",
       "      <td>1.279716</td>\n",
       "    </tr>\n",
       "    <tr>\n",
       "      <th>3</th>\n",
       "      <td>0003_02</td>\n",
       "      <td>Europa</td>\n",
       "      <td>False</td>\n",
       "      <td>A/0/S</td>\n",
       "      <td>TRAPPIST-1e</td>\n",
       "      <td>33.0</td>\n",
       "      <td>False</td>\n",
       "      <td>0.0</td>\n",
       "      <td>1283.0</td>\n",
       "      <td>371.0</td>\n",
       "      <td>3329.0</td>\n",
       "      <td>193.0</td>\n",
       "      <td>Solam Susent</td>\n",
       "      <td>False</td>\n",
       "      <td>2</td>\n",
       "      <td>A</td>\n",
       "      <td>0</td>\n",
       "      <td>S</td>\n",
       "      <td>-0.699294</td>\n",
       "      <td>1.590605</td>\n",
       "      <td>1.611079</td>\n",
       "      <td>1.647562</td>\n",
       "      <td>1.485681</td>\n",
       "    </tr>\n",
       "    <tr>\n",
       "      <th>4</th>\n",
       "      <td>0004_01</td>\n",
       "      <td>Earth</td>\n",
       "      <td>False</td>\n",
       "      <td>F/1/S</td>\n",
       "      <td>TRAPPIST-1e</td>\n",
       "      <td>16.0</td>\n",
       "      <td>False</td>\n",
       "      <td>303.0</td>\n",
       "      <td>70.0</td>\n",
       "      <td>151.0</td>\n",
       "      <td>565.0</td>\n",
       "      <td>2.0</td>\n",
       "      <td>Willy Santantines</td>\n",
       "      <td>True</td>\n",
       "      <td>1</td>\n",
       "      <td>F</td>\n",
       "      <td>1</td>\n",
       "      <td>S</td>\n",
       "      <td>1.539479</td>\n",
       "      <td>1.269689</td>\n",
       "      <td>1.532958</td>\n",
       "      <td>1.542173</td>\n",
       "      <td>0.203209</td>\n",
       "    </tr>\n",
       "  </tbody>\n",
       "</table>\n",
       "</div>"
      ],
      "text/plain": [
       "  PassengerId HomePlanet  CryoSleep  Cabin  Destination   Age    VIP  \\\n",
       "0     0001_01     Europa      False  B/0/P  TRAPPIST-1e  39.0  False   \n",
       "1     0002_01      Earth      False  F/0/S  TRAPPIST-1e  24.0  False   \n",
       "2     0003_01     Europa      False  A/0/S  TRAPPIST-1e  58.0   True   \n",
       "3     0003_02     Europa      False  A/0/S  TRAPPIST-1e  33.0  False   \n",
       "4     0004_01      Earth      False  F/1/S  TRAPPIST-1e  16.0  False   \n",
       "\n",
       "   RoomService  FoodCourt  ShoppingMall     Spa  VRDeck               Name  \\\n",
       "0          0.0        0.0           0.0     0.0     0.0    Maham Ofracculy   \n",
       "1        109.0        9.0          25.0   549.0    44.0       Juanna Vines   \n",
       "2         43.0     3576.0           0.0  6715.0    49.0      Altark Susent   \n",
       "3          0.0     1283.0         371.0  3329.0   193.0       Solam Susent   \n",
       "4        303.0       70.0         151.0   565.0     2.0  Willy Santantines   \n",
       "\n",
       "   Transported  Group Deck Cabin_Number Side  RoomService_trans  \\\n",
       "0        False      1    B            0    P          -0.699294   \n",
       "1         True      1    F            0    S           1.426200   \n",
       "2        False      2    A            0    S           1.271105   \n",
       "3        False      2    A            0    S          -0.699294   \n",
       "4         True      1    F            1    S           1.539479   \n",
       "\n",
       "   FoodCourt_trans  ShoppingMall_trans  Spa_trans  VRDeck_trans  \n",
       "0        -0.717494           -0.692680  -0.737298     -0.710182  \n",
       "1         0.731535            1.236751   1.539799      1.258226  \n",
       "2         1.641673           -0.692680   1.672922      1.279716  \n",
       "3         1.590605            1.611079   1.647562      1.485681  \n",
       "4         1.269689            1.532958   1.542173      0.203209  "
      ]
     },
     "execution_count": 90,
     "metadata": {},
     "output_type": "execute_result"
    }
   ],
   "source": [
    "df2.head()"
   ]
  },
  {
   "cell_type": "code",
   "execution_count": 125,
   "id": "9f9fba89",
   "metadata": {},
   "outputs": [],
   "source": [
    "df3 = df2.drop(['PassengerId', 'Cabin', 'RoomService', 'FoodCourt', 'ShoppingMall', 'Spa', 'VRDeck', 'Name', 'Cabin_Number'], axis=1)"
   ]
  },
  {
   "cell_type": "code",
   "execution_count": 126,
   "id": "78e95755",
   "metadata": {},
   "outputs": [
    {
     "data": {
      "text/html": [
       "<div>\n",
       "<style scoped>\n",
       "    .dataframe tbody tr th:only-of-type {\n",
       "        vertical-align: middle;\n",
       "    }\n",
       "\n",
       "    .dataframe tbody tr th {\n",
       "        vertical-align: top;\n",
       "    }\n",
       "\n",
       "    .dataframe thead th {\n",
       "        text-align: right;\n",
       "    }\n",
       "</style>\n",
       "<table border=\"1\" class=\"dataframe\">\n",
       "  <thead>\n",
       "    <tr style=\"text-align: right;\">\n",
       "      <th></th>\n",
       "      <th>HomePlanet</th>\n",
       "      <th>CryoSleep</th>\n",
       "      <th>Destination</th>\n",
       "      <th>Age</th>\n",
       "      <th>VIP</th>\n",
       "      <th>Transported</th>\n",
       "      <th>Group</th>\n",
       "      <th>Deck</th>\n",
       "      <th>Side</th>\n",
       "      <th>RoomService_trans</th>\n",
       "      <th>FoodCourt_trans</th>\n",
       "      <th>ShoppingMall_trans</th>\n",
       "      <th>Spa_trans</th>\n",
       "      <th>VRDeck_trans</th>\n",
       "    </tr>\n",
       "  </thead>\n",
       "  <tbody>\n",
       "    <tr>\n",
       "      <th>0</th>\n",
       "      <td>Europa</td>\n",
       "      <td>False</td>\n",
       "      <td>TRAPPIST-1e</td>\n",
       "      <td>39.0</td>\n",
       "      <td>False</td>\n",
       "      <td>False</td>\n",
       "      <td>1</td>\n",
       "      <td>B</td>\n",
       "      <td>P</td>\n",
       "      <td>-0.699294</td>\n",
       "      <td>-0.717494</td>\n",
       "      <td>-0.692680</td>\n",
       "      <td>-0.737298</td>\n",
       "      <td>-0.710182</td>\n",
       "    </tr>\n",
       "    <tr>\n",
       "      <th>1</th>\n",
       "      <td>Earth</td>\n",
       "      <td>False</td>\n",
       "      <td>TRAPPIST-1e</td>\n",
       "      <td>24.0</td>\n",
       "      <td>False</td>\n",
       "      <td>True</td>\n",
       "      <td>1</td>\n",
       "      <td>F</td>\n",
       "      <td>S</td>\n",
       "      <td>1.426200</td>\n",
       "      <td>0.731535</td>\n",
       "      <td>1.236751</td>\n",
       "      <td>1.539799</td>\n",
       "      <td>1.258226</td>\n",
       "    </tr>\n",
       "    <tr>\n",
       "      <th>2</th>\n",
       "      <td>Europa</td>\n",
       "      <td>False</td>\n",
       "      <td>TRAPPIST-1e</td>\n",
       "      <td>58.0</td>\n",
       "      <td>True</td>\n",
       "      <td>False</td>\n",
       "      <td>2</td>\n",
       "      <td>A</td>\n",
       "      <td>S</td>\n",
       "      <td>1.271105</td>\n",
       "      <td>1.641673</td>\n",
       "      <td>-0.692680</td>\n",
       "      <td>1.672922</td>\n",
       "      <td>1.279716</td>\n",
       "    </tr>\n",
       "    <tr>\n",
       "      <th>3</th>\n",
       "      <td>Europa</td>\n",
       "      <td>False</td>\n",
       "      <td>TRAPPIST-1e</td>\n",
       "      <td>33.0</td>\n",
       "      <td>False</td>\n",
       "      <td>False</td>\n",
       "      <td>2</td>\n",
       "      <td>A</td>\n",
       "      <td>S</td>\n",
       "      <td>-0.699294</td>\n",
       "      <td>1.590605</td>\n",
       "      <td>1.611079</td>\n",
       "      <td>1.647562</td>\n",
       "      <td>1.485681</td>\n",
       "    </tr>\n",
       "    <tr>\n",
       "      <th>4</th>\n",
       "      <td>Earth</td>\n",
       "      <td>False</td>\n",
       "      <td>TRAPPIST-1e</td>\n",
       "      <td>16.0</td>\n",
       "      <td>False</td>\n",
       "      <td>True</td>\n",
       "      <td>1</td>\n",
       "      <td>F</td>\n",
       "      <td>S</td>\n",
       "      <td>1.539479</td>\n",
       "      <td>1.269689</td>\n",
       "      <td>1.532958</td>\n",
       "      <td>1.542173</td>\n",
       "      <td>0.203209</td>\n",
       "    </tr>\n",
       "  </tbody>\n",
       "</table>\n",
       "</div>"
      ],
      "text/plain": [
       "  HomePlanet  CryoSleep  Destination   Age    VIP  Transported  Group Deck  \\\n",
       "0     Europa      False  TRAPPIST-1e  39.0  False        False      1    B   \n",
       "1      Earth      False  TRAPPIST-1e  24.0  False         True      1    F   \n",
       "2     Europa      False  TRAPPIST-1e  58.0   True        False      2    A   \n",
       "3     Europa      False  TRAPPIST-1e  33.0  False        False      2    A   \n",
       "4      Earth      False  TRAPPIST-1e  16.0  False         True      1    F   \n",
       "\n",
       "  Side  RoomService_trans  FoodCourt_trans  ShoppingMall_trans  Spa_trans  \\\n",
       "0    P          -0.699294        -0.717494           -0.692680  -0.737298   \n",
       "1    S           1.426200         0.731535            1.236751   1.539799   \n",
       "2    S           1.271105         1.641673           -0.692680   1.672922   \n",
       "3    S          -0.699294         1.590605            1.611079   1.647562   \n",
       "4    S           1.539479         1.269689            1.532958   1.542173   \n",
       "\n",
       "   VRDeck_trans  \n",
       "0     -0.710182  \n",
       "1      1.258226  \n",
       "2      1.279716  \n",
       "3      1.485681  \n",
       "4      0.203209  "
      ]
     },
     "execution_count": 126,
     "metadata": {},
     "output_type": "execute_result"
    }
   ],
   "source": [
    "df3.head()"
   ]
  },
  {
   "cell_type": "code",
   "execution_count": 127,
   "id": "954cdf6c",
   "metadata": {},
   "outputs": [],
   "source": [
    "df3_X = df3.drop('Transported', axis=1)\n",
    "y = pd.DataFrame([1 if x == True else 0 for x in df3['Transported']], columns=['Transported'])"
   ]
  },
  {
   "cell_type": "code",
   "execution_count": 128,
   "id": "2d9747a6",
   "metadata": {},
   "outputs": [],
   "source": [
    "cat_cols = df3_X.select_dtypes(include='object')\n",
    "num_cols = df3_X.select_dtypes(include=np.number)\n",
    "bool_cols = df3_X.select_dtypes(include=np.bool)"
   ]
  },
  {
   "cell_type": "code",
   "execution_count": 129,
   "id": "96107d83",
   "metadata": {
    "scrolled": true
   },
   "outputs": [],
   "source": [
    "dummy_cols = pd.get_dummies(cat_cols, drop_first=True)"
   ]
  },
  {
   "cell_type": "code",
   "execution_count": 130,
   "id": "9207a7ee",
   "metadata": {},
   "outputs": [],
   "source": [
    "lb = LabelBinarizer()\n",
    "bool_df = pd.DataFrame(lb.fit_transform(bool_cols), columns=bool_cols.columns)"
   ]
  },
  {
   "cell_type": "code",
   "execution_count": 131,
   "id": "6f142a4f",
   "metadata": {},
   "outputs": [],
   "source": [
    "sc = StandardScaler()\n",
    "num_scaled = pd.DataFrame(sc.fit_transform(num_cols), columns=num_cols.columns)"
   ]
  },
  {
   "cell_type": "code",
   "execution_count": 132,
   "id": "57e76717",
   "metadata": {},
   "outputs": [
    {
     "data": {
      "text/html": [
       "<div>\n",
       "<style scoped>\n",
       "    .dataframe tbody tr th:only-of-type {\n",
       "        vertical-align: middle;\n",
       "    }\n",
       "\n",
       "    .dataframe tbody tr th {\n",
       "        vertical-align: top;\n",
       "    }\n",
       "\n",
       "    .dataframe thead th {\n",
       "        text-align: right;\n",
       "    }\n",
       "</style>\n",
       "<table border=\"1\" class=\"dataframe\">\n",
       "  <thead>\n",
       "    <tr style=\"text-align: right;\">\n",
       "      <th></th>\n",
       "      <th>Transported</th>\n",
       "      <th>Age</th>\n",
       "      <th>Group</th>\n",
       "      <th>RoomService_trans</th>\n",
       "      <th>FoodCourt_trans</th>\n",
       "      <th>ShoppingMall_trans</th>\n",
       "      <th>Spa_trans</th>\n",
       "      <th>VRDeck_trans</th>\n",
       "      <th>CryoSleep</th>\n",
       "      <th>VIP</th>\n",
       "      <th>HomePlanet_Europa</th>\n",
       "      <th>HomePlanet_Mars</th>\n",
       "      <th>Destination_PSO J318.5-22</th>\n",
       "      <th>Destination_TRAPPIST-1e</th>\n",
       "      <th>Deck_B</th>\n",
       "      <th>Deck_C</th>\n",
       "      <th>Deck_D</th>\n",
       "      <th>Deck_E</th>\n",
       "      <th>Deck_F</th>\n",
       "      <th>Deck_G</th>\n",
       "      <th>Deck_T</th>\n",
       "      <th>Side_S</th>\n",
       "    </tr>\n",
       "  </thead>\n",
       "  <tbody>\n",
       "    <tr>\n",
       "      <th>0</th>\n",
       "      <td>0</td>\n",
       "      <td>0.711088</td>\n",
       "      <td>-0.648735</td>\n",
       "      <td>-0.706432</td>\n",
       "      <td>-0.724474</td>\n",
       "      <td>-0.700275</td>\n",
       "      <td>-0.744959</td>\n",
       "      <td>-0.717136</td>\n",
       "      <td>0</td>\n",
       "      <td>0</td>\n",
       "      <td>1</td>\n",
       "      <td>0</td>\n",
       "      <td>0</td>\n",
       "      <td>1</td>\n",
       "      <td>1</td>\n",
       "      <td>0</td>\n",
       "      <td>0</td>\n",
       "      <td>0</td>\n",
       "      <td>0</td>\n",
       "      <td>0</td>\n",
       "      <td>0</td>\n",
       "      <td>0</td>\n",
       "    </tr>\n",
       "    <tr>\n",
       "      <th>1</th>\n",
       "      <td>1</td>\n",
       "      <td>-0.334213</td>\n",
       "      <td>-0.648735</td>\n",
       "      <td>1.439843</td>\n",
       "      <td>0.738686</td>\n",
       "      <td>1.251379</td>\n",
       "      <td>1.555797</td>\n",
       "      <td>1.271715</td>\n",
       "      <td>0</td>\n",
       "      <td>0</td>\n",
       "      <td>0</td>\n",
       "      <td>0</td>\n",
       "      <td>0</td>\n",
       "      <td>1</td>\n",
       "      <td>0</td>\n",
       "      <td>0</td>\n",
       "      <td>0</td>\n",
       "      <td>0</td>\n",
       "      <td>1</td>\n",
       "      <td>0</td>\n",
       "      <td>0</td>\n",
       "      <td>1</td>\n",
       "    </tr>\n",
       "    <tr>\n",
       "      <th>2</th>\n",
       "      <td>0</td>\n",
       "      <td>2.035136</td>\n",
       "      <td>-0.022268</td>\n",
       "      <td>1.283232</td>\n",
       "      <td>1.657699</td>\n",
       "      <td>-0.700275</td>\n",
       "      <td>1.690302</td>\n",
       "      <td>1.293428</td>\n",
       "      <td>0</td>\n",
       "      <td>1</td>\n",
       "      <td>1</td>\n",
       "      <td>0</td>\n",
       "      <td>0</td>\n",
       "      <td>1</td>\n",
       "      <td>0</td>\n",
       "      <td>0</td>\n",
       "      <td>0</td>\n",
       "      <td>0</td>\n",
       "      <td>0</td>\n",
       "      <td>0</td>\n",
       "      <td>0</td>\n",
       "      <td>1</td>\n",
       "    </tr>\n",
       "    <tr>\n",
       "      <th>3</th>\n",
       "      <td>0</td>\n",
       "      <td>0.292968</td>\n",
       "      <td>-0.022268</td>\n",
       "      <td>-0.706432</td>\n",
       "      <td>1.606133</td>\n",
       "      <td>1.630019</td>\n",
       "      <td>1.664679</td>\n",
       "      <td>1.501532</td>\n",
       "      <td>0</td>\n",
       "      <td>0</td>\n",
       "      <td>1</td>\n",
       "      <td>0</td>\n",
       "      <td>0</td>\n",
       "      <td>1</td>\n",
       "      <td>0</td>\n",
       "      <td>0</td>\n",
       "      <td>0</td>\n",
       "      <td>0</td>\n",
       "      <td>0</td>\n",
       "      <td>0</td>\n",
       "      <td>0</td>\n",
       "      <td>1</td>\n",
       "    </tr>\n",
       "    <tr>\n",
       "      <th>4</th>\n",
       "      <td>1</td>\n",
       "      <td>-0.891706</td>\n",
       "      <td>-0.648735</td>\n",
       "      <td>1.554230</td>\n",
       "      <td>1.282088</td>\n",
       "      <td>1.550998</td>\n",
       "      <td>1.558195</td>\n",
       "      <td>0.205741</td>\n",
       "      <td>0</td>\n",
       "      <td>0</td>\n",
       "      <td>0</td>\n",
       "      <td>0</td>\n",
       "      <td>0</td>\n",
       "      <td>1</td>\n",
       "      <td>0</td>\n",
       "      <td>0</td>\n",
       "      <td>0</td>\n",
       "      <td>0</td>\n",
       "      <td>1</td>\n",
       "      <td>0</td>\n",
       "      <td>0</td>\n",
       "      <td>1</td>\n",
       "    </tr>\n",
       "  </tbody>\n",
       "</table>\n",
       "</div>"
      ],
      "text/plain": [
       "   Transported       Age     Group  RoomService_trans  FoodCourt_trans  \\\n",
       "0            0  0.711088 -0.648735          -0.706432        -0.724474   \n",
       "1            1 -0.334213 -0.648735           1.439843         0.738686   \n",
       "2            0  2.035136 -0.022268           1.283232         1.657699   \n",
       "3            0  0.292968 -0.022268          -0.706432         1.606133   \n",
       "4            1 -0.891706 -0.648735           1.554230         1.282088   \n",
       "\n",
       "   ShoppingMall_trans  Spa_trans  VRDeck_trans  CryoSleep  VIP  \\\n",
       "0           -0.700275  -0.744959     -0.717136          0    0   \n",
       "1            1.251379   1.555797      1.271715          0    0   \n",
       "2           -0.700275   1.690302      1.293428          0    1   \n",
       "3            1.630019   1.664679      1.501532          0    0   \n",
       "4            1.550998   1.558195      0.205741          0    0   \n",
       "\n",
       "   HomePlanet_Europa  HomePlanet_Mars  Destination_PSO J318.5-22  \\\n",
       "0                  1                0                          0   \n",
       "1                  0                0                          0   \n",
       "2                  1                0                          0   \n",
       "3                  1                0                          0   \n",
       "4                  0                0                          0   \n",
       "\n",
       "   Destination_TRAPPIST-1e  Deck_B  Deck_C  Deck_D  Deck_E  Deck_F  Deck_G  \\\n",
       "0                        1       1       0       0       0       0       0   \n",
       "1                        1       0       0       0       0       1       0   \n",
       "2                        1       0       0       0       0       0       0   \n",
       "3                        1       0       0       0       0       0       0   \n",
       "4                        1       0       0       0       0       1       0   \n",
       "\n",
       "   Deck_T  Side_S  \n",
       "0       0       0  \n",
       "1       0       1  \n",
       "2       0       1  \n",
       "3       0       1  \n",
       "4       0       1  "
      ]
     },
     "execution_count": 132,
     "metadata": {},
     "output_type": "execute_result"
    }
   ],
   "source": [
    "df_final = pd.concat([y, num_scaled, bool_df, dummy_cols], axis=1)\n",
    "df_final.head()"
   ]
  },
  {
   "cell_type": "code",
   "execution_count": 133,
   "id": "dfd42af6",
   "metadata": {},
   "outputs": [
    {
     "data": {
      "text/plain": [
       "(8693, 22)"
      ]
     },
     "execution_count": 133,
     "metadata": {},
     "output_type": "execute_result"
    }
   ],
   "source": [
    "df_final.shape"
   ]
  },
  {
   "cell_type": "markdown",
   "id": "c9ce0a08",
   "metadata": {},
   "source": [
    "### Test Data Preparation"
   ]
  },
  {
   "cell_type": "code",
   "execution_count": 182,
   "id": "918db8c7",
   "metadata": {},
   "outputs": [
    {
     "data": {
      "text/html": [
       "<div>\n",
       "<style scoped>\n",
       "    .dataframe tbody tr th:only-of-type {\n",
       "        vertical-align: middle;\n",
       "    }\n",
       "\n",
       "    .dataframe tbody tr th {\n",
       "        vertical-align: top;\n",
       "    }\n",
       "\n",
       "    .dataframe thead th {\n",
       "        text-align: right;\n",
       "    }\n",
       "</style>\n",
       "<table border=\"1\" class=\"dataframe\">\n",
       "  <thead>\n",
       "    <tr style=\"text-align: right;\">\n",
       "      <th></th>\n",
       "      <th>Age</th>\n",
       "      <th>Group</th>\n",
       "      <th>RoomService_trans</th>\n",
       "      <th>FoodCourt_trans</th>\n",
       "      <th>ShoppingMall_trans</th>\n",
       "      <th>Spa_trans</th>\n",
       "      <th>VRDeck_trans</th>\n",
       "      <th>CryoSleep</th>\n",
       "      <th>VIP</th>\n",
       "      <th>HomePlanet_Europa</th>\n",
       "      <th>HomePlanet_Mars</th>\n",
       "      <th>Destination_PSO J318.5-22</th>\n",
       "      <th>Destination_TRAPPIST-1e</th>\n",
       "      <th>Deck_B</th>\n",
       "      <th>Deck_C</th>\n",
       "      <th>Deck_D</th>\n",
       "      <th>Deck_E</th>\n",
       "      <th>Deck_F</th>\n",
       "      <th>Deck_G</th>\n",
       "      <th>Deck_T</th>\n",
       "      <th>Side_S</th>\n",
       "    </tr>\n",
       "  </thead>\n",
       "  <tbody>\n",
       "    <tr>\n",
       "      <th>0</th>\n",
       "      <td>-0.125152</td>\n",
       "      <td>-0.648735</td>\n",
       "      <td>-0.706432</td>\n",
       "      <td>-0.724474</td>\n",
       "      <td>-0.700275</td>\n",
       "      <td>-0.744959</td>\n",
       "      <td>-0.717136</td>\n",
       "      <td>1</td>\n",
       "      <td>0</td>\n",
       "      <td>0</td>\n",
       "      <td>0</td>\n",
       "      <td>0</td>\n",
       "      <td>1</td>\n",
       "      <td>0</td>\n",
       "      <td>0</td>\n",
       "      <td>0</td>\n",
       "      <td>0</td>\n",
       "      <td>0</td>\n",
       "      <td>1</td>\n",
       "      <td>0</td>\n",
       "      <td>1</td>\n",
       "    </tr>\n",
       "    <tr>\n",
       "      <th>1</th>\n",
       "      <td>-0.682646</td>\n",
       "      <td>-0.648735</td>\n",
       "      <td>-0.706432</td>\n",
       "      <td>0.738686</td>\n",
       "      <td>-0.700275</td>\n",
       "      <td>1.657574</td>\n",
       "      <td>-0.717136</td>\n",
       "      <td>0</td>\n",
       "      <td>0</td>\n",
       "      <td>0</td>\n",
       "      <td>0</td>\n",
       "      <td>0</td>\n",
       "      <td>1</td>\n",
       "      <td>0</td>\n",
       "      <td>0</td>\n",
       "      <td>0</td>\n",
       "      <td>0</td>\n",
       "      <td>1</td>\n",
       "      <td>0</td>\n",
       "      <td>0</td>\n",
       "      <td>1</td>\n",
       "    </tr>\n",
       "    <tr>\n",
       "      <th>2</th>\n",
       "      <td>0.153595</td>\n",
       "      <td>-0.648735</td>\n",
       "      <td>-0.706432</td>\n",
       "      <td>-0.724474</td>\n",
       "      <td>-0.700275</td>\n",
       "      <td>-0.744959</td>\n",
       "      <td>-0.717136</td>\n",
       "      <td>1</td>\n",
       "      <td>0</td>\n",
       "      <td>1</td>\n",
       "      <td>0</td>\n",
       "      <td>0</td>\n",
       "      <td>0</td>\n",
       "      <td>0</td>\n",
       "      <td>1</td>\n",
       "      <td>0</td>\n",
       "      <td>0</td>\n",
       "      <td>0</td>\n",
       "      <td>0</td>\n",
       "      <td>0</td>\n",
       "      <td>1</td>\n",
       "    </tr>\n",
       "    <tr>\n",
       "      <th>3</th>\n",
       "      <td>0.641402</td>\n",
       "      <td>-0.648735</td>\n",
       "      <td>-0.706432</td>\n",
       "      <td>1.680361</td>\n",
       "      <td>-0.700275</td>\n",
       "      <td>1.439582</td>\n",
       "      <td>1.602036</td>\n",
       "      <td>0</td>\n",
       "      <td>0</td>\n",
       "      <td>1</td>\n",
       "      <td>0</td>\n",
       "      <td>0</td>\n",
       "      <td>1</td>\n",
       "      <td>0</td>\n",
       "      <td>1</td>\n",
       "      <td>0</td>\n",
       "      <td>0</td>\n",
       "      <td>0</td>\n",
       "      <td>0</td>\n",
       "      <td>0</td>\n",
       "      <td>1</td>\n",
       "    </tr>\n",
       "    <tr>\n",
       "      <th>4</th>\n",
       "      <td>-0.612959</td>\n",
       "      <td>-0.648735</td>\n",
       "      <td>0.889341</td>\n",
       "      <td>-0.724474</td>\n",
       "      <td>1.663566</td>\n",
       "      <td>-0.744959</td>\n",
       "      <td>-0.717136</td>\n",
       "      <td>0</td>\n",
       "      <td>0</td>\n",
       "      <td>0</td>\n",
       "      <td>0</td>\n",
       "      <td>0</td>\n",
       "      <td>1</td>\n",
       "      <td>0</td>\n",
       "      <td>0</td>\n",
       "      <td>0</td>\n",
       "      <td>0</td>\n",
       "      <td>1</td>\n",
       "      <td>0</td>\n",
       "      <td>0</td>\n",
       "      <td>1</td>\n",
       "    </tr>\n",
       "  </tbody>\n",
       "</table>\n",
       "</div>"
      ],
      "text/plain": [
       "        Age     Group  RoomService_trans  FoodCourt_trans  ShoppingMall_trans  \\\n",
       "0 -0.125152 -0.648735          -0.706432        -0.724474           -0.700275   \n",
       "1 -0.682646 -0.648735          -0.706432         0.738686           -0.700275   \n",
       "2  0.153595 -0.648735          -0.706432        -0.724474           -0.700275   \n",
       "3  0.641402 -0.648735          -0.706432         1.680361           -0.700275   \n",
       "4 -0.612959 -0.648735           0.889341        -0.724474            1.663566   \n",
       "\n",
       "   Spa_trans  VRDeck_trans  CryoSleep  VIP  HomePlanet_Europa  \\\n",
       "0  -0.744959     -0.717136          1    0                  0   \n",
       "1   1.657574     -0.717136          0    0                  0   \n",
       "2  -0.744959     -0.717136          1    0                  1   \n",
       "3   1.439582      1.602036          0    0                  1   \n",
       "4  -0.744959     -0.717136          0    0                  0   \n",
       "\n",
       "   HomePlanet_Mars  Destination_PSO J318.5-22  Destination_TRAPPIST-1e  \\\n",
       "0                0                          0                        1   \n",
       "1                0                          0                        1   \n",
       "2                0                          0                        0   \n",
       "3                0                          0                        1   \n",
       "4                0                          0                        1   \n",
       "\n",
       "   Deck_B  Deck_C  Deck_D  Deck_E  Deck_F  Deck_G  Deck_T  Side_S  \n",
       "0       0       0       0       0       0       1       0       1  \n",
       "1       0       0       0       0       1       0       0       1  \n",
       "2       0       1       0       0       0       0       0       1  \n",
       "3       0       1       0       0       0       0       0       1  \n",
       "4       0       0       0       0       1       0       0       1  "
      ]
     },
     "execution_count": 182,
     "metadata": {},
     "output_type": "execute_result"
    }
   ],
   "source": [
    "test = test.drop(['PassengerId', 'Cabin', 'RoomService', 'FoodCourt', 'ShoppingMall', 'Spa', 'VRDeck', 'Name', 'Cabin_Number'], axis=1)\n",
    "\n",
    "testcat_cols = test.select_dtypes(include='object')\n",
    "testnum_cols = test.select_dtypes(include=np.number)\n",
    "testbool_cols = test.select_dtypes(include=np.bool)\n",
    "\n",
    "testdummy_cols = pd.get_dummies(testcat_cols, drop_first=True).reset_index(drop=True)\n",
    "\n",
    "testbool_df = pd.DataFrame(lb.transform(testbool_cols), columns=testbool_cols.columns).reset_index(drop=True)\n",
    "\n",
    "testnum_scaled = pd.DataFrame(sc.transform(testnum_cols), columns=testnum_cols.columns).reset_index(drop=True)\n",
    "\n",
    "test = pd.concat([testnum_scaled, testbool_df, testdummy_cols], axis=1)\n",
    "test.head()"
   ]
  },
  {
   "cell_type": "markdown",
   "id": "17bff92a",
   "metadata": {},
   "source": [
    "### Modeling"
   ]
  },
  {
   "cell_type": "code",
   "execution_count": 142,
   "id": "f4e29bd1",
   "metadata": {},
   "outputs": [],
   "source": [
    "X = df_final.drop('Transported', axis=1)\n",
    "y = df_final['Transported']\n",
    "\n",
    "xtrain, xtest, ytrain, ytest = train_test_split(X, y, test_size=0.2, random_state=42)"
   ]
  },
  {
   "cell_type": "code",
   "execution_count": 143,
   "id": "695456cc",
   "metadata": {},
   "outputs": [
    {
     "data": {
      "text/plain": [
       "((6954, 21), (1739, 21))"
      ]
     },
     "execution_count": 143,
     "metadata": {},
     "output_type": "execute_result"
    }
   ],
   "source": [
    "xtrain.shape, xtest.shape"
   ]
  },
  {
   "cell_type": "markdown",
   "id": "cf9becd7",
   "metadata": {},
   "source": [
    "#### Logistic Regression"
   ]
  },
  {
   "cell_type": "code",
   "execution_count": 144,
   "id": "d51b146f",
   "metadata": {},
   "outputs": [
    {
     "name": "stdout",
     "output_type": "stream",
     "text": [
      "0.7588438308886971 0.7625071880391029\n",
      "[[2653  876]\n",
      " [ 801 2624]]\n",
      "              precision    recall  f1-score   support\n",
      "\n",
      "           0       0.77      0.75      0.76      3529\n",
      "           1       0.75      0.77      0.76      3425\n",
      "\n",
      "    accuracy                           0.76      6954\n",
      "   macro avg       0.76      0.76      0.76      6954\n",
      "weighted avg       0.76      0.76      0.76      6954\n",
      "\n",
      "[[655 207]\n",
      " [206 671]]\n",
      "              precision    recall  f1-score   support\n",
      "\n",
      "           0       0.76      0.76      0.76       862\n",
      "           1       0.76      0.77      0.76       877\n",
      "\n",
      "    accuracy                           0.76      1739\n",
      "   macro avg       0.76      0.76      0.76      1739\n",
      "weighted avg       0.76      0.76      0.76      1739\n",
      "\n"
     ]
    }
   ],
   "source": [
    "lr = LogisticRegression()\n",
    "lr.fit(xtrain, ytrain)\n",
    "print(lr.score(xtrain, ytrain), lr.score(xtest, ytest))\n",
    "\n",
    "lr_train = lr.predict(xtrain)\n",
    "print(confusion_matrix(lr_train, ytrain))\n",
    "print(classification_report(lr_train, ytrain))\n",
    "\n",
    "lr_test = lr.predict(xtest)\n",
    "print(confusion_matrix(lr_test, ytest))\n",
    "print(classification_report(lr_test, ytest))"
   ]
  },
  {
   "cell_type": "markdown",
   "id": "310a0696",
   "metadata": {},
   "source": [
    "#### Decision Tree"
   ]
  },
  {
   "cell_type": "code",
   "execution_count": 151,
   "id": "c3e10e6d",
   "metadata": {},
   "outputs": [
    {
     "name": "stdout",
     "output_type": "stream",
     "text": [
      "0.9718147828587863 0.7268545140885566\n",
      "[[3367  109]\n",
      " [  87 3391]]\n",
      "              precision    recall  f1-score   support\n",
      "\n",
      "           0       0.97      0.97      0.97      3476\n",
      "           1       0.97      0.97      0.97      3478\n",
      "\n",
      "    accuracy                           0.97      6954\n",
      "   macro avg       0.97      0.97      0.97      6954\n",
      "weighted avg       0.97      0.97      0.97      6954\n",
      "\n",
      "[[621 235]\n",
      " [240 643]]\n",
      "              precision    recall  f1-score   support\n",
      "\n",
      "           0       0.72      0.73      0.72       856\n",
      "           1       0.73      0.73      0.73       883\n",
      "\n",
      "    accuracy                           0.73      1739\n",
      "   macro avg       0.73      0.73      0.73      1739\n",
      "weighted avg       0.73      0.73      0.73      1739\n",
      "\n"
     ]
    }
   ],
   "source": [
    "dtree = DecisionTreeClassifier(random_state=42)\n",
    "dtree.fit(xtrain, ytrain)\n",
    "print(dtree.score(xtrain, ytrain), dtree.score(xtest, ytest))\n",
    "\n",
    "dtree_train = dtree.predict(xtrain)\n",
    "print(confusion_matrix(dtree_train, ytrain))\n",
    "print(classification_report(dtree_train, ytrain))\n",
    "\n",
    "dtree_test = dtree.predict(xtest)\n",
    "print(confusion_matrix(dtree_test, ytest))\n",
    "print(classification_report(dtree_test, ytest))"
   ]
  },
  {
   "cell_type": "code",
   "execution_count": 152,
   "id": "b67c870a",
   "metadata": {},
   "outputs": [
    {
     "data": {
      "text/plain": [
       "{'criterion': 'entropy', 'max_depth': 8, 'min_samples_split': 7}"
      ]
     },
     "execution_count": 152,
     "metadata": {},
     "output_type": "execute_result"
    }
   ],
   "source": [
    "tuned_params = [{'criterion':['entropy', 'gini'],\n",
    "                 'max_depth':range(4, 12),\n",
    "                'min_samples_split':range(5, 12)}]\n",
    "\n",
    "dt = DecisionTreeClassifier(random_state=42)\n",
    "\n",
    "dt_grid = GridSearchCV(dt, param_grid=tuned_params, cv=5, scoring='accuracy')\n",
    "dt_grid.fit(xtrain, ytrain)\n",
    "dt_grid.best_params_"
   ]
  },
  {
   "cell_type": "code",
   "execution_count": 153,
   "id": "85fc65ed",
   "metadata": {},
   "outputs": [
    {
     "name": "stdout",
     "output_type": "stream",
     "text": [
      "0.8142076502732241 0.7814836112708453\n",
      "[[2718  556]\n",
      " [ 736 2944]]\n",
      "              precision    recall  f1-score   support\n",
      "\n",
      "           0       0.79      0.83      0.81      3274\n",
      "           1       0.84      0.80      0.82      3680\n",
      "\n",
      "    accuracy                           0.81      6954\n",
      "   macro avg       0.81      0.82      0.81      6954\n",
      "weighted avg       0.82      0.81      0.81      6954\n",
      "\n",
      "[[646 165]\n",
      " [215 713]]\n",
      "              precision    recall  f1-score   support\n",
      "\n",
      "           0       0.75      0.80      0.77       811\n",
      "           1       0.81      0.77      0.79       928\n",
      "\n",
      "    accuracy                           0.78      1739\n",
      "   macro avg       0.78      0.78      0.78      1739\n",
      "weighted avg       0.78      0.78      0.78      1739\n",
      "\n"
     ]
    }
   ],
   "source": [
    "dtree = DecisionTreeClassifier(criterion='entropy', max_depth=8, min_samples_split=7, random_state=42)\n",
    "dtree.fit(xtrain, ytrain)\n",
    "print(dtree.score(xtrain, ytrain), dtree.score(xtest, ytest))\n",
    "\n",
    "dtree_train = dtree.predict(xtrain)\n",
    "print(confusion_matrix(dtree_train, ytrain))\n",
    "print(classification_report(dtree_train, ytrain))\n",
    "\n",
    "dtree_test = dtree.predict(xtest)\n",
    "print(confusion_matrix(dtree_test, ytest))\n",
    "print(classification_report(dtree_test, ytest))"
   ]
  },
  {
   "cell_type": "code",
   "execution_count": 184,
   "id": "80511584",
   "metadata": {},
   "outputs": [],
   "source": [
    "pred1 = dtree.predict(test)\n",
    "pred1 = [True if x == 1 else False for x in pred1]\n",
    "pred1_df = pd.DataFrame({'PassengerId':test1.PassengerId, 'Transported':pred1})\n",
    "pred1_df.to_csv('sub1.csv', index=False)"
   ]
  },
  {
   "cell_type": "markdown",
   "id": "7c0bb3f0",
   "metadata": {},
   "source": [
    "#### Random Forest"
   ]
  },
  {
   "cell_type": "code",
   "execution_count": 154,
   "id": "11930e5c",
   "metadata": {},
   "outputs": [
    {
     "name": "stdout",
     "output_type": "stream",
     "text": [
      "0.9718147828587863 0.777458309373203\n",
      "[[3326   68]\n",
      " [ 128 3432]]\n",
      "              precision    recall  f1-score   support\n",
      "\n",
      "           0       0.96      0.98      0.97      3394\n",
      "           1       0.98      0.96      0.97      3560\n",
      "\n",
      "    accuracy                           0.97      6954\n",
      "   macro avg       0.97      0.97      0.97      6954\n",
      "weighted avg       0.97      0.97      0.97      6954\n",
      "\n",
      "[[692 218]\n",
      " [169 660]]\n",
      "              precision    recall  f1-score   support\n",
      "\n",
      "           0       0.80      0.76      0.78       910\n",
      "           1       0.75      0.80      0.77       829\n",
      "\n",
      "    accuracy                           0.78      1739\n",
      "   macro avg       0.78      0.78      0.78      1739\n",
      "weighted avg       0.78      0.78      0.78      1739\n",
      "\n"
     ]
    }
   ],
   "source": [
    "rf = RandomForestClassifier(random_state=42)\n",
    "rf.fit(xtrain, ytrain)\n",
    "print(rf.score(xtrain, ytrain), rf.score(xtest, ytest))\n",
    "\n",
    "rf_train = rf.predict(xtrain)\n",
    "print(confusion_matrix(rf_train, ytrain))\n",
    "print(classification_report(rf_train, ytrain))\n",
    "\n",
    "rf_test = rf.predict(xtest)\n",
    "print(confusion_matrix(rf_test, ytest))\n",
    "print(classification_report(rf_test, ytest))"
   ]
  },
  {
   "cell_type": "code",
   "execution_count": 215,
   "id": "88575e78",
   "metadata": {},
   "outputs": [
    {
     "name": "stdout",
     "output_type": "stream",
     "text": [
      "0.8252804141501294 0.7912593444508338\n",
      "[[2802  563]\n",
      " [ 652 2937]]\n",
      "              precision    recall  f1-score   support\n",
      "\n",
      "           0       0.81      0.83      0.82      3365\n",
      "           1       0.84      0.82      0.83      3589\n",
      "\n",
      "    accuracy                           0.83      6954\n",
      "   macro avg       0.83      0.83      0.83      6954\n",
      "weighted avg       0.83      0.83      0.83      6954\n",
      "\n",
      "[[659 161]\n",
      " [202 717]]\n",
      "              precision    recall  f1-score   support\n",
      "\n",
      "           0       0.77      0.80      0.78       820\n",
      "           1       0.82      0.78      0.80       919\n",
      "\n",
      "    accuracy                           0.79      1739\n",
      "   macro avg       0.79      0.79      0.79      1739\n",
      "weighted avg       0.79      0.79      0.79      1739\n",
      "\n"
     ]
    }
   ],
   "source": [
    "rf = RandomForestClassifier(criterion='entropy', max_depth=8, min_samples_split=7, random_state=42)\n",
    "rf.fit(xtrain, ytrain)\n",
    "print(rf.score(xtrain, ytrain), rf.score(xtest, ytest))\n",
    "\n",
    "rf_train = rf.predict(xtrain)\n",
    "print(confusion_matrix(rf_train, ytrain))\n",
    "print(classification_report(rf_train, ytrain))\n",
    "\n",
    "rf_test = rf.predict(xtest)\n",
    "print(confusion_matrix(rf_test, ytest))\n",
    "print(classification_report(rf_test, ytest))"
   ]
  },
  {
   "cell_type": "code",
   "execution_count": 195,
   "id": "11bf39a6",
   "metadata": {},
   "outputs": [],
   "source": [
    "pred2 = rf.predict(test)\n",
    "pred2 = [True if x == 1 else False for x in pred2]\n",
    "pred2_df = pd.DataFrame({'PassengerId':test1.PassengerId, 'Transported':pred2})\n",
    "pred2_df.to_csv('sub2.csv', index=False)"
   ]
  },
  {
   "cell_type": "code",
   "execution_count": 198,
   "id": "2ad7aa65",
   "metadata": {},
   "outputs": [
    {
     "data": {
      "text/plain": [
       "{'criterion': 'gini', 'max_depth': 11, 'min_samples_split': 9}"
      ]
     },
     "execution_count": 198,
     "metadata": {},
     "output_type": "execute_result"
    }
   ],
   "source": [
    "tuned_params = [{'criterion':['entropy', 'gini'],\n",
    "                 'max_depth':range(4, 12),\n",
    "                'min_samples_split':range(5, 12)}]\n",
    "\n",
    "rf = RandomForestClassifier(random_state=42)\n",
    "\n",
    "rf_grid = GridSearchCV(rf, param_grid=tuned_params, cv=5, scoring='accuracy')\n",
    "rf_grid.fit(xtrain, ytrain)\n",
    "rf_grid.best_params_"
   ]
  },
  {
   "cell_type": "code",
   "execution_count": 207,
   "id": "4cd5a521",
   "metadata": {},
   "outputs": [
    {
     "name": "stdout",
     "output_type": "stream",
     "text": [
      "0.8538970376761577 0.7901092581943646\n",
      "[[2885  447]\n",
      " [ 569 3053]]\n",
      "              precision    recall  f1-score   support\n",
      "\n",
      "           0       0.84      0.87      0.85      3332\n",
      "           1       0.87      0.84      0.86      3622\n",
      "\n",
      "    accuracy                           0.85      6954\n",
      "   macro avg       0.85      0.85      0.85      6954\n",
      "weighted avg       0.85      0.85      0.85      6954\n",
      "\n",
      "[[657 161]\n",
      " [204 717]]\n",
      "              precision    recall  f1-score   support\n",
      "\n",
      "           0       0.76      0.80      0.78       818\n",
      "           1       0.82      0.78      0.80       921\n",
      "\n",
      "    accuracy                           0.79      1739\n",
      "   macro avg       0.79      0.79      0.79      1739\n",
      "weighted avg       0.79      0.79      0.79      1739\n",
      "\n"
     ]
    }
   ],
   "source": [
    "rf = RandomForestClassifier(n_estimators=200, criterion='gini', max_depth=11, min_samples_split=9, random_state=42)\n",
    "rf.fit(xtrain, ytrain)\n",
    "print(rf.score(xtrain, ytrain), rf.score(xtest, ytest))\n",
    "\n",
    "rf_train = rf.predict(xtrain)\n",
    "print(confusion_matrix(rf_train, ytrain))\n",
    "print(classification_report(rf_train, ytrain))\n",
    "\n",
    "rf_test = rf.predict(xtest)\n",
    "print(confusion_matrix(rf_test, ytest))\n",
    "print(classification_report(rf_test, ytest))"
   ]
  },
  {
   "cell_type": "code",
   "execution_count": 223,
   "id": "0a768d6a",
   "metadata": {},
   "outputs": [
    {
     "name": "stdout",
     "output_type": "stream",
     "text": [
      "0.8531780270348002 0.7901092581943646\n",
      "[[2890  457]\n",
      " [ 564 3043]]\n",
      "              precision    recall  f1-score   support\n",
      "\n",
      "           0       0.84      0.86      0.85      3347\n",
      "           1       0.87      0.84      0.86      3607\n",
      "\n",
      "    accuracy                           0.85      6954\n",
      "   macro avg       0.85      0.85      0.85      6954\n",
      "weighted avg       0.85      0.85      0.85      6954\n",
      "\n",
      "[[654 158]\n",
      " [207 720]]\n",
      "              precision    recall  f1-score   support\n",
      "\n",
      "           0       0.76      0.81      0.78       812\n",
      "           1       0.82      0.78      0.80       927\n",
      "\n",
      "    accuracy                           0.79      1739\n",
      "   macro avg       0.79      0.79      0.79      1739\n",
      "weighted avg       0.79      0.79      0.79      1739\n",
      "\n"
     ]
    }
   ],
   "source": [
    "rf = RandomForestClassifier(n_estimators=300,random_state=42, max_depth=10,criterion=\"entropy\")\n",
    "rf.fit(xtrain, ytrain)\n",
    "print(rf.score(xtrain, ytrain), rf.score(xtest, ytest))\n",
    "\n",
    "rf_train = rf.predict(xtrain)\n",
    "print(confusion_matrix(rf_train, ytrain))\n",
    "print(classification_report(rf_train, ytrain))\n",
    "\n",
    "rf_test = rf.predict(xtest)\n",
    "print(confusion_matrix(rf_test, ytest))\n",
    "print(classification_report(rf_test, ytest))"
   ]
  },
  {
   "cell_type": "markdown",
   "id": "b9c1b0bc",
   "metadata": {},
   "source": [
    "#### XGBoost"
   ]
  },
  {
   "cell_type": "code",
   "execution_count": 239,
   "id": "95488d07",
   "metadata": {},
   "outputs": [
    {
     "name": "stdout",
     "output_type": "stream",
     "text": [
      "0.8862525165372448 0.7924094307073031\n",
      "[[3026  363]\n",
      " [ 428 3137]]\n",
      "              precision    recall  f1-score   support\n",
      "\n",
      "           0       0.88      0.89      0.88      3389\n",
      "           1       0.90      0.88      0.89      3565\n",
      "\n",
      "    accuracy                           0.89      6954\n",
      "   macro avg       0.89      0.89      0.89      6954\n",
      "weighted avg       0.89      0.89      0.89      6954\n",
      "\n",
      "[[670 170]\n",
      " [191 708]]\n",
      "              precision    recall  f1-score   support\n",
      "\n",
      "           0       0.78      0.80      0.79       840\n",
      "           1       0.81      0.79      0.80       899\n",
      "\n",
      "    accuracy                           0.79      1739\n",
      "   macro avg       0.79      0.79      0.79      1739\n",
      "weighted avg       0.79      0.79      0.79      1739\n",
      "\n"
     ]
    }
   ],
   "source": [
    "xgb = XGBClassifier(random_state=42, learning_rate=0.1, max_depth=10, n_estimators=250, gamma=2)\n",
    "xgb.fit(xtrain, ytrain)\n",
    "print(xgb.score(xtrain, ytrain), xgb.score(xtest, ytest))\n",
    "\n",
    "xgb_train = xgb.predict(xtrain)\n",
    "print(confusion_matrix(xgb_train, ytrain))\n",
    "print(classification_report(xgb_train, ytrain))\n",
    "\n",
    "xgb_test = xgb.predict(xtest)\n",
    "print(confusion_matrix(xgb_test, ytest))\n",
    "print(classification_report(xgb_test, ytest))"
   ]
  },
  {
   "cell_type": "code",
   "execution_count": 243,
   "id": "5161ccd7",
   "metadata": {},
   "outputs": [],
   "source": [
    "pred3 = xgb.predict(test)\n",
    "pred3 = [True if x == 1 else False for x in pred3]\n",
    "pred3_df = pd.DataFrame({'PassengerId':test1.PassengerId, 'Transported':pred3})\n",
    "pred3_df.to_csv('sub3.csv', index=False)"
   ]
  },
  {
   "cell_type": "markdown",
   "id": "b2a28557",
   "metadata": {},
   "source": [
    "#### Stacking Classifier"
   ]
  },
  {
   "cell_type": "code",
   "execution_count": 245,
   "id": "54354242",
   "metadata": {},
   "outputs": [
    {
     "name": "stdout",
     "output_type": "stream",
     "text": [
      "0.8728789186079954 0.7935595169637722\n",
      "[[2971  401]\n",
      " [ 483 3099]]\n",
      "              precision    recall  f1-score   support\n",
      "\n",
      "           0       0.86      0.88      0.87      3372\n",
      "           1       0.89      0.87      0.88      3582\n",
      "\n",
      "    accuracy                           0.87      6954\n",
      "   macro avg       0.87      0.87      0.87      6954\n",
      "weighted avg       0.87      0.87      0.87      6954\n",
      "\n",
      "[[669 167]\n",
      " [192 711]]\n",
      "              precision    recall  f1-score   support\n",
      "\n",
      "           0       0.78      0.80      0.79       836\n",
      "           1       0.81      0.79      0.80       903\n",
      "\n",
      "    accuracy                           0.79      1739\n",
      "   macro avg       0.79      0.79      0.79      1739\n",
      "weighted avg       0.79      0.79      0.79      1739\n",
      "\n"
     ]
    }
   ],
   "source": [
    "base_learners = [('XGBoost', XGBClassifier(random_state=42, learning_rate=0.1, max_depth=10, n_estimators=250, gamma=2)),\n",
    "                ('Logistic', LogisticRegression())]\n",
    "\n",
    "stack = StackingClassifier(estimators=base_learners, final_estimator=RandomForestClassifier(n_estimators=300,random_state=42, max_depth=10,criterion=\"entropy\"))\n",
    "stack.fit(xtrain, ytrain)\n",
    "\n",
    "print(stack.score(xtrain, ytrain), stack.score(xtest, ytest))\n",
    "\n",
    "stack_train = stack.predict(xtrain)\n",
    "print(confusion_matrix(stack_train, ytrain))\n",
    "print(classification_report(stack_train, ytrain))\n",
    "\n",
    "stack_test = stack.predict(xtest)\n",
    "print(confusion_matrix(stack_test, ytest))\n",
    "print(classification_report(stack_test, ytest))"
   ]
  },
  {
   "cell_type": "code",
   "execution_count": 246,
   "id": "ce52957e",
   "metadata": {},
   "outputs": [],
   "source": [
    "pred4 = stack.predict(test)\n",
    "pred4 = [True if x == 1 else False for x in pred4]\n",
    "pred4_df = pd.DataFrame({'PassengerId':test1.PassengerId, 'Transported':pred4})\n",
    "pred4_df.to_csv('sub4.csv', index=False)"
   ]
  },
  {
   "cell_type": "code",
   "execution_count": 251,
   "id": "f1a1a3ce",
   "metadata": {},
   "outputs": [
    {
     "name": "stdout",
     "output_type": "stream",
     "text": [
      "0.8735979292493529 0.7929844738355377\n",
      "[[2968  393]\n",
      " [ 486 3107]]\n",
      "              precision    recall  f1-score   support\n",
      "\n",
      "           0       0.86      0.88      0.87      3361\n",
      "           1       0.89      0.86      0.88      3593\n",
      "\n",
      "    accuracy                           0.87      6954\n",
      "   macro avg       0.87      0.87      0.87      6954\n",
      "weighted avg       0.87      0.87      0.87      6954\n",
      "\n",
      "[[673 172]\n",
      " [188 706]]\n",
      "              precision    recall  f1-score   support\n",
      "\n",
      "           0       0.78      0.80      0.79       845\n",
      "           1       0.80      0.79      0.80       894\n",
      "\n",
      "    accuracy                           0.79      1739\n",
      "   macro avg       0.79      0.79      0.79      1739\n",
      "weighted avg       0.79      0.79      0.79      1739\n",
      "\n"
     ]
    }
   ],
   "source": [
    "base_learners = [('XGBoost', XGBClassifier(random_state=42, learning_rate=0.1, max_depth=10, n_estimators=250, gamma=2)),\n",
    "                ('Logistic', LogisticRegression()),\n",
    "                ('KNN', KNeighborsClassifier(n_neighbors=10))]\n",
    "\n",
    "stack = StackingClassifier(estimators=base_learners, final_estimator=RandomForestClassifier(n_estimators=250,random_state=42, max_depth=8, min_samples_split=7,criterion=\"entropy\"))\n",
    "stack.fit(xtrain, ytrain)\n",
    "\n",
    "print(stack.score(xtrain, ytrain), stack.score(xtest, ytest))\n",
    "\n",
    "stack_train = stack.predict(xtrain)\n",
    "print(confusion_matrix(stack_train, ytrain))\n",
    "print(classification_report(stack_train, ytrain))\n",
    "\n",
    "stack_test = stack.predict(xtest)\n",
    "print(confusion_matrix(stack_test, ytest))\n",
    "print(classification_report(stack_test, ytest))"
   ]
  },
  {
   "cell_type": "code",
   "execution_count": 252,
   "id": "3cf66853",
   "metadata": {},
   "outputs": [],
   "source": [
    "pred5 = stack.predict(test)\n",
    "pred5 = [True if x == 1 else False for x in pred5]\n",
    "pred5_df = pd.DataFrame({'PassengerId':test1.PassengerId, 'Transported':pred5})\n",
    "pred5_df.to_csv('sub5.csv', index=False)"
   ]
  },
  {
   "cell_type": "code",
   "execution_count": 260,
   "id": "db753c72",
   "metadata": {},
   "outputs": [
    {
     "name": "stdout",
     "output_type": "stream",
     "text": [
      "0.822548173712971 0.7855089131684876\n",
      "[[2755  535]\n",
      " [ 699 2965]]\n",
      "              precision    recall  f1-score   support\n",
      "\n",
      "           0       0.80      0.84      0.82      3290\n",
      "           1       0.85      0.81      0.83      3664\n",
      "\n",
      "    accuracy                           0.82      6954\n",
      "   macro avg       0.82      0.82      0.82      6954\n",
      "weighted avg       0.82      0.82      0.82      6954\n",
      "\n",
      "[[648 160]\n",
      " [213 718]]\n",
      "              precision    recall  f1-score   support\n",
      "\n",
      "           0       0.75      0.80      0.78       808\n",
      "           1       0.82      0.77      0.79       931\n",
      "\n",
      "    accuracy                           0.79      1739\n",
      "   macro avg       0.79      0.79      0.79      1739\n",
      "weighted avg       0.79      0.79      0.79      1739\n",
      "\n"
     ]
    }
   ],
   "source": [
    "base_learners = [('Random Forest', RandomForestClassifier(n_estimators=100,random_state=42, max_depth=8, min_samples_split=7,criterion=\"entropy\")),\n",
    "                ('Logistic', LogisticRegression())]\n",
    "\n",
    "stack = StackingClassifier(estimators=base_learners, final_estimator=XGBClassifier(random_state=42, learning_rate=0.01, max_depth=10, n_estimators=250, gamma=2))\n",
    "stack.fit(xtrain, ytrain)\n",
    "\n",
    "print(stack.score(xtrain, ytrain), stack.score(xtest, ytest))\n",
    "\n",
    "stack_train = stack.predict(xtrain)\n",
    "print(confusion_matrix(stack_train, ytrain))\n",
    "print(classification_report(stack_train, ytrain))\n",
    "\n",
    "stack_test = stack.predict(xtest)\n",
    "print(confusion_matrix(stack_test, ytest))\n",
    "print(classification_report(stack_test, ytest))"
   ]
  },
  {
   "cell_type": "code",
   "execution_count": null,
   "id": "82e025e3",
   "metadata": {},
   "outputs": [],
   "source": []
  }
 ],
 "metadata": {
  "kernelspec": {
   "display_name": "Python 3 (ipykernel)",
   "language": "python",
   "name": "python3"
  },
  "language_info": {
   "codemirror_mode": {
    "name": "ipython",
    "version": 3
   },
   "file_extension": ".py",
   "mimetype": "text/x-python",
   "name": "python",
   "nbconvert_exporter": "python",
   "pygments_lexer": "ipython3",
   "version": "3.9.7"
  }
 },
 "nbformat": 4,
 "nbformat_minor": 5
}
