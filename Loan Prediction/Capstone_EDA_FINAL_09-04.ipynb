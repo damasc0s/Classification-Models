{
 "cells": [
  {
   "cell_type": "code",
   "execution_count": 1,
   "id": "da1a60cb",
   "metadata": {},
   "outputs": [],
   "source": [
    "import numpy as np\n",
    "import pandas as pd\n",
    "import matplotlib.pyplot as plt\n",
    "%matplotlib inline\n",
    "import seaborn as sns\n",
    "import scipy.stats as stats\n",
    "from sklearn.model_selection import train_test_split\n",
    "from sklearn.preprocessing import LabelBinarizer,OrdinalEncoder\n",
    "from xverse.transformer import WOE\n",
    "from sklearn.preprocessing import StandardScaler\n",
    "from sklearn.preprocessing import PowerTransformer\n",
    "from sklearn.experimental import enable_iterative_imputer\n",
    "from sklearn.impute import IterativeImputer\n",
    "\n",
    "from sklearn.neighbors import KNeighborsRegressor\n",
    "from sklearn.ensemble import RandomForestRegressor\n",
    "from sklearn.ensemble import RandomForestClassifier\n",
    "from sklearn.tree import DecisionTreeClassifier\n",
    "from xgboost import XGBClassifier\n",
    "from sklearn.metrics import classification_report, confusion_matrix, roc_auc_score, roc_curve, plot_confusion_matrix\n",
    "\n",
    "from imblearn.over_sampling import SMOTE\n",
    "from sklearn.naive_bayes import GaussianNB\n",
    "from sklearn.naive_bayes import MultinomialNB\n",
    "from sklearn.model_selection import GridSearchCV\n",
    "import warnings \n",
    "warnings.filterwarnings(\"ignore\")\n",
    "plt.rcParams['figure.figsize']=[15,8]"
   ]
  },
  {
   "cell_type": "code",
   "execution_count": 2,
   "id": "85d47fbd",
   "metadata": {},
   "outputs": [],
   "source": [
    "from scipy.stats import ttest_ind"
   ]
  },
  {
   "cell_type": "code",
   "execution_count": 3,
   "id": "17e77a61",
   "metadata": {},
   "outputs": [],
   "source": [
    "%matplotlib inline"
   ]
  },
  {
   "cell_type": "markdown",
   "id": "f60f12cd",
   "metadata": {},
   "source": [
    "* Describing Original Data"
   ]
  },
  {
   "cell_type": "code",
   "execution_count": 4,
   "id": "66b8c9b0",
   "metadata": {},
   "outputs": [],
   "source": [
    "df = pd.read_csv('train (1).csv')"
   ]
  },
  {
   "cell_type": "code",
   "execution_count": 5,
   "id": "4bb6fe56",
   "metadata": {},
   "outputs": [
    {
     "data": {
      "text/html": [
       "<div>\n",
       "<style scoped>\n",
       "    .dataframe tbody tr th:only-of-type {\n",
       "        vertical-align: middle;\n",
       "    }\n",
       "\n",
       "    .dataframe tbody tr th {\n",
       "        vertical-align: top;\n",
       "    }\n",
       "\n",
       "    .dataframe thead th {\n",
       "        text-align: right;\n",
       "    }\n",
       "</style>\n",
       "<table border=\"1\" class=\"dataframe\">\n",
       "  <thead>\n",
       "    <tr style=\"text-align: right;\">\n",
       "      <th></th>\n",
       "      <th>ID</th>\n",
       "      <th>Gender</th>\n",
       "      <th>DOB</th>\n",
       "      <th>Lead_Creation_Date</th>\n",
       "      <th>City_Code</th>\n",
       "      <th>City_Category</th>\n",
       "      <th>Employer_Code</th>\n",
       "      <th>Employer_Category1</th>\n",
       "      <th>Employer_Category2</th>\n",
       "      <th>Monthly_Income</th>\n",
       "      <th>...</th>\n",
       "      <th>Contacted</th>\n",
       "      <th>Source</th>\n",
       "      <th>Source_Category</th>\n",
       "      <th>Existing_EMI</th>\n",
       "      <th>Loan_Amount</th>\n",
       "      <th>Loan_Period</th>\n",
       "      <th>Interest_Rate</th>\n",
       "      <th>EMI</th>\n",
       "      <th>Var1</th>\n",
       "      <th>Approved</th>\n",
       "    </tr>\n",
       "  </thead>\n",
       "  <tbody>\n",
       "    <tr>\n",
       "      <th>0</th>\n",
       "      <td>APPC90493171225</td>\n",
       "      <td>Female</td>\n",
       "      <td>23/07/79</td>\n",
       "      <td>15/07/16</td>\n",
       "      <td>C10001</td>\n",
       "      <td>A</td>\n",
       "      <td>COM0044082</td>\n",
       "      <td>A</td>\n",
       "      <td>4.0</td>\n",
       "      <td>2000.0</td>\n",
       "      <td>...</td>\n",
       "      <td>N</td>\n",
       "      <td>S122</td>\n",
       "      <td>G</td>\n",
       "      <td>0.0</td>\n",
       "      <td>NaN</td>\n",
       "      <td>NaN</td>\n",
       "      <td>NaN</td>\n",
       "      <td>NaN</td>\n",
       "      <td>0</td>\n",
       "      <td>0</td>\n",
       "    </tr>\n",
       "    <tr>\n",
       "      <th>1</th>\n",
       "      <td>APPD40611263344</td>\n",
       "      <td>Male</td>\n",
       "      <td>07/12/86</td>\n",
       "      <td>04/07/16</td>\n",
       "      <td>C10003</td>\n",
       "      <td>A</td>\n",
       "      <td>COM0000002</td>\n",
       "      <td>C</td>\n",
       "      <td>1.0</td>\n",
       "      <td>3500.0</td>\n",
       "      <td>...</td>\n",
       "      <td>Y</td>\n",
       "      <td>S122</td>\n",
       "      <td>G</td>\n",
       "      <td>0.0</td>\n",
       "      <td>20000.0</td>\n",
       "      <td>2.0</td>\n",
       "      <td>13.25</td>\n",
       "      <td>953.0</td>\n",
       "      <td>10</td>\n",
       "      <td>0</td>\n",
       "    </tr>\n",
       "    <tr>\n",
       "      <th>2</th>\n",
       "      <td>APPE70289249423</td>\n",
       "      <td>Male</td>\n",
       "      <td>10/12/82</td>\n",
       "      <td>19/07/16</td>\n",
       "      <td>C10125</td>\n",
       "      <td>C</td>\n",
       "      <td>COM0005267</td>\n",
       "      <td>C</td>\n",
       "      <td>4.0</td>\n",
       "      <td>2250.0</td>\n",
       "      <td>...</td>\n",
       "      <td>Y</td>\n",
       "      <td>S143</td>\n",
       "      <td>B</td>\n",
       "      <td>0.0</td>\n",
       "      <td>45000.0</td>\n",
       "      <td>4.0</td>\n",
       "      <td>NaN</td>\n",
       "      <td>NaN</td>\n",
       "      <td>0</td>\n",
       "      <td>0</td>\n",
       "    </tr>\n",
       "    <tr>\n",
       "      <th>3</th>\n",
       "      <td>APPF80273865537</td>\n",
       "      <td>Male</td>\n",
       "      <td>30/01/89</td>\n",
       "      <td>09/07/16</td>\n",
       "      <td>C10477</td>\n",
       "      <td>C</td>\n",
       "      <td>COM0004143</td>\n",
       "      <td>A</td>\n",
       "      <td>4.0</td>\n",
       "      <td>3500.0</td>\n",
       "      <td>...</td>\n",
       "      <td>Y</td>\n",
       "      <td>S143</td>\n",
       "      <td>B</td>\n",
       "      <td>0.0</td>\n",
       "      <td>92000.0</td>\n",
       "      <td>5.0</td>\n",
       "      <td>NaN</td>\n",
       "      <td>NaN</td>\n",
       "      <td>7</td>\n",
       "      <td>0</td>\n",
       "    </tr>\n",
       "    <tr>\n",
       "      <th>4</th>\n",
       "      <td>APPG60994436641</td>\n",
       "      <td>Male</td>\n",
       "      <td>19/04/85</td>\n",
       "      <td>20/07/16</td>\n",
       "      <td>C10002</td>\n",
       "      <td>A</td>\n",
       "      <td>COM0001781</td>\n",
       "      <td>A</td>\n",
       "      <td>4.0</td>\n",
       "      <td>10000.0</td>\n",
       "      <td>...</td>\n",
       "      <td>Y</td>\n",
       "      <td>S134</td>\n",
       "      <td>B</td>\n",
       "      <td>2500.0</td>\n",
       "      <td>50000.0</td>\n",
       "      <td>2.0</td>\n",
       "      <td>NaN</td>\n",
       "      <td>NaN</td>\n",
       "      <td>10</td>\n",
       "      <td>0</td>\n",
       "    </tr>\n",
       "  </tbody>\n",
       "</table>\n",
       "<p>5 rows × 22 columns</p>\n",
       "</div>"
      ],
      "text/plain": [
       "                ID  Gender       DOB Lead_Creation_Date City_Code  \\\n",
       "0  APPC90493171225  Female  23/07/79           15/07/16    C10001   \n",
       "1  APPD40611263344    Male  07/12/86           04/07/16    C10003   \n",
       "2  APPE70289249423    Male  10/12/82           19/07/16    C10125   \n",
       "3  APPF80273865537    Male  30/01/89           09/07/16    C10477   \n",
       "4  APPG60994436641    Male  19/04/85           20/07/16    C10002   \n",
       "\n",
       "  City_Category Employer_Code Employer_Category1  Employer_Category2  \\\n",
       "0             A    COM0044082                  A                 4.0   \n",
       "1             A    COM0000002                  C                 1.0   \n",
       "2             C    COM0005267                  C                 4.0   \n",
       "3             C    COM0004143                  A                 4.0   \n",
       "4             A    COM0001781                  A                 4.0   \n",
       "\n",
       "   Monthly_Income  ... Contacted Source Source_Category Existing_EMI  \\\n",
       "0          2000.0  ...         N   S122               G          0.0   \n",
       "1          3500.0  ...         Y   S122               G          0.0   \n",
       "2          2250.0  ...         Y   S143               B          0.0   \n",
       "3          3500.0  ...         Y   S143               B          0.0   \n",
       "4         10000.0  ...         Y   S134               B       2500.0   \n",
       "\n",
       "  Loan_Amount  Loan_Period  Interest_Rate    EMI  Var1  Approved  \n",
       "0         NaN          NaN            NaN    NaN     0         0  \n",
       "1     20000.0          2.0          13.25  953.0    10         0  \n",
       "2     45000.0          4.0            NaN    NaN     0         0  \n",
       "3     92000.0          5.0            NaN    NaN     7         0  \n",
       "4     50000.0          2.0            NaN    NaN    10         0  \n",
       "\n",
       "[5 rows x 22 columns]"
      ]
     },
     "execution_count": 5,
     "metadata": {},
     "output_type": "execute_result"
    }
   ],
   "source": [
    "df.head()"
   ]
  },
  {
   "cell_type": "code",
   "execution_count": 6,
   "id": "35c88e9f",
   "metadata": {},
   "outputs": [
    {
     "data": {
      "text/plain": [
       "(69713, 22)"
      ]
     },
     "execution_count": 6,
     "metadata": {},
     "output_type": "execute_result"
    }
   ],
   "source": [
    "df.shape"
   ]
  },
  {
   "cell_type": "markdown",
   "id": "9b6c936a",
   "metadata": {},
   "source": [
    "* Data has 69713 rows and 22 columns"
   ]
  },
  {
   "cell_type": "code",
   "execution_count": 7,
   "id": "a9693eaf",
   "metadata": {},
   "outputs": [
    {
     "name": "stdout",
     "output_type": "stream",
     "text": [
      "<class 'pandas.core.frame.DataFrame'>\n",
      "RangeIndex: 69713 entries, 0 to 69712\n",
      "Data columns (total 22 columns):\n",
      " #   Column                               Non-Null Count  Dtype  \n",
      "---  ------                               --------------  -----  \n",
      " 0   ID                                   69713 non-null  object \n",
      " 1   Gender                               69713 non-null  object \n",
      " 2   DOB                                  69698 non-null  object \n",
      " 3   Lead_Creation_Date                   69713 non-null  object \n",
      " 4   City_Code                            68899 non-null  object \n",
      " 5   City_Category                        68899 non-null  object \n",
      " 6   Employer_Code                        65695 non-null  object \n",
      " 7   Employer_Category1                   65695 non-null  object \n",
      " 8   Employer_Category2                   65415 non-null  float64\n",
      " 9   Monthly_Income                       69713 non-null  float64\n",
      " 10  Customer_Existing_Primary_Bank_Code  60322 non-null  object \n",
      " 11  Primary_Bank_Type                    60322 non-null  object \n",
      " 12  Contacted                            69713 non-null  object \n",
      " 13  Source                               69713 non-null  object \n",
      " 14  Source_Category                      69713 non-null  object \n",
      " 15  Existing_EMI                         69662 non-null  float64\n",
      " 16  Loan_Amount                          42004 non-null  float64\n",
      " 17  Loan_Period                          42004 non-null  float64\n",
      " 18  Interest_Rate                        22276 non-null  float64\n",
      " 19  EMI                                  22276 non-null  float64\n",
      " 20  Var1                                 69713 non-null  int64  \n",
      " 21  Approved                             69713 non-null  int64  \n",
      "dtypes: float64(7), int64(2), object(13)\n",
      "memory usage: 11.7+ MB\n"
     ]
    }
   ],
   "source": [
    "df.info()"
   ]
  },
  {
   "cell_type": "markdown",
   "id": "3583ecd7",
   "metadata": {},
   "source": [
    "* We need to change DOB data type to datetime and further extract information from it."
   ]
  },
  {
   "cell_type": "code",
   "execution_count": 8,
   "id": "7b4dac0d",
   "metadata": {
    "scrolled": false
   },
   "outputs": [
    {
     "data": {
      "text/html": [
       "<div>\n",
       "<style scoped>\n",
       "    .dataframe tbody tr th:only-of-type {\n",
       "        vertical-align: middle;\n",
       "    }\n",
       "\n",
       "    .dataframe tbody tr th {\n",
       "        vertical-align: top;\n",
       "    }\n",
       "\n",
       "    .dataframe thead th {\n",
       "        text-align: right;\n",
       "    }\n",
       "</style>\n",
       "<table border=\"1\" class=\"dataframe\">\n",
       "  <thead>\n",
       "    <tr style=\"text-align: right;\">\n",
       "      <th></th>\n",
       "      <th>count</th>\n",
       "      <th>mean</th>\n",
       "      <th>std</th>\n",
       "      <th>min</th>\n",
       "      <th>25%</th>\n",
       "      <th>50%</th>\n",
       "      <th>75%</th>\n",
       "      <th>max</th>\n",
       "    </tr>\n",
       "  </thead>\n",
       "  <tbody>\n",
       "    <tr>\n",
       "      <th>Employer_Category2</th>\n",
       "      <td>65415.0</td>\n",
       "      <td>3.720187</td>\n",
       "      <td>0.807374</td>\n",
       "      <td>1.00</td>\n",
       "      <td>4.00</td>\n",
       "      <td>4.0</td>\n",
       "      <td>4.0</td>\n",
       "      <td>4.0</td>\n",
       "    </tr>\n",
       "    <tr>\n",
       "      <th>Monthly_Income</th>\n",
       "      <td>69713.0</td>\n",
       "      <td>5622.283200</td>\n",
       "      <td>174767.061840</td>\n",
       "      <td>0.00</td>\n",
       "      <td>1650.00</td>\n",
       "      <td>2500.0</td>\n",
       "      <td>4000.0</td>\n",
       "      <td>38383838.3</td>\n",
       "    </tr>\n",
       "    <tr>\n",
       "      <th>Existing_EMI</th>\n",
       "      <td>69662.0</td>\n",
       "      <td>360.928751</td>\n",
       "      <td>2288.517927</td>\n",
       "      <td>0.00</td>\n",
       "      <td>0.00</td>\n",
       "      <td>0.0</td>\n",
       "      <td>350.0</td>\n",
       "      <td>545436.5</td>\n",
       "    </tr>\n",
       "    <tr>\n",
       "      <th>Loan_Amount</th>\n",
       "      <td>42004.0</td>\n",
       "      <td>39429.982859</td>\n",
       "      <td>30727.595990</td>\n",
       "      <td>5000.00</td>\n",
       "      <td>20000.00</td>\n",
       "      <td>30000.0</td>\n",
       "      <td>50000.0</td>\n",
       "      <td>300000.0</td>\n",
       "    </tr>\n",
       "    <tr>\n",
       "      <th>Loan_Period</th>\n",
       "      <td>42004.0</td>\n",
       "      <td>3.890629</td>\n",
       "      <td>1.167491</td>\n",
       "      <td>1.00</td>\n",
       "      <td>3.00</td>\n",
       "      <td>4.0</td>\n",
       "      <td>5.0</td>\n",
       "      <td>6.0</td>\n",
       "    </tr>\n",
       "    <tr>\n",
       "      <th>Interest_Rate</th>\n",
       "      <td>22276.0</td>\n",
       "      <td>19.213570</td>\n",
       "      <td>5.847136</td>\n",
       "      <td>11.99</td>\n",
       "      <td>15.25</td>\n",
       "      <td>18.0</td>\n",
       "      <td>20.0</td>\n",
       "      <td>37.0</td>\n",
       "    </tr>\n",
       "    <tr>\n",
       "      <th>EMI</th>\n",
       "      <td>22276.0</td>\n",
       "      <td>1101.466242</td>\n",
       "      <td>752.661394</td>\n",
       "      <td>118.00</td>\n",
       "      <td>649.00</td>\n",
       "      <td>941.0</td>\n",
       "      <td>1295.0</td>\n",
       "      <td>13556.0</td>\n",
       "    </tr>\n",
       "    <tr>\n",
       "      <th>Var1</th>\n",
       "      <td>69713.0</td>\n",
       "      <td>3.948446</td>\n",
       "      <td>3.819214</td>\n",
       "      <td>0.00</td>\n",
       "      <td>0.00</td>\n",
       "      <td>2.0</td>\n",
       "      <td>7.0</td>\n",
       "      <td>10.0</td>\n",
       "    </tr>\n",
       "    <tr>\n",
       "      <th>Approved</th>\n",
       "      <td>69713.0</td>\n",
       "      <td>0.014631</td>\n",
       "      <td>0.120073</td>\n",
       "      <td>0.00</td>\n",
       "      <td>0.00</td>\n",
       "      <td>0.0</td>\n",
       "      <td>0.0</td>\n",
       "      <td>1.0</td>\n",
       "    </tr>\n",
       "  </tbody>\n",
       "</table>\n",
       "</div>"
      ],
      "text/plain": [
       "                      count          mean            std      min       25%  \\\n",
       "Employer_Category2  65415.0      3.720187       0.807374     1.00      4.00   \n",
       "Monthly_Income      69713.0   5622.283200  174767.061840     0.00   1650.00   \n",
       "Existing_EMI        69662.0    360.928751    2288.517927     0.00      0.00   \n",
       "Loan_Amount         42004.0  39429.982859   30727.595990  5000.00  20000.00   \n",
       "Loan_Period         42004.0      3.890629       1.167491     1.00      3.00   \n",
       "Interest_Rate       22276.0     19.213570       5.847136    11.99     15.25   \n",
       "EMI                 22276.0   1101.466242     752.661394   118.00    649.00   \n",
       "Var1                69713.0      3.948446       3.819214     0.00      0.00   \n",
       "Approved            69713.0      0.014631       0.120073     0.00      0.00   \n",
       "\n",
       "                        50%      75%         max  \n",
       "Employer_Category2      4.0      4.0         4.0  \n",
       "Monthly_Income       2500.0   4000.0  38383838.3  \n",
       "Existing_EMI            0.0    350.0    545436.5  \n",
       "Loan_Amount         30000.0  50000.0    300000.0  \n",
       "Loan_Period             4.0      5.0         6.0  \n",
       "Interest_Rate          18.0     20.0        37.0  \n",
       "EMI                   941.0   1295.0     13556.0  \n",
       "Var1                    2.0      7.0        10.0  \n",
       "Approved                0.0      0.0         1.0  "
      ]
     },
     "execution_count": 8,
     "metadata": {},
     "output_type": "execute_result"
    }
   ],
   "source": [
    "df.describe().T"
   ]
  },
  {
   "cell_type": "code",
   "execution_count": 9,
   "id": "b05cdd36",
   "metadata": {},
   "outputs": [
    {
     "data": {
      "image/png": "[encoded data removed]",
      "text/plain": [
       "<Figure size 432x288 with 1 Axes>"
      ]
     },
     "metadata": {
      "needs_background": "light"
     },
     "output_type": "display_data"
    }
   ],
   "source": [
    "sns.heatmap(df.isnull(),cbar=False)\n",
    "plt.show()"
   ]
  },
  {
   "cell_type": "code",
   "execution_count": 10,
   "id": "e88e7fb3",
   "metadata": {},
   "outputs": [
    {
     "data": {
      "text/html": [
       "<div>\n",
       "<style scoped>\n",
       "    .dataframe tbody tr th:only-of-type {\n",
       "        vertical-align: middle;\n",
       "    }\n",
       "\n",
       "    .dataframe tbody tr th {\n",
       "        vertical-align: top;\n",
       "    }\n",
       "\n",
       "    .dataframe thead th {\n",
       "        text-align: right;\n",
       "    }\n",
       "</style>\n",
       "<table border=\"1\" class=\"dataframe\">\n",
       "  <thead>\n",
       "    <tr style=\"text-align: right;\">\n",
       "      <th></th>\n",
       "      <th>Null</th>\n",
       "      <th>Null_percent</th>\n",
       "    </tr>\n",
       "  </thead>\n",
       "  <tbody>\n",
       "    <tr>\n",
       "      <th>ID</th>\n",
       "      <td>0</td>\n",
       "      <td>0.000000</td>\n",
       "    </tr>\n",
       "    <tr>\n",
       "      <th>Gender</th>\n",
       "      <td>0</td>\n",
       "      <td>0.000000</td>\n",
       "    </tr>\n",
       "    <tr>\n",
       "      <th>DOB</th>\n",
       "      <td>15</td>\n",
       "      <td>0.000215</td>\n",
       "    </tr>\n",
       "    <tr>\n",
       "      <th>Lead_Creation_Date</th>\n",
       "      <td>0</td>\n",
       "      <td>0.000000</td>\n",
       "    </tr>\n",
       "    <tr>\n",
       "      <th>City_Code</th>\n",
       "      <td>814</td>\n",
       "      <td>0.011676</td>\n",
       "    </tr>\n",
       "    <tr>\n",
       "      <th>City_Category</th>\n",
       "      <td>814</td>\n",
       "      <td>0.011676</td>\n",
       "    </tr>\n",
       "    <tr>\n",
       "      <th>Employer_Code</th>\n",
       "      <td>4018</td>\n",
       "      <td>0.057636</td>\n",
       "    </tr>\n",
       "    <tr>\n",
       "      <th>Employer_Category1</th>\n",
       "      <td>4018</td>\n",
       "      <td>0.057636</td>\n",
       "    </tr>\n",
       "    <tr>\n",
       "      <th>Employer_Category2</th>\n",
       "      <td>4298</td>\n",
       "      <td>0.061653</td>\n",
       "    </tr>\n",
       "    <tr>\n",
       "      <th>Monthly_Income</th>\n",
       "      <td>0</td>\n",
       "      <td>0.000000</td>\n",
       "    </tr>\n",
       "    <tr>\n",
       "      <th>Customer_Existing_Primary_Bank_Code</th>\n",
       "      <td>9391</td>\n",
       "      <td>0.134709</td>\n",
       "    </tr>\n",
       "    <tr>\n",
       "      <th>Primary_Bank_Type</th>\n",
       "      <td>9391</td>\n",
       "      <td>0.134709</td>\n",
       "    </tr>\n",
       "    <tr>\n",
       "      <th>Contacted</th>\n",
       "      <td>0</td>\n",
       "      <td>0.000000</td>\n",
       "    </tr>\n",
       "    <tr>\n",
       "      <th>Source</th>\n",
       "      <td>0</td>\n",
       "      <td>0.000000</td>\n",
       "    </tr>\n",
       "    <tr>\n",
       "      <th>Source_Category</th>\n",
       "      <td>0</td>\n",
       "      <td>0.000000</td>\n",
       "    </tr>\n",
       "    <tr>\n",
       "      <th>Existing_EMI</th>\n",
       "      <td>51</td>\n",
       "      <td>0.000732</td>\n",
       "    </tr>\n",
       "    <tr>\n",
       "      <th>Loan_Amount</th>\n",
       "      <td>27709</td>\n",
       "      <td>0.397472</td>\n",
       "    </tr>\n",
       "    <tr>\n",
       "      <th>Loan_Period</th>\n",
       "      <td>27709</td>\n",
       "      <td>0.397472</td>\n",
       "    </tr>\n",
       "    <tr>\n",
       "      <th>Interest_Rate</th>\n",
       "      <td>47437</td>\n",
       "      <td>0.680461</td>\n",
       "    </tr>\n",
       "    <tr>\n",
       "      <th>EMI</th>\n",
       "      <td>47437</td>\n",
       "      <td>0.680461</td>\n",
       "    </tr>\n",
       "    <tr>\n",
       "      <th>Var1</th>\n",
       "      <td>0</td>\n",
       "      <td>0.000000</td>\n",
       "    </tr>\n",
       "    <tr>\n",
       "      <th>Approved</th>\n",
       "      <td>0</td>\n",
       "      <td>0.000000</td>\n",
       "    </tr>\n",
       "  </tbody>\n",
       "</table>\n",
       "</div>"
      ],
      "text/plain": [
       "                                      Null  Null_percent\n",
       "ID                                       0      0.000000\n",
       "Gender                                   0      0.000000\n",
       "DOB                                     15      0.000215\n",
       "Lead_Creation_Date                       0      0.000000\n",
       "City_Code                              814      0.011676\n",
       "City_Category                          814      0.011676\n",
       "Employer_Code                         4018      0.057636\n",
       "Employer_Category1                    4018      0.057636\n",
       "Employer_Category2                    4298      0.061653\n",
       "Monthly_Income                           0      0.000000\n",
       "Customer_Existing_Primary_Bank_Code   9391      0.134709\n",
       "Primary_Bank_Type                     9391      0.134709\n",
       "Contacted                                0      0.000000\n",
       "Source                                   0      0.000000\n",
       "Source_Category                          0      0.000000\n",
       "Existing_EMI                            51      0.000732\n",
       "Loan_Amount                          27709      0.397472\n",
       "Loan_Period                          27709      0.397472\n",
       "Interest_Rate                        47437      0.680461\n",
       "EMI                                  47437      0.680461\n",
       "Var1                                     0      0.000000\n",
       "Approved                                 0      0.000000"
      ]
     },
     "execution_count": 10,
     "metadata": {},
     "output_type": "execute_result"
    }
   ],
   "source": [
    "pd.DataFrame({'Null':df.isnull().sum(),'Null_percent':df.isnull().sum()/df.shape[0]})"
   ]
  },
  {
   "cell_type": "markdown",
   "id": "2b4b9ab9",
   "metadata": {},
   "source": [
    "* Most of our null values exist in Interest Rate, EMI, Loan Amount and Loan Period\n"
   ]
  },
  {
   "cell_type": "code",
   "execution_count": 11,
   "id": "6e39287e",
   "metadata": {},
   "outputs": [
    {
     "data": {
      "image/png": "[encoded data removed]",
      "text/plain": [
       "<Figure size 432x288 with 8 Axes>"
      ]
     },
     "metadata": {
      "needs_background": "light"
     },
     "output_type": "display_data"
    }
   ],
   "source": [
    "j=1\n",
    "for i in df.drop('Approved',axis=1).select_dtypes(include=np.number):\n",
    "    plt.subplot(3,4,j)\n",
    "    plt.title(df[i].skew())\n",
    "    sns.distplot(df[i])\n",
    "    j=j+1\n",
    "plt.tight_layout()\n",
    "plt.show()"
   ]
  },
  {
   "cell_type": "markdown",
   "id": "cb7b02be",
   "metadata": {},
   "source": [
    "## Inferences for numerical data\n",
    "\n",
    "\n",
    "   * -------------------------------------------------------------------------------------------------------------------- *\n",
    "\n",
    " #### Monthly Income\n",
    "* It is highly right skewed.\n",
    "* It might be because of few very high income leads.\n",
    " #### Employer_Category2\n",
    "* Most of the leads seem to be in category:4 , followed by category:1.\n",
    " #### Existing EMI\n",
    "* It is highly right skewed.\n",
    "* Most of the leads don't have any existing Emis.\n",
    " #### Interest Rate\n",
    "* It is right skewed.\n",
    "* Most of the leads are to be offered interest rate between approx 10%-25% per annum.\n",
    "* It is having a range from 10%-40% per annum (*approx).\n",
    " #### EMI\n",
    "* It is right skewed.\n",
    "* Most of the leads are to be offered EMI below 5000 Dollars.\n",
    " #### Loan Period\n",
    "* Most of the leads have requested for a repayment tenure of 5 years followed by 4 years.\n",
    "* Other Repayment tenures are for 1 , 2 , 3 years respectively according to the increasing density of leads.\n",
    " #### Var1\n",
    "* This seems to be an anonymous rating given to the leads by the bank.\n",
    "* Most of the leads are given a rating of 0.\n",
    " #### Loan Amount\n",
    "* It is highly positively/right skewed.\n",
    "* The loan amount requested by most of the leads is less than 100,000 dollars.\n",
    "\n",
    "\n",
    "\n"
   ]
  },
  {
   "cell_type": "code",
   "execution_count": 12,
   "id": "6ced3337",
   "metadata": {},
   "outputs": [],
   "source": [
    "df_cat=df.drop(['ID','DOB','City_Code','Employer_Code','Customer_Existing_Primary_Bank_Code','Source','Lead_Creation_Date'],axis=1).select_dtypes(include=object)"
   ]
  },
  {
   "cell_type": "code",
   "execution_count": 13,
   "id": "034a016d",
   "metadata": {},
   "outputs": [
    {
     "data": {
      "image/png": "[encoded data removed]",
      "text/plain": [
       "<Figure size 432x288 with 6 Axes>"
      ]
     },
     "metadata": {
      "needs_background": "light"
     },
     "output_type": "display_data"
    }
   ],
   "source": [
    "i = 1\n",
    "for x in df_cat.columns:\n",
    "    plt.subplot(2, 4, i)\n",
    "    sns.countplot(df[x])\n",
    "    plt.xticks(rotation=90)\n",
    "    i += 1\n",
    "plt.tight_layout()\n"
   ]
  },
  {
   "cell_type": "markdown",
   "id": "e9ec1d00",
   "metadata": {},
   "source": [
    "## Inferences for categorical data\n",
    "\n",
    "\n",
    "* -------------------------------------------------------------------------------------------------------------------- *  \n",
    "#### Gender\n",
    "* More than 50% of the leads are Males.\n",
    "#### City Category\n",
    "* Most of the leads fall in city category:A followed by C.\n",
    "#### Employer Category 1\n",
    "* Most of the leads have employer category as A followed by B.\n",
    "#### Primary Bank Type\n",
    "* As per our understanding the two categories (P and G) can be interpreted as PRIVATE and GOVERNMENT\n",
    "* Approx more than 60% of the leads are having their primary bank type as PRIVATE.\n",
    "#### Contacted\n",
    "* Approx more than 55% of the leads have been contacted by the bank.\n",
    "#### Source Category\n",
    "* Most of the leads are in source category B, G, C respectively as per increasing density of leads.\n"
   ]
  },
  {
   "cell_type": "code",
   "execution_count": 14,
   "id": "8e619ccf",
   "metadata": {},
   "outputs": [
    {
     "name": "stdout",
     "output_type": "stream",
     "text": [
      "0    68693\n",
      "1     1020\n",
      "Name: Approved, dtype: int64\n"
     ]
    },
    {
     "data": {
      "image/png": "[encoded data removed]",
      "text/plain": [
       "<Figure size 432x288 with 1 Axes>"
      ]
     },
     "metadata": {
      "needs_background": "light"
     },
     "output_type": "display_data"
    }
   ],
   "source": [
    "sns.countplot(df.Approved)\n",
    "print(df.Approved.value_counts())\n",
    "plt.show()"
   ]
  },
  {
   "cell_type": "markdown",
   "id": "073f8805",
   "metadata": {},
   "source": [
    "#### Approved\n",
    "* The target variable is highly imbalanced"
   ]
  },
  {
   "cell_type": "markdown",
   "id": "7487b9fd",
   "metadata": {},
   "source": [
    "# Trying to identify patterns in the data (if any)"
   ]
  },
  {
   "cell_type": "code",
   "execution_count": null,
   "id": "4939bad2",
   "metadata": {},
   "outputs": [],
   "source": []
  },
  {
   "cell_type": "code",
   "execution_count": 15,
   "id": "ddf7bdb9",
   "metadata": {},
   "outputs": [
    {
     "data": {
      "image/png": "[encoded data removed]",
      "text/plain": [
       "<Figure size 432x288 with 2 Axes>"
      ]
     },
     "metadata": {
      "needs_background": "light"
     },
     "output_type": "display_data"
    }
   ],
   "source": [
    "sns.heatmap(df.corr(),annot=True,cmap='YlGnBu')\n",
    "plt.show()"
   ]
  },
  {
   "cell_type": "code",
   "execution_count": 16,
   "id": "0922e729",
   "metadata": {},
   "outputs": [
    {
     "data": {
      "image/png": "[encoded data removed]",
      "text/plain": [
       "<Figure size 432x288 with 4 Axes>"
      ]
     },
     "metadata": {
      "needs_background": "light"
     },
     "output_type": "display_data"
    }
   ],
   "source": [
    "\n",
    "\n",
    "plt.subplot(1,2,1)\n",
    "plt.title('more than 0.5')\n",
    "sns.heatmap(df.corr()>0.5,annot=True,cmap='YlGnBu')\n",
    "plt.subplot(1,2,2)\n",
    "plt.title('less than -0.5')\n",
    "sns.heatmap(df.corr()<(-0.5),annot=True,cmap='YlGnBu')\n",
    "plt.tight_layout()\n",
    "plt.show()"
   ]
  },
  {
   "cell_type": "markdown",
   "id": "6df78ae5",
   "metadata": {},
   "source": [
    "* Emi and loan amount have  strong positive correlation \n",
    "* var1 and interest rate have negative correlation"
   ]
  },
  {
   "cell_type": "code",
   "execution_count": 17,
   "id": "cc592757",
   "metadata": {},
   "outputs": [],
   "source": [
    "city=pd.DataFrame(df.groupby(['City_Category','City_Code'])['ID'].count()).reset_index()"
   ]
  },
  {
   "cell_type": "code",
   "execution_count": 18,
   "id": "fb02e7db",
   "metadata": {},
   "outputs": [
    {
     "data": {
      "image/png": "[encoded data removed]",
      "text/plain": [
       "<Figure size 432x288 with 3 Axes>"
      ]
     },
     "metadata": {
      "needs_background": "light"
     },
     "output_type": "display_data"
    }
   ],
   "source": [
    "j=1\n",
    "for i in city.City_Category.unique():\n",
    "    plt.subplot(2,2,j)    \n",
    "    plt.title(i)\n",
    "    sns.barplot(data=city[city.City_Category==i],x='City_Code',y='ID')\n",
    "    plt.xticks(rotation=90)\n",
    "    j=j+1\n",
    "plt.tight_layout()    \n",
    "plt.show()"
   ]
  },
  {
   "cell_type": "code",
   "execution_count": 19,
   "id": "f646a4c5",
   "metadata": {},
   "outputs": [],
   "source": [
    "c_c=pd.DataFrame(df.groupby('City_Category')['City_Code'].nunique()).reset_index()"
   ]
  },
  {
   "cell_type": "code",
   "execution_count": 20,
   "id": "4e8ffd78",
   "metadata": {},
   "outputs": [
    {
     "data": {
      "image/png": "[encoded data removed]",
      "text/plain": [
       "<Figure size 432x288 with 1 Axes>"
      ]
     },
     "metadata": {
      "needs_background": "light"
     },
     "output_type": "display_data"
    }
   ],
   "source": [
    "sns.barplot(data=c_c,x=c_c.City_Category,y=c_c.City_Code)\n",
    "plt.show()"
   ]
  },
  {
   "cell_type": "markdown",
   "id": "8e8f40a4",
   "metadata": {},
   "source": [
    "* As the numercal value of city codes(cities) is increaing the no. of leads are decreasing\n",
    "* City_Category A has the highest no. of leads in our data.\n",
    "* City_category : C has the maximum no. of cities followed by Category : B and the least in category : A"
   ]
  },
  {
   "cell_type": "code",
   "execution_count": 21,
   "id": "1c4830ca",
   "metadata": {},
   "outputs": [
    {
     "data": {
      "text/html": [
       "<div>\n",
       "<style scoped>\n",
       "    .dataframe tbody tr th:only-of-type {\n",
       "        vertical-align: middle;\n",
       "    }\n",
       "\n",
       "    .dataframe tbody tr th {\n",
       "        vertical-align: top;\n",
       "    }\n",
       "\n",
       "    .dataframe thead th {\n",
       "        text-align: right;\n",
       "    }\n",
       "</style>\n",
       "<table border=\"1\" class=\"dataframe\">\n",
       "  <thead>\n",
       "    <tr style=\"text-align: right;\">\n",
       "      <th></th>\n",
       "      <th>City_Category</th>\n",
       "      <th>Monthly_Income</th>\n",
       "    </tr>\n",
       "  </thead>\n",
       "  <tbody>\n",
       "    <tr>\n",
       "      <th>0</th>\n",
       "      <td>A</td>\n",
       "      <td>2500.0</td>\n",
       "    </tr>\n",
       "    <tr>\n",
       "      <th>1</th>\n",
       "      <td>B</td>\n",
       "      <td>2129.4</td>\n",
       "    </tr>\n",
       "    <tr>\n",
       "      <th>2</th>\n",
       "      <td>C</td>\n",
       "      <td>2100.0</td>\n",
       "    </tr>\n",
       "  </tbody>\n",
       "</table>\n",
       "</div>"
      ],
      "text/plain": [
       "  City_Category  Monthly_Income\n",
       "0             A          2500.0\n",
       "1             B          2129.4\n",
       "2             C          2100.0"
      ]
     },
     "execution_count": 21,
     "metadata": {},
     "output_type": "execute_result"
    }
   ],
   "source": [
    "mi_city=pd.DataFrame(df.groupby(['City_Category'])['Monthly_Income'].median()).reset_index()\n",
    "mi_city.head()"
   ]
  },
  {
   "cell_type": "code",
   "execution_count": 22,
   "id": "70c5030b",
   "metadata": {},
   "outputs": [
    {
     "data": {
      "image/png": "[encoded data removed]",
      "text/plain": [
       "<Figure size 432x288 with 1 Axes>"
      ]
     },
     "metadata": {
      "needs_background": "light"
     },
     "output_type": "display_data"
    }
   ],
   "source": [
    "sns.barplot(x=mi_city.City_Category,y=mi_city.Monthly_Income)   \n",
    "plt.show()"
   ]
  },
  {
   "cell_type": "markdown",
   "id": "7c3f7d34",
   "metadata": {},
   "source": [
    "* It is observed that the income of leads from city_cat:A is more than income of leads from city_cat:B is more than city_cat:C.\n",
    "* But the difference is not so significant , so we cannot demographically divide city cat on basis of income."
   ]
  },
  {
   "cell_type": "code",
   "execution_count": 23,
   "id": "a1c3625d",
   "metadata": {},
   "outputs": [
    {
     "data": {
      "image/png": "[encoded data removed]",
      "text/plain": [
       "<Figure size 432x288 with 1 Axes>"
      ]
     },
     "metadata": {
      "needs_background": "light"
     },
     "output_type": "display_data"
    }
   ],
   "source": [
    "df.groupby('Employer_Category1')['Employer_Category2'].value_counts().plot(kind='bar')\n",
    "plt.show()\n"
   ]
  },
  {
   "cell_type": "markdown",
   "id": "31c33b50",
   "metadata": {},
   "source": [
    "* Employer category2 :4 has highest no. of leads across employer category:1\n",
    "* Employer cat1 A>B>C considering no. of leads from them "
   ]
  },
  {
   "cell_type": "code",
   "execution_count": 24,
   "id": "54537e81",
   "metadata": {},
   "outputs": [
    {
     "data": {
      "text/plain": [
       "Index(['ID', 'Gender', 'DOB', 'Lead_Creation_Date', 'City_Code',\n",
       "       'City_Category', 'Employer_Code', 'Employer_Category1',\n",
       "       'Employer_Category2', 'Monthly_Income',\n",
       "       'Customer_Existing_Primary_Bank_Code', 'Primary_Bank_Type', 'Contacted',\n",
       "       'Source', 'Source_Category', 'Existing_EMI', 'Loan_Amount',\n",
       "       'Loan_Period', 'Interest_Rate', 'EMI', 'Var1', 'Approved'],\n",
       "      dtype='object')"
      ]
     },
     "execution_count": 24,
     "metadata": {},
     "output_type": "execute_result"
    }
   ],
   "source": [
    "df.columns"
   ]
  },
  {
   "cell_type": "code",
   "execution_count": 25,
   "id": "34ee9c1d",
   "metadata": {},
   "outputs": [
    {
     "data": {
      "image/png": "[encoded data removed]",
      "text/plain": [
       "<Figure size 432x288 with 1 Axes>"
      ]
     },
     "metadata": {
      "needs_background": "light"
     },
     "output_type": "display_data"
    }
   ],
   "source": [
    "df.groupby('Approved')['City_Category'].value_counts().plot(kind='bar')\n",
    "plt.show()\n"
   ]
  },
  {
   "cell_type": "markdown",
   "id": "b706dfff",
   "metadata": {},
   "source": [
    "* Maximum approval of loan of Leads from City_cat A , this must be because of the density of the leads in the category "
   ]
  },
  {
   "cell_type": "code",
   "execution_count": 26,
   "id": "a564a166",
   "metadata": {},
   "outputs": [
    {
     "data": {
      "image/png": "[encoded data removed]",
      "text/plain": [
       "<Figure size 432x288 with 1 Axes>"
      ]
     },
     "metadata": {
      "needs_background": "light"
     },
     "output_type": "display_data"
    }
   ],
   "source": [
    "df.loc[df.Approved==1,['Source','Source_Category']].Source_Category.value_counts().plot(kind='bar')\n",
    "plt.show()"
   ]
  },
  {
   "cell_type": "markdown",
   "id": "ecd66578",
   "metadata": {},
   "source": [
    "* Most leads are converted from Source Category B,G and C."
   ]
  },
  {
   "cell_type": "code",
   "execution_count": 27,
   "id": "8555b9ad",
   "metadata": {},
   "outputs": [
    {
     "data": {
      "image/png": "[encoded data removed]",
      "text/plain": [
       "<Figure size 432x288 with 1 Axes>"
      ]
     },
     "metadata": {
      "needs_background": "light"
     },
     "output_type": "display_data"
    }
   ],
   "source": [
    "df.loc[df.Approved==1,['Source','Source_Category']].Source.value_counts().plot(kind='bar')\n",
    "plt.show()"
   ]
  },
  {
   "cell_type": "markdown",
   "id": "0f974fb6",
   "metadata": {},
   "source": [
    "* Most leads are coming from S122 and S133."
   ]
  },
  {
   "cell_type": "code",
   "execution_count": 28,
   "id": "51b9692f",
   "metadata": {},
   "outputs": [
    {
     "data": {
      "text/plain": [
       "Ttest_indResult(statistic=271.8205242225609, pvalue=0.0)"
      ]
     },
     "execution_count": 28,
     "metadata": {},
     "output_type": "execute_result"
    }
   ],
   "source": [
    "ttest_ind(df.Var1,df.Approved) "
   ]
  },
  {
   "cell_type": "markdown",
   "id": "b0ebed61",
   "metadata": {},
   "source": [
    "* Var1 may be related as Credit Score of Applicant."
   ]
  },
  {
   "cell_type": "markdown",
   "id": "560b666b",
   "metadata": {},
   "source": [
    "credit score depends on monthly income , interest rate , credit history , loan period , existing EMI "
   ]
  },
  {
   "cell_type": "code",
   "execution_count": 29,
   "id": "2e02915c",
   "metadata": {},
   "outputs": [
    {
     "data": {
      "text/plain": [
       "Ttest_indResult(statistic=-8.487991051562533, pvalue=2.1225944379449128e-17)"
      ]
     },
     "execution_count": 29,
     "metadata": {},
     "output_type": "execute_result"
    }
   ],
   "source": [
    "ttest_ind(df.Var1,df.Monthly_Income) "
   ]
  },
  {
   "cell_type": "code",
   "execution_count": 30,
   "id": "7dacb269",
   "metadata": {},
   "outputs": [
    {
     "data": {
      "text/plain": [
       "Ttest_indResult(statistic=-451.08207853024356, pvalue=0.0)"
      ]
     },
     "execution_count": 30,
     "metadata": {},
     "output_type": "execute_result"
    }
   ],
   "source": [
    "ttest_ind(df.Var1,df.Interest_Rate.dropna()) "
   ]
  },
  {
   "cell_type": "code",
   "execution_count": 31,
   "id": "e4f7c790",
   "metadata": {},
   "outputs": [
    {
     "data": {
      "text/plain": [
       "Ttest_indResult(statistic=3.0187466149509157, pvalue=0.002538799592430339)"
      ]
     },
     "execution_count": 31,
     "metadata": {},
     "output_type": "execute_result"
    }
   ],
   "source": [
    "ttest_ind(df.Var1,df.Loan_Period.dropna()) "
   ]
  },
  {
   "cell_type": "code",
   "execution_count": 32,
   "id": "4752e621",
   "metadata": {},
   "outputs": [
    {
     "data": {
      "text/plain": [
       "Ttest_indResult(statistic=-41.18567803017448, pvalue=0.0)"
      ]
     },
     "execution_count": 32,
     "metadata": {},
     "output_type": "execute_result"
    }
   ],
   "source": [
    "ttest_ind(df.Var1,df.Existing_EMI.dropna()) "
   ]
  },
  {
   "cell_type": "code",
   "execution_count": 33,
   "id": "0e5bae71",
   "metadata": {},
   "outputs": [],
   "source": [
    "from statsmodels.stats.anova import anova_lm\n",
    "from statsmodels.formula.api import ols"
   ]
  },
  {
   "cell_type": "code",
   "execution_count": 34,
   "id": "de8f9772",
   "metadata": {},
   "outputs": [
    {
     "data": {
      "text/html": [
       "<div>\n",
       "<style scoped>\n",
       "    .dataframe tbody tr th:only-of-type {\n",
       "        vertical-align: middle;\n",
       "    }\n",
       "\n",
       "    .dataframe tbody tr th {\n",
       "        vertical-align: top;\n",
       "    }\n",
       "\n",
       "    .dataframe thead th {\n",
       "        text-align: right;\n",
       "    }\n",
       "</style>\n",
       "<table border=\"1\" class=\"dataframe\">\n",
       "  <thead>\n",
       "    <tr style=\"text-align: right;\">\n",
       "      <th></th>\n",
       "      <th>df</th>\n",
       "      <th>sum_sq</th>\n",
       "      <th>mean_sq</th>\n",
       "      <th>F</th>\n",
       "      <th>PR(&gt;F)</th>\n",
       "    </tr>\n",
       "  </thead>\n",
       "  <tbody>\n",
       "    <tr>\n",
       "      <th>Source_Category</th>\n",
       "      <td>6.0</td>\n",
       "      <td>32872.959321</td>\n",
       "      <td>5478.826553</td>\n",
       "      <td>388.127307</td>\n",
       "      <td>0.0</td>\n",
       "    </tr>\n",
       "    <tr>\n",
       "      <th>Residual</th>\n",
       "      <td>69706.0</td>\n",
       "      <td>983973.754779</td>\n",
       "      <td>14.116055</td>\n",
       "      <td>NaN</td>\n",
       "      <td>NaN</td>\n",
       "    </tr>\n",
       "  </tbody>\n",
       "</table>\n",
       "</div>"
      ],
      "text/plain": [
       "                      df         sum_sq      mean_sq           F  PR(>F)\n",
       "Source_Category      6.0   32872.959321  5478.826553  388.127307     0.0\n",
       "Residual         69706.0  983973.754779    14.116055         NaN     NaN"
      ]
     },
     "execution_count": 34,
     "metadata": {},
     "output_type": "execute_result"
    }
   ],
   "source": [
    "anova_lm(ols('Var1~Source_Category', data = df).fit())"
   ]
  },
  {
   "cell_type": "markdown",
   "id": "740575e8",
   "metadata": {},
   "source": [
    "* After observing the statistical tests, var1 is likely to be the credit score of the lead/applicant"
   ]
  },
  {
   "cell_type": "code",
   "execution_count": null,
   "id": "cdb93e07",
   "metadata": {},
   "outputs": [],
   "source": []
  },
  {
   "cell_type": "code",
   "execution_count": null,
   "id": "0691d170",
   "metadata": {},
   "outputs": [],
   "source": []
  },
  {
   "cell_type": "markdown",
   "id": "686419ed",
   "metadata": {},
   "source": [
    "# Data type correction"
   ]
  },
  {
   "cell_type": "markdown",
   "id": "400f1a2d",
   "metadata": {},
   "source": [
    "* Converting DOB and lead creating month to datetime format"
   ]
  },
  {
   "cell_type": "code",
   "execution_count": 35,
   "id": "ff22c5cd",
   "metadata": {},
   "outputs": [],
   "source": [
    "df1 = df.copy()\n",
    "df1['DOB'] = pd.to_datetime(df1['DOB'])\n",
    "df1['Lead_Creation_Date'] = pd.to_datetime(df1['Lead_Creation_Date'])\n"
   ]
  },
  {
   "cell_type": "code",
   "execution_count": 36,
   "id": "41b5e473",
   "metadata": {},
   "outputs": [
    {
     "name": "stdout",
     "output_type": "stream",
     "text": [
      "<class 'pandas.core.frame.DataFrame'>\n",
      "RangeIndex: 69713 entries, 0 to 69712\n",
      "Data columns (total 22 columns):\n",
      " #   Column                               Non-Null Count  Dtype         \n",
      "---  ------                               --------------  -----         \n",
      " 0   ID                                   69713 non-null  object        \n",
      " 1   Gender                               69713 non-null  object        \n",
      " 2   DOB                                  69698 non-null  datetime64[ns]\n",
      " 3   Lead_Creation_Date                   69713 non-null  datetime64[ns]\n",
      " 4   City_Code                            68899 non-null  object        \n",
      " 5   City_Category                        68899 non-null  object        \n",
      " 6   Employer_Code                        65695 non-null  object        \n",
      " 7   Employer_Category1                   65695 non-null  object        \n",
      " 8   Employer_Category2                   65415 non-null  float64       \n",
      " 9   Monthly_Income                       69713 non-null  float64       \n",
      " 10  Customer_Existing_Primary_Bank_Code  60322 non-null  object        \n",
      " 11  Primary_Bank_Type                    60322 non-null  object        \n",
      " 12  Contacted                            69713 non-null  object        \n",
      " 13  Source                               69713 non-null  object        \n",
      " 14  Source_Category                      69713 non-null  object        \n",
      " 15  Existing_EMI                         69662 non-null  float64       \n",
      " 16  Loan_Amount                          42004 non-null  float64       \n",
      " 17  Loan_Period                          42004 non-null  float64       \n",
      " 18  Interest_Rate                        22276 non-null  float64       \n",
      " 19  EMI                                  22276 non-null  float64       \n",
      " 20  Var1                                 69713 non-null  int64         \n",
      " 21  Approved                             69713 non-null  int64         \n",
      "dtypes: datetime64[ns](2), float64(7), int64(2), object(11)\n",
      "memory usage: 11.7+ MB\n"
     ]
    }
   ],
   "source": [
    "df1.info()"
   ]
  },
  {
   "cell_type": "code",
   "execution_count": 37,
   "id": "17a0dd25",
   "metadata": {
    "scrolled": true
   },
   "outputs": [
    {
     "name": "stdout",
     "output_type": "stream",
     "text": [
      "Numerical cols:\n",
      "9\n",
      "Index(['Employer_Category2', 'Monthly_Income', 'Existing_EMI', 'Loan_Amount',\n",
      "       'Loan_Period', 'Interest_Rate', 'EMI', 'Var1', 'Approved'],\n",
      "      dtype='object')\n",
      "Categorical cols:\n",
      "11\n",
      "Index(['ID', 'Gender', 'City_Code', 'City_Category', 'Employer_Code',\n",
      "       'Employer_Category1', 'Customer_Existing_Primary_Bank_Code',\n",
      "       'Primary_Bank_Type', 'Contacted', 'Source', 'Source_Category'],\n",
      "      dtype='object')\n"
     ]
    }
   ],
   "source": [
    "num = df1.select_dtypes(include=np.number).columns\n",
    "cat = df1.select_dtypes(include='object').columns\n",
    "print(\"Numerical cols:\", len(num), num, sep=\"\\n\")\n",
    "print(\"Categorical cols:\", len(cat), cat, sep=\"\\n\")\n"
   ]
  },
  {
   "cell_type": "markdown",
   "id": "b1e290f6",
   "metadata": {},
   "source": [
    "* Now data has 9 numerical and 11 categorical features"
   ]
  },
  {
   "cell_type": "markdown",
   "id": "fb84e383",
   "metadata": {},
   "source": [
    "# Checking for outliers and their treatment "
   ]
  },
  {
   "cell_type": "markdown",
   "id": "40dddff0",
   "metadata": {},
   "source": [
    " Monthly Income"
   ]
  },
  {
   "cell_type": "code",
   "execution_count": 38,
   "id": "d91b26ed",
   "metadata": {},
   "outputs": [],
   "source": [
    "monthly_income_clipped=df1.Monthly_Income.clip(upper=df1.Monthly_Income.quantile(0.99))"
   ]
  },
  {
   "cell_type": "code",
   "execution_count": 39,
   "id": "80037237",
   "metadata": {},
   "outputs": [
    {
     "data": {
      "image/png": "[encoded data removed]",
      "text/plain": [
       "<Figure size 432x288 with 1 Axes>"
      ]
     },
     "metadata": {
      "needs_background": "light"
     },
     "output_type": "display_data"
    }
   ],
   "source": [
    "sns.distplot(monthly_income_clipped)\n",
    "plt.show()"
   ]
  },
  {
   "cell_type": "code",
   "execution_count": 40,
   "id": "5c6f2b46",
   "metadata": {
    "scrolled": true
   },
   "outputs": [
    {
     "data": {
      "text/plain": [
       "0    622\n",
       "1     12\n",
       "Name: Approved, dtype: int64"
      ]
     },
     "execution_count": 40,
     "metadata": {},
     "output_type": "execute_result"
    }
   ],
   "source": [
    "df[df.Monthly_Income>df.Monthly_Income.quantile(0.99)]['Approved'].value_counts()\n"
   ]
  },
  {
   "cell_type": "markdown",
   "id": "e13b70cd",
   "metadata": {},
   "source": [
    "# Null value imputation \n",
    "* using statistical tests, mode, median "
   ]
  },
  {
   "cell_type": "code",
   "execution_count": 41,
   "id": "980b6416",
   "metadata": {},
   "outputs": [
    {
     "data": {
      "text/plain": [
       "ID                                         0\n",
       "Gender                                     0\n",
       "DOB                                       15\n",
       "Lead_Creation_Date                         0\n",
       "City_Code                                814\n",
       "City_Category                            814\n",
       "Employer_Code                           4018\n",
       "Employer_Category1                      4018\n",
       "Employer_Category2                      4298\n",
       "Monthly_Income                             0\n",
       "Customer_Existing_Primary_Bank_Code     9391\n",
       "Primary_Bank_Type                       9391\n",
       "Contacted                                  0\n",
       "Source                                     0\n",
       "Source_Category                            0\n",
       "Existing_EMI                              51\n",
       "Loan_Amount                            27709\n",
       "Loan_Period                            27709\n",
       "Interest_Rate                          47437\n",
       "EMI                                    47437\n",
       "Var1                                       0\n",
       "Approved                                   0\n",
       "dtype: int64"
      ]
     },
     "execution_count": 41,
     "metadata": {},
     "output_type": "execute_result"
    }
   ],
   "source": [
    "df1.isnull().sum()"
   ]
  },
  {
   "cell_type": "markdown",
   "id": "ee9fbc51",
   "metadata": {},
   "source": [
    "ho- city cat and source cat are not related\n",
    "ha- ho is not true"
   ]
  },
  {
   "cell_type": "code",
   "execution_count": 42,
   "id": "f5ade7db",
   "metadata": {},
   "outputs": [
    {
     "data": {
      "text/plain": [
       "(1475.2909813252159,\n",
       " 8.084269710528494e-309,\n",
       " 12,\n",
       " array([[2.17209248e+00, 2.15848070e+04, 8.23512663e+03, 3.59843321e+02,\n",
       "         7.60232369e+02, 3.32330150e+02, 1.86104884e+04],\n",
       "        [3.18727413e-01, 3.16730054e+03, 1.20840186e+03, 5.28025080e+01,\n",
       "         1.11554594e+02, 4.87652941e+01, 2.73085647e+03],\n",
       "        [5.09180104e-01, 5.05989242e+03, 1.93047150e+03, 8.43541706e+01,\n",
       "         1.78213036e+02, 7.79045559e+01, 4.36265513e+03]]))"
      ]
     },
     "execution_count": 42,
     "metadata": {},
     "output_type": "execute_result"
    }
   ],
   "source": [
    "tbl = pd.crosstab(df1['City_Category'], df1['Source_Category'])\n",
    "stats.chi2_contingency(tbl)\n"
   ]
  },
  {
   "cell_type": "markdown",
   "id": "dc1c79e4",
   "metadata": {},
   "source": [
    "* p-value <0.05 , so we reject h0 ,implies City_Category and Source_Category are related to each other"
   ]
  },
  {
   "cell_type": "code",
   "execution_count": 43,
   "id": "7b5b75d2",
   "metadata": {},
   "outputs": [
    {
     "data": {
      "text/html": [
       "<div>\n",
       "<style scoped>\n",
       "    .dataframe tbody tr th:only-of-type {\n",
       "        vertical-align: middle;\n",
       "    }\n",
       "\n",
       "    .dataframe tbody tr th {\n",
       "        vertical-align: top;\n",
       "    }\n",
       "\n",
       "    .dataframe thead th {\n",
       "        text-align: right;\n",
       "    }\n",
       "</style>\n",
       "<table border=\"1\" class=\"dataframe\">\n",
       "  <thead>\n",
       "    <tr style=\"text-align: right;\">\n",
       "      <th>Source_Category</th>\n",
       "      <th>A</th>\n",
       "      <th>B</th>\n",
       "      <th>C</th>\n",
       "      <th>D</th>\n",
       "      <th>E</th>\n",
       "      <th>F</th>\n",
       "      <th>G</th>\n",
       "    </tr>\n",
       "    <tr>\n",
       "      <th>City_Category</th>\n",
       "      <th></th>\n",
       "      <th></th>\n",
       "      <th></th>\n",
       "      <th></th>\n",
       "      <th></th>\n",
       "      <th></th>\n",
       "      <th></th>\n",
       "    </tr>\n",
       "  </thead>\n",
       "  <tbody>\n",
       "    <tr>\n",
       "      <th>A</th>\n",
       "      <td>2</td>\n",
       "      <td>21148</td>\n",
       "      <td>8806</td>\n",
       "      <td>303</td>\n",
       "      <td>773</td>\n",
       "      <td>341</td>\n",
       "      <td>18512</td>\n",
       "    </tr>\n",
       "    <tr>\n",
       "      <th>B</th>\n",
       "      <td>0</td>\n",
       "      <td>2563</td>\n",
       "      <td>1796</td>\n",
       "      <td>44</td>\n",
       "      <td>92</td>\n",
       "      <td>83</td>\n",
       "      <td>2742</td>\n",
       "    </tr>\n",
       "    <tr>\n",
       "      <th>C</th>\n",
       "      <td>1</td>\n",
       "      <td>6101</td>\n",
       "      <td>772</td>\n",
       "      <td>150</td>\n",
       "      <td>185</td>\n",
       "      <td>35</td>\n",
       "      <td>4450</td>\n",
       "    </tr>\n",
       "  </tbody>\n",
       "</table>\n",
       "</div>"
      ],
      "text/plain": [
       "Source_Category  A      B     C    D    E    F      G\n",
       "City_Category                                        \n",
       "A                2  21148  8806  303  773  341  18512\n",
       "B                0   2563  1796   44   92   83   2742\n",
       "C                1   6101   772  150  185   35   4450"
      ]
     },
     "execution_count": 43,
     "metadata": {},
     "output_type": "execute_result"
    }
   ],
   "source": [
    "tbl"
   ]
  },
  {
   "cell_type": "code",
   "execution_count": 44,
   "id": "f60fe2f8",
   "metadata": {},
   "outputs": [],
   "source": [
    "df1.loc[(df1.Source_Category == 'G') & (df1.City_Category.isna()), 'City_Category']='A'\n"
   ]
  },
  {
   "cell_type": "markdown",
   "id": "9553d020",
   "metadata": {},
   "source": [
    "* imputed none values in source category using mode"
   ]
  },
  {
   "cell_type": "markdown",
   "id": "53b55fbc",
   "metadata": {},
   "source": [
    "* ho - emp_cat and source_cat are not related\n",
    "* ha- ho is not true"
   ]
  },
  {
   "cell_type": "code",
   "execution_count": 45,
   "id": "4862b89e",
   "metadata": {},
   "outputs": [],
   "source": [
    "df2=df1.copy()"
   ]
  },
  {
   "cell_type": "code",
   "execution_count": 46,
   "id": "37b9411a",
   "metadata": {
    "scrolled": true
   },
   "outputs": [
    {
     "data": {
      "text/plain": [
       "((151.83297537395342,\n",
       "  2.4074505285129245e-26,\n",
       "  12,\n",
       "  array([[1.52230763e+00, 1.51068735e+04, 5.66653645e+03, 2.18197428e+02,\n",
       "          5.31792800e+02, 2.29868453e+02, 1.15812090e+04],\n",
       "         [8.24537636e-01, 8.18243665e+03, 3.06920393e+03, 1.18183728e+02,\n",
       "          2.88038481e+02, 1.24505183e+02, 6.27280749e+03],\n",
       "         [6.53154730e-01, 6.48168982e+03, 2.43125962e+03, 9.36188447e+01,\n",
       "          2.28168719e+02, 9.86263643e+01, 4.96898347e+03]])),\n",
       " Source_Category     A      B     C    D    E    F      G\n",
       " Employer_Category1                                      \n",
       " A                   2  15404  5428  291  479  249  11483\n",
       " B                   1   8297  3017   64  303  114   6260\n",
       " C                   0   6070  2722   75  266   90   5080)"
      ]
     },
     "execution_count": 46,
     "metadata": {},
     "output_type": "execute_result"
    }
   ],
   "source": [
    "tbl = pd.crosstab(df2['Employer_Category1'], df2['Source_Category'])\n",
    "stats.chi2_contingency(tbl), tbl\n"
   ]
  },
  {
   "cell_type": "code",
   "execution_count": 47,
   "id": "10d9e449",
   "metadata": {},
   "outputs": [
    {
     "data": {
      "text/html": [
       "<div>\n",
       "<style scoped>\n",
       "    .dataframe tbody tr th:only-of-type {\n",
       "        vertical-align: middle;\n",
       "    }\n",
       "\n",
       "    .dataframe tbody tr th {\n",
       "        vertical-align: top;\n",
       "    }\n",
       "\n",
       "    .dataframe thead th {\n",
       "        text-align: right;\n",
       "    }\n",
       "</style>\n",
       "<table border=\"1\" class=\"dataframe\">\n",
       "  <thead>\n",
       "    <tr style=\"text-align: right;\">\n",
       "      <th>Source_Category</th>\n",
       "      <th>A</th>\n",
       "      <th>B</th>\n",
       "      <th>C</th>\n",
       "      <th>D</th>\n",
       "      <th>E</th>\n",
       "      <th>F</th>\n",
       "      <th>G</th>\n",
       "    </tr>\n",
       "    <tr>\n",
       "      <th>Employer_Category1</th>\n",
       "      <th></th>\n",
       "      <th></th>\n",
       "      <th></th>\n",
       "      <th></th>\n",
       "      <th></th>\n",
       "      <th></th>\n",
       "      <th></th>\n",
       "    </tr>\n",
       "  </thead>\n",
       "  <tbody>\n",
       "    <tr>\n",
       "      <th>A</th>\n",
       "      <td>2</td>\n",
       "      <td>15404</td>\n",
       "      <td>5428</td>\n",
       "      <td>291</td>\n",
       "      <td>479</td>\n",
       "      <td>249</td>\n",
       "      <td>11483</td>\n",
       "    </tr>\n",
       "    <tr>\n",
       "      <th>B</th>\n",
       "      <td>1</td>\n",
       "      <td>8297</td>\n",
       "      <td>3017</td>\n",
       "      <td>64</td>\n",
       "      <td>303</td>\n",
       "      <td>114</td>\n",
       "      <td>6260</td>\n",
       "    </tr>\n",
       "    <tr>\n",
       "      <th>C</th>\n",
       "      <td>0</td>\n",
       "      <td>6070</td>\n",
       "      <td>2722</td>\n",
       "      <td>75</td>\n",
       "      <td>266</td>\n",
       "      <td>90</td>\n",
       "      <td>5080</td>\n",
       "    </tr>\n",
       "  </tbody>\n",
       "</table>\n",
       "</div>"
      ],
      "text/plain": [
       "Source_Category     A      B     C    D    E    F      G\n",
       "Employer_Category1                                      \n",
       "A                   2  15404  5428  291  479  249  11483\n",
       "B                   1   8297  3017   64  303  114   6260\n",
       "C                   0   6070  2722   75  266   90   5080"
      ]
     },
     "execution_count": 47,
     "metadata": {},
     "output_type": "execute_result"
    }
   ],
   "source": [
    "tbl"
   ]
  },
  {
   "cell_type": "code",
   "execution_count": 48,
   "id": "c5537c17",
   "metadata": {},
   "outputs": [
    {
     "data": {
      "text/html": [
       "<div>\n",
       "<style scoped>\n",
       "    .dataframe tbody tr th:only-of-type {\n",
       "        vertical-align: middle;\n",
       "    }\n",
       "\n",
       "    .dataframe tbody tr th {\n",
       "        vertical-align: top;\n",
       "    }\n",
       "\n",
       "    .dataframe thead th {\n",
       "        text-align: right;\n",
       "    }\n",
       "</style>\n",
       "<table border=\"1\" class=\"dataframe\">\n",
       "  <thead>\n",
       "    <tr style=\"text-align: right;\">\n",
       "      <th></th>\n",
       "      <th>ID</th>\n",
       "      <th>Gender</th>\n",
       "      <th>DOB</th>\n",
       "      <th>Lead_Creation_Date</th>\n",
       "      <th>City_Code</th>\n",
       "      <th>City_Category</th>\n",
       "      <th>Employer_Code</th>\n",
       "      <th>Employer_Category1</th>\n",
       "      <th>Employer_Category2</th>\n",
       "      <th>Monthly_Income</th>\n",
       "      <th>...</th>\n",
       "      <th>Contacted</th>\n",
       "      <th>Source</th>\n",
       "      <th>Source_Category</th>\n",
       "      <th>Existing_EMI</th>\n",
       "      <th>Loan_Amount</th>\n",
       "      <th>Loan_Period</th>\n",
       "      <th>Interest_Rate</th>\n",
       "      <th>EMI</th>\n",
       "      <th>Var1</th>\n",
       "      <th>Approved</th>\n",
       "    </tr>\n",
       "  </thead>\n",
       "  <tbody>\n",
       "    <tr>\n",
       "      <th>517</th>\n",
       "      <td>APPR20547696718</td>\n",
       "      <td>Female</td>\n",
       "      <td>1993-07-03</td>\n",
       "      <td>2016-02-07</td>\n",
       "      <td>C10029</td>\n",
       "      <td>C</td>\n",
       "      <td>NaN</td>\n",
       "      <td>NaN</td>\n",
       "      <td>NaN</td>\n",
       "      <td>133.3</td>\n",
       "      <td>...</td>\n",
       "      <td>N</td>\n",
       "      <td>S133</td>\n",
       "      <td>F</td>\n",
       "      <td>0.0</td>\n",
       "      <td>NaN</td>\n",
       "      <td>NaN</td>\n",
       "      <td>NaN</td>\n",
       "      <td>NaN</td>\n",
       "      <td>0</td>\n",
       "      <td>0</td>\n",
       "    </tr>\n",
       "    <tr>\n",
       "      <th>6103</th>\n",
       "      <td>APPB70673449948</td>\n",
       "      <td>Female</td>\n",
       "      <td>1987-08-31</td>\n",
       "      <td>2016-09-07</td>\n",
       "      <td>C10003</td>\n",
       "      <td>A</td>\n",
       "      <td>NaN</td>\n",
       "      <td>NaN</td>\n",
       "      <td>NaN</td>\n",
       "      <td>275.0</td>\n",
       "      <td>...</td>\n",
       "      <td>N</td>\n",
       "      <td>S122</td>\n",
       "      <td>F</td>\n",
       "      <td>0.0</td>\n",
       "      <td>NaN</td>\n",
       "      <td>NaN</td>\n",
       "      <td>NaN</td>\n",
       "      <td>NaN</td>\n",
       "      <td>0</td>\n",
       "      <td>0</td>\n",
       "    </tr>\n",
       "    <tr>\n",
       "      <th>6259</th>\n",
       "      <td>APPS20087734835</td>\n",
       "      <td>Female</td>\n",
       "      <td>1985-08-14</td>\n",
       "      <td>2016-10-07</td>\n",
       "      <td>C10028</td>\n",
       "      <td>C</td>\n",
       "      <td>NaN</td>\n",
       "      <td>NaN</td>\n",
       "      <td>NaN</td>\n",
       "      <td>250.0</td>\n",
       "      <td>...</td>\n",
       "      <td>N</td>\n",
       "      <td>S133</td>\n",
       "      <td>F</td>\n",
       "      <td>0.0</td>\n",
       "      <td>NaN</td>\n",
       "      <td>NaN</td>\n",
       "      <td>NaN</td>\n",
       "      <td>NaN</td>\n",
       "      <td>0</td>\n",
       "      <td>0</td>\n",
       "    </tr>\n",
       "    <tr>\n",
       "      <th>8003</th>\n",
       "      <td>APPS50767117236</td>\n",
       "      <td>Female</td>\n",
       "      <td>1988-08-15</td>\n",
       "      <td>2016-12-07</td>\n",
       "      <td>C10002</td>\n",
       "      <td>A</td>\n",
       "      <td>NaN</td>\n",
       "      <td>NaN</td>\n",
       "      <td>NaN</td>\n",
       "      <td>225.0</td>\n",
       "      <td>...</td>\n",
       "      <td>N</td>\n",
       "      <td>S133</td>\n",
       "      <td>F</td>\n",
       "      <td>0.0</td>\n",
       "      <td>NaN</td>\n",
       "      <td>NaN</td>\n",
       "      <td>NaN</td>\n",
       "      <td>NaN</td>\n",
       "      <td>0</td>\n",
       "      <td>0</td>\n",
       "    </tr>\n",
       "    <tr>\n",
       "      <th>9041</th>\n",
       "      <td>APPI50827547204</td>\n",
       "      <td>Female</td>\n",
       "      <td>1985-06-08</td>\n",
       "      <td>2016-07-14</td>\n",
       "      <td>C10001</td>\n",
       "      <td>A</td>\n",
       "      <td>NaN</td>\n",
       "      <td>NaN</td>\n",
       "      <td>NaN</td>\n",
       "      <td>166.7</td>\n",
       "      <td>...</td>\n",
       "      <td>N</td>\n",
       "      <td>S122</td>\n",
       "      <td>F</td>\n",
       "      <td>0.0</td>\n",
       "      <td>NaN</td>\n",
       "      <td>NaN</td>\n",
       "      <td>NaN</td>\n",
       "      <td>NaN</td>\n",
       "      <td>0</td>\n",
       "      <td>0</td>\n",
       "    </tr>\n",
       "    <tr>\n",
       "      <th>21071</th>\n",
       "      <td>APPX20618529942</td>\n",
       "      <td>Male</td>\n",
       "      <td>1993-09-12</td>\n",
       "      <td>2016-07-30</td>\n",
       "      <td>C10003</td>\n",
       "      <td>A</td>\n",
       "      <td>NaN</td>\n",
       "      <td>NaN</td>\n",
       "      <td>NaN</td>\n",
       "      <td>2500.0</td>\n",
       "      <td>...</td>\n",
       "      <td>Y</td>\n",
       "      <td>S122</td>\n",
       "      <td>F</td>\n",
       "      <td>0.0</td>\n",
       "      <td>NaN</td>\n",
       "      <td>NaN</td>\n",
       "      <td>NaN</td>\n",
       "      <td>NaN</td>\n",
       "      <td>0</td>\n",
       "      <td>0</td>\n",
       "    </tr>\n",
       "  </tbody>\n",
       "</table>\n",
       "<p>6 rows × 22 columns</p>\n",
       "</div>"
      ],
      "text/plain": [
       "                    ID  Gender        DOB Lead_Creation_Date City_Code  \\\n",
       "517    APPR20547696718  Female 1993-07-03         2016-02-07    C10029   \n",
       "6103   APPB70673449948  Female 1987-08-31         2016-09-07    C10003   \n",
       "6259   APPS20087734835  Female 1985-08-14         2016-10-07    C10028   \n",
       "8003   APPS50767117236  Female 1988-08-15         2016-12-07    C10002   \n",
       "9041   APPI50827547204  Female 1985-06-08         2016-07-14    C10001   \n",
       "21071  APPX20618529942    Male 1993-09-12         2016-07-30    C10003   \n",
       "\n",
       "      City_Category Employer_Code Employer_Category1  Employer_Category2  \\\n",
       "517               C           NaN                NaN                 NaN   \n",
       "6103              A           NaN                NaN                 NaN   \n",
       "6259              C           NaN                NaN                 NaN   \n",
       "8003              A           NaN                NaN                 NaN   \n",
       "9041              A           NaN                NaN                 NaN   \n",
       "21071             A           NaN                NaN                 NaN   \n",
       "\n",
       "       Monthly_Income  ... Contacted Source Source_Category Existing_EMI  \\\n",
       "517             133.3  ...         N   S133               F          0.0   \n",
       "6103            275.0  ...         N   S122               F          0.0   \n",
       "6259            250.0  ...         N   S133               F          0.0   \n",
       "8003            225.0  ...         N   S133               F          0.0   \n",
       "9041            166.7  ...         N   S122               F          0.0   \n",
       "21071          2500.0  ...         Y   S122               F          0.0   \n",
       "\n",
       "      Loan_Amount  Loan_Period  Interest_Rate  EMI  Var1  Approved  \n",
       "517           NaN          NaN            NaN  NaN     0         0  \n",
       "6103          NaN          NaN            NaN  NaN     0         0  \n",
       "6259          NaN          NaN            NaN  NaN     0         0  \n",
       "8003          NaN          NaN            NaN  NaN     0         0  \n",
       "9041          NaN          NaN            NaN  NaN     0         0  \n",
       "21071         NaN          NaN            NaN  NaN     0         0  \n",
       "\n",
       "[6 rows x 22 columns]"
      ]
     },
     "execution_count": 48,
     "metadata": {},
     "output_type": "execute_result"
    }
   ],
   "source": [
    "df2.loc[(df2.Source_Category=='F') & (df2.Employer_Category1.isna())]\n"
   ]
  },
  {
   "cell_type": "code",
   "execution_count": 49,
   "id": "f2bba809",
   "metadata": {},
   "outputs": [],
   "source": [
    "df2['Employer_Category1'] = df2['Employer_Category1'].fillna('A')\n"
   ]
  },
  {
   "cell_type": "markdown",
   "id": "35588373",
   "metadata": {},
   "source": [
    "* Imputation done on basis of mode"
   ]
  },
  {
   "cell_type": "code",
   "execution_count": null,
   "id": "db29983e",
   "metadata": {},
   "outputs": [],
   "source": []
  },
  {
   "cell_type": "markdown",
   "id": "55fa3393",
   "metadata": {},
   "source": [
    "* ho - emp_cat1 and emp_cat2 are not related\n",
    "* ha- ho is not true"
   ]
  },
  {
   "cell_type": "code",
   "execution_count": 50,
   "id": "34c6fe48",
   "metadata": {},
   "outputs": [
    {
     "data": {
      "text/plain": [
       "((3620.8921746851556,\n",
       "  0.0,\n",
       "  6,\n",
       "  array([[ 2151.68459833,   987.91530994,   818.63058931, 29097.76950241],\n",
       "         [ 1175.30303447,   539.62363372,   447.15615684, 15893.91717496],\n",
       "         [  931.01236719,   427.46105633,   354.21325384, 12590.31332263]])),\n",
       " Employer_Category2   1.0   2.0  3.0    4.0\n",
       " Employer_Category1                        \n",
       " A                   2069   291  196  30500\n",
       " B                    410  1113  921  15612\n",
       " C                   1779   551  503  11470)"
      ]
     },
     "execution_count": 50,
     "metadata": {},
     "output_type": "execute_result"
    }
   ],
   "source": [
    "tbl = pd.crosstab(df2['Employer_Category1'], df2['Employer_Category2'])\n",
    "stats.chi2_contingency(tbl), tbl\n"
   ]
  },
  {
   "cell_type": "code",
   "execution_count": 51,
   "id": "c507ebba",
   "metadata": {},
   "outputs": [
    {
     "data": {
      "text/html": [
       "<div>\n",
       "<style scoped>\n",
       "    .dataframe tbody tr th:only-of-type {\n",
       "        vertical-align: middle;\n",
       "    }\n",
       "\n",
       "    .dataframe tbody tr th {\n",
       "        vertical-align: top;\n",
       "    }\n",
       "\n",
       "    .dataframe thead th {\n",
       "        text-align: right;\n",
       "    }\n",
       "</style>\n",
       "<table border=\"1\" class=\"dataframe\">\n",
       "  <thead>\n",
       "    <tr style=\"text-align: right;\">\n",
       "      <th>Employer_Category2</th>\n",
       "      <th>1.0</th>\n",
       "      <th>2.0</th>\n",
       "      <th>3.0</th>\n",
       "      <th>4.0</th>\n",
       "    </tr>\n",
       "    <tr>\n",
       "      <th>Employer_Category1</th>\n",
       "      <th></th>\n",
       "      <th></th>\n",
       "      <th></th>\n",
       "      <th></th>\n",
       "    </tr>\n",
       "  </thead>\n",
       "  <tbody>\n",
       "    <tr>\n",
       "      <th>A</th>\n",
       "      <td>2069</td>\n",
       "      <td>291</td>\n",
       "      <td>196</td>\n",
       "      <td>30500</td>\n",
       "    </tr>\n",
       "    <tr>\n",
       "      <th>B</th>\n",
       "      <td>410</td>\n",
       "      <td>1113</td>\n",
       "      <td>921</td>\n",
       "      <td>15612</td>\n",
       "    </tr>\n",
       "    <tr>\n",
       "      <th>C</th>\n",
       "      <td>1779</td>\n",
       "      <td>551</td>\n",
       "      <td>503</td>\n",
       "      <td>11470</td>\n",
       "    </tr>\n",
       "  </tbody>\n",
       "</table>\n",
       "</div>"
      ],
      "text/plain": [
       "Employer_Category2   1.0   2.0  3.0    4.0\n",
       "Employer_Category1                        \n",
       "A                   2069   291  196  30500\n",
       "B                    410  1113  921  15612\n",
       "C                   1779   551  503  11470"
      ]
     },
     "execution_count": 51,
     "metadata": {},
     "output_type": "execute_result"
    }
   ],
   "source": [
    "tbl"
   ]
  },
  {
   "cell_type": "code",
   "execution_count": 52,
   "id": "eb9c8695",
   "metadata": {},
   "outputs": [],
   "source": [
    "df2['Employer_Category1'] = df2['Employer_Category1'].fillna('A')\n"
   ]
  },
  {
   "cell_type": "code",
   "execution_count": 53,
   "id": "2fa22b79",
   "metadata": {},
   "outputs": [],
   "source": [
    "df2['Employer_Category2'] = df2['Employer_Category2'].fillna(4)\n"
   ]
  },
  {
   "cell_type": "markdown",
   "id": "34c84a2f",
   "metadata": {},
   "source": [
    "* imputation done on basis of mode"
   ]
  },
  {
   "cell_type": "code",
   "execution_count": null,
   "id": "3bbbcf88",
   "metadata": {},
   "outputs": [],
   "source": []
  },
  {
   "cell_type": "markdown",
   "id": "c7d3c932",
   "metadata": {},
   "source": [
    "* primary bank and city category"
   ]
  },
  {
   "cell_type": "markdown",
   "id": "841532eb",
   "metadata": {},
   "source": [
    "* ho - City_CategoryPrimary_Bank_Type andare not related\n",
    "* ha- ho is not true"
   ]
  },
  {
   "cell_type": "code",
   "execution_count": 54,
   "id": "67c9739b",
   "metadata": {},
   "outputs": [
    {
     "data": {
      "text/plain": [
       "((3442.434162218691,\n",
       "  0.0,\n",
       "  2,\n",
       "  array([[15329.04731275, 29334.95268725],\n",
       "         [ 2147.10997646,  4108.89002354],\n",
       "         [ 3226.84271079,  6175.15728921]])),\n",
       " Primary_Bank_Type      G      P\n",
       " City_Category                  \n",
       " A                  12365  32299\n",
       " B                   3070   3186\n",
       " C                   5268   4134)"
      ]
     },
     "execution_count": 54,
     "metadata": {},
     "output_type": "execute_result"
    }
   ],
   "source": [
    "tbl = pd.crosstab(df2['City_Category'], df2['Primary_Bank_Type'])\n",
    "stats.chi2_contingency(tbl), tbl\n"
   ]
  },
  {
   "cell_type": "code",
   "execution_count": 55,
   "id": "af07c41a",
   "metadata": {},
   "outputs": [
    {
     "data": {
      "text/html": [
       "<div>\n",
       "<style scoped>\n",
       "    .dataframe tbody tr th:only-of-type {\n",
       "        vertical-align: middle;\n",
       "    }\n",
       "\n",
       "    .dataframe tbody tr th {\n",
       "        vertical-align: top;\n",
       "    }\n",
       "\n",
       "    .dataframe thead th {\n",
       "        text-align: right;\n",
       "    }\n",
       "</style>\n",
       "<table border=\"1\" class=\"dataframe\">\n",
       "  <thead>\n",
       "    <tr style=\"text-align: right;\">\n",
       "      <th>Primary_Bank_Type</th>\n",
       "      <th>G</th>\n",
       "      <th>P</th>\n",
       "    </tr>\n",
       "    <tr>\n",
       "      <th>City_Category</th>\n",
       "      <th></th>\n",
       "      <th></th>\n",
       "    </tr>\n",
       "  </thead>\n",
       "  <tbody>\n",
       "    <tr>\n",
       "      <th>A</th>\n",
       "      <td>12365</td>\n",
       "      <td>32299</td>\n",
       "    </tr>\n",
       "    <tr>\n",
       "      <th>B</th>\n",
       "      <td>3070</td>\n",
       "      <td>3186</td>\n",
       "    </tr>\n",
       "    <tr>\n",
       "      <th>C</th>\n",
       "      <td>5268</td>\n",
       "      <td>4134</td>\n",
       "    </tr>\n",
       "  </tbody>\n",
       "</table>\n",
       "</div>"
      ],
      "text/plain": [
       "Primary_Bank_Type      G      P\n",
       "City_Category                  \n",
       "A                  12365  32299\n",
       "B                   3070   3186\n",
       "C                   5268   4134"
      ]
     },
     "execution_count": 55,
     "metadata": {},
     "output_type": "execute_result"
    }
   ],
   "source": [
    "tbl"
   ]
  },
  {
   "cell_type": "code",
   "execution_count": 56,
   "id": "6c717df4",
   "metadata": {},
   "outputs": [
    {
     "data": {
      "text/html": [
       "<div>\n",
       "<style scoped>\n",
       "    .dataframe tbody tr th:only-of-type {\n",
       "        vertical-align: middle;\n",
       "    }\n",
       "\n",
       "    .dataframe tbody tr th {\n",
       "        vertical-align: top;\n",
       "    }\n",
       "\n",
       "    .dataframe thead th {\n",
       "        text-align: right;\n",
       "    }\n",
       "</style>\n",
       "<table border=\"1\" class=\"dataframe\">\n",
       "  <thead>\n",
       "    <tr style=\"text-align: right;\">\n",
       "      <th></th>\n",
       "      <th>ID</th>\n",
       "      <th>Gender</th>\n",
       "      <th>DOB</th>\n",
       "      <th>Lead_Creation_Date</th>\n",
       "      <th>City_Code</th>\n",
       "      <th>City_Category</th>\n",
       "      <th>Employer_Code</th>\n",
       "      <th>Employer_Category1</th>\n",
       "      <th>Employer_Category2</th>\n",
       "      <th>Monthly_Income</th>\n",
       "      <th>...</th>\n",
       "      <th>Contacted</th>\n",
       "      <th>Source</th>\n",
       "      <th>Source_Category</th>\n",
       "      <th>Existing_EMI</th>\n",
       "      <th>Loan_Amount</th>\n",
       "      <th>Loan_Period</th>\n",
       "      <th>Interest_Rate</th>\n",
       "      <th>EMI</th>\n",
       "      <th>Var1</th>\n",
       "      <th>Approved</th>\n",
       "    </tr>\n",
       "  </thead>\n",
       "  <tbody>\n",
       "    <tr>\n",
       "      <th>112</th>\n",
       "      <td>APPV20785952136</td>\n",
       "      <td>Female</td>\n",
       "      <td>1987-08-30</td>\n",
       "      <td>2016-01-07</td>\n",
       "      <td>C10005</td>\n",
       "      <td>A</td>\n",
       "      <td>COM0000265</td>\n",
       "      <td>B</td>\n",
       "      <td>4.0</td>\n",
       "      <td>1700.0</td>\n",
       "      <td>...</td>\n",
       "      <td>N</td>\n",
       "      <td>S133</td>\n",
       "      <td>B</td>\n",
       "      <td>0.0</td>\n",
       "      <td>NaN</td>\n",
       "      <td>NaN</td>\n",
       "      <td>NaN</td>\n",
       "      <td>NaN</td>\n",
       "      <td>0</td>\n",
       "      <td>0</td>\n",
       "    </tr>\n",
       "    <tr>\n",
       "      <th>113</th>\n",
       "      <td>APPX70088104309</td>\n",
       "      <td>Male</td>\n",
       "      <td>1987-08-30</td>\n",
       "      <td>2016-01-07</td>\n",
       "      <td>C10005</td>\n",
       "      <td>A</td>\n",
       "      <td>COM0000265</td>\n",
       "      <td>B</td>\n",
       "      <td>4.0</td>\n",
       "      <td>2000.0</td>\n",
       "      <td>...</td>\n",
       "      <td>Y</td>\n",
       "      <td>S133</td>\n",
       "      <td>B</td>\n",
       "      <td>0.0</td>\n",
       "      <td>10000.0</td>\n",
       "      <td>2.0</td>\n",
       "      <td>NaN</td>\n",
       "      <td>NaN</td>\n",
       "      <td>4</td>\n",
       "      <td>0</td>\n",
       "    </tr>\n",
       "    <tr>\n",
       "      <th>131</th>\n",
       "      <td>APPP90838484136</td>\n",
       "      <td>Female</td>\n",
       "      <td>1991-04-30</td>\n",
       "      <td>2016-01-07</td>\n",
       "      <td>C10001</td>\n",
       "      <td>A</td>\n",
       "      <td>COM0055473</td>\n",
       "      <td>B</td>\n",
       "      <td>4.0</td>\n",
       "      <td>1800.0</td>\n",
       "      <td>...</td>\n",
       "      <td>N</td>\n",
       "      <td>S133</td>\n",
       "      <td>B</td>\n",
       "      <td>600.0</td>\n",
       "      <td>NaN</td>\n",
       "      <td>NaN</td>\n",
       "      <td>NaN</td>\n",
       "      <td>NaN</td>\n",
       "      <td>0</td>\n",
       "      <td>0</td>\n",
       "    </tr>\n",
       "    <tr>\n",
       "      <th>164</th>\n",
       "      <td>APPC50368689037</td>\n",
       "      <td>Male</td>\n",
       "      <td>1975-12-13</td>\n",
       "      <td>2016-01-07</td>\n",
       "      <td>C10006</td>\n",
       "      <td>A</td>\n",
       "      <td>COM0033955</td>\n",
       "      <td>A</td>\n",
       "      <td>4.0</td>\n",
       "      <td>20000.0</td>\n",
       "      <td>...</td>\n",
       "      <td>Y</td>\n",
       "      <td>S133</td>\n",
       "      <td>E</td>\n",
       "      <td>600.0</td>\n",
       "      <td>20000.0</td>\n",
       "      <td>5.0</td>\n",
       "      <td>15.50</td>\n",
       "      <td>481.0</td>\n",
       "      <td>10</td>\n",
       "      <td>0</td>\n",
       "    </tr>\n",
       "    <tr>\n",
       "      <th>171</th>\n",
       "      <td>APPJ60753287728</td>\n",
       "      <td>Male</td>\n",
       "      <td>1975-12-13</td>\n",
       "      <td>2016-01-07</td>\n",
       "      <td>C10006</td>\n",
       "      <td>A</td>\n",
       "      <td>COM0033973</td>\n",
       "      <td>C</td>\n",
       "      <td>4.0</td>\n",
       "      <td>19850.0</td>\n",
       "      <td>...</td>\n",
       "      <td>Y</td>\n",
       "      <td>S122</td>\n",
       "      <td>E</td>\n",
       "      <td>600.0</td>\n",
       "      <td>20000.0</td>\n",
       "      <td>5.0</td>\n",
       "      <td>15.50</td>\n",
       "      <td>481.0</td>\n",
       "      <td>10</td>\n",
       "      <td>0</td>\n",
       "    </tr>\n",
       "    <tr>\n",
       "      <th>...</th>\n",
       "      <td>...</td>\n",
       "      <td>...</td>\n",
       "      <td>...</td>\n",
       "      <td>...</td>\n",
       "      <td>...</td>\n",
       "      <td>...</td>\n",
       "      <td>...</td>\n",
       "      <td>...</td>\n",
       "      <td>...</td>\n",
       "      <td>...</td>\n",
       "      <td>...</td>\n",
       "      <td>...</td>\n",
       "      <td>...</td>\n",
       "      <td>...</td>\n",
       "      <td>...</td>\n",
       "      <td>...</td>\n",
       "      <td>...</td>\n",
       "      <td>...</td>\n",
       "      <td>...</td>\n",
       "      <td>...</td>\n",
       "      <td>...</td>\n",
       "    </tr>\n",
       "    <tr>\n",
       "      <th>69619</th>\n",
       "      <td>APPP50413694745</td>\n",
       "      <td>Female</td>\n",
       "      <td>1986-11-18</td>\n",
       "      <td>2016-09-30</td>\n",
       "      <td>C10003</td>\n",
       "      <td>A</td>\n",
       "      <td>COM0053171</td>\n",
       "      <td>A</td>\n",
       "      <td>4.0</td>\n",
       "      <td>1500.0</td>\n",
       "      <td>...</td>\n",
       "      <td>N</td>\n",
       "      <td>S122</td>\n",
       "      <td>G</td>\n",
       "      <td>0.0</td>\n",
       "      <td>NaN</td>\n",
       "      <td>NaN</td>\n",
       "      <td>NaN</td>\n",
       "      <td>NaN</td>\n",
       "      <td>0</td>\n",
       "      <td>0</td>\n",
       "    </tr>\n",
       "    <tr>\n",
       "      <th>69630</th>\n",
       "      <td>APPC10432434003</td>\n",
       "      <td>Female</td>\n",
       "      <td>1987-12-05</td>\n",
       "      <td>2016-09-30</td>\n",
       "      <td>C10003</td>\n",
       "      <td>A</td>\n",
       "      <td>COM0033144</td>\n",
       "      <td>B</td>\n",
       "      <td>4.0</td>\n",
       "      <td>1500.0</td>\n",
       "      <td>...</td>\n",
       "      <td>N</td>\n",
       "      <td>S122</td>\n",
       "      <td>G</td>\n",
       "      <td>199.2</td>\n",
       "      <td>NaN</td>\n",
       "      <td>NaN</td>\n",
       "      <td>NaN</td>\n",
       "      <td>NaN</td>\n",
       "      <td>0</td>\n",
       "      <td>0</td>\n",
       "    </tr>\n",
       "    <tr>\n",
       "      <th>69637</th>\n",
       "      <td>APPM60551988006</td>\n",
       "      <td>Male</td>\n",
       "      <td>1979-07-18</td>\n",
       "      <td>2016-09-30</td>\n",
       "      <td>C10001</td>\n",
       "      <td>A</td>\n",
       "      <td>COM0020197</td>\n",
       "      <td>A</td>\n",
       "      <td>4.0</td>\n",
       "      <td>4000.0</td>\n",
       "      <td>...</td>\n",
       "      <td>Y</td>\n",
       "      <td>S122</td>\n",
       "      <td>G</td>\n",
       "      <td>0.0</td>\n",
       "      <td>85000.0</td>\n",
       "      <td>4.0</td>\n",
       "      <td>15.25</td>\n",
       "      <td>2376.0</td>\n",
       "      <td>10</td>\n",
       "      <td>0</td>\n",
       "    </tr>\n",
       "    <tr>\n",
       "      <th>69698</th>\n",
       "      <td>APPD90796759944</td>\n",
       "      <td>Male</td>\n",
       "      <td>1987-12-22</td>\n",
       "      <td>2016-09-30</td>\n",
       "      <td>C10001</td>\n",
       "      <td>A</td>\n",
       "      <td>COM0009891</td>\n",
       "      <td>A</td>\n",
       "      <td>4.0</td>\n",
       "      <td>3200.0</td>\n",
       "      <td>...</td>\n",
       "      <td>Y</td>\n",
       "      <td>S122</td>\n",
       "      <td>G</td>\n",
       "      <td>NaN</td>\n",
       "      <td>50000.0</td>\n",
       "      <td>5.0</td>\n",
       "      <td>NaN</td>\n",
       "      <td>NaN</td>\n",
       "      <td>0</td>\n",
       "      <td>0</td>\n",
       "    </tr>\n",
       "    <tr>\n",
       "      <th>69712</th>\n",
       "      <td>APPZ60733046119</td>\n",
       "      <td>Male</td>\n",
       "      <td>1989-12-31</td>\n",
       "      <td>2016-09-30</td>\n",
       "      <td>C10003</td>\n",
       "      <td>A</td>\n",
       "      <td>COM0000056</td>\n",
       "      <td>A</td>\n",
       "      <td>1.0</td>\n",
       "      <td>4230.0</td>\n",
       "      <td>...</td>\n",
       "      <td>Y</td>\n",
       "      <td>S122</td>\n",
       "      <td>G</td>\n",
       "      <td>0.0</td>\n",
       "      <td>69000.0</td>\n",
       "      <td>4.0</td>\n",
       "      <td>13.99</td>\n",
       "      <td>1885.0</td>\n",
       "      <td>10</td>\n",
       "      <td>0</td>\n",
       "    </tr>\n",
       "  </tbody>\n",
       "</table>\n",
       "<p>6035 rows × 22 columns</p>\n",
       "</div>"
      ],
      "text/plain": [
       "                    ID  Gender        DOB Lead_Creation_Date City_Code  \\\n",
       "112    APPV20785952136  Female 1987-08-30         2016-01-07    C10005   \n",
       "113    APPX70088104309    Male 1987-08-30         2016-01-07    C10005   \n",
       "131    APPP90838484136  Female 1991-04-30         2016-01-07    C10001   \n",
       "164    APPC50368689037    Male 1975-12-13         2016-01-07    C10006   \n",
       "171    APPJ60753287728    Male 1975-12-13         2016-01-07    C10006   \n",
       "...                ...     ...        ...                ...       ...   \n",
       "69619  APPP50413694745  Female 1986-11-18         2016-09-30    C10003   \n",
       "69630  APPC10432434003  Female 1987-12-05         2016-09-30    C10003   \n",
       "69637  APPM60551988006    Male 1979-07-18         2016-09-30    C10001   \n",
       "69698  APPD90796759944    Male 1987-12-22         2016-09-30    C10001   \n",
       "69712  APPZ60733046119    Male 1989-12-31         2016-09-30    C10003   \n",
       "\n",
       "      City_Category Employer_Code Employer_Category1  Employer_Category2  \\\n",
       "112               A    COM0000265                  B                 4.0   \n",
       "113               A    COM0000265                  B                 4.0   \n",
       "131               A    COM0055473                  B                 4.0   \n",
       "164               A    COM0033955                  A                 4.0   \n",
       "171               A    COM0033973                  C                 4.0   \n",
       "...             ...           ...                ...                 ...   \n",
       "69619             A    COM0053171                  A                 4.0   \n",
       "69630             A    COM0033144                  B                 4.0   \n",
       "69637             A    COM0020197                  A                 4.0   \n",
       "69698             A    COM0009891                  A                 4.0   \n",
       "69712             A    COM0000056                  A                 1.0   \n",
       "\n",
       "       Monthly_Income  ... Contacted Source Source_Category Existing_EMI  \\\n",
       "112            1700.0  ...         N   S133               B          0.0   \n",
       "113            2000.0  ...         Y   S133               B          0.0   \n",
       "131            1800.0  ...         N   S133               B        600.0   \n",
       "164           20000.0  ...         Y   S133               E        600.0   \n",
       "171           19850.0  ...         Y   S122               E        600.0   \n",
       "...               ...  ...       ...    ...             ...          ...   \n",
       "69619          1500.0  ...         N   S122               G          0.0   \n",
       "69630          1500.0  ...         N   S122               G        199.2   \n",
       "69637          4000.0  ...         Y   S122               G          0.0   \n",
       "69698          3200.0  ...         Y   S122               G          NaN   \n",
       "69712          4230.0  ...         Y   S122               G          0.0   \n",
       "\n",
       "      Loan_Amount  Loan_Period  Interest_Rate     EMI  Var1  Approved  \n",
       "112           NaN          NaN            NaN     NaN     0         0  \n",
       "113       10000.0          2.0            NaN     NaN     4         0  \n",
       "131           NaN          NaN            NaN     NaN     0         0  \n",
       "164       20000.0          5.0          15.50   481.0    10         0  \n",
       "171       20000.0          5.0          15.50   481.0    10         0  \n",
       "...           ...          ...            ...     ...   ...       ...  \n",
       "69619         NaN          NaN            NaN     NaN     0         0  \n",
       "69630         NaN          NaN            NaN     NaN     0         0  \n",
       "69637     85000.0          4.0          15.25  2376.0    10         0  \n",
       "69698     50000.0          5.0            NaN     NaN     0         0  \n",
       "69712     69000.0          4.0          13.99  1885.0    10         0  \n",
       "\n",
       "[6035 rows x 22 columns]"
      ]
     },
     "execution_count": 56,
     "metadata": {},
     "output_type": "execute_result"
    }
   ],
   "source": [
    "df2.loc[(df2.City_Category=='A') & (df2.Primary_Bank_Type.isna())]\n"
   ]
  },
  {
   "cell_type": "code",
   "execution_count": 57,
   "id": "cd111081",
   "metadata": {},
   "outputs": [],
   "source": [
    "df2.loc[(df2['City_Category'] == 'A') & (df2['Primary_Bank_Type'].isna()), 'Primary_Bank_Type'] = 'P'\n",
    "df2.loc[(df2['City_Category'] == 'B') & (df2['Primary_Bank_Type'].isna()), 'Primary_Bank_Type'] = 'P'\n",
    "df2.loc[(df2['City_Category'] == 'C') & (df2['Primary_Bank_Type'].isna()), 'Primary_Bank_Type'] = 'G'\n"
   ]
  },
  {
   "cell_type": "markdown",
   "id": "acbc3e1a",
   "metadata": {},
   "source": [
    "* imputation done on basis of mode"
   ]
  },
  {
   "cell_type": "code",
   "execution_count": 58,
   "id": "7177797b",
   "metadata": {},
   "outputs": [
    {
     "data": {
      "text/plain": [
       "ID                                         0\n",
       "Gender                                     0\n",
       "DOB                                       15\n",
       "Lead_Creation_Date                         0\n",
       "City_Code                                814\n",
       "City_Category                              0\n",
       "Employer_Code                           4018\n",
       "Employer_Category1                         0\n",
       "Employer_Category2                         0\n",
       "Monthly_Income                             0\n",
       "Customer_Existing_Primary_Bank_Code     9391\n",
       "Primary_Bank_Type                          0\n",
       "Contacted                                  0\n",
       "Source                                     0\n",
       "Source_Category                            0\n",
       "Existing_EMI                              51\n",
       "Loan_Amount                            27709\n",
       "Loan_Period                            27709\n",
       "Interest_Rate                          47437\n",
       "EMI                                    47437\n",
       "Var1                                       0\n",
       "Approved                                   0\n",
       "dtype: int64"
      ]
     },
     "execution_count": 58,
     "metadata": {},
     "output_type": "execute_result"
    }
   ],
   "source": [
    "df2.isnull().sum()"
   ]
  },
  {
   "cell_type": "code",
   "execution_count": 59,
   "id": "b6b2d42a",
   "metadata": {},
   "outputs": [
    {
     "data": {
      "text/html": [
       "<div>\n",
       "<style scoped>\n",
       "    .dataframe tbody tr th:only-of-type {\n",
       "        vertical-align: middle;\n",
       "    }\n",
       "\n",
       "    .dataframe tbody tr th {\n",
       "        vertical-align: top;\n",
       "    }\n",
       "\n",
       "    .dataframe thead th {\n",
       "        text-align: right;\n",
       "    }\n",
       "</style>\n",
       "<table border=\"1\" class=\"dataframe\">\n",
       "  <thead>\n",
       "    <tr style=\"text-align: right;\">\n",
       "      <th></th>\n",
       "      <th>Monthly_Income</th>\n",
       "      <th>Existing_EMI</th>\n",
       "    </tr>\n",
       "  </thead>\n",
       "  <tbody>\n",
       "    <tr>\n",
       "      <th>Monthly_Income</th>\n",
       "      <td>1.000000</td>\n",
       "      <td>0.245826</td>\n",
       "    </tr>\n",
       "    <tr>\n",
       "      <th>Existing_EMI</th>\n",
       "      <td>0.245826</td>\n",
       "      <td>1.000000</td>\n",
       "    </tr>\n",
       "  </tbody>\n",
       "</table>\n",
       "</div>"
      ],
      "text/plain": [
       "                Monthly_Income  Existing_EMI\n",
       "Monthly_Income        1.000000      0.245826\n",
       "Existing_EMI          0.245826      1.000000"
      ]
     },
     "execution_count": 59,
     "metadata": {},
     "output_type": "execute_result"
    }
   ],
   "source": [
    "df2.loc[:,['Monthly_Income','Existing_EMI']].corr()\n"
   ]
  },
  {
   "cell_type": "code",
   "execution_count": 60,
   "id": "ac2c2117",
   "metadata": {},
   "outputs": [
    {
     "data": {
      "text/html": [
       "<div>\n",
       "<style scoped>\n",
       "    .dataframe tbody tr th:only-of-type {\n",
       "        vertical-align: middle;\n",
       "    }\n",
       "\n",
       "    .dataframe tbody tr th {\n",
       "        vertical-align: top;\n",
       "    }\n",
       "\n",
       "    .dataframe thead th {\n",
       "        text-align: right;\n",
       "    }\n",
       "</style>\n",
       "<table border=\"1\" class=\"dataframe\">\n",
       "  <thead>\n",
       "    <tr style=\"text-align: right;\">\n",
       "      <th></th>\n",
       "      <th>ID</th>\n",
       "      <th>Gender</th>\n",
       "      <th>DOB</th>\n",
       "      <th>Lead_Creation_Date</th>\n",
       "      <th>City_Code</th>\n",
       "      <th>City_Category</th>\n",
       "      <th>Employer_Code</th>\n",
       "      <th>Employer_Category1</th>\n",
       "      <th>Employer_Category2</th>\n",
       "      <th>Monthly_Income</th>\n",
       "      <th>...</th>\n",
       "      <th>Contacted</th>\n",
       "      <th>Source</th>\n",
       "      <th>Source_Category</th>\n",
       "      <th>Existing_EMI</th>\n",
       "      <th>Loan_Amount</th>\n",
       "      <th>Loan_Period</th>\n",
       "      <th>Interest_Rate</th>\n",
       "      <th>EMI</th>\n",
       "      <th>Var1</th>\n",
       "      <th>Approved</th>\n",
       "    </tr>\n",
       "  </thead>\n",
       "  <tbody>\n",
       "    <tr>\n",
       "      <th>68847</th>\n",
       "      <td>APPE70691144005</td>\n",
       "      <td>Male</td>\n",
       "      <td>1988-12-22</td>\n",
       "      <td>2016-09-30</td>\n",
       "      <td>C10005</td>\n",
       "      <td>A</td>\n",
       "      <td>COM0009891</td>\n",
       "      <td>A</td>\n",
       "      <td>4.0</td>\n",
       "      <td>2500.0</td>\n",
       "      <td>...</td>\n",
       "      <td>Y</td>\n",
       "      <td>S122</td>\n",
       "      <td>G</td>\n",
       "      <td>NaN</td>\n",
       "      <td>10000.0</td>\n",
       "      <td>3.0</td>\n",
       "      <td>15.5</td>\n",
       "      <td>349.0</td>\n",
       "      <td>7</td>\n",
       "      <td>1</td>\n",
       "    </tr>\n",
       "  </tbody>\n",
       "</table>\n",
       "<p>1 rows × 22 columns</p>\n",
       "</div>"
      ],
      "text/plain": [
       "                    ID Gender        DOB Lead_Creation_Date City_Code  \\\n",
       "68847  APPE70691144005   Male 1988-12-22         2016-09-30    C10005   \n",
       "\n",
       "      City_Category Employer_Code Employer_Category1  Employer_Category2  \\\n",
       "68847             A    COM0009891                  A                 4.0   \n",
       "\n",
       "       Monthly_Income  ... Contacted Source Source_Category Existing_EMI  \\\n",
       "68847          2500.0  ...         Y   S122               G          NaN   \n",
       "\n",
       "      Loan_Amount  Loan_Period  Interest_Rate    EMI  Var1  Approved  \n",
       "68847     10000.0          3.0           15.5  349.0     7         1  \n",
       "\n",
       "[1 rows x 22 columns]"
      ]
     },
     "execution_count": 60,
     "metadata": {},
     "output_type": "execute_result"
    }
   ],
   "source": [
    "df2.loc[(df2.Approved==1)&(df2.Existing_EMI.isnull())]"
   ]
  },
  {
   "cell_type": "code",
   "execution_count": 61,
   "id": "926f5234",
   "metadata": {},
   "outputs": [],
   "source": [
    "df2.loc[df2.Existing_EMI.isna(),'Existing_EMI'] = df2.Existing_EMI.fillna(0)\n"
   ]
  },
  {
   "cell_type": "code",
   "execution_count": 62,
   "id": "fe7b0a46",
   "metadata": {},
   "outputs": [
    {
     "data": {
      "text/plain": [
       "0        B001\n",
       "1        B002\n",
       "2        B003\n",
       "3        B003\n",
       "4        B001\n",
       "         ... \n",
       "69708    B002\n",
       "69709    B002\n",
       "69710    B030\n",
       "69711    B002\n",
       "69712    B001\n",
       "Name: Customer_Existing_Primary_Bank_Code, Length: 69713, dtype: object"
      ]
     },
     "execution_count": 62,
     "metadata": {},
     "output_type": "execute_result"
    }
   ],
   "source": [
    "df2.groupby('Source').Customer_Existing_Primary_Bank_Code.apply(lambda x: x.replace(to_replace=np.nan, value='B001' if len(x.mode()) == 0 else x.mode()[0]))"
   ]
  },
  {
   "cell_type": "code",
   "execution_count": 63,
   "id": "1fc101a1",
   "metadata": {},
   "outputs": [
    {
     "data": {
      "text/plain": [
       "array(['B001', 'B002', 'B003', 'B014', 'B006', 'B017', nan, 'B004',\n",
       "       'B023', 'B011', 'B022', 'B009', 'B021', 'B016', 'B033', 'B043',\n",
       "       'B005', 'B028', 'B008', 'B047', 'B024', 'B032', 'B010', 'B020',\n",
       "       'B031', 'B025', 'B018', 'B007', 'B012', 'B039', 'B015', 'B026',\n",
       "       'B030', 'B037', 'B045', 'B041', 'B013', 'B044', 'B019', 'B036',\n",
       "       'B042', 'B027', 'B038', 'B034', 'B035', 'B040', 'B029', 'B046',\n",
       "       'B055', 'B049', 'B048', 'B050', 'B051', 'B056', 'B053', 'B054',\n",
       "       'B052', 'B057'], dtype=object)"
      ]
     },
     "execution_count": 63,
     "metadata": {},
     "output_type": "execute_result"
    }
   ],
   "source": [
    "df.Customer_Existing_Primary_Bank_Code.unique()"
   ]
  },
  {
   "cell_type": "code",
   "execution_count": null,
   "id": "3dcb97d6",
   "metadata": {},
   "outputs": [],
   "source": []
  },
  {
   "cell_type": "code",
   "execution_count": 64,
   "id": "6ac1a17c",
   "metadata": {},
   "outputs": [
    {
     "data": {
      "text/plain": [
       "ID                                         0\n",
       "Gender                                     0\n",
       "DOB                                       15\n",
       "Lead_Creation_Date                         0\n",
       "City_Code                                814\n",
       "City_Category                              0\n",
       "Employer_Code                           4018\n",
       "Employer_Category1                         0\n",
       "Employer_Category2                         0\n",
       "Monthly_Income                             0\n",
       "Customer_Existing_Primary_Bank_Code     9391\n",
       "Primary_Bank_Type                          0\n",
       "Contacted                                  0\n",
       "Source                                     0\n",
       "Source_Category                            0\n",
       "Existing_EMI                               0\n",
       "Loan_Amount                            27709\n",
       "Loan_Period                            27709\n",
       "Interest_Rate                          47437\n",
       "EMI                                    47437\n",
       "Var1                                       0\n",
       "Approved                                   0\n",
       "dtype: int64"
      ]
     },
     "execution_count": 64,
     "metadata": {},
     "output_type": "execute_result"
    }
   ],
   "source": [
    "df2.isnull().sum()"
   ]
  },
  {
   "cell_type": "markdown",
   "id": "58de0103",
   "metadata": {},
   "source": [
    "# Feature Engineering"
   ]
  },
  {
   "cell_type": "code",
   "execution_count": 65,
   "id": "c6f03091",
   "metadata": {},
   "outputs": [],
   "source": [
    "df2['Age']=df2.Lead_Creation_Date.dt.year-df2.DOB.dt.year"
   ]
  },
  {
   "cell_type": "code",
   "execution_count": 66,
   "id": "d0226c47",
   "metadata": {},
   "outputs": [],
   "source": [
    "age_=[]\n",
    "for i in df2['Age']:\n",
    "    if i<0:\n",
    "        age_.append(i+100)\n",
    "    elif i<18 :\n",
    "        age_.append(18)\n",
    "    else:\n",
    "        age_.append(i)"
   ]
  },
  {
   "cell_type": "code",
   "execution_count": 67,
   "id": "1cbca3cf",
   "metadata": {},
   "outputs": [],
   "source": [
    "df2['Age']=age_"
   ]
  },
  {
   "cell_type": "code",
   "execution_count": 68,
   "id": "10cde77a",
   "metadata": {},
   "outputs": [],
   "source": [
    "df2['Lead_Creation_Month']=df2.Lead_Creation_Date.dt.month"
   ]
  },
  {
   "cell_type": "code",
   "execution_count": 69,
   "id": "12f9ffd3",
   "metadata": {},
   "outputs": [
    {
     "data": {
      "text/plain": [
       "Lead_Creation_Month  Approved\n",
       "1                    0            1967\n",
       "                     1              27\n",
       "2                    0            3173\n",
       "                     1              27\n",
       "3                    0            1965\n",
       "                     1              38\n",
       "4                    0            2255\n",
       "                     1              43\n",
       "5                    0            2435\n",
       "                     1              41\n",
       "6                    0            2188\n",
       "                     1              32\n",
       "7                    0           15251\n",
       "                     1             215\n",
       "8                    0           15653\n",
       "                     1             266\n",
       "9                    0           18214\n",
       "                     1             232\n",
       "10                   0            1581\n",
       "                     1              35\n",
       "11                   0            1778\n",
       "                     1              22\n",
       "12                   0            2233\n",
       "                     1              42\n",
       "Name: Approved, dtype: int64"
      ]
     },
     "execution_count": 69,
     "metadata": {},
     "output_type": "execute_result"
    }
   ],
   "source": [
    "df2.groupby(['Lead_Creation_Month'])['Approved'].value_counts()"
   ]
  },
  {
   "cell_type": "markdown",
   "id": "aa42a408",
   "metadata": {},
   "source": [
    "* Most of the leads have been generated in july, august, setember"
   ]
  },
  {
   "cell_type": "code",
   "execution_count": 70,
   "id": "a90b0ac8",
   "metadata": {},
   "outputs": [],
   "source": [
    "df2.loc[df2.Age.isna(), 'Age'] = df2.Age.median()"
   ]
  },
  {
   "cell_type": "code",
   "execution_count": 71,
   "id": "488bf4b5",
   "metadata": {},
   "outputs": [],
   "source": [
    "def Age_Cat(x) :\n",
    "    if x <= 25 :\n",
    "        return('Young')\n",
    "    elif (x>25) and (x<=40) :\n",
    "        return('Middle-Aged')\n",
    "    elif (x>40) and (x<=60) :\n",
    "        return('Aged')\n",
    "    else :\n",
    "        return('Old')"
   ]
  },
  {
   "cell_type": "code",
   "execution_count": 72,
   "id": "2b86fbd9",
   "metadata": {},
   "outputs": [],
   "source": [
    "df2['Age_Cat']=df2.Age.apply(Age_Cat)"
   ]
  },
  {
   "cell_type": "code",
   "execution_count": 73,
   "id": "e09c4625",
   "metadata": {},
   "outputs": [
    {
     "data": {
      "text/plain": [
       "Middle-Aged    48120\n",
       "Young          15066\n",
       "Aged            6389\n",
       "Old              138\n",
       "Name: Age_Cat, dtype: int64"
      ]
     },
     "execution_count": 73,
     "metadata": {},
     "output_type": "execute_result"
    }
   ],
   "source": [
    "df2.Age_Cat.value_counts()"
   ]
  },
  {
   "cell_type": "markdown",
   "id": "f8ed6f42",
   "metadata": {},
   "source": [
    "* Most of the leads are middle-aged and young people"
   ]
  },
  {
   "cell_type": "code",
   "execution_count": 74,
   "id": "1fc66929",
   "metadata": {
    "scrolled": true
   },
   "outputs": [
    {
     "data": {
      "text/plain": [
       "Ttest_indResult(statistic=-8.447515953465922, pvalue=3.003711525935521e-17)"
      ]
     },
     "execution_count": 74,
     "metadata": {},
     "output_type": "execute_result"
    }
   ],
   "source": [
    "from scipy.stats import ttest_ind\n",
    "\n",
    "ttest_ind(df2.Age,df2.Monthly_Income)"
   ]
  },
  {
   "cell_type": "markdown",
   "id": "98f6ad20",
   "metadata": {},
   "source": [
    "* There is a realtion between age and monthly income"
   ]
  },
  {
   "cell_type": "code",
   "execution_count": 75,
   "id": "efeef804",
   "metadata": {},
   "outputs": [],
   "source": [
    "from statsmodels.stats.anova import anova_lm\n",
    "from statsmodels.formula.api import ols\n"
   ]
  },
  {
   "cell_type": "code",
   "execution_count": 76,
   "id": "83708095",
   "metadata": {},
   "outputs": [
    {
     "data": {
      "text/html": [
       "<div>\n",
       "<style scoped>\n",
       "    .dataframe tbody tr th:only-of-type {\n",
       "        vertical-align: middle;\n",
       "    }\n",
       "\n",
       "    .dataframe tbody tr th {\n",
       "        vertical-align: top;\n",
       "    }\n",
       "\n",
       "    .dataframe thead th {\n",
       "        text-align: right;\n",
       "    }\n",
       "</style>\n",
       "<table border=\"1\" class=\"dataframe\">\n",
       "  <thead>\n",
       "    <tr style=\"text-align: right;\">\n",
       "      <th></th>\n",
       "      <th>df</th>\n",
       "      <th>sum_sq</th>\n",
       "      <th>mean_sq</th>\n",
       "      <th>F</th>\n",
       "      <th>PR(&gt;F)</th>\n",
       "    </tr>\n",
       "  </thead>\n",
       "  <tbody>\n",
       "    <tr>\n",
       "      <th>Age_Cat</th>\n",
       "      <td>3.0</td>\n",
       "      <td>1.677955e+11</td>\n",
       "      <td>5.593182e+10</td>\n",
       "      <td>1.831282</td>\n",
       "      <td>0.139018</td>\n",
       "    </tr>\n",
       "    <tr>\n",
       "      <th>Residual</th>\n",
       "      <td>69709.0</td>\n",
       "      <td>2.129082e+15</td>\n",
       "      <td>3.054243e+10</td>\n",
       "      <td>NaN</td>\n",
       "      <td>NaN</td>\n",
       "    </tr>\n",
       "  </tbody>\n",
       "</table>\n",
       "</div>"
      ],
      "text/plain": [
       "               df        sum_sq       mean_sq         F    PR(>F)\n",
       "Age_Cat       3.0  1.677955e+11  5.593182e+10  1.831282  0.139018\n",
       "Residual  69709.0  2.129082e+15  3.054243e+10       NaN       NaN"
      ]
     },
     "execution_count": 76,
     "metadata": {},
     "output_type": "execute_result"
    }
   ],
   "source": [
    "anova_lm(ols('Monthly_Income~Age_Cat', data = df2).fit()) "
   ]
  },
  {
   "cell_type": "markdown",
   "id": "bd73728b",
   "metadata": {},
   "source": [
    "* The category Age_cat created is relevent"
   ]
  },
  {
   "cell_type": "code",
   "execution_count": 77,
   "id": "5b5cca90",
   "metadata": {},
   "outputs": [
    {
     "data": {
      "image/png": "[encoded data removed]",
      "text/plain": [
       "<Figure size 432x288 with 1 Axes>"
      ]
     },
     "metadata": {
      "needs_background": "light"
     },
     "output_type": "display_data"
    }
   ],
   "source": [
    "sns.boxplot(x = 'Age_Cat', y = 'Monthly_Income', data = df2)\n",
    "plt.show()"
   ]
  },
  {
   "cell_type": "markdown",
   "id": "3b1b3678",
   "metadata": {},
   "source": [
    "* Most of the applicants are middle_aged"
   ]
  },
  {
   "cell_type": "code",
   "execution_count": 78,
   "id": "e5127135",
   "metadata": {},
   "outputs": [
    {
     "data": {
      "text/plain": [
       "1.2251165635044389e-207"
      ]
     },
     "execution_count": 78,
     "metadata": {},
     "output_type": "execute_result"
    }
   ],
   "source": [
    "freq = pd.crosstab(df2.Employer_Category1,df2.Age_Cat)\n",
    "\n",
    "stats.chi2_contingency(freq)[1] "
   ]
  },
  {
   "cell_type": "markdown",
   "id": "6b38c4e6",
   "metadata": {},
   "source": [
    "* Employer categoryy 1 and age category might be related"
   ]
  },
  {
   "cell_type": "code",
   "execution_count": 79,
   "id": "cd183a6b",
   "metadata": {},
   "outputs": [
    {
     "data": {
      "text/plain": [
       "4.1438017964944525e-68"
      ]
     },
     "execution_count": 79,
     "metadata": {},
     "output_type": "execute_result"
    }
   ],
   "source": [
    "freq = pd.crosstab(df2.Employer_Category2,df2.Age_Cat)\n",
    "\n",
    "stats.chi2_contingency(freq)[1]"
   ]
  },
  {
   "cell_type": "markdown",
   "id": "4207ff16",
   "metadata": {},
   "source": [
    "* Employer category 2 and age category might be related"
   ]
  },
  {
   "cell_type": "code",
   "execution_count": 80,
   "id": "f1e59065",
   "metadata": {},
   "outputs": [
    {
     "data": {
      "text/plain": [
       "Age_Cat      Employer_Category1\n",
       "Aged         A                     3000.0\n",
       "             B                     3100.0\n",
       "             C                     3600.0\n",
       "Middle-Aged  A                     2500.0\n",
       "             B                     2800.0\n",
       "             C                     2700.0\n",
       "Old          A                     2500.0\n",
       "             B                     3000.0\n",
       "             C                     3000.0\n",
       "Young        A                     1800.0\n",
       "             B                     1889.5\n",
       "             C                     1800.0\n",
       "Name: Monthly_Income, dtype: float64"
      ]
     },
     "execution_count": 80,
     "metadata": {},
     "output_type": "execute_result"
    }
   ],
   "source": [
    "df2.groupby(['Age_Cat','Employer_Category1'])['Monthly_Income'].median()"
   ]
  },
  {
   "cell_type": "markdown",
   "id": "58f8d270",
   "metadata": {},
   "source": [
    "* There is an obvious trend between monthly income and age category"
   ]
  },
  {
   "cell_type": "code",
   "execution_count": 81,
   "id": "254fd273",
   "metadata": {},
   "outputs": [
    {
     "data": {
      "text/plain": [
       "Age_Cat      City_Category\n",
       "Aged         A                3350.0\n",
       "             B                3000.0\n",
       "             C                3000.0\n",
       "Middle-Aged  A                2750.0\n",
       "             B                2281.3\n",
       "             C                2150.0\n",
       "Old          A                2500.0\n",
       "             B                2432.3\n",
       "             C                2500.0\n",
       "Young        A                1900.0\n",
       "             B                1600.0\n",
       "             C                1550.0\n",
       "Name: Monthly_Income, dtype: float64"
      ]
     },
     "execution_count": 81,
     "metadata": {},
     "output_type": "execute_result"
    }
   ],
   "source": [
    "df2.groupby(['Age_Cat','City_Category'])['Monthly_Income'].median()"
   ]
  },
  {
   "cell_type": "markdown",
   "id": "f24fab5f",
   "metadata": {},
   "source": [
    "* There seems to be a relatioship between age, city category and the median income of the applicants/leads"
   ]
  },
  {
   "cell_type": "code",
   "execution_count": 82,
   "id": "2cfa086f",
   "metadata": {},
   "outputs": [
    {
     "data": {
      "text/plain": [
       "Age_Cat      Employer_Category2\n",
       "Aged         1.0                   4550.00\n",
       "             2.0                   5000.00\n",
       "             3.0                   3580.00\n",
       "             4.0                   3007.70\n",
       "Middle-Aged  1.0                   3800.00\n",
       "             2.0                   3350.00\n",
       "             3.0                   2351.50\n",
       "             4.0                   2500.00\n",
       "Old          1.0                   3112.25\n",
       "             4.0                   2500.00\n",
       "Young        1.0                   2300.00\n",
       "             2.0                   2100.00\n",
       "             3.0                   1710.00\n",
       "             4.0                   1800.00\n",
       "Name: Monthly_Income, dtype: float64"
      ]
     },
     "execution_count": 82,
     "metadata": {},
     "output_type": "execute_result"
    }
   ],
   "source": [
    "df2.groupby(['Age_Cat','Employer_Category2'])['Monthly_Income'].median() "
   ]
  },
  {
   "cell_type": "markdown",
   "id": "af9a42e1",
   "metadata": {},
   "source": [
    "*  We can infer that EC2 has been categorized in a way that cat 1 and 4 are related to buisnesses where as 2 & 3 may be related to conventional workforce.(yeh bolna theek nhi h baaki dekhlo)"
   ]
  },
  {
   "cell_type": "code",
   "execution_count": 83,
   "id": "42d630ae",
   "metadata": {},
   "outputs": [
    {
     "data": {
      "text/plain": [
       "Employer_Code\n",
       "COM0000002    457\n",
       "COM0000003    324\n",
       "COM0000004    262\n",
       "COM0000005    243\n",
       "COM0000006    195\n",
       "             ... \n",
       "COM0057157      1\n",
       "COM0057158      1\n",
       "COM0057159      1\n",
       "COM0057160      1\n",
       "COM0057164      1\n",
       "Name: ID, Length: 36617, dtype: int64"
      ]
     },
     "execution_count": 83,
     "metadata": {},
     "output_type": "execute_result"
    }
   ],
   "source": [
    "df2.groupby('Employer_Code')['ID'].nunique()"
   ]
  },
  {
   "cell_type": "markdown",
   "id": "f451aeb2",
   "metadata": {},
   "source": [
    "* Maximum apllicants are from Company encoded as COM0000002."
   ]
  },
  {
   "cell_type": "code",
   "execution_count": 84,
   "id": "ce8d8382",
   "metadata": {},
   "outputs": [
    {
     "data": {
      "text/plain": [
       "Employer_Code  Employer_Category1  Employer_Category2\n",
       "COM0024329     A                   4.0                     1\n",
       "COM0035274     B                   4.0                     1\n",
       "COM0035272     A                   4.0                     1\n",
       "COM0035271     A                   4.0                     1\n",
       "COM0035270     B                   4.0                     1\n",
       "                                                        ... \n",
       "COM0000006     C                   1.0                   195\n",
       "COM0000005     A                   1.0                   243\n",
       "COM0000004     B                   2.0                   262\n",
       "COM0000003     B                   2.0                   324\n",
       "COM0000002     C                   1.0                   457\n",
       "Name: ID, Length: 36617, dtype: int64"
      ]
     },
     "execution_count": 84,
     "metadata": {},
     "output_type": "execute_result"
    }
   ],
   "source": [
    "df2.groupby(['Employer_Code','Employer_Category1','Employer_Category2'])['ID'].nunique().sort_values(ascending = True)   "
   ]
  },
  {
   "cell_type": "markdown",
   "id": "946f79f2",
   "metadata": {},
   "source": [
    "* Hypothesis - EC2 cat 4 may relate to small buisness. ## Need strong evidence from Income data// Checking for the same."
   ]
  },
  {
   "cell_type": "code",
   "execution_count": 85,
   "id": "a7e37bea",
   "metadata": {},
   "outputs": [
    {
     "data": {
      "text/plain": [
       "COM0000002    457\n",
       "COM0000003    324\n",
       "COM0000004    262\n",
       "COM0000005    243\n",
       "COM0000006    195\n",
       "             ... \n",
       "COM0043156      1\n",
       "COM0020284      1\n",
       "COM0043193      1\n",
       "COM0055735      1\n",
       "COM0039116      1\n",
       "Name: Employer_Code, Length: 36617, dtype: int64"
      ]
     },
     "execution_count": 85,
     "metadata": {},
     "output_type": "execute_result"
    }
   ],
   "source": [
    "df2.Employer_Code.value_counts() "
   ]
  },
  {
   "cell_type": "markdown",
   "id": "e99b1fa1",
   "metadata": {},
   "source": [
    "* seeing so many emplloyees related to 1 employer code , we categorise them into companies"
   ]
  },
  {
   "cell_type": "markdown",
   "id": "81583eed",
   "metadata": {},
   "source": [
    "#### Categorizing Employer_Code -\n",
    "\n",
    "* 1.Very Small Scale  Buisness (VS) - 1 to 5\n",
    "* 2.Moderately Small Scale Business(s) - 5 to 10\n",
    "* 3= Medium Enterprises(M) - 10 to 50\n",
    "* 4.Large Enterprises(L) - 50 to 100\n",
    "* 5.Very Large(VL) - 100 to 500"
   ]
  },
  {
   "cell_type": "code",
   "execution_count": 86,
   "id": "8d202452",
   "metadata": {},
   "outputs": [],
   "source": [
    "def EC(x) :\n",
    "    if x <=5 :\n",
    "        return('VS')\n",
    "    elif (x>5) and (x<=10) :\n",
    "        return('S')\n",
    "    elif (x>10) and (x<=50) :\n",
    "        return('M')\n",
    "    elif (x>50) and (x<=100) :\n",
    "        return('L')\n",
    "    elif (x>100) and (x<=500) :\n",
    "        return('VL')\n",
    "    else :\n",
    "        return('Missing')"
   ]
  },
  {
   "cell_type": "code",
   "execution_count": 87,
   "id": "3e7506df",
   "metadata": {},
   "outputs": [],
   "source": [
    "x = df2.Employer_Code.value_counts()"
   ]
  },
  {
   "cell_type": "code",
   "execution_count": 88,
   "id": "dbc4f675",
   "metadata": {},
   "outputs": [],
   "source": [
    "df2['EC3'] = df2.Employer_Code.map(x)\n",
    "df2['Employer_Cat3'] = df2.EC3.apply(EC)"
   ]
  },
  {
   "cell_type": "code",
   "execution_count": 89,
   "id": "5f41d28b",
   "metadata": {},
   "outputs": [],
   "source": [
    "df2.drop('EC3',axis=1,inplace=True)"
   ]
  },
  {
   "cell_type": "code",
   "execution_count": 90,
   "id": "bd83ca74",
   "metadata": {},
   "outputs": [
    {
     "data": {
      "image/png": "[encoded data removed]",
      "text/plain": [
       "<Figure size 432x288 with 1 Axes>"
      ]
     },
     "metadata": {
      "needs_background": "light"
     },
     "output_type": "display_data"
    }
   ],
   "source": [
    "sns.boxplot(y=df2.Employer_Cat3,x=df2.Monthly_Income.clip(upper=df2.Monthly_Income.quantile(0.99)))\n",
    "plt.show()\n"
   ]
  },
  {
   "cell_type": "markdown",
   "id": "08522cea",
   "metadata": {},
   "source": [
    "* The median monthly income in VSF is low as compared to other categories, corporates have the highest media n monthly income"
   ]
  },
  {
   "cell_type": "code",
   "execution_count": 91,
   "id": "eb0d4332",
   "metadata": {},
   "outputs": [
    {
     "data": {
      "text/plain": [
       "ID                                         0\n",
       "Gender                                     0\n",
       "DOB                                       15\n",
       "Lead_Creation_Date                         0\n",
       "City_Code                                814\n",
       "City_Category                              0\n",
       "Employer_Code                           4018\n",
       "Employer_Category1                         0\n",
       "Employer_Category2                         0\n",
       "Monthly_Income                             0\n",
       "Customer_Existing_Primary_Bank_Code     9391\n",
       "Primary_Bank_Type                          0\n",
       "Contacted                                  0\n",
       "Source                                     0\n",
       "Source_Category                            0\n",
       "Existing_EMI                               0\n",
       "Loan_Amount                            27709\n",
       "Loan_Period                            27709\n",
       "Interest_Rate                          47437\n",
       "EMI                                    47437\n",
       "Var1                                       0\n",
       "Approved                                   0\n",
       "Age                                        0\n",
       "Lead_Creation_Month                        0\n",
       "Age_Cat                                    0\n",
       "Employer_Cat3                              0\n",
       "dtype: int64"
      ]
     },
     "execution_count": 91,
     "metadata": {},
     "output_type": "execute_result"
    }
   ],
   "source": [
    "df2.isnull().sum()"
   ]
  },
  {
   "cell_type": "code",
   "execution_count": 92,
   "id": "b6db50cb",
   "metadata": {
    "scrolled": true
   },
   "outputs": [],
   "source": [
    "df2.drop(['DOB','Lead_Creation_Date'],axis=True,inplace=True)"
   ]
  },
  {
   "cell_type": "code",
   "execution_count": 93,
   "id": "bcf2e6c2",
   "metadata": {},
   "outputs": [
    {
     "data": {
      "text/html": [
       "<div>\n",
       "<style scoped>\n",
       "    .dataframe tbody tr th:only-of-type {\n",
       "        vertical-align: middle;\n",
       "    }\n",
       "\n",
       "    .dataframe tbody tr th {\n",
       "        vertical-align: top;\n",
       "    }\n",
       "\n",
       "    .dataframe thead th {\n",
       "        text-align: right;\n",
       "    }\n",
       "</style>\n",
       "<table border=\"1\" class=\"dataframe\">\n",
       "  <thead>\n",
       "    <tr style=\"text-align: right;\">\n",
       "      <th></th>\n",
       "      <th>ID</th>\n",
       "      <th>Gender</th>\n",
       "      <th>City_Code</th>\n",
       "      <th>City_Category</th>\n",
       "      <th>Employer_Code</th>\n",
       "      <th>Employer_Category1</th>\n",
       "      <th>Employer_Category2</th>\n",
       "      <th>Monthly_Income</th>\n",
       "      <th>Customer_Existing_Primary_Bank_Code</th>\n",
       "      <th>Primary_Bank_Type</th>\n",
       "      <th>...</th>\n",
       "      <th>Loan_Amount</th>\n",
       "      <th>Loan_Period</th>\n",
       "      <th>Interest_Rate</th>\n",
       "      <th>EMI</th>\n",
       "      <th>Var1</th>\n",
       "      <th>Approved</th>\n",
       "      <th>Age</th>\n",
       "      <th>Lead_Creation_Month</th>\n",
       "      <th>Age_Cat</th>\n",
       "      <th>Employer_Cat3</th>\n",
       "    </tr>\n",
       "  </thead>\n",
       "  <tbody>\n",
       "    <tr>\n",
       "      <th>0</th>\n",
       "      <td>APPC90493171225</td>\n",
       "      <td>Female</td>\n",
       "      <td>C10001</td>\n",
       "      <td>A</td>\n",
       "      <td>COM0044082</td>\n",
       "      <td>A</td>\n",
       "      <td>4.0</td>\n",
       "      <td>2000.0</td>\n",
       "      <td>B001</td>\n",
       "      <td>P</td>\n",
       "      <td>...</td>\n",
       "      <td>NaN</td>\n",
       "      <td>NaN</td>\n",
       "      <td>NaN</td>\n",
       "      <td>NaN</td>\n",
       "      <td>0</td>\n",
       "      <td>0</td>\n",
       "      <td>37.0</td>\n",
       "      <td>7</td>\n",
       "      <td>Middle-Aged</td>\n",
       "      <td>VS</td>\n",
       "    </tr>\n",
       "    <tr>\n",
       "      <th>1</th>\n",
       "      <td>APPD40611263344</td>\n",
       "      <td>Male</td>\n",
       "      <td>C10003</td>\n",
       "      <td>A</td>\n",
       "      <td>COM0000002</td>\n",
       "      <td>C</td>\n",
       "      <td>1.0</td>\n",
       "      <td>3500.0</td>\n",
       "      <td>B002</td>\n",
       "      <td>P</td>\n",
       "      <td>...</td>\n",
       "      <td>20000.0</td>\n",
       "      <td>2.0</td>\n",
       "      <td>13.25</td>\n",
       "      <td>953.0</td>\n",
       "      <td>10</td>\n",
       "      <td>0</td>\n",
       "      <td>30.0</td>\n",
       "      <td>4</td>\n",
       "      <td>Middle-Aged</td>\n",
       "      <td>VL</td>\n",
       "    </tr>\n",
       "    <tr>\n",
       "      <th>2</th>\n",
       "      <td>APPE70289249423</td>\n",
       "      <td>Male</td>\n",
       "      <td>C10125</td>\n",
       "      <td>C</td>\n",
       "      <td>COM0005267</td>\n",
       "      <td>C</td>\n",
       "      <td>4.0</td>\n",
       "      <td>2250.0</td>\n",
       "      <td>B003</td>\n",
       "      <td>G</td>\n",
       "      <td>...</td>\n",
       "      <td>45000.0</td>\n",
       "      <td>4.0</td>\n",
       "      <td>NaN</td>\n",
       "      <td>NaN</td>\n",
       "      <td>0</td>\n",
       "      <td>0</td>\n",
       "      <td>34.0</td>\n",
       "      <td>7</td>\n",
       "      <td>Middle-Aged</td>\n",
       "      <td>VS</td>\n",
       "    </tr>\n",
       "    <tr>\n",
       "      <th>3</th>\n",
       "      <td>APPF80273865537</td>\n",
       "      <td>Male</td>\n",
       "      <td>C10477</td>\n",
       "      <td>C</td>\n",
       "      <td>COM0004143</td>\n",
       "      <td>A</td>\n",
       "      <td>4.0</td>\n",
       "      <td>3500.0</td>\n",
       "      <td>B003</td>\n",
       "      <td>G</td>\n",
       "      <td>...</td>\n",
       "      <td>92000.0</td>\n",
       "      <td>5.0</td>\n",
       "      <td>NaN</td>\n",
       "      <td>NaN</td>\n",
       "      <td>7</td>\n",
       "      <td>0</td>\n",
       "      <td>27.0</td>\n",
       "      <td>9</td>\n",
       "      <td>Middle-Aged</td>\n",
       "      <td>VS</td>\n",
       "    </tr>\n",
       "    <tr>\n",
       "      <th>4</th>\n",
       "      <td>APPG60994436641</td>\n",
       "      <td>Male</td>\n",
       "      <td>C10002</td>\n",
       "      <td>A</td>\n",
       "      <td>COM0001781</td>\n",
       "      <td>A</td>\n",
       "      <td>4.0</td>\n",
       "      <td>10000.0</td>\n",
       "      <td>B001</td>\n",
       "      <td>P</td>\n",
       "      <td>...</td>\n",
       "      <td>50000.0</td>\n",
       "      <td>2.0</td>\n",
       "      <td>NaN</td>\n",
       "      <td>NaN</td>\n",
       "      <td>10</td>\n",
       "      <td>0</td>\n",
       "      <td>31.0</td>\n",
       "      <td>7</td>\n",
       "      <td>Middle-Aged</td>\n",
       "      <td>VS</td>\n",
       "    </tr>\n",
       "  </tbody>\n",
       "</table>\n",
       "<p>5 rows × 24 columns</p>\n",
       "</div>"
      ],
      "text/plain": [
       "                ID  Gender City_Code City_Category Employer_Code  \\\n",
       "0  APPC90493171225  Female    C10001             A    COM0044082   \n",
       "1  APPD40611263344    Male    C10003             A    COM0000002   \n",
       "2  APPE70289249423    Male    C10125             C    COM0005267   \n",
       "3  APPF80273865537    Male    C10477             C    COM0004143   \n",
       "4  APPG60994436641    Male    C10002             A    COM0001781   \n",
       "\n",
       "  Employer_Category1  Employer_Category2  Monthly_Income  \\\n",
       "0                  A                 4.0          2000.0   \n",
       "1                  C                 1.0          3500.0   \n",
       "2                  C                 4.0          2250.0   \n",
       "3                  A                 4.0          3500.0   \n",
       "4                  A                 4.0         10000.0   \n",
       "\n",
       "  Customer_Existing_Primary_Bank_Code Primary_Bank_Type  ... Loan_Amount  \\\n",
       "0                                B001                 P  ...         NaN   \n",
       "1                                B002                 P  ...     20000.0   \n",
       "2                                B003                 G  ...     45000.0   \n",
       "3                                B003                 G  ...     92000.0   \n",
       "4                                B001                 P  ...     50000.0   \n",
       "\n",
       "  Loan_Period Interest_Rate    EMI  Var1  Approved   Age  Lead_Creation_Month  \\\n",
       "0         NaN           NaN    NaN     0         0  37.0                    7   \n",
       "1         2.0         13.25  953.0    10         0  30.0                    4   \n",
       "2         4.0           NaN    NaN     0         0  34.0                    7   \n",
       "3         5.0           NaN    NaN     7         0  27.0                    9   \n",
       "4         2.0           NaN    NaN    10         0  31.0                    7   \n",
       "\n",
       "       Age_Cat  Employer_Cat3  \n",
       "0  Middle-Aged             VS  \n",
       "1  Middle-Aged             VL  \n",
       "2  Middle-Aged             VS  \n",
       "3  Middle-Aged             VS  \n",
       "4  Middle-Aged             VS  \n",
       "\n",
       "[5 rows x 24 columns]"
      ]
     },
     "execution_count": 93,
     "metadata": {},
     "output_type": "execute_result"
    }
   ],
   "source": [
    "df2.head()"
   ]
  },
  {
   "cell_type": "code",
   "execution_count": 94,
   "id": "4d637a43",
   "metadata": {},
   "outputs": [
    {
     "data": {
      "image/png": "[encoded data removed]",
      "text/plain": [
       "<Figure size 432x288 with 1 Axes>"
      ]
     },
     "metadata": {
      "needs_background": "light"
     },
     "output_type": "display_data"
    }
   ],
   "source": [
    "df2.groupby('Age_Cat')['Monthly_Income'].median().plot(kind='bar')\n",
    "plt.show()"
   ]
  },
  {
   "cell_type": "markdown",
   "id": "75cf4fc1",
   "metadata": {},
   "source": [
    "* Aged people have highest median monthly income, this might be because of their experience"
   ]
  },
  {
   "cell_type": "code",
   "execution_count": 95,
   "id": "f5fec9f8",
   "metadata": {},
   "outputs": [
    {
     "data": {
      "text/plain": [
       "(0.0, 10000.0)"
      ]
     },
     "execution_count": 95,
     "metadata": {},
     "output_type": "execute_result"
    },
    {
     "data": {
      "image/png": "[encoded data removed]",
      "text/plain": [
       "<Figure size 432x288 with 1 Axes>"
      ]
     },
     "metadata": {
      "needs_background": "light"
     },
     "output_type": "display_data"
    }
   ],
   "source": [
    "sns.countplot(df2.Employer_Cat3, hue = df2['Age_Cat'])\n",
    "plt.ylim(0, 10000)"
   ]
  },
  {
   "cell_type": "code",
   "execution_count": 96,
   "id": "e0d319ec",
   "metadata": {},
   "outputs": [
    {
     "data": {
      "text/plain": [
       "(0.0, 10000.0)"
      ]
     },
     "execution_count": 96,
     "metadata": {},
     "output_type": "execute_result"
    },
    {
     "data": {
      "image/png": "[encoded data removed]",
      "text/plain": [
       "<Figure size 432x288 with 1 Axes>"
      ]
     },
     "metadata": {
      "needs_background": "light"
     },
     "output_type": "display_data"
    }
   ],
   "source": [
    "sns.barplot(y = df2.Monthly_Income,x = df2.Employer_Cat3, hue = df2.Age_Cat,estimator=np.median)\n",
    "plt.ylim(0,10000)"
   ]
  },
  {
   "cell_type": "markdown",
   "id": "6dc0764e",
   "metadata": {},
   "source": [
    "* Old people don't exist in pvt and corporate companies\n",
    "* Aged people have the highest income across all categories"
   ]
  },
  {
   "cell_type": "code",
   "execution_count": 97,
   "id": "693cc5dc",
   "metadata": {},
   "outputs": [
    {
     "data": {
      "text/plain": [
       "38383838.3"
      ]
     },
     "execution_count": 97,
     "metadata": {},
     "output_type": "execute_result"
    }
   ],
   "source": [
    "df2.Monthly_Income.max()"
   ]
  },
  {
   "cell_type": "markdown",
   "id": "5621b623",
   "metadata": {},
   "source": [
    "This person got featured because he is rich but needs\n",
    "150000 against a monthly income of 38 million"
   ]
  },
  {
   "cell_type": "code",
   "execution_count": 98,
   "id": "ed5a4217",
   "metadata": {},
   "outputs": [
    {
     "data": {
      "text/html": [
       "<div>\n",
       "<style scoped>\n",
       "    .dataframe tbody tr th:only-of-type {\n",
       "        vertical-align: middle;\n",
       "    }\n",
       "\n",
       "    .dataframe tbody tr th {\n",
       "        vertical-align: top;\n",
       "    }\n",
       "\n",
       "    .dataframe thead th {\n",
       "        text-align: right;\n",
       "    }\n",
       "</style>\n",
       "<table border=\"1\" class=\"dataframe\">\n",
       "  <thead>\n",
       "    <tr style=\"text-align: right;\">\n",
       "      <th></th>\n",
       "      <th>Gender</th>\n",
       "      <th>Approved</th>\n",
       "      <th>Loan_Amount</th>\n",
       "      <th>Interest_Rate</th>\n",
       "      <th>EMI</th>\n",
       "      <th>Existing_EMI</th>\n",
       "      <th>Employer_Category1</th>\n",
       "      <th>Employer_Category2</th>\n",
       "      <th>Employer_Cat3</th>\n",
       "      <th>City_Code</th>\n",
       "      <th>City_Category</th>\n",
       "      <th>Source</th>\n",
       "      <th>Source_Category</th>\n",
       "      <th>Age</th>\n",
       "      <th>Employer_Code</th>\n",
       "      <th>Monthly_Income</th>\n",
       "    </tr>\n",
       "  </thead>\n",
       "  <tbody>\n",
       "    <tr>\n",
       "      <th>38774</th>\n",
       "      <td>Male</td>\n",
       "      <td>0</td>\n",
       "      <td>150000.0</td>\n",
       "      <td>13.5</td>\n",
       "      <td>4061.0</td>\n",
       "      <td>0.0</td>\n",
       "      <td>A</td>\n",
       "      <td>4.0</td>\n",
       "      <td>VS</td>\n",
       "      <td>C10001</td>\n",
       "      <td>A</td>\n",
       "      <td>S122</td>\n",
       "      <td>C</td>\n",
       "      <td>30.0</td>\n",
       "      <td>COM0034525</td>\n",
       "      <td>38383838.3</td>\n",
       "    </tr>\n",
       "  </tbody>\n",
       "</table>\n",
       "</div>"
      ],
      "text/plain": [
       "      Gender  Approved  Loan_Amount  Interest_Rate     EMI  Existing_EMI  \\\n",
       "38774   Male         0     150000.0           13.5  4061.0           0.0   \n",
       "\n",
       "      Employer_Category1  Employer_Category2 Employer_Cat3 City_Code  \\\n",
       "38774                  A                 4.0            VS    C10001   \n",
       "\n",
       "      City_Category Source Source_Category   Age Employer_Code  Monthly_Income  \n",
       "38774             A   S122               C  30.0    COM0034525      38383838.3  "
      ]
     },
     "execution_count": 98,
     "metadata": {},
     "output_type": "execute_result"
    }
   ],
   "source": [
    "df2.loc[df2.Monthly_Income==38383838.3,['Gender','Approved','Loan_Amount','Interest_Rate','EMI','Existing_EMI','Employer_Category1','Employer_Category2','Employer_Cat3','City_Code','City_Category','Source','Source_Category','Age','Employer_Code','Monthly_Income']]"
   ]
  },
  {
   "cell_type": "markdown",
   "id": "3e41ef5f",
   "metadata": {},
   "source": [
    "# Checking relationships with target"
   ]
  },
  {
   "cell_type": "code",
   "execution_count": 99,
   "id": "eea3c756",
   "metadata": {},
   "outputs": [
    {
     "data": {
      "image/png": "[encoded data removed]",
      "text/plain": [
       "<Figure size 432x288 with 1 Axes>"
      ]
     },
     "metadata": {
      "needs_background": "light"
     },
     "output_type": "display_data"
    }
   ],
   "source": [
    "sns.barplot(y = 'Loan_Amount', x ='Approved' , data = df2,estimator=np.median)\n",
    "plt.show()"
   ]
  },
  {
   "cell_type": "code",
   "execution_count": 100,
   "id": "ed21a34a",
   "metadata": {},
   "outputs": [
    {
     "data": {
      "image/png": "[encoded data removed]",
      "text/plain": [
       "<Figure size 432x288 with 1 Axes>"
      ]
     },
     "metadata": {
      "needs_background": "light"
     },
     "output_type": "display_data"
    }
   ],
   "source": [
    "sns.barplot(y = 'Monthly_Income', x ='Approved' , data = df2,estimator=np.median) \n",
    "plt.show()"
   ]
  },
  {
   "cell_type": "code",
   "execution_count": 101,
   "id": "217f4a2e",
   "metadata": {},
   "outputs": [
    {
     "data": {
      "text/html": [
       "<div>\n",
       "<style scoped>\n",
       "    .dataframe tbody tr th:only-of-type {\n",
       "        vertical-align: middle;\n",
       "    }\n",
       "\n",
       "    .dataframe tbody tr th {\n",
       "        vertical-align: top;\n",
       "    }\n",
       "\n",
       "    .dataframe thead th {\n",
       "        text-align: right;\n",
       "    }\n",
       "</style>\n",
       "<table border=\"1\" class=\"dataframe\">\n",
       "  <thead>\n",
       "    <tr style=\"text-align: right;\">\n",
       "      <th>Approved</th>\n",
       "      <th>0</th>\n",
       "      <th>1</th>\n",
       "    </tr>\n",
       "    <tr>\n",
       "      <th>Employer_Cat3</th>\n",
       "      <th></th>\n",
       "      <th></th>\n",
       "    </tr>\n",
       "  </thead>\n",
       "  <tbody>\n",
       "    <tr>\n",
       "      <th>L</th>\n",
       "      <td>0.030525</td>\n",
       "      <td>0.000674</td>\n",
       "    </tr>\n",
       "    <tr>\n",
       "      <th>M</th>\n",
       "      <td>0.128756</td>\n",
       "      <td>0.002797</td>\n",
       "    </tr>\n",
       "    <tr>\n",
       "      <th>Missing</th>\n",
       "      <td>0.057565</td>\n",
       "      <td>0.000072</td>\n",
       "    </tr>\n",
       "    <tr>\n",
       "      <th>S</th>\n",
       "      <td>0.071622</td>\n",
       "      <td>0.001621</td>\n",
       "    </tr>\n",
       "    <tr>\n",
       "      <th>VL</th>\n",
       "      <td>0.044325</td>\n",
       "      <td>0.001004</td>\n",
       "    </tr>\n",
       "    <tr>\n",
       "      <th>VS</th>\n",
       "      <td>0.652576</td>\n",
       "      <td>0.008463</td>\n",
       "    </tr>\n",
       "  </tbody>\n",
       "</table>\n",
       "</div>"
      ],
      "text/plain": [
       "Approved              0         1\n",
       "Employer_Cat3                    \n",
       "L              0.030525  0.000674\n",
       "M              0.128756  0.002797\n",
       "Missing        0.057565  0.000072\n",
       "S              0.071622  0.001621\n",
       "VL             0.044325  0.001004\n",
       "VS             0.652576  0.008463"
      ]
     },
     "execution_count": 101,
     "metadata": {},
     "output_type": "execute_result"
    }
   ],
   "source": [
    "pd.crosstab(df2.Employer_Cat3,df2.Approved,normalize=True)"
   ]
  },
  {
   "cell_type": "code",
   "execution_count": 102,
   "id": "10ea0166",
   "metadata": {},
   "outputs": [
    {
     "data": {
      "text/plain": [
       "<function matplotlib.pyplot.show(close=None, block=None)>"
      ]
     },
     "execution_count": 102,
     "metadata": {},
     "output_type": "execute_result"
    },
    {
     "data": {
      "image/png": "[encoded data removed]",
      "text/plain": [
       "<Figure size 432x288 with 1 Axes>"
      ]
     },
     "metadata": {
      "needs_background": "light"
     },
     "output_type": "display_data"
    }
   ],
   "source": [
    "pd.crosstab(df2.Employer_Cat3,df2.Approved,normalize=True).plot(kind='bar')\n",
    "plt.show\n"
   ]
  },
  {
   "cell_type": "code",
   "execution_count": 103,
   "id": "fe3f6dba",
   "metadata": {},
   "outputs": [],
   "source": [
    "df2.dropna(subset=['City_Code','Employer_Code'], axis = 0,inplace=True)"
   ]
  },
  {
   "cell_type": "code",
   "execution_count": 104,
   "id": "881b5fbe",
   "metadata": {},
   "outputs": [],
   "source": [
    "df2.drop('ID',axis=1,inplace=True)"
   ]
  },
  {
   "cell_type": "code",
   "execution_count": 105,
   "id": "3cfc3e63",
   "metadata": {},
   "outputs": [
    {
     "data": {
      "text/plain": [
       "Index(['Gender', 'City_Code', 'City_Category', 'Employer_Code',\n",
       "       'Employer_Category1', 'Employer_Category2', 'Monthly_Income',\n",
       "       'Customer_Existing_Primary_Bank_Code', 'Primary_Bank_Type', 'Contacted',\n",
       "       'Source', 'Source_Category', 'Existing_EMI', 'Loan_Amount',\n",
       "       'Loan_Period', 'Interest_Rate', 'EMI', 'Var1', 'Approved', 'Age',\n",
       "       'Lead_Creation_Month', 'Age_Cat', 'Employer_Cat3'],\n",
       "      dtype='object')"
      ]
     },
     "execution_count": 105,
     "metadata": {},
     "output_type": "execute_result"
    }
   ],
   "source": [
    "df2.columns"
   ]
  },
  {
   "cell_type": "code",
   "execution_count": 106,
   "id": "67532991",
   "metadata": {},
   "outputs": [],
   "source": [
    "df2_wo_EMI=df2.drop('EMI',axis=1)"
   ]
  },
  {
   "cell_type": "code",
   "execution_count": 107,
   "id": "e0f2426b",
   "metadata": {
    "scrolled": false
   },
   "outputs": [],
   "source": [
    "df2.drop('Customer_Existing_Primary_Bank_Code',axis=1,inplace=True)\n",
    "\n"
   ]
  },
  {
   "cell_type": "code",
   "execution_count": 108,
   "id": "38d713e7",
   "metadata": {},
   "outputs": [],
   "source": [
    "X=df2.drop('Approved',axis=1)\n",
    "y=df2.Approved"
   ]
  },
  {
   "cell_type": "code",
   "execution_count": 109,
   "id": "0c1b69db",
   "metadata": {},
   "outputs": [],
   "source": [
    "xtrain,xtest,ytrain,ytest=train_test_split(X,y,test_size=0.20,random_state=10)"
   ]
  },
  {
   "cell_type": "code",
   "execution_count": 110,
   "id": "69dc8f4a",
   "metadata": {},
   "outputs": [],
   "source": [
    "num_train = xtrain.select_dtypes(include = np.number).drop('Employer_Category2', axis = 1)"
   ]
  },
  {
   "cell_type": "code",
   "execution_count": 111,
   "id": "0a84b3fd",
   "metadata": {},
   "outputs": [],
   "source": [
    "cat_train = xtrain.select_dtypes(include = 'object').drop(['City_Code','Employer_Code','Source'], axis = 1)"
   ]
  },
  {
   "cell_type": "code",
   "execution_count": 112,
   "id": "fef44540",
   "metadata": {},
   "outputs": [
    {
     "data": {
      "image/png": "[encoded data removed]",
      "text/plain": [
       "<Figure size 1440x720 with 9 Axes>"
      ]
     },
     "metadata": {
      "needs_background": "light"
     },
     "output_type": "display_data"
    }
   ],
   "source": [
    "a = 3\n",
    "b = 3\n",
    "c = 1\n",
    "\n",
    "plt.figure(figsize = [20,10])\n",
    "for i in num_train.columns :\n",
    "    plt.subplot(a,b,c)\n",
    "    plt.title(num_train[i].skew())\n",
    "    sns.distplot(num_train[i])\n",
    "    c+=1\n",
    "    \n",
    "plt.tight_layout()\n",
    "plt.show()"
   ]
  },
  {
   "cell_type": "code",
   "execution_count": 113,
   "id": "cdf0e299",
   "metadata": {},
   "outputs": [
    {
     "data": {
      "image/png": "[encoded data removed]",
      "text/plain": [
       "<Figure size 1440x720 with 8 Axes>"
      ]
     },
     "metadata": {
      "needs_background": "light"
     },
     "output_type": "display_data"
    }
   ],
   "source": [
    "a = 3\n",
    "b = 3\n",
    "c = 1\n",
    "\n",
    "plt.figure(figsize = [20,10])\n",
    "for i in cat_train.columns :\n",
    "    plt.subplot(a,b,c)\n",
    "    sns.countplot(cat_train[i])\n",
    "    c+=1\n",
    "    \n",
    "plt.tight_layout()\n",
    "plt.show()"
   ]
  },
  {
   "cell_type": "markdown",
   "id": "d2d3554b",
   "metadata": {},
   "source": [
    "## Encoding"
   ]
  },
  {
   "cell_type": "code",
   "execution_count": 114,
   "id": "5da04d3f",
   "metadata": {},
   "outputs": [],
   "source": [
    "lb=LabelBinarizer()\n",
    "oe=OrdinalEncoder()"
   ]
  },
  {
   "cell_type": "code",
   "execution_count": 115,
   "id": "f0c868e4",
   "metadata": {},
   "outputs": [],
   "source": [
    "xtrain_gen = pd.DataFrame(lb.fit_transform(xtrain.loc[:,['Gender']]), columns=['Gender']).reset_index(drop=True)\n",
    "xtest_gen = pd.DataFrame(lb.transform(xtest.loc[:,['Gender']]), columns=['Gender']).reset_index(drop=True)\n",
    "\n",
    "xtrain_cont = pd.DataFrame(lb.fit_transform(xtrain.loc[:,['Contacted']]), columns=['Contacted']).reset_index(drop=True)\n",
    "xtest_cont = pd.DataFrame(lb.transform(xtest.loc[:,['Contacted']]), columns=['Contacted']).reset_index(drop=True)\n",
    "\n",
    "xtrain_bank = pd.DataFrame(lb.fit_transform(xtrain.loc[:,['Primary_Bank_Type']]), columns=['Primary_Bank_Type']).reset_index(drop=True)\n",
    "xtest_bank = pd.DataFrame(lb.transform(xtest.loc[:,['Primary_Bank_Type']]), columns=['Primary_Bank_Type']).reset_index(drop=True)\n"
   ]
  },
  {
   "cell_type": "code",
   "execution_count": 116,
   "id": "0508ac66",
   "metadata": {},
   "outputs": [],
   "source": [
    "xtrain_bank = pd.DataFrame(lb.fit_transform(xtrain.loc[:,['Primary_Bank_Type']]), columns=['Primary_Bank_Type']).reset_index(drop=True)\n",
    "xtest_bank = pd.DataFrame(lb.transform(xtest.loc[:,['Primary_Bank_Type']]), columns=['Primary_Bank_Type']).reset_index(drop=True)\n",
    "xtrain_oe = pd.get_dummies(xtrain.loc[:,['City_Category','Employer_Category1','Source_Category','Age_Cat','Employer_Cat3']],drop_first=True).reset_index(drop=True)\n",
    "xtest_oe = pd.get_dummies(xtest.loc[:,['City_Category','Employer_Category1','Source_Category','Age_Cat','Employer_Cat3']],drop_first=True).reset_index(drop=True)"
   ]
  },
  {
   "cell_type": "markdown",
   "id": "b79209ed",
   "metadata": {},
   "source": [
    "* We dropped employer codde because of redundency"
   ]
  },
  {
   "cell_type": "code",
   "execution_count": null,
   "id": "86956f35",
   "metadata": {},
   "outputs": [],
   "source": []
  },
  {
   "cell_type": "code",
   "execution_count": 117,
   "id": "d7288cf6",
   "metadata": {},
   "outputs": [
    {
     "data": {
      "text/html": [
       "<div>\n",
       "<style scoped>\n",
       "    .dataframe tbody tr th:only-of-type {\n",
       "        vertical-align: middle;\n",
       "    }\n",
       "\n",
       "    .dataframe tbody tr th {\n",
       "        vertical-align: top;\n",
       "    }\n",
       "\n",
       "    .dataframe thead th {\n",
       "        text-align: right;\n",
       "    }\n",
       "</style>\n",
       "<table border=\"1\" class=\"dataframe\">\n",
       "  <thead>\n",
       "    <tr style=\"text-align: right;\">\n",
       "      <th></th>\n",
       "      <th>City_Code</th>\n",
       "      <th>Source</th>\n",
       "    </tr>\n",
       "  </thead>\n",
       "  <tbody>\n",
       "    <tr>\n",
       "      <th>4785</th>\n",
       "      <td>C10002</td>\n",
       "      <td>S133</td>\n",
       "    </tr>\n",
       "    <tr>\n",
       "      <th>25261</th>\n",
       "      <td>C10014</td>\n",
       "      <td>S133</td>\n",
       "    </tr>\n",
       "    <tr>\n",
       "      <th>17120</th>\n",
       "      <td>C10003</td>\n",
       "      <td>S133</td>\n",
       "    </tr>\n",
       "    <tr>\n",
       "      <th>29647</th>\n",
       "      <td>C10137</td>\n",
       "      <td>S159</td>\n",
       "    </tr>\n",
       "    <tr>\n",
       "      <th>9350</th>\n",
       "      <td>C10008</td>\n",
       "      <td>S133</td>\n",
       "    </tr>\n",
       "  </tbody>\n",
       "</table>\n",
       "</div>"
      ],
      "text/plain": [
       "      City_Code Source\n",
       "4785     C10002   S133\n",
       "25261    C10014   S133\n",
       "17120    C10003   S133\n",
       "29647    C10137   S159\n",
       "9350     C10008   S133"
      ]
     },
     "execution_count": 117,
     "metadata": {},
     "output_type": "execute_result"
    }
   ],
   "source": [
    "xtrain.loc[:,['City_Code','Source']].head()"
   ]
  },
  {
   "cell_type": "markdown",
   "id": "48d9b972",
   "metadata": {},
   "source": [
    "* we remove S and C from source and city code respectively"
   ]
  },
  {
   "cell_type": "code",
   "execution_count": 118,
   "id": "d7e75db6",
   "metadata": {},
   "outputs": [],
   "source": [
    "xtrain.loc[:, 'City_Code'] = xtrain.City_Code.str[1:].astype(int)\n",
    "xtrain.loc[:, 'Source'] = xtrain.Source.str[1:].astype(int)\n",
    "xtest.loc[:, 'City_Code'] = xtest.City_Code.str[1:].astype(int)\n",
    "xtest.loc[:, 'Source'] = xtest.Source.str[1:].astype(int)"
   ]
  },
  {
   "cell_type": "code",
   "execution_count": 119,
   "id": "49c52bb7",
   "metadata": {},
   "outputs": [
    {
     "data": {
      "text/html": [
       "<div>\n",
       "<style scoped>\n",
       "    .dataframe tbody tr th:only-of-type {\n",
       "        vertical-align: middle;\n",
       "    }\n",
       "\n",
       "    .dataframe tbody tr th {\n",
       "        vertical-align: top;\n",
       "    }\n",
       "\n",
       "    .dataframe thead th {\n",
       "        text-align: right;\n",
       "    }\n",
       "</style>\n",
       "<table border=\"1\" class=\"dataframe\">\n",
       "  <thead>\n",
       "    <tr style=\"text-align: right;\">\n",
       "      <th></th>\n",
       "      <th>Gender</th>\n",
       "      <th>City_Code</th>\n",
       "      <th>City_Category</th>\n",
       "      <th>Employer_Code</th>\n",
       "      <th>Employer_Category1</th>\n",
       "      <th>Employer_Category2</th>\n",
       "      <th>Monthly_Income</th>\n",
       "      <th>Primary_Bank_Type</th>\n",
       "      <th>Contacted</th>\n",
       "      <th>Source</th>\n",
       "      <th>...</th>\n",
       "      <th>Existing_EMI</th>\n",
       "      <th>Loan_Amount</th>\n",
       "      <th>Loan_Period</th>\n",
       "      <th>Interest_Rate</th>\n",
       "      <th>EMI</th>\n",
       "      <th>Var1</th>\n",
       "      <th>Age</th>\n",
       "      <th>Lead_Creation_Month</th>\n",
       "      <th>Age_Cat</th>\n",
       "      <th>Employer_Cat3</th>\n",
       "    </tr>\n",
       "  </thead>\n",
       "  <tbody>\n",
       "    <tr>\n",
       "      <th>4785</th>\n",
       "      <td>Female</td>\n",
       "      <td>10002</td>\n",
       "      <td>A</td>\n",
       "      <td>COM0056739</td>\n",
       "      <td>A</td>\n",
       "      <td>4.0</td>\n",
       "      <td>1680.0</td>\n",
       "      <td>G</td>\n",
       "      <td>N</td>\n",
       "      <td>133</td>\n",
       "      <td>...</td>\n",
       "      <td>0.0</td>\n",
       "      <td>NaN</td>\n",
       "      <td>NaN</td>\n",
       "      <td>NaN</td>\n",
       "      <td>NaN</td>\n",
       "      <td>0</td>\n",
       "      <td>25.0</td>\n",
       "      <td>7</td>\n",
       "      <td>Young</td>\n",
       "      <td>VS</td>\n",
       "    </tr>\n",
       "    <tr>\n",
       "      <th>25261</th>\n",
       "      <td>Male</td>\n",
       "      <td>10014</td>\n",
       "      <td>B</td>\n",
       "      <td>COM0026396</td>\n",
       "      <td>A</td>\n",
       "      <td>4.0</td>\n",
       "      <td>1350.0</td>\n",
       "      <td>P</td>\n",
       "      <td>Y</td>\n",
       "      <td>133</td>\n",
       "      <td>...</td>\n",
       "      <td>0.0</td>\n",
       "      <td>30000.0</td>\n",
       "      <td>5.0</td>\n",
       "      <td>20.00</td>\n",
       "      <td>795.0</td>\n",
       "      <td>2</td>\n",
       "      <td>28.0</td>\n",
       "      <td>5</td>\n",
       "      <td>Middle-Aged</td>\n",
       "      <td>VS</td>\n",
       "    </tr>\n",
       "    <tr>\n",
       "      <th>17120</th>\n",
       "      <td>Female</td>\n",
       "      <td>10003</td>\n",
       "      <td>A</td>\n",
       "      <td>COM0000080</td>\n",
       "      <td>C</td>\n",
       "      <td>1.0</td>\n",
       "      <td>5200.0</td>\n",
       "      <td>P</td>\n",
       "      <td>N</td>\n",
       "      <td>133</td>\n",
       "      <td>...</td>\n",
       "      <td>0.0</td>\n",
       "      <td>NaN</td>\n",
       "      <td>NaN</td>\n",
       "      <td>NaN</td>\n",
       "      <td>NaN</td>\n",
       "      <td>10</td>\n",
       "      <td>26.0</td>\n",
       "      <td>7</td>\n",
       "      <td>Middle-Aged</td>\n",
       "      <td>M</td>\n",
       "    </tr>\n",
       "    <tr>\n",
       "      <th>29647</th>\n",
       "      <td>Female</td>\n",
       "      <td>10137</td>\n",
       "      <td>C</td>\n",
       "      <td>COM0043495</td>\n",
       "      <td>A</td>\n",
       "      <td>4.0</td>\n",
       "      <td>1500.0</td>\n",
       "      <td>P</td>\n",
       "      <td>N</td>\n",
       "      <td>159</td>\n",
       "      <td>...</td>\n",
       "      <td>0.0</td>\n",
       "      <td>NaN</td>\n",
       "      <td>NaN</td>\n",
       "      <td>NaN</td>\n",
       "      <td>NaN</td>\n",
       "      <td>0</td>\n",
       "      <td>25.0</td>\n",
       "      <td>12</td>\n",
       "      <td>Young</td>\n",
       "      <td>VS</td>\n",
       "    </tr>\n",
       "    <tr>\n",
       "      <th>9350</th>\n",
       "      <td>Male</td>\n",
       "      <td>10008</td>\n",
       "      <td>A</td>\n",
       "      <td>COM0034256</td>\n",
       "      <td>A</td>\n",
       "      <td>4.0</td>\n",
       "      <td>1500.0</td>\n",
       "      <td>P</td>\n",
       "      <td>Y</td>\n",
       "      <td>133</td>\n",
       "      <td>...</td>\n",
       "      <td>600.0</td>\n",
       "      <td>11000.0</td>\n",
       "      <td>5.0</td>\n",
       "      <td>20.00</td>\n",
       "      <td>291.0</td>\n",
       "      <td>2</td>\n",
       "      <td>28.0</td>\n",
       "      <td>7</td>\n",
       "      <td>Middle-Aged</td>\n",
       "      <td>VS</td>\n",
       "    </tr>\n",
       "    <tr>\n",
       "      <th>...</th>\n",
       "      <td>...</td>\n",
       "      <td>...</td>\n",
       "      <td>...</td>\n",
       "      <td>...</td>\n",
       "      <td>...</td>\n",
       "      <td>...</td>\n",
       "      <td>...</td>\n",
       "      <td>...</td>\n",
       "      <td>...</td>\n",
       "      <td>...</td>\n",
       "      <td>...</td>\n",
       "      <td>...</td>\n",
       "      <td>...</td>\n",
       "      <td>...</td>\n",
       "      <td>...</td>\n",
       "      <td>...</td>\n",
       "      <td>...</td>\n",
       "      <td>...</td>\n",
       "      <td>...</td>\n",
       "      <td>...</td>\n",
       "      <td>...</td>\n",
       "    </tr>\n",
       "    <tr>\n",
       "      <th>28224</th>\n",
       "      <td>Female</td>\n",
       "      <td>10001</td>\n",
       "      <td>A</td>\n",
       "      <td>COM0000017</td>\n",
       "      <td>C</td>\n",
       "      <td>1.0</td>\n",
       "      <td>1400.0</td>\n",
       "      <td>P</td>\n",
       "      <td>N</td>\n",
       "      <td>153</td>\n",
       "      <td>...</td>\n",
       "      <td>0.0</td>\n",
       "      <td>NaN</td>\n",
       "      <td>NaN</td>\n",
       "      <td>NaN</td>\n",
       "      <td>NaN</td>\n",
       "      <td>0</td>\n",
       "      <td>26.0</td>\n",
       "      <td>10</td>\n",
       "      <td>Middle-Aged</td>\n",
       "      <td>VL</td>\n",
       "    </tr>\n",
       "    <tr>\n",
       "      <th>52840</th>\n",
       "      <td>Male</td>\n",
       "      <td>10004</td>\n",
       "      <td>A</td>\n",
       "      <td>COM0000094</td>\n",
       "      <td>B</td>\n",
       "      <td>3.0</td>\n",
       "      <td>3700.0</td>\n",
       "      <td>P</td>\n",
       "      <td>Y</td>\n",
       "      <td>122</td>\n",
       "      <td>...</td>\n",
       "      <td>0.0</td>\n",
       "      <td>30000.0</td>\n",
       "      <td>3.0</td>\n",
       "      <td>NaN</td>\n",
       "      <td>NaN</td>\n",
       "      <td>10</td>\n",
       "      <td>30.0</td>\n",
       "      <td>12</td>\n",
       "      <td>Middle-Aged</td>\n",
       "      <td>M</td>\n",
       "    </tr>\n",
       "    <tr>\n",
       "      <th>29413</th>\n",
       "      <td>Male</td>\n",
       "      <td>10009</td>\n",
       "      <td>B</td>\n",
       "      <td>COM0028171</td>\n",
       "      <td>A</td>\n",
       "      <td>4.0</td>\n",
       "      <td>4000.0</td>\n",
       "      <td>G</td>\n",
       "      <td>Y</td>\n",
       "      <td>133</td>\n",
       "      <td>...</td>\n",
       "      <td>0.0</td>\n",
       "      <td>100000.0</td>\n",
       "      <td>5.0</td>\n",
       "      <td>15.25</td>\n",
       "      <td>2392.0</td>\n",
       "      <td>10</td>\n",
       "      <td>25.0</td>\n",
       "      <td>11</td>\n",
       "      <td>Young</td>\n",
       "      <td>VS</td>\n",
       "    </tr>\n",
       "    <tr>\n",
       "      <th>40371</th>\n",
       "      <td>Male</td>\n",
       "      <td>10219</td>\n",
       "      <td>C</td>\n",
       "      <td>COM0022358</td>\n",
       "      <td>A</td>\n",
       "      <td>4.0</td>\n",
       "      <td>1000.0</td>\n",
       "      <td>G</td>\n",
       "      <td>Y</td>\n",
       "      <td>153</td>\n",
       "      <td>...</td>\n",
       "      <td>100.0</td>\n",
       "      <td>8000.0</td>\n",
       "      <td>2.0</td>\n",
       "      <td>NaN</td>\n",
       "      <td>NaN</td>\n",
       "      <td>2</td>\n",
       "      <td>33.0</td>\n",
       "      <td>8</td>\n",
       "      <td>Middle-Aged</td>\n",
       "      <td>VS</td>\n",
       "    </tr>\n",
       "    <tr>\n",
       "      <th>17802</th>\n",
       "      <td>Male</td>\n",
       "      <td>10007</td>\n",
       "      <td>A</td>\n",
       "      <td>COM0000123</td>\n",
       "      <td>C</td>\n",
       "      <td>3.0</td>\n",
       "      <td>1760.0</td>\n",
       "      <td>G</td>\n",
       "      <td>Y</td>\n",
       "      <td>133</td>\n",
       "      <td>...</td>\n",
       "      <td>0.0</td>\n",
       "      <td>41000.0</td>\n",
       "      <td>5.0</td>\n",
       "      <td>18.40</td>\n",
       "      <td>1050.0</td>\n",
       "      <td>2</td>\n",
       "      <td>35.0</td>\n",
       "      <td>7</td>\n",
       "      <td>Middle-Aged</td>\n",
       "      <td>M</td>\n",
       "    </tr>\n",
       "  </tbody>\n",
       "</table>\n",
       "<p>52270 rows × 21 columns</p>\n",
       "</div>"
      ],
      "text/plain": [
       "       Gender  City_Code City_Category Employer_Code Employer_Category1  \\\n",
       "4785   Female      10002             A    COM0056739                  A   \n",
       "25261    Male      10014             B    COM0026396                  A   \n",
       "17120  Female      10003             A    COM0000080                  C   \n",
       "29647  Female      10137             C    COM0043495                  A   \n",
       "9350     Male      10008             A    COM0034256                  A   \n",
       "...       ...        ...           ...           ...                ...   \n",
       "28224  Female      10001             A    COM0000017                  C   \n",
       "52840    Male      10004             A    COM0000094                  B   \n",
       "29413    Male      10009             B    COM0028171                  A   \n",
       "40371    Male      10219             C    COM0022358                  A   \n",
       "17802    Male      10007             A    COM0000123                  C   \n",
       "\n",
       "       Employer_Category2  Monthly_Income Primary_Bank_Type Contacted  Source  \\\n",
       "4785                  4.0          1680.0                 G         N     133   \n",
       "25261                 4.0          1350.0                 P         Y     133   \n",
       "17120                 1.0          5200.0                 P         N     133   \n",
       "29647                 4.0          1500.0                 P         N     159   \n",
       "9350                  4.0          1500.0                 P         Y     133   \n",
       "...                   ...             ...               ...       ...     ...   \n",
       "28224                 1.0          1400.0                 P         N     153   \n",
       "52840                 3.0          3700.0                 P         Y     122   \n",
       "29413                 4.0          4000.0                 G         Y     133   \n",
       "40371                 4.0          1000.0                 G         Y     153   \n",
       "17802                 3.0          1760.0                 G         Y     133   \n",
       "\n",
       "       ... Existing_EMI  Loan_Amount  Loan_Period  Interest_Rate     EMI  \\\n",
       "4785   ...          0.0          NaN          NaN            NaN     NaN   \n",
       "25261  ...          0.0      30000.0          5.0          20.00   795.0   \n",
       "17120  ...          0.0          NaN          NaN            NaN     NaN   \n",
       "29647  ...          0.0          NaN          NaN            NaN     NaN   \n",
       "9350   ...        600.0      11000.0          5.0          20.00   291.0   \n",
       "...    ...          ...          ...          ...            ...     ...   \n",
       "28224  ...          0.0          NaN          NaN            NaN     NaN   \n",
       "52840  ...          0.0      30000.0          3.0            NaN     NaN   \n",
       "29413  ...          0.0     100000.0          5.0          15.25  2392.0   \n",
       "40371  ...        100.0       8000.0          2.0            NaN     NaN   \n",
       "17802  ...          0.0      41000.0          5.0          18.40  1050.0   \n",
       "\n",
       "       Var1   Age  Lead_Creation_Month      Age_Cat Employer_Cat3  \n",
       "4785      0  25.0                    7        Young            VS  \n",
       "25261     2  28.0                    5  Middle-Aged            VS  \n",
       "17120    10  26.0                    7  Middle-Aged             M  \n",
       "29647     0  25.0                   12        Young            VS  \n",
       "9350      2  28.0                    7  Middle-Aged            VS  \n",
       "...     ...   ...                  ...          ...           ...  \n",
       "28224     0  26.0                   10  Middle-Aged            VL  \n",
       "52840    10  30.0                   12  Middle-Aged             M  \n",
       "29413    10  25.0                   11        Young            VS  \n",
       "40371     2  33.0                    8  Middle-Aged            VS  \n",
       "17802     2  35.0                    7  Middle-Aged             M  \n",
       "\n",
       "[52270 rows x 21 columns]"
      ]
     },
     "execution_count": 119,
     "metadata": {},
     "output_type": "execute_result"
    }
   ],
   "source": [
    "xtrain"
   ]
  },
  {
   "cell_type": "code",
   "execution_count": 120,
   "id": "e133dbe4",
   "metadata": {},
   "outputs": [
    {
     "data": {
      "text/html": [
       "<div>\n",
       "<style scoped>\n",
       "    .dataframe tbody tr th:only-of-type {\n",
       "        vertical-align: middle;\n",
       "    }\n",
       "\n",
       "    .dataframe tbody tr th {\n",
       "        vertical-align: top;\n",
       "    }\n",
       "\n",
       "    .dataframe thead th {\n",
       "        text-align: right;\n",
       "    }\n",
       "</style>\n",
       "<table border=\"1\" class=\"dataframe\">\n",
       "  <thead>\n",
       "    <tr style=\"text-align: right;\">\n",
       "      <th></th>\n",
       "      <th>Gender</th>\n",
       "      <th>City_Code</th>\n",
       "      <th>City_Category</th>\n",
       "      <th>Employer_Code</th>\n",
       "      <th>Employer_Category1</th>\n",
       "      <th>Employer_Category2</th>\n",
       "      <th>Monthly_Income</th>\n",
       "      <th>Primary_Bank_Type</th>\n",
       "      <th>Contacted</th>\n",
       "      <th>Source</th>\n",
       "      <th>...</th>\n",
       "      <th>Existing_EMI</th>\n",
       "      <th>Loan_Amount</th>\n",
       "      <th>Loan_Period</th>\n",
       "      <th>Interest_Rate</th>\n",
       "      <th>EMI</th>\n",
       "      <th>Var1</th>\n",
       "      <th>Age</th>\n",
       "      <th>Lead_Creation_Month</th>\n",
       "      <th>Age_Cat</th>\n",
       "      <th>Employer_Cat3</th>\n",
       "    </tr>\n",
       "  </thead>\n",
       "  <tbody>\n",
       "    <tr>\n",
       "      <th>4785</th>\n",
       "      <td>-0.600537</td>\n",
       "      <td>0.148588</td>\n",
       "      <td>0.097853</td>\n",
       "      <td>0.0</td>\n",
       "      <td>-0.382525</td>\n",
       "      <td>-0.054212</td>\n",
       "      <td>-4.232558</td>\n",
       "      <td>-0.529112</td>\n",
       "      <td>-0.780405</td>\n",
       "      <td>0.059791</td>\n",
       "      <td>...</td>\n",
       "      <td>-0.258899</td>\n",
       "      <td>-0.793831</td>\n",
       "      <td>-0.793831</td>\n",
       "      <td>-0.262669</td>\n",
       "      <td>-0.262669</td>\n",
       "      <td>-0.978301</td>\n",
       "      <td>-0.715888</td>\n",
       "      <td>-0.000949</td>\n",
       "      <td>-1.093195</td>\n",
       "      <td>-0.176589</td>\n",
       "    </tr>\n",
       "    <tr>\n",
       "      <th>25261</th>\n",
       "      <td>0.302521</td>\n",
       "      <td>-0.267721</td>\n",
       "      <td>-0.010288</td>\n",
       "      <td>0.0</td>\n",
       "      <td>-0.382525</td>\n",
       "      <td>-0.054212</td>\n",
       "      <td>-4.232558</td>\n",
       "      <td>0.191916</td>\n",
       "      <td>0.262554</td>\n",
       "      <td>0.059791</td>\n",
       "      <td>...</td>\n",
       "      <td>-0.258899</td>\n",
       "      <td>-0.021198</td>\n",
       "      <td>0.251846</td>\n",
       "      <td>-0.354264</td>\n",
       "      <td>-0.070589</td>\n",
       "      <td>-1.720984</td>\n",
       "      <td>0.132133</td>\n",
       "      <td>-0.000949</td>\n",
       "      <td>0.160063</td>\n",
       "      <td>-0.176589</td>\n",
       "    </tr>\n",
       "    <tr>\n",
       "      <th>17120</th>\n",
       "      <td>-0.600537</td>\n",
       "      <td>0.148588</td>\n",
       "      <td>0.097853</td>\n",
       "      <td>0.0</td>\n",
       "      <td>0.349288</td>\n",
       "      <td>0.276227</td>\n",
       "      <td>0.877714</td>\n",
       "      <td>0.191916</td>\n",
       "      <td>-0.780405</td>\n",
       "      <td>0.059791</td>\n",
       "      <td>...</td>\n",
       "      <td>-0.258899</td>\n",
       "      <td>-0.793831</td>\n",
       "      <td>-0.793831</td>\n",
       "      <td>-0.262669</td>\n",
       "      <td>-0.262669</td>\n",
       "      <td>1.027697</td>\n",
       "      <td>-0.715888</td>\n",
       "      <td>-0.000949</td>\n",
       "      <td>0.160063</td>\n",
       "      <td>0.267050</td>\n",
       "    </tr>\n",
       "    <tr>\n",
       "      <th>29647</th>\n",
       "      <td>-0.600537</td>\n",
       "      <td>-0.267721</td>\n",
       "      <td>-0.576951</td>\n",
       "      <td>0.0</td>\n",
       "      <td>-0.382525</td>\n",
       "      <td>-0.054212</td>\n",
       "      <td>-4.232558</td>\n",
       "      <td>0.191916</td>\n",
       "      <td>-0.780405</td>\n",
       "      <td>-0.279869</td>\n",
       "      <td>...</td>\n",
       "      <td>-0.258899</td>\n",
       "      <td>-0.793831</td>\n",
       "      <td>-0.793831</td>\n",
       "      <td>-0.262669</td>\n",
       "      <td>-0.262669</td>\n",
       "      <td>-0.978301</td>\n",
       "      <td>-0.715888</td>\n",
       "      <td>-0.092329</td>\n",
       "      <td>-1.093195</td>\n",
       "      <td>-0.176589</td>\n",
       "    </tr>\n",
       "    <tr>\n",
       "      <th>9350</th>\n",
       "      <td>0.302521</td>\n",
       "      <td>0.034822</td>\n",
       "      <td>0.097853</td>\n",
       "      <td>0.0</td>\n",
       "      <td>-0.382525</td>\n",
       "      <td>-0.054212</td>\n",
       "      <td>-4.232558</td>\n",
       "      <td>0.191916</td>\n",
       "      <td>0.262554</td>\n",
       "      <td>0.059791</td>\n",
       "      <td>...</td>\n",
       "      <td>0.385203</td>\n",
       "      <td>0.110352</td>\n",
       "      <td>0.251846</td>\n",
       "      <td>-0.354264</td>\n",
       "      <td>0.292778</td>\n",
       "      <td>-1.720984</td>\n",
       "      <td>0.132133</td>\n",
       "      <td>-0.000949</td>\n",
       "      <td>0.160063</td>\n",
       "      <td>-0.176589</td>\n",
       "    </tr>\n",
       "  </tbody>\n",
       "</table>\n",
       "<p>5 rows × 21 columns</p>\n",
       "</div>"
      ],
      "text/plain": [
       "         Gender  City_Code  City_Category  Employer_Code  Employer_Category1  \\\n",
       "4785  -0.600537   0.148588       0.097853            0.0           -0.382525   \n",
       "25261  0.302521  -0.267721      -0.010288            0.0           -0.382525   \n",
       "17120 -0.600537   0.148588       0.097853            0.0            0.349288   \n",
       "29647 -0.600537  -0.267721      -0.576951            0.0           -0.382525   \n",
       "9350   0.302521   0.034822       0.097853            0.0           -0.382525   \n",
       "\n",
       "       Employer_Category2  Monthly_Income  Primary_Bank_Type  Contacted  \\\n",
       "4785            -0.054212       -4.232558          -0.529112  -0.780405   \n",
       "25261           -0.054212       -4.232558           0.191916   0.262554   \n",
       "17120            0.276227        0.877714           0.191916  -0.780405   \n",
       "29647           -0.054212       -4.232558           0.191916  -0.780405   \n",
       "9350            -0.054212       -4.232558           0.191916   0.262554   \n",
       "\n",
       "         Source  ...  Existing_EMI  Loan_Amount  Loan_Period  Interest_Rate  \\\n",
       "4785   0.059791  ...     -0.258899    -0.793831    -0.793831      -0.262669   \n",
       "25261  0.059791  ...     -0.258899    -0.021198     0.251846      -0.354264   \n",
       "17120  0.059791  ...     -0.258899    -0.793831    -0.793831      -0.262669   \n",
       "29647 -0.279869  ...     -0.258899    -0.793831    -0.793831      -0.262669   \n",
       "9350   0.059791  ...      0.385203     0.110352     0.251846      -0.354264   \n",
       "\n",
       "            EMI      Var1       Age  Lead_Creation_Month   Age_Cat  \\\n",
       "4785  -0.262669 -0.978301 -0.715888            -0.000949 -1.093195   \n",
       "25261 -0.070589 -1.720984  0.132133            -0.000949  0.160063   \n",
       "17120 -0.262669  1.027697 -0.715888            -0.000949  0.160063   \n",
       "29647 -0.262669 -0.978301 -0.715888            -0.092329 -1.093195   \n",
       "9350   0.292778 -1.720984  0.132133            -0.000949  0.160063   \n",
       "\n",
       "       Employer_Cat3  \n",
       "4785       -0.176589  \n",
       "25261      -0.176589  \n",
       "17120       0.267050  \n",
       "29647      -0.176589  \n",
       "9350       -0.176589  \n",
       "\n",
       "[5 rows x 21 columns]"
      ]
     },
     "execution_count": 120,
     "metadata": {},
     "output_type": "execute_result"
    }
   ],
   "source": [
    "woe = WOE()\n",
    "\n",
    "woe.fit(xtrain, ytrain)\n",
    "\n",
    "clf_train= woe.transform(xtrain)\n",
    "clf_train.head()"
   ]
  },
  {
   "cell_type": "code",
   "execution_count": 121,
   "id": "ecb7fb4c",
   "metadata": {},
   "outputs": [
    {
     "data": {
      "text/html": [
       "<div>\n",
       "<style scoped>\n",
       "    .dataframe tbody tr th:only-of-type {\n",
       "        vertical-align: middle;\n",
       "    }\n",
       "\n",
       "    .dataframe tbody tr th {\n",
       "        vertical-align: top;\n",
       "    }\n",
       "\n",
       "    .dataframe thead th {\n",
       "        text-align: right;\n",
       "    }\n",
       "</style>\n",
       "<table border=\"1\" class=\"dataframe\">\n",
       "  <thead>\n",
       "    <tr style=\"text-align: right;\">\n",
       "      <th></th>\n",
       "      <th>Gender</th>\n",
       "      <th>City_Code</th>\n",
       "      <th>City_Category</th>\n",
       "      <th>Employer_Code</th>\n",
       "      <th>Employer_Category1</th>\n",
       "      <th>Employer_Category2</th>\n",
       "      <th>Monthly_Income</th>\n",
       "      <th>Primary_Bank_Type</th>\n",
       "      <th>Contacted</th>\n",
       "      <th>Source</th>\n",
       "      <th>...</th>\n",
       "      <th>Existing_EMI</th>\n",
       "      <th>Loan_Amount</th>\n",
       "      <th>Loan_Period</th>\n",
       "      <th>Interest_Rate</th>\n",
       "      <th>EMI</th>\n",
       "      <th>Var1</th>\n",
       "      <th>Age</th>\n",
       "      <th>Lead_Creation_Month</th>\n",
       "      <th>Age_Cat</th>\n",
       "      <th>Employer_Cat3</th>\n",
       "    </tr>\n",
       "  </thead>\n",
       "  <tbody>\n",
       "    <tr>\n",
       "      <th>14707</th>\n",
       "      <td>0.302521</td>\n",
       "      <td>0.034822</td>\n",
       "      <td>0.097853</td>\n",
       "      <td>4.146522</td>\n",
       "      <td>0.228538</td>\n",
       "      <td>-0.054212</td>\n",
       "      <td>0.877714</td>\n",
       "      <td>0.191916</td>\n",
       "      <td>0.262554</td>\n",
       "      <td>0.059791</td>\n",
       "      <td>...</td>\n",
       "      <td>-0.258899</td>\n",
       "      <td>0.612164</td>\n",
       "      <td>0.251846</td>\n",
       "      <td>-0.262669</td>\n",
       "      <td>-0.262669</td>\n",
       "      <td>0.220575</td>\n",
       "      <td>0.132133</td>\n",
       "      <td>-0.000949</td>\n",
       "      <td>0.160063</td>\n",
       "      <td>-0.176589</td>\n",
       "    </tr>\n",
       "    <tr>\n",
       "      <th>41442</th>\n",
       "      <td>-0.600537</td>\n",
       "      <td>0.148588</td>\n",
       "      <td>0.097853</td>\n",
       "      <td>COM0013262</td>\n",
       "      <td>0.228538</td>\n",
       "      <td>-0.054212</td>\n",
       "      <td>-4.232558</td>\n",
       "      <td>-0.529112</td>\n",
       "      <td>-0.780405</td>\n",
       "      <td>0.059791</td>\n",
       "      <td>...</td>\n",
       "      <td>-0.258899</td>\n",
       "      <td>-0.793831</td>\n",
       "      <td>-0.793831</td>\n",
       "      <td>-0.262669</td>\n",
       "      <td>-0.262669</td>\n",
       "      <td>-0.978301</td>\n",
       "      <td>-0.715888</td>\n",
       "      <td>0.016311</td>\n",
       "      <td>-1.093195</td>\n",
       "      <td>-0.176589</td>\n",
       "    </tr>\n",
       "    <tr>\n",
       "      <th>1818</th>\n",
       "      <td>0.302521</td>\n",
       "      <td>0.034822</td>\n",
       "      <td>0.097853</td>\n",
       "      <td>0.0</td>\n",
       "      <td>-0.382525</td>\n",
       "      <td>-0.054212</td>\n",
       "      <td>0.877714</td>\n",
       "      <td>0.191916</td>\n",
       "      <td>0.262554</td>\n",
       "      <td>-0.279869</td>\n",
       "      <td>...</td>\n",
       "      <td>-0.258899</td>\n",
       "      <td>0.612164</td>\n",
       "      <td>0.251846</td>\n",
       "      <td>1.157333</td>\n",
       "      <td>0.738157</td>\n",
       "      <td>1.027697</td>\n",
       "      <td>0.132133</td>\n",
       "      <td>-0.000949</td>\n",
       "      <td>0.160063</td>\n",
       "      <td>0.267050</td>\n",
       "    </tr>\n",
       "    <tr>\n",
       "      <th>30115</th>\n",
       "      <td>0.302521</td>\n",
       "      <td>-0.267721</td>\n",
       "      <td>-0.576951</td>\n",
       "      <td>COM0047421</td>\n",
       "      <td>-0.382525</td>\n",
       "      <td>-0.054212</td>\n",
       "      <td>-0.409401</td>\n",
       "      <td>0.191916</td>\n",
       "      <td>0.262554</td>\n",
       "      <td>0.059791</td>\n",
       "      <td>...</td>\n",
       "      <td>0.385203</td>\n",
       "      <td>0.110352</td>\n",
       "      <td>0.281787</td>\n",
       "      <td>-0.354264</td>\n",
       "      <td>0.292778</td>\n",
       "      <td>0.220575</td>\n",
       "      <td>-0.715888</td>\n",
       "      <td>-0.092329</td>\n",
       "      <td>-1.093195</td>\n",
       "      <td>-0.176589</td>\n",
       "    </tr>\n",
       "    <tr>\n",
       "      <th>42792</th>\n",
       "      <td>-0.600537</td>\n",
       "      <td>-0.267721</td>\n",
       "      <td>-0.576951</td>\n",
       "      <td>0.0</td>\n",
       "      <td>-0.382525</td>\n",
       "      <td>-0.054212</td>\n",
       "      <td>-0.409401</td>\n",
       "      <td>-0.529112</td>\n",
       "      <td>-0.780405</td>\n",
       "      <td>0.059791</td>\n",
       "      <td>...</td>\n",
       "      <td>0.385203</td>\n",
       "      <td>-0.793831</td>\n",
       "      <td>-0.793831</td>\n",
       "      <td>-0.262669</td>\n",
       "      <td>-0.262669</td>\n",
       "      <td>-0.978301</td>\n",
       "      <td>0.413106</td>\n",
       "      <td>0.016311</td>\n",
       "      <td>0.160063</td>\n",
       "      <td>-0.176589</td>\n",
       "    </tr>\n",
       "  </tbody>\n",
       "</table>\n",
       "<p>5 rows × 21 columns</p>\n",
       "</div>"
      ],
      "text/plain": [
       "         Gender  City_Code  City_Category Employer_Code  Employer_Category1  \\\n",
       "14707  0.302521   0.034822       0.097853      4.146522            0.228538   \n",
       "41442 -0.600537   0.148588       0.097853    COM0013262            0.228538   \n",
       "1818   0.302521   0.034822       0.097853           0.0           -0.382525   \n",
       "30115  0.302521  -0.267721      -0.576951    COM0047421           -0.382525   \n",
       "42792 -0.600537  -0.267721      -0.576951           0.0           -0.382525   \n",
       "\n",
       "       Employer_Category2  Monthly_Income  Primary_Bank_Type  Contacted  \\\n",
       "14707           -0.054212        0.877714           0.191916   0.262554   \n",
       "41442           -0.054212       -4.232558          -0.529112  -0.780405   \n",
       "1818            -0.054212        0.877714           0.191916   0.262554   \n",
       "30115           -0.054212       -0.409401           0.191916   0.262554   \n",
       "42792           -0.054212       -0.409401          -0.529112  -0.780405   \n",
       "\n",
       "         Source  ...  Existing_EMI  Loan_Amount  Loan_Period  Interest_Rate  \\\n",
       "14707  0.059791  ...     -0.258899     0.612164     0.251846      -0.262669   \n",
       "41442  0.059791  ...     -0.258899    -0.793831    -0.793831      -0.262669   \n",
       "1818  -0.279869  ...     -0.258899     0.612164     0.251846       1.157333   \n",
       "30115  0.059791  ...      0.385203     0.110352     0.281787      -0.354264   \n",
       "42792  0.059791  ...      0.385203    -0.793831    -0.793831      -0.262669   \n",
       "\n",
       "            EMI      Var1       Age  Lead_Creation_Month   Age_Cat  \\\n",
       "14707 -0.262669  0.220575  0.132133            -0.000949  0.160063   \n",
       "41442 -0.262669 -0.978301 -0.715888             0.016311 -1.093195   \n",
       "1818   0.738157  1.027697  0.132133            -0.000949  0.160063   \n",
       "30115  0.292778  0.220575 -0.715888            -0.092329 -1.093195   \n",
       "42792 -0.262669 -0.978301  0.413106             0.016311  0.160063   \n",
       "\n",
       "       Employer_Cat3  \n",
       "14707      -0.176589  \n",
       "41442      -0.176589  \n",
       "1818        0.267050  \n",
       "30115      -0.176589  \n",
       "42792      -0.176589  \n",
       "\n",
       "[5 rows x 21 columns]"
      ]
     },
     "execution_count": 121,
     "metadata": {},
     "output_type": "execute_result"
    }
   ],
   "source": [
    "clf_test = woe.transform(xtest)\n",
    "clf_test.head()"
   ]
  },
  {
   "cell_type": "code",
   "execution_count": 122,
   "id": "f54ce404",
   "metadata": {},
   "outputs": [],
   "source": [
    "clf_train_new = clf_train.loc[:,['City_Code','Source']].reset_index(drop = True)"
   ]
  },
  {
   "cell_type": "code",
   "execution_count": 123,
   "id": "9829fa88",
   "metadata": {},
   "outputs": [],
   "source": [
    "xtrain_cat_rest = xtrain[['Employer_Category2', 'Var1', 'Lead_Creation_Month']].reset_index(drop=True)"
   ]
  },
  {
   "cell_type": "code",
   "execution_count": 124,
   "id": "2298f315",
   "metadata": {},
   "outputs": [],
   "source": [
    "xtrain_encoded_cat = pd.concat([xtrain_gen, xtrain_cont, xtrain_bank, xtrain_oe, xtrain_cat_rest, clf_train_new], axis = 1)"
   ]
  },
  {
   "cell_type": "code",
   "execution_count": 125,
   "id": "405a157a",
   "metadata": {},
   "outputs": [
    {
     "data": {
      "text/html": [
       "<div>\n",
       "<style scoped>\n",
       "    .dataframe tbody tr th:only-of-type {\n",
       "        vertical-align: middle;\n",
       "    }\n",
       "\n",
       "    .dataframe tbody tr th {\n",
       "        vertical-align: top;\n",
       "    }\n",
       "\n",
       "    .dataframe thead th {\n",
       "        text-align: right;\n",
       "    }\n",
       "</style>\n",
       "<table border=\"1\" class=\"dataframe\">\n",
       "  <thead>\n",
       "    <tr style=\"text-align: right;\">\n",
       "      <th></th>\n",
       "      <th>Gender</th>\n",
       "      <th>Contacted</th>\n",
       "      <th>Primary_Bank_Type</th>\n",
       "      <th>City_Category_B</th>\n",
       "      <th>City_Category_C</th>\n",
       "      <th>Employer_Category1_B</th>\n",
       "      <th>Employer_Category1_C</th>\n",
       "      <th>Source_Category_B</th>\n",
       "      <th>Source_Category_C</th>\n",
       "      <th>Source_Category_D</th>\n",
       "      <th>...</th>\n",
       "      <th>Age_Cat_Young</th>\n",
       "      <th>Employer_Cat3_M</th>\n",
       "      <th>Employer_Cat3_S</th>\n",
       "      <th>Employer_Cat3_VL</th>\n",
       "      <th>Employer_Cat3_VS</th>\n",
       "      <th>Employer_Category2</th>\n",
       "      <th>Var1</th>\n",
       "      <th>Lead_Creation_Month</th>\n",
       "      <th>City_Code</th>\n",
       "      <th>Source</th>\n",
       "    </tr>\n",
       "  </thead>\n",
       "  <tbody>\n",
       "    <tr>\n",
       "      <th>0</th>\n",
       "      <td>0</td>\n",
       "      <td>0</td>\n",
       "      <td>0</td>\n",
       "      <td>0</td>\n",
       "      <td>0</td>\n",
       "      <td>0</td>\n",
       "      <td>0</td>\n",
       "      <td>0</td>\n",
       "      <td>1</td>\n",
       "      <td>0</td>\n",
       "      <td>...</td>\n",
       "      <td>1</td>\n",
       "      <td>0</td>\n",
       "      <td>0</td>\n",
       "      <td>0</td>\n",
       "      <td>1</td>\n",
       "      <td>4.0</td>\n",
       "      <td>0</td>\n",
       "      <td>7</td>\n",
       "      <td>0.148588</td>\n",
       "      <td>0.059791</td>\n",
       "    </tr>\n",
       "    <tr>\n",
       "      <th>1</th>\n",
       "      <td>1</td>\n",
       "      <td>1</td>\n",
       "      <td>1</td>\n",
       "      <td>1</td>\n",
       "      <td>0</td>\n",
       "      <td>0</td>\n",
       "      <td>0</td>\n",
       "      <td>0</td>\n",
       "      <td>1</td>\n",
       "      <td>0</td>\n",
       "      <td>...</td>\n",
       "      <td>0</td>\n",
       "      <td>0</td>\n",
       "      <td>0</td>\n",
       "      <td>0</td>\n",
       "      <td>1</td>\n",
       "      <td>4.0</td>\n",
       "      <td>2</td>\n",
       "      <td>5</td>\n",
       "      <td>-0.267721</td>\n",
       "      <td>0.059791</td>\n",
       "    </tr>\n",
       "    <tr>\n",
       "      <th>2</th>\n",
       "      <td>0</td>\n",
       "      <td>0</td>\n",
       "      <td>1</td>\n",
       "      <td>0</td>\n",
       "      <td>0</td>\n",
       "      <td>0</td>\n",
       "      <td>1</td>\n",
       "      <td>1</td>\n",
       "      <td>0</td>\n",
       "      <td>0</td>\n",
       "      <td>...</td>\n",
       "      <td>0</td>\n",
       "      <td>1</td>\n",
       "      <td>0</td>\n",
       "      <td>0</td>\n",
       "      <td>0</td>\n",
       "      <td>1.0</td>\n",
       "      <td>10</td>\n",
       "      <td>7</td>\n",
       "      <td>0.148588</td>\n",
       "      <td>0.059791</td>\n",
       "    </tr>\n",
       "    <tr>\n",
       "      <th>3</th>\n",
       "      <td>0</td>\n",
       "      <td>0</td>\n",
       "      <td>1</td>\n",
       "      <td>0</td>\n",
       "      <td>1</td>\n",
       "      <td>0</td>\n",
       "      <td>0</td>\n",
       "      <td>1</td>\n",
       "      <td>0</td>\n",
       "      <td>0</td>\n",
       "      <td>...</td>\n",
       "      <td>1</td>\n",
       "      <td>0</td>\n",
       "      <td>0</td>\n",
       "      <td>0</td>\n",
       "      <td>1</td>\n",
       "      <td>4.0</td>\n",
       "      <td>0</td>\n",
       "      <td>12</td>\n",
       "      <td>-0.267721</td>\n",
       "      <td>-0.279869</td>\n",
       "    </tr>\n",
       "    <tr>\n",
       "      <th>4</th>\n",
       "      <td>1</td>\n",
       "      <td>1</td>\n",
       "      <td>1</td>\n",
       "      <td>0</td>\n",
       "      <td>0</td>\n",
       "      <td>0</td>\n",
       "      <td>0</td>\n",
       "      <td>1</td>\n",
       "      <td>0</td>\n",
       "      <td>0</td>\n",
       "      <td>...</td>\n",
       "      <td>0</td>\n",
       "      <td>0</td>\n",
       "      <td>0</td>\n",
       "      <td>0</td>\n",
       "      <td>1</td>\n",
       "      <td>4.0</td>\n",
       "      <td>2</td>\n",
       "      <td>7</td>\n",
       "      <td>0.034822</td>\n",
       "      <td>0.059791</td>\n",
       "    </tr>\n",
       "  </tbody>\n",
       "</table>\n",
       "<p>5 rows × 25 columns</p>\n",
       "</div>"
      ],
      "text/plain": [
       "   Gender  Contacted  Primary_Bank_Type  City_Category_B  City_Category_C  \\\n",
       "0       0          0                  0                0                0   \n",
       "1       1          1                  1                1                0   \n",
       "2       0          0                  1                0                0   \n",
       "3       0          0                  1                0                1   \n",
       "4       1          1                  1                0                0   \n",
       "\n",
       "   Employer_Category1_B  Employer_Category1_C  Source_Category_B  \\\n",
       "0                     0                     0                  0   \n",
       "1                     0                     0                  0   \n",
       "2                     0                     1                  1   \n",
       "3                     0                     0                  1   \n",
       "4                     0                     0                  1   \n",
       "\n",
       "   Source_Category_C  Source_Category_D  ...  Age_Cat_Young  Employer_Cat3_M  \\\n",
       "0                  1                  0  ...              1                0   \n",
       "1                  1                  0  ...              0                0   \n",
       "2                  0                  0  ...              0                1   \n",
       "3                  0                  0  ...              1                0   \n",
       "4                  0                  0  ...              0                0   \n",
       "\n",
       "   Employer_Cat3_S  Employer_Cat3_VL  Employer_Cat3_VS  Employer_Category2  \\\n",
       "0                0                 0                 1                 4.0   \n",
       "1                0                 0                 1                 4.0   \n",
       "2                0                 0                 0                 1.0   \n",
       "3                0                 0                 1                 4.0   \n",
       "4                0                 0                 1                 4.0   \n",
       "\n",
       "   Var1  Lead_Creation_Month  City_Code    Source  \n",
       "0     0                    7   0.148588  0.059791  \n",
       "1     2                    5  -0.267721  0.059791  \n",
       "2    10                    7   0.148588  0.059791  \n",
       "3     0                   12  -0.267721 -0.279869  \n",
       "4     2                    7   0.034822  0.059791  \n",
       "\n",
       "[5 rows x 25 columns]"
      ]
     },
     "execution_count": 125,
     "metadata": {},
     "output_type": "execute_result"
    }
   ],
   "source": [
    "xtrain_encoded_cat.head()"
   ]
  },
  {
   "cell_type": "code",
   "execution_count": 126,
   "id": "f905136f",
   "metadata": {},
   "outputs": [],
   "source": [
    "clf_test_new = clf_test.loc[:,['City_Code','Source']].reset_index(drop = True)"
   ]
  },
  {
   "cell_type": "code",
   "execution_count": 127,
   "id": "6fa00503",
   "metadata": {},
   "outputs": [],
   "source": [
    "xtest_cat_rest = xtest[['Employer_Category2', 'Var1', 'Lead_Creation_Month']].reset_index(drop=True)"
   ]
  },
  {
   "cell_type": "code",
   "execution_count": 128,
   "id": "3703f0c6",
   "metadata": {},
   "outputs": [],
   "source": [
    "xtest_encoded_cat = pd.concat([xtest_gen, xtest_cont, xtest_bank, xtest_oe, xtest_cat_rest, clf_test_new], axis = 1)"
   ]
  },
  {
   "cell_type": "code",
   "execution_count": 129,
   "id": "f14bad34",
   "metadata": {},
   "outputs": [
    {
     "data": {
      "text/plain": [
       "(13068, 25)"
      ]
     },
     "execution_count": 129,
     "metadata": {},
     "output_type": "execute_result"
    }
   ],
   "source": [
    "xtest_encoded_cat.shape"
   ]
  },
  {
   "cell_type": "markdown",
   "id": "a4c97566",
   "metadata": {},
   "source": [
    "# Preparing the data for imputation "
   ]
  },
  {
   "cell_type": "code",
   "execution_count": 130,
   "id": "f463613f",
   "metadata": {},
   "outputs": [],
   "source": [
    "xtrain_num = xtrain.select_dtypes(include='number')\n",
    "xtrain_num = xtrain_num.drop(['City_Code', 'Employer_Category2', 'Source', 'Var1', 'Lead_Creation_Month'], axis=1).reset_index(drop=True)"
   ]
  },
  {
   "cell_type": "code",
   "execution_count": 131,
   "id": "c976a880",
   "metadata": {},
   "outputs": [],
   "source": [
    "xtest_num = xtest.select_dtypes(include='number')\n",
    "xtest_num = xtest_num.drop(['City_Code', 'Employer_Category2', 'Source', 'Var1', 'Lead_Creation_Month'], axis=1).reset_index(drop=True)"
   ]
  },
  {
   "cell_type": "code",
   "execution_count": 132,
   "id": "06831594",
   "metadata": {},
   "outputs": [],
   "source": [
    "xtrain_final = pd.concat([xtrain_encoded_cat, xtrain_num], axis = 1)"
   ]
  },
  {
   "cell_type": "code",
   "execution_count": 133,
   "id": "771b4cd6",
   "metadata": {},
   "outputs": [],
   "source": [
    "xtest_final = pd.concat([xtest_encoded_cat, xtest_num], axis = 1)"
   ]
  },
  {
   "cell_type": "code",
   "execution_count": 134,
   "id": "85ba76b9",
   "metadata": {
    "scrolled": true
   },
   "outputs": [
    {
     "name": "stdout",
     "output_type": "stream",
     "text": [
      "(13068, 32) (52270, 32)\n"
     ]
    }
   ],
   "source": [
    "print(xtest_final.shape,xtrain_final.shape)"
   ]
  },
  {
   "cell_type": "markdown",
   "id": "36346024",
   "metadata": {},
   "source": [
    "## * Missing value imputation"
   ]
  },
  {
   "cell_type": "code",
   "execution_count": 135,
   "id": "c207a777",
   "metadata": {},
   "outputs": [],
   "source": [
    "it = IterativeImputer(estimator = KNeighborsRegressor() )\n",
    "\n",
    "x_train = it.fit_transform(xtrain_final)\n",
    "\n",
    "imputed_train = pd.DataFrame(x_train, columns = xtrain_final.columns)\n",
    "\n",
    "x_test = it.transform(xtest_final)\n",
    "\n",
    "imputed_test = pd.DataFrame(x_test, columns = xtest_final.columns)"
   ]
  },
  {
   "cell_type": "markdown",
   "id": "9e05a174",
   "metadata": {},
   "source": [
    "## Visualising distributions before and after imputation"
   ]
  },
  {
   "cell_type": "code",
   "execution_count": 136,
   "id": "d72bce6a",
   "metadata": {},
   "outputs": [
    {
     "data": {
      "image/png": "[encoded data removed]",
      "text/plain": [
       "<Figure size 1080x1440 with 8 Axes>"
      ]
     },
     "metadata": {
      "needs_background": "light"
     },
     "output_type": "display_data"
    }
   ],
   "source": [
    "plt.figure(figsize=[15,20])\n",
    "x=1\n",
    "for i  in ['Loan_Amount','Loan_Period','Interest_Rate','EMI']:\n",
    "        plt.subplot(8,2,x)\n",
    "        plt.title('Before Imputaion')\n",
    "        sns.distplot(xtrain_final[i],color='cyan')\n",
    "        x=x+1\n",
    "        plt.subplot(8,2,x)\n",
    "        plt.title('After Imputaion')\n",
    "        sns.distplot(imputed_train[i],color='blue')\n",
    "        x=x+1\n",
    "plt.tight_layout()\n",
    "plt.show()\n",
    "        \n",
    "        "
   ]
  },
  {
   "cell_type": "markdown",
   "id": "023c5e57",
   "metadata": {},
   "source": [
    "*  The distributions look the same before and after imputation, except the count of values has increased (not in case of EMI)."
   ]
  },
  {
   "cell_type": "markdown",
   "id": "2d51bfc1",
   "metadata": {},
   "source": [
    "# Feature Engineering"
   ]
  },
  {
   "cell_type": "markdown",
   "id": "8b422c8b",
   "metadata": {},
   "source": [
    "* Imputing EMI manually using the below mentioned formula"
   ]
  },
  {
   "cell_type": "markdown",
   "id": "300ca97f",
   "metadata": {},
   "source": [
    "EMI Formula = p * r * (1+r)^n/((1+r)^n-1)"
   ]
  },
  {
   "cell_type": "code",
   "execution_count": 137,
   "id": "71d16a2f",
   "metadata": {},
   "outputs": [],
   "source": [
    "imputed_train['loan_period_months']=imputed_train['Loan_Period']*12"
   ]
  },
  {
   "cell_type": "code",
   "execution_count": 138,
   "id": "2b2112af",
   "metadata": {},
   "outputs": [],
   "source": [
    "p = imputed_train.Loan_Amount\n",
    "R = imputed_train.Interest_Rate\n",
    "n = imputed_train.loan_period_months\n",
    "r = R/(12*100)"
   ]
  },
  {
   "cell_type": "code",
   "execution_count": 139,
   "id": "529530ff",
   "metadata": {},
   "outputs": [],
   "source": [
    "imputed_train['emi_recal'] = p * r * ((1+r)**n)/((1+r)**n - 1)"
   ]
  },
  {
   "cell_type": "code",
   "execution_count": 140,
   "id": "4a2ec4fe",
   "metadata": {},
   "outputs": [],
   "source": [
    "imputed_train['emi_recal'] = np.round(imputed_train['emi_recal'] ,0)"
   ]
  },
  {
   "cell_type": "code",
   "execution_count": 141,
   "id": "b04d7cd9",
   "metadata": {},
   "outputs": [],
   "source": [
    "imputed_train['EMI']=xtrain_final.EMI"
   ]
  },
  {
   "cell_type": "code",
   "execution_count": 142,
   "id": "2042a4e0",
   "metadata": {},
   "outputs": [],
   "source": [
    "imputed_train.drop('EMI',axis=1,inplace=True)"
   ]
  },
  {
   "cell_type": "code",
   "execution_count": 143,
   "id": "ded705a3",
   "metadata": {},
   "outputs": [],
   "source": [
    "imputed_test['loan_period_months']=imputed_test['Loan_Period']*12\n",
    "\n",
    "p = imputed_test.Loan_Amount\n",
    "R = imputed_test.Interest_Rate\n",
    "n = imputed_test.loan_period_months\n",
    "r = R/(12*100)\n",
    "\n",
    "imputed_test['emi_recal'] = p * r * ((1+r)**n)/((1+r)**n - 1)\n",
    "\n",
    "imputed_test['emi_recal'] = np.round(imputed_test['emi_recal'] ,0)\n",
    "\n",
    "imputed_test['EMI']=xtest_final.EMI\n",
    "\n",
    "imputed_test.drop('EMI',axis=1,inplace=True)"
   ]
  },
  {
   "cell_type": "code",
   "execution_count": null,
   "id": "55e55f64",
   "metadata": {},
   "outputs": [],
   "source": []
  },
  {
   "cell_type": "markdown",
   "id": "765ff19c",
   "metadata": {},
   "source": [
    "* Creating new features using emi_recal,monthly income, loan period :\n",
    " 'EMI-Monthly_Income_Ratio','Income_loan_Ratio'"
   ]
  },
  {
   "cell_type": "code",
   "execution_count": 144,
   "id": "4a9768b9",
   "metadata": {},
   "outputs": [],
   "source": [
    "imputed_train['Income_in_loan_period'] = imputed_train.Monthly_Income *12* (pow((1 + 3 / 100), imputed_train.Loan_Period))"
   ]
  },
  {
   "cell_type": "code",
   "execution_count": 145,
   "id": "62a23f38",
   "metadata": {},
   "outputs": [],
   "source": [
    "imputed_train['EMI-Monthly_Income_Ratio']=(imputed_train.emi_recal+imputed_train.Existing_EMI)/(imputed_train.Monthly_Income)"
   ]
  },
  {
   "cell_type": "code",
   "execution_count": 146,
   "id": "c8ff5a23",
   "metadata": {},
   "outputs": [],
   "source": [
    "imputed_train['Income_loan_Ratio']=imputed_train.Loan_Amount/imputed_train.Income_in_loan_period"
   ]
  },
  {
   "cell_type": "code",
   "execution_count": 147,
   "id": "7e89e4eb",
   "metadata": {},
   "outputs": [],
   "source": [
    "imputed_train.drop('Income_in_loan_period',axis=1,inplace=True)"
   ]
  },
  {
   "cell_type": "code",
   "execution_count": 148,
   "id": "31d59442",
   "metadata": {},
   "outputs": [
    {
     "data": {
      "text/html": [
       "<div>\n",
       "<style scoped>\n",
       "    .dataframe tbody tr th:only-of-type {\n",
       "        vertical-align: middle;\n",
       "    }\n",
       "\n",
       "    .dataframe tbody tr th {\n",
       "        vertical-align: top;\n",
       "    }\n",
       "\n",
       "    .dataframe thead th {\n",
       "        text-align: right;\n",
       "    }\n",
       "</style>\n",
       "<table border=\"1\" class=\"dataframe\">\n",
       "  <thead>\n",
       "    <tr style=\"text-align: right;\">\n",
       "      <th></th>\n",
       "      <th>Gender</th>\n",
       "      <th>Contacted</th>\n",
       "      <th>Primary_Bank_Type</th>\n",
       "      <th>City_Category_B</th>\n",
       "      <th>City_Category_C</th>\n",
       "      <th>Employer_Category1_B</th>\n",
       "      <th>Employer_Category1_C</th>\n",
       "      <th>Source_Category_B</th>\n",
       "      <th>Source_Category_C</th>\n",
       "      <th>Source_Category_D</th>\n",
       "      <th>...</th>\n",
       "      <th>Monthly_Income</th>\n",
       "      <th>Existing_EMI</th>\n",
       "      <th>Loan_Amount</th>\n",
       "      <th>Loan_Period</th>\n",
       "      <th>Interest_Rate</th>\n",
       "      <th>Age</th>\n",
       "      <th>loan_period_months</th>\n",
       "      <th>emi_recal</th>\n",
       "      <th>EMI-Monthly_Income_Ratio</th>\n",
       "      <th>Income_loan_Ratio</th>\n",
       "    </tr>\n",
       "  </thead>\n",
       "  <tbody>\n",
       "    <tr>\n",
       "      <th>0</th>\n",
       "      <td>0.0</td>\n",
       "      <td>0.0</td>\n",
       "      <td>0.0</td>\n",
       "      <td>0.0</td>\n",
       "      <td>0.0</td>\n",
       "      <td>0.0</td>\n",
       "      <td>0.0</td>\n",
       "      <td>0.0</td>\n",
       "      <td>1.0</td>\n",
       "      <td>0.0</td>\n",
       "      <td>...</td>\n",
       "      <td>1680.0</td>\n",
       "      <td>0.0</td>\n",
       "      <td>19600.0</td>\n",
       "      <td>3.4</td>\n",
       "      <td>18.040</td>\n",
       "      <td>25.0</td>\n",
       "      <td>40.8</td>\n",
       "      <td>646.0</td>\n",
       "      <td>0.384524</td>\n",
       "      <td>0.879263</td>\n",
       "    </tr>\n",
       "    <tr>\n",
       "      <th>1</th>\n",
       "      <td>1.0</td>\n",
       "      <td>1.0</td>\n",
       "      <td>1.0</td>\n",
       "      <td>1.0</td>\n",
       "      <td>0.0</td>\n",
       "      <td>0.0</td>\n",
       "      <td>0.0</td>\n",
       "      <td>0.0</td>\n",
       "      <td>1.0</td>\n",
       "      <td>0.0</td>\n",
       "      <td>...</td>\n",
       "      <td>1350.0</td>\n",
       "      <td>0.0</td>\n",
       "      <td>30000.0</td>\n",
       "      <td>5.0</td>\n",
       "      <td>20.000</td>\n",
       "      <td>28.0</td>\n",
       "      <td>60.0</td>\n",
       "      <td>795.0</td>\n",
       "      <td>0.588889</td>\n",
       "      <td>1.597424</td>\n",
       "    </tr>\n",
       "    <tr>\n",
       "      <th>2</th>\n",
       "      <td>0.0</td>\n",
       "      <td>0.0</td>\n",
       "      <td>1.0</td>\n",
       "      <td>0.0</td>\n",
       "      <td>0.0</td>\n",
       "      <td>0.0</td>\n",
       "      <td>1.0</td>\n",
       "      <td>1.0</td>\n",
       "      <td>0.0</td>\n",
       "      <td>0.0</td>\n",
       "      <td>...</td>\n",
       "      <td>5200.0</td>\n",
       "      <td>0.0</td>\n",
       "      <td>90000.0</td>\n",
       "      <td>4.4</td>\n",
       "      <td>15.108</td>\n",
       "      <td>26.0</td>\n",
       "      <td>52.8</td>\n",
       "      <td>2344.0</td>\n",
       "      <td>0.450769</td>\n",
       "      <td>1.266409</td>\n",
       "    </tr>\n",
       "    <tr>\n",
       "      <th>3</th>\n",
       "      <td>0.0</td>\n",
       "      <td>0.0</td>\n",
       "      <td>1.0</td>\n",
       "      <td>0.0</td>\n",
       "      <td>1.0</td>\n",
       "      <td>0.0</td>\n",
       "      <td>0.0</td>\n",
       "      <td>1.0</td>\n",
       "      <td>0.0</td>\n",
       "      <td>0.0</td>\n",
       "      <td>...</td>\n",
       "      <td>1500.0</td>\n",
       "      <td>0.0</td>\n",
       "      <td>22000.0</td>\n",
       "      <td>4.0</td>\n",
       "      <td>35.500</td>\n",
       "      <td>25.0</td>\n",
       "      <td>48.0</td>\n",
       "      <td>864.0</td>\n",
       "      <td>0.576000</td>\n",
       "      <td>1.085929</td>\n",
       "    </tr>\n",
       "    <tr>\n",
       "      <th>4</th>\n",
       "      <td>1.0</td>\n",
       "      <td>1.0</td>\n",
       "      <td>1.0</td>\n",
       "      <td>0.0</td>\n",
       "      <td>0.0</td>\n",
       "      <td>0.0</td>\n",
       "      <td>0.0</td>\n",
       "      <td>1.0</td>\n",
       "      <td>0.0</td>\n",
       "      <td>0.0</td>\n",
       "      <td>...</td>\n",
       "      <td>1500.0</td>\n",
       "      <td>600.0</td>\n",
       "      <td>11000.0</td>\n",
       "      <td>5.0</td>\n",
       "      <td>20.000</td>\n",
       "      <td>28.0</td>\n",
       "      <td>60.0</td>\n",
       "      <td>291.0</td>\n",
       "      <td>0.594000</td>\n",
       "      <td>0.527150</td>\n",
       "    </tr>\n",
       "  </tbody>\n",
       "</table>\n",
       "<p>5 rows × 35 columns</p>\n",
       "</div>"
      ],
      "text/plain": [
       "   Gender  Contacted  Primary_Bank_Type  City_Category_B  City_Category_C  \\\n",
       "0     0.0        0.0                0.0              0.0              0.0   \n",
       "1     1.0        1.0                1.0              1.0              0.0   \n",
       "2     0.0        0.0                1.0              0.0              0.0   \n",
       "3     0.0        0.0                1.0              0.0              1.0   \n",
       "4     1.0        1.0                1.0              0.0              0.0   \n",
       "\n",
       "   Employer_Category1_B  Employer_Category1_C  Source_Category_B  \\\n",
       "0                   0.0                   0.0                0.0   \n",
       "1                   0.0                   0.0                0.0   \n",
       "2                   0.0                   1.0                1.0   \n",
       "3                   0.0                   0.0                1.0   \n",
       "4                   0.0                   0.0                1.0   \n",
       "\n",
       "   Source_Category_C  Source_Category_D  ...  Monthly_Income  Existing_EMI  \\\n",
       "0                1.0                0.0  ...          1680.0           0.0   \n",
       "1                1.0                0.0  ...          1350.0           0.0   \n",
       "2                0.0                0.0  ...          5200.0           0.0   \n",
       "3                0.0                0.0  ...          1500.0           0.0   \n",
       "4                0.0                0.0  ...          1500.0         600.0   \n",
       "\n",
       "   Loan_Amount  Loan_Period  Interest_Rate   Age  loan_period_months  \\\n",
       "0      19600.0          3.4         18.040  25.0                40.8   \n",
       "1      30000.0          5.0         20.000  28.0                60.0   \n",
       "2      90000.0          4.4         15.108  26.0                52.8   \n",
       "3      22000.0          4.0         35.500  25.0                48.0   \n",
       "4      11000.0          5.0         20.000  28.0                60.0   \n",
       "\n",
       "   emi_recal  EMI-Monthly_Income_Ratio  Income_loan_Ratio  \n",
       "0      646.0                  0.384524           0.879263  \n",
       "1      795.0                  0.588889           1.597424  \n",
       "2     2344.0                  0.450769           1.266409  \n",
       "3      864.0                  0.576000           1.085929  \n",
       "4      291.0                  0.594000           0.527150  \n",
       "\n",
       "[5 rows x 35 columns]"
      ]
     },
     "execution_count": 148,
     "metadata": {},
     "output_type": "execute_result"
    }
   ],
   "source": [
    "imputed_train.head()"
   ]
  },
  {
   "cell_type": "code",
   "execution_count": 149,
   "id": "12ec9952",
   "metadata": {},
   "outputs": [],
   "source": [
    "imputed_test['Income_in_loan_period'] = imputed_test.Monthly_Income *12* (pow((1 + 3 / 100), imputed_test.Loan_Period))\n",
    "\n",
    "imputed_test['EMI-Monthly_Income_Ratio']=(imputed_test.emi_recal+imputed_test.Existing_EMI)/(imputed_test.Monthly_Income)\n",
    "\n",
    "imputed_test['Income_loan_Ratio']=imputed_test.Loan_Amount/imputed_test.Income_in_loan_period\n",
    "\n",
    "imputed_test.drop('Income_in_loan_period',axis=1,inplace=True)"
   ]
  },
  {
   "cell_type": "code",
   "execution_count": 150,
   "id": "dda6b1ce",
   "metadata": {},
   "outputs": [
    {
     "data": {
      "text/html": [
       "<div>\n",
       "<style scoped>\n",
       "    .dataframe tbody tr th:only-of-type {\n",
       "        vertical-align: middle;\n",
       "    }\n",
       "\n",
       "    .dataframe tbody tr th {\n",
       "        vertical-align: top;\n",
       "    }\n",
       "\n",
       "    .dataframe thead th {\n",
       "        text-align: right;\n",
       "    }\n",
       "</style>\n",
       "<table border=\"1\" class=\"dataframe\">\n",
       "  <thead>\n",
       "    <tr style=\"text-align: right;\">\n",
       "      <th></th>\n",
       "      <th>Gender</th>\n",
       "      <th>Contacted</th>\n",
       "      <th>Primary_Bank_Type</th>\n",
       "      <th>City_Category_B</th>\n",
       "      <th>City_Category_C</th>\n",
       "      <th>Employer_Category1_B</th>\n",
       "      <th>Employer_Category1_C</th>\n",
       "      <th>Source_Category_B</th>\n",
       "      <th>Source_Category_C</th>\n",
       "      <th>Source_Category_D</th>\n",
       "      <th>...</th>\n",
       "      <th>Monthly_Income</th>\n",
       "      <th>Existing_EMI</th>\n",
       "      <th>Loan_Amount</th>\n",
       "      <th>Loan_Period</th>\n",
       "      <th>Interest_Rate</th>\n",
       "      <th>Age</th>\n",
       "      <th>loan_period_months</th>\n",
       "      <th>emi_recal</th>\n",
       "      <th>EMI-Monthly_Income_Ratio</th>\n",
       "      <th>Income_loan_Ratio</th>\n",
       "    </tr>\n",
       "  </thead>\n",
       "  <tbody>\n",
       "    <tr>\n",
       "      <th>0</th>\n",
       "      <td>1.0</td>\n",
       "      <td>1.0</td>\n",
       "      <td>1.0</td>\n",
       "      <td>0.0</td>\n",
       "      <td>0.0</td>\n",
       "      <td>1.0</td>\n",
       "      <td>0.0</td>\n",
       "      <td>0.0</td>\n",
       "      <td>1.0</td>\n",
       "      <td>0.0</td>\n",
       "      <td>...</td>\n",
       "      <td>3550.0</td>\n",
       "      <td>0.0</td>\n",
       "      <td>57000.0</td>\n",
       "      <td>5.0</td>\n",
       "      <td>14.264</td>\n",
       "      <td>31.0</td>\n",
       "      <td>60.0</td>\n",
       "      <td>1334.0</td>\n",
       "      <td>0.375775</td>\n",
       "      <td>1.154195</td>\n",
       "    </tr>\n",
       "    <tr>\n",
       "      <th>1</th>\n",
       "      <td>0.0</td>\n",
       "      <td>0.0</td>\n",
       "      <td>0.0</td>\n",
       "      <td>0.0</td>\n",
       "      <td>0.0</td>\n",
       "      <td>1.0</td>\n",
       "      <td>0.0</td>\n",
       "      <td>0.0</td>\n",
       "      <td>1.0</td>\n",
       "      <td>0.0</td>\n",
       "      <td>...</td>\n",
       "      <td>1000.0</td>\n",
       "      <td>0.0</td>\n",
       "      <td>27000.0</td>\n",
       "      <td>4.8</td>\n",
       "      <td>18.950</td>\n",
       "      <td>20.0</td>\n",
       "      <td>57.6</td>\n",
       "      <td>717.0</td>\n",
       "      <td>0.717000</td>\n",
       "      <td>1.952378</td>\n",
       "    </tr>\n",
       "    <tr>\n",
       "      <th>2</th>\n",
       "      <td>1.0</td>\n",
       "      <td>1.0</td>\n",
       "      <td>1.0</td>\n",
       "      <td>0.0</td>\n",
       "      <td>0.0</td>\n",
       "      <td>0.0</td>\n",
       "      <td>0.0</td>\n",
       "      <td>0.0</td>\n",
       "      <td>1.0</td>\n",
       "      <td>0.0</td>\n",
       "      <td>...</td>\n",
       "      <td>8000.0</td>\n",
       "      <td>0.0</td>\n",
       "      <td>139000.0</td>\n",
       "      <td>5.0</td>\n",
       "      <td>14.850</td>\n",
       "      <td>31.0</td>\n",
       "      <td>60.0</td>\n",
       "      <td>3296.0</td>\n",
       "      <td>0.412000</td>\n",
       "      <td>1.248986</td>\n",
       "    </tr>\n",
       "    <tr>\n",
       "      <th>3</th>\n",
       "      <td>1.0</td>\n",
       "      <td>1.0</td>\n",
       "      <td>1.0</td>\n",
       "      <td>0.0</td>\n",
       "      <td>1.0</td>\n",
       "      <td>0.0</td>\n",
       "      <td>0.0</td>\n",
       "      <td>1.0</td>\n",
       "      <td>0.0</td>\n",
       "      <td>0.0</td>\n",
       "      <td>...</td>\n",
       "      <td>2800.0</td>\n",
       "      <td>900.0</td>\n",
       "      <td>10000.0</td>\n",
       "      <td>2.0</td>\n",
       "      <td>20.000</td>\n",
       "      <td>24.0</td>\n",
       "      <td>24.0</td>\n",
       "      <td>509.0</td>\n",
       "      <td>0.503214</td>\n",
       "      <td>0.280534</td>\n",
       "    </tr>\n",
       "    <tr>\n",
       "      <th>4</th>\n",
       "      <td>0.0</td>\n",
       "      <td>0.0</td>\n",
       "      <td>0.0</td>\n",
       "      <td>0.0</td>\n",
       "      <td>1.0</td>\n",
       "      <td>0.0</td>\n",
       "      <td>0.0</td>\n",
       "      <td>1.0</td>\n",
       "      <td>0.0</td>\n",
       "      <td>0.0</td>\n",
       "      <td>...</td>\n",
       "      <td>2625.0</td>\n",
       "      <td>1000.0</td>\n",
       "      <td>18600.0</td>\n",
       "      <td>4.0</td>\n",
       "      <td>20.800</td>\n",
       "      <td>35.0</td>\n",
       "      <td>48.0</td>\n",
       "      <td>574.0</td>\n",
       "      <td>0.599619</td>\n",
       "      <td>0.524630</td>\n",
       "    </tr>\n",
       "  </tbody>\n",
       "</table>\n",
       "<p>5 rows × 35 columns</p>\n",
       "</div>"
      ],
      "text/plain": [
       "   Gender  Contacted  Primary_Bank_Type  City_Category_B  City_Category_C  \\\n",
       "0     1.0        1.0                1.0              0.0              0.0   \n",
       "1     0.0        0.0                0.0              0.0              0.0   \n",
       "2     1.0        1.0                1.0              0.0              0.0   \n",
       "3     1.0        1.0                1.0              0.0              1.0   \n",
       "4     0.0        0.0                0.0              0.0              1.0   \n",
       "\n",
       "   Employer_Category1_B  Employer_Category1_C  Source_Category_B  \\\n",
       "0                   1.0                   0.0                0.0   \n",
       "1                   1.0                   0.0                0.0   \n",
       "2                   0.0                   0.0                0.0   \n",
       "3                   0.0                   0.0                1.0   \n",
       "4                   0.0                   0.0                1.0   \n",
       "\n",
       "   Source_Category_C  Source_Category_D  ...  Monthly_Income  Existing_EMI  \\\n",
       "0                1.0                0.0  ...          3550.0           0.0   \n",
       "1                1.0                0.0  ...          1000.0           0.0   \n",
       "2                1.0                0.0  ...          8000.0           0.0   \n",
       "3                0.0                0.0  ...          2800.0         900.0   \n",
       "4                0.0                0.0  ...          2625.0        1000.0   \n",
       "\n",
       "   Loan_Amount  Loan_Period  Interest_Rate   Age  loan_period_months  \\\n",
       "0      57000.0          5.0         14.264  31.0                60.0   \n",
       "1      27000.0          4.8         18.950  20.0                57.6   \n",
       "2     139000.0          5.0         14.850  31.0                60.0   \n",
       "3      10000.0          2.0         20.000  24.0                24.0   \n",
       "4      18600.0          4.0         20.800  35.0                48.0   \n",
       "\n",
       "   emi_recal  EMI-Monthly_Income_Ratio  Income_loan_Ratio  \n",
       "0     1334.0                  0.375775           1.154195  \n",
       "1      717.0                  0.717000           1.952378  \n",
       "2     3296.0                  0.412000           1.248986  \n",
       "3      509.0                  0.503214           0.280534  \n",
       "4      574.0                  0.599619           0.524630  \n",
       "\n",
       "[5 rows x 35 columns]"
      ]
     },
     "execution_count": 150,
     "metadata": {},
     "output_type": "execute_result"
    }
   ],
   "source": [
    "imputed_test.head()"
   ]
  },
  {
   "cell_type": "markdown",
   "id": "593240b2",
   "metadata": {},
   "source": [
    "## Interest rate binning"
   ]
  },
  {
   "cell_type": "code",
   "execution_count": 151,
   "id": "12ed854d",
   "metadata": {},
   "outputs": [],
   "source": [
    "interest_binn=[]\n",
    "for i in imputed_train.Interest_Rate:\n",
    "    if i > 11 and i<=15:\n",
    "        interest_binn.append('IR_11-15')\n",
    "    elif i>15 and i<=20:\n",
    "        interest_binn.append('IR_15-20')\n",
    "    elif i>20 and i<=25:\n",
    "        interest_binn.append('IR_20-25')\n",
    "    else:\n",
    "        interest_binn.append('IR_25+')\n",
    "imputed_train['Interest_Bins']=interest_binn"
   ]
  },
  {
   "cell_type": "code",
   "execution_count": 152,
   "id": "b346776c",
   "metadata": {},
   "outputs": [],
   "source": [
    "interest_binn=[]\n",
    "for i in imputed_test.Interest_Rate:\n",
    "    if i > 11 and i<=15:\n",
    "        interest_binn.append('IR_11-15')\n",
    "    elif i>15 and i<=20:\n",
    "        interest_binn.append('IR_15-20')\n",
    "    elif i>20 and i<=25:\n",
    "        interest_binn.append('IR_20-25')\n",
    "    else:\n",
    "        interest_binn.append('IR_25+')\n",
    "imputed_test['Interest_Bins']=interest_binn"
   ]
  },
  {
   "cell_type": "code",
   "execution_count": 153,
   "id": "661e5054",
   "metadata": {
    "scrolled": true
   },
   "outputs": [],
   "source": [
    "xtrain_ekdum_final=pd.concat([imputed_train.drop(['Interest_Bins','Age'],axis=1),pd.get_dummies(imputed_train.Interest_Bins,drop_first=True)],axis=1)"
   ]
  },
  {
   "cell_type": "code",
   "execution_count": 154,
   "id": "e877167f",
   "metadata": {},
   "outputs": [
    {
     "data": {
      "text/plain": [
       "(52270, 37)"
      ]
     },
     "execution_count": 154,
     "metadata": {},
     "output_type": "execute_result"
    }
   ],
   "source": [
    "xtrain_ekdum_final.shape"
   ]
  },
  {
   "cell_type": "code",
   "execution_count": 155,
   "id": "ca49ded3",
   "metadata": {},
   "outputs": [],
   "source": [
    "xtest_ekdum_final=pd.concat([imputed_test.drop(['Interest_Bins','Age'],axis=1),pd.get_dummies(imputed_test.Interest_Bins,drop_first=True)],axis=1)"
   ]
  },
  {
   "cell_type": "code",
   "execution_count": 156,
   "id": "24044df1",
   "metadata": {},
   "outputs": [
    {
     "data": {
      "text/plain": [
       "Index(['Gender', 'Contacted', 'Primary_Bank_Type', 'City_Category_B',\n",
       "       'City_Category_C', 'Employer_Category1_B', 'Employer_Category1_C',\n",
       "       'Source_Category_B', 'Source_Category_C', 'Source_Category_D',\n",
       "       'Source_Category_E', 'Source_Category_F', 'Source_Category_G',\n",
       "       'Age_Cat_Middle-Aged', 'Age_Cat_Old', 'Age_Cat_Young',\n",
       "       'Employer_Cat3_M', 'Employer_Cat3_S', 'Employer_Cat3_VL',\n",
       "       'Employer_Cat3_VS', 'Employer_Category2', 'Var1', 'Lead_Creation_Month',\n",
       "       'City_Code', 'Source', 'Monthly_Income', 'Existing_EMI', 'Loan_Amount',\n",
       "       'Loan_Period', 'Interest_Rate', 'loan_period_months', 'emi_recal',\n",
       "       'EMI-Monthly_Income_Ratio', 'Income_loan_Ratio', 'IR_15-20', 'IR_20-25',\n",
       "       'IR_25+'],\n",
       "      dtype='object')"
      ]
     },
     "execution_count": 156,
     "metadata": {},
     "output_type": "execute_result"
    }
   ],
   "source": [
    "xtrain_ekdum_final.columns"
   ]
  },
  {
   "cell_type": "code",
   "execution_count": null,
   "id": "8d140aba",
   "metadata": {},
   "outputs": [],
   "source": []
  },
  {
   "cell_type": "code",
   "execution_count": 157,
   "id": "51fcc57b",
   "metadata": {},
   "outputs": [],
   "source": [
    "xtrain=xtrain_ekdum_final"
   ]
  },
  {
   "cell_type": "code",
   "execution_count": 158,
   "id": "93979923",
   "metadata": {},
   "outputs": [],
   "source": [
    "xtest=xtest_ekdum_final"
   ]
  },
  {
   "cell_type": "code",
   "execution_count": 159,
   "id": "c3cb9279",
   "metadata": {},
   "outputs": [],
   "source": [
    "pd.options.display.max_columns = None"
   ]
  },
  {
   "cell_type": "code",
   "execution_count": 160,
   "id": "192447e2",
   "metadata": {},
   "outputs": [
    {
     "data": {
      "text/html": [
       "<div>\n",
       "<style scoped>\n",
       "    .dataframe tbody tr th:only-of-type {\n",
       "        vertical-align: middle;\n",
       "    }\n",
       "\n",
       "    .dataframe tbody tr th {\n",
       "        vertical-align: top;\n",
       "    }\n",
       "\n",
       "    .dataframe thead th {\n",
       "        text-align: right;\n",
       "    }\n",
       "</style>\n",
       "<table border=\"1\" class=\"dataframe\">\n",
       "  <thead>\n",
       "    <tr style=\"text-align: right;\">\n",
       "      <th></th>\n",
       "      <th>Gender</th>\n",
       "      <th>Contacted</th>\n",
       "      <th>Primary_Bank_Type</th>\n",
       "      <th>City_Category_B</th>\n",
       "      <th>City_Category_C</th>\n",
       "      <th>Employer_Category1_B</th>\n",
       "      <th>Employer_Category1_C</th>\n",
       "      <th>Source_Category_B</th>\n",
       "      <th>Source_Category_C</th>\n",
       "      <th>Source_Category_D</th>\n",
       "      <th>Source_Category_E</th>\n",
       "      <th>Source_Category_F</th>\n",
       "      <th>Source_Category_G</th>\n",
       "      <th>Age_Cat_Middle-Aged</th>\n",
       "      <th>Age_Cat_Old</th>\n",
       "      <th>Age_Cat_Young</th>\n",
       "      <th>Employer_Cat3_M</th>\n",
       "      <th>Employer_Cat3_S</th>\n",
       "      <th>Employer_Cat3_VL</th>\n",
       "      <th>Employer_Cat3_VS</th>\n",
       "      <th>Employer_Category2</th>\n",
       "      <th>Var1</th>\n",
       "      <th>Lead_Creation_Month</th>\n",
       "      <th>City_Code</th>\n",
       "      <th>Source</th>\n",
       "      <th>Monthly_Income</th>\n",
       "      <th>Existing_EMI</th>\n",
       "      <th>Loan_Amount</th>\n",
       "      <th>Loan_Period</th>\n",
       "      <th>Interest_Rate</th>\n",
       "      <th>loan_period_months</th>\n",
       "      <th>emi_recal</th>\n",
       "      <th>EMI-Monthly_Income_Ratio</th>\n",
       "      <th>Income_loan_Ratio</th>\n",
       "      <th>IR_15-20</th>\n",
       "      <th>IR_20-25</th>\n",
       "      <th>IR_25+</th>\n",
       "    </tr>\n",
       "  </thead>\n",
       "  <tbody>\n",
       "    <tr>\n",
       "      <th>0</th>\n",
       "      <td>0.0</td>\n",
       "      <td>0.0</td>\n",
       "      <td>0.0</td>\n",
       "      <td>0.0</td>\n",
       "      <td>0.0</td>\n",
       "      <td>0.0</td>\n",
       "      <td>0.0</td>\n",
       "      <td>0.0</td>\n",
       "      <td>1.0</td>\n",
       "      <td>0.0</td>\n",
       "      <td>0.0</td>\n",
       "      <td>0.0</td>\n",
       "      <td>0.0</td>\n",
       "      <td>0.0</td>\n",
       "      <td>0.0</td>\n",
       "      <td>1.0</td>\n",
       "      <td>0.0</td>\n",
       "      <td>0.0</td>\n",
       "      <td>0.0</td>\n",
       "      <td>1.0</td>\n",
       "      <td>4.0</td>\n",
       "      <td>0.0</td>\n",
       "      <td>7.0</td>\n",
       "      <td>0.148588</td>\n",
       "      <td>0.059791</td>\n",
       "      <td>1680.0</td>\n",
       "      <td>0.0</td>\n",
       "      <td>19600.0</td>\n",
       "      <td>3.4</td>\n",
       "      <td>18.040</td>\n",
       "      <td>40.8</td>\n",
       "      <td>646.0</td>\n",
       "      <td>0.384524</td>\n",
       "      <td>0.879263</td>\n",
       "      <td>1</td>\n",
       "      <td>0</td>\n",
       "      <td>0</td>\n",
       "    </tr>\n",
       "    <tr>\n",
       "      <th>1</th>\n",
       "      <td>1.0</td>\n",
       "      <td>1.0</td>\n",
       "      <td>1.0</td>\n",
       "      <td>1.0</td>\n",
       "      <td>0.0</td>\n",
       "      <td>0.0</td>\n",
       "      <td>0.0</td>\n",
       "      <td>0.0</td>\n",
       "      <td>1.0</td>\n",
       "      <td>0.0</td>\n",
       "      <td>0.0</td>\n",
       "      <td>0.0</td>\n",
       "      <td>0.0</td>\n",
       "      <td>1.0</td>\n",
       "      <td>0.0</td>\n",
       "      <td>0.0</td>\n",
       "      <td>0.0</td>\n",
       "      <td>0.0</td>\n",
       "      <td>0.0</td>\n",
       "      <td>1.0</td>\n",
       "      <td>4.0</td>\n",
       "      <td>2.0</td>\n",
       "      <td>5.0</td>\n",
       "      <td>-0.267721</td>\n",
       "      <td>0.059791</td>\n",
       "      <td>1350.0</td>\n",
       "      <td>0.0</td>\n",
       "      <td>30000.0</td>\n",
       "      <td>5.0</td>\n",
       "      <td>20.000</td>\n",
       "      <td>60.0</td>\n",
       "      <td>795.0</td>\n",
       "      <td>0.588889</td>\n",
       "      <td>1.597424</td>\n",
       "      <td>1</td>\n",
       "      <td>0</td>\n",
       "      <td>0</td>\n",
       "    </tr>\n",
       "    <tr>\n",
       "      <th>2</th>\n",
       "      <td>0.0</td>\n",
       "      <td>0.0</td>\n",
       "      <td>1.0</td>\n",
       "      <td>0.0</td>\n",
       "      <td>0.0</td>\n",
       "      <td>0.0</td>\n",
       "      <td>1.0</td>\n",
       "      <td>1.0</td>\n",
       "      <td>0.0</td>\n",
       "      <td>0.0</td>\n",
       "      <td>0.0</td>\n",
       "      <td>0.0</td>\n",
       "      <td>0.0</td>\n",
       "      <td>1.0</td>\n",
       "      <td>0.0</td>\n",
       "      <td>0.0</td>\n",
       "      <td>1.0</td>\n",
       "      <td>0.0</td>\n",
       "      <td>0.0</td>\n",
       "      <td>0.0</td>\n",
       "      <td>1.0</td>\n",
       "      <td>10.0</td>\n",
       "      <td>7.0</td>\n",
       "      <td>0.148588</td>\n",
       "      <td>0.059791</td>\n",
       "      <td>5200.0</td>\n",
       "      <td>0.0</td>\n",
       "      <td>90000.0</td>\n",
       "      <td>4.4</td>\n",
       "      <td>15.108</td>\n",
       "      <td>52.8</td>\n",
       "      <td>2344.0</td>\n",
       "      <td>0.450769</td>\n",
       "      <td>1.266409</td>\n",
       "      <td>1</td>\n",
       "      <td>0</td>\n",
       "      <td>0</td>\n",
       "    </tr>\n",
       "    <tr>\n",
       "      <th>3</th>\n",
       "      <td>0.0</td>\n",
       "      <td>0.0</td>\n",
       "      <td>1.0</td>\n",
       "      <td>0.0</td>\n",
       "      <td>1.0</td>\n",
       "      <td>0.0</td>\n",
       "      <td>0.0</td>\n",
       "      <td>1.0</td>\n",
       "      <td>0.0</td>\n",
       "      <td>0.0</td>\n",
       "      <td>0.0</td>\n",
       "      <td>0.0</td>\n",
       "      <td>0.0</td>\n",
       "      <td>0.0</td>\n",
       "      <td>0.0</td>\n",
       "      <td>1.0</td>\n",
       "      <td>0.0</td>\n",
       "      <td>0.0</td>\n",
       "      <td>0.0</td>\n",
       "      <td>1.0</td>\n",
       "      <td>4.0</td>\n",
       "      <td>0.0</td>\n",
       "      <td>12.0</td>\n",
       "      <td>-0.267721</td>\n",
       "      <td>-0.279869</td>\n",
       "      <td>1500.0</td>\n",
       "      <td>0.0</td>\n",
       "      <td>22000.0</td>\n",
       "      <td>4.0</td>\n",
       "      <td>35.500</td>\n",
       "      <td>48.0</td>\n",
       "      <td>864.0</td>\n",
       "      <td>0.576000</td>\n",
       "      <td>1.085929</td>\n",
       "      <td>0</td>\n",
       "      <td>0</td>\n",
       "      <td>1</td>\n",
       "    </tr>\n",
       "    <tr>\n",
       "      <th>4</th>\n",
       "      <td>1.0</td>\n",
       "      <td>1.0</td>\n",
       "      <td>1.0</td>\n",
       "      <td>0.0</td>\n",
       "      <td>0.0</td>\n",
       "      <td>0.0</td>\n",
       "      <td>0.0</td>\n",
       "      <td>1.0</td>\n",
       "      <td>0.0</td>\n",
       "      <td>0.0</td>\n",
       "      <td>0.0</td>\n",
       "      <td>0.0</td>\n",
       "      <td>0.0</td>\n",
       "      <td>1.0</td>\n",
       "      <td>0.0</td>\n",
       "      <td>0.0</td>\n",
       "      <td>0.0</td>\n",
       "      <td>0.0</td>\n",
       "      <td>0.0</td>\n",
       "      <td>1.0</td>\n",
       "      <td>4.0</td>\n",
       "      <td>2.0</td>\n",
       "      <td>7.0</td>\n",
       "      <td>0.034822</td>\n",
       "      <td>0.059791</td>\n",
       "      <td>1500.0</td>\n",
       "      <td>600.0</td>\n",
       "      <td>11000.0</td>\n",
       "      <td>5.0</td>\n",
       "      <td>20.000</td>\n",
       "      <td>60.0</td>\n",
       "      <td>291.0</td>\n",
       "      <td>0.594000</td>\n",
       "      <td>0.527150</td>\n",
       "      <td>1</td>\n",
       "      <td>0</td>\n",
       "      <td>0</td>\n",
       "    </tr>\n",
       "  </tbody>\n",
       "</table>\n",
       "</div>"
      ],
      "text/plain": [
       "   Gender  Contacted  Primary_Bank_Type  City_Category_B  City_Category_C  \\\n",
       "0     0.0        0.0                0.0              0.0              0.0   \n",
       "1     1.0        1.0                1.0              1.0              0.0   \n",
       "2     0.0        0.0                1.0              0.0              0.0   \n",
       "3     0.0        0.0                1.0              0.0              1.0   \n",
       "4     1.0        1.0                1.0              0.0              0.0   \n",
       "\n",
       "   Employer_Category1_B  Employer_Category1_C  Source_Category_B  \\\n",
       "0                   0.0                   0.0                0.0   \n",
       "1                   0.0                   0.0                0.0   \n",
       "2                   0.0                   1.0                1.0   \n",
       "3                   0.0                   0.0                1.0   \n",
       "4                   0.0                   0.0                1.0   \n",
       "\n",
       "   Source_Category_C  Source_Category_D  Source_Category_E  Source_Category_F  \\\n",
       "0                1.0                0.0                0.0                0.0   \n",
       "1                1.0                0.0                0.0                0.0   \n",
       "2                0.0                0.0                0.0                0.0   \n",
       "3                0.0                0.0                0.0                0.0   \n",
       "4                0.0                0.0                0.0                0.0   \n",
       "\n",
       "   Source_Category_G  Age_Cat_Middle-Aged  Age_Cat_Old  Age_Cat_Young  \\\n",
       "0                0.0                  0.0          0.0            1.0   \n",
       "1                0.0                  1.0          0.0            0.0   \n",
       "2                0.0                  1.0          0.0            0.0   \n",
       "3                0.0                  0.0          0.0            1.0   \n",
       "4                0.0                  1.0          0.0            0.0   \n",
       "\n",
       "   Employer_Cat3_M  Employer_Cat3_S  Employer_Cat3_VL  Employer_Cat3_VS  \\\n",
       "0              0.0              0.0               0.0               1.0   \n",
       "1              0.0              0.0               0.0               1.0   \n",
       "2              1.0              0.0               0.0               0.0   \n",
       "3              0.0              0.0               0.0               1.0   \n",
       "4              0.0              0.0               0.0               1.0   \n",
       "\n",
       "   Employer_Category2  Var1  Lead_Creation_Month  City_Code    Source  \\\n",
       "0                 4.0   0.0                  7.0   0.148588  0.059791   \n",
       "1                 4.0   2.0                  5.0  -0.267721  0.059791   \n",
       "2                 1.0  10.0                  7.0   0.148588  0.059791   \n",
       "3                 4.0   0.0                 12.0  -0.267721 -0.279869   \n",
       "4                 4.0   2.0                  7.0   0.034822  0.059791   \n",
       "\n",
       "   Monthly_Income  Existing_EMI  Loan_Amount  Loan_Period  Interest_Rate  \\\n",
       "0          1680.0           0.0      19600.0          3.4         18.040   \n",
       "1          1350.0           0.0      30000.0          5.0         20.000   \n",
       "2          5200.0           0.0      90000.0          4.4         15.108   \n",
       "3          1500.0           0.0      22000.0          4.0         35.500   \n",
       "4          1500.0         600.0      11000.0          5.0         20.000   \n",
       "\n",
       "   loan_period_months  emi_recal  EMI-Monthly_Income_Ratio  Income_loan_Ratio  \\\n",
       "0                40.8      646.0                  0.384524           0.879263   \n",
       "1                60.0      795.0                  0.588889           1.597424   \n",
       "2                52.8     2344.0                  0.450769           1.266409   \n",
       "3                48.0      864.0                  0.576000           1.085929   \n",
       "4                60.0      291.0                  0.594000           0.527150   \n",
       "\n",
       "   IR_15-20  IR_20-25  IR_25+  \n",
       "0         1         0       0  \n",
       "1         1         0       0  \n",
       "2         1         0       0  \n",
       "3         0         0       1  \n",
       "4         1         0       0  "
      ]
     },
     "execution_count": 160,
     "metadata": {},
     "output_type": "execute_result"
    }
   ],
   "source": [
    "xtrain.head()"
   ]
  },
  {
   "cell_type": "code",
   "execution_count": 161,
   "id": "46dd14d0",
   "metadata": {},
   "outputs": [],
   "source": [
    "xtrain['Loan_Period'] = np.round(xtrain.Loan_Period)\n",
    "xtest['Loan_Period'] = np.round(xtest.Loan_Period)"
   ]
  },
  {
   "cell_type": "code",
   "execution_count": 162,
   "id": "fd344fba",
   "metadata": {},
   "outputs": [],
   "source": [
    "def quart(x):\n",
    "    if x < 4:\n",
    "        return 'Q2'\n",
    "    elif x < 7:\n",
    "        return 'Q3'\n",
    "    elif x < 10:\n",
    "        return 'Q4'\n",
    "    else:\n",
    "        return 'Q1'"
   ]
  },
  {
   "cell_type": "code",
   "execution_count": 163,
   "id": "e28ce012",
   "metadata": {},
   "outputs": [],
   "source": [
    "xtrain['Quarter'] = xtrain.Lead_Creation_Month.map(quart)\n",
    "xtest['Quarter'] = xtest.Lead_Creation_Month.map(quart)"
   ]
  },
  {
   "cell_type": "code",
   "execution_count": 164,
   "id": "7162586d",
   "metadata": {},
   "outputs": [
    {
     "data": {
      "text/html": [
       "<div>\n",
       "<style scoped>\n",
       "    .dataframe tbody tr th:only-of-type {\n",
       "        vertical-align: middle;\n",
       "    }\n",
       "\n",
       "    .dataframe tbody tr th {\n",
       "        vertical-align: top;\n",
       "    }\n",
       "\n",
       "    .dataframe thead th {\n",
       "        text-align: right;\n",
       "    }\n",
       "</style>\n",
       "<table border=\"1\" class=\"dataframe\">\n",
       "  <thead>\n",
       "    <tr style=\"text-align: right;\">\n",
       "      <th></th>\n",
       "      <th>Gender</th>\n",
       "      <th>Contacted</th>\n",
       "      <th>Primary_Bank_Type</th>\n",
       "      <th>City_Category_B</th>\n",
       "      <th>City_Category_C</th>\n",
       "      <th>Employer_Category1_B</th>\n",
       "      <th>Employer_Category1_C</th>\n",
       "      <th>Source_Category_B</th>\n",
       "      <th>Source_Category_C</th>\n",
       "      <th>Source_Category_D</th>\n",
       "      <th>Source_Category_E</th>\n",
       "      <th>Source_Category_F</th>\n",
       "      <th>Source_Category_G</th>\n",
       "      <th>Age_Cat_Middle-Aged</th>\n",
       "      <th>Age_Cat_Old</th>\n",
       "      <th>Age_Cat_Young</th>\n",
       "      <th>Employer_Cat3_M</th>\n",
       "      <th>Employer_Cat3_S</th>\n",
       "      <th>Employer_Cat3_VL</th>\n",
       "      <th>Employer_Cat3_VS</th>\n",
       "      <th>Employer_Category2</th>\n",
       "      <th>Var1</th>\n",
       "      <th>Lead_Creation_Month</th>\n",
       "      <th>City_Code</th>\n",
       "      <th>Source</th>\n",
       "      <th>Monthly_Income</th>\n",
       "      <th>Existing_EMI</th>\n",
       "      <th>Loan_Amount</th>\n",
       "      <th>Loan_Period</th>\n",
       "      <th>Interest_Rate</th>\n",
       "      <th>loan_period_months</th>\n",
       "      <th>emi_recal</th>\n",
       "      <th>EMI-Monthly_Income_Ratio</th>\n",
       "      <th>Income_loan_Ratio</th>\n",
       "      <th>IR_15-20</th>\n",
       "      <th>IR_20-25</th>\n",
       "      <th>IR_25+</th>\n",
       "      <th>Quarter</th>\n",
       "    </tr>\n",
       "  </thead>\n",
       "  <tbody>\n",
       "    <tr>\n",
       "      <th>0</th>\n",
       "      <td>0.0</td>\n",
       "      <td>0.0</td>\n",
       "      <td>0.0</td>\n",
       "      <td>0.0</td>\n",
       "      <td>0.0</td>\n",
       "      <td>0.0</td>\n",
       "      <td>0.0</td>\n",
       "      <td>0.0</td>\n",
       "      <td>1.0</td>\n",
       "      <td>0.0</td>\n",
       "      <td>0.0</td>\n",
       "      <td>0.0</td>\n",
       "      <td>0.0</td>\n",
       "      <td>0.0</td>\n",
       "      <td>0.0</td>\n",
       "      <td>1.0</td>\n",
       "      <td>0.0</td>\n",
       "      <td>0.0</td>\n",
       "      <td>0.0</td>\n",
       "      <td>1.0</td>\n",
       "      <td>4.0</td>\n",
       "      <td>0.0</td>\n",
       "      <td>7.0</td>\n",
       "      <td>0.148588</td>\n",
       "      <td>0.059791</td>\n",
       "      <td>1680.0</td>\n",
       "      <td>0.0</td>\n",
       "      <td>19600.0</td>\n",
       "      <td>3.0</td>\n",
       "      <td>18.040</td>\n",
       "      <td>40.8</td>\n",
       "      <td>646.0</td>\n",
       "      <td>0.384524</td>\n",
       "      <td>0.879263</td>\n",
       "      <td>1</td>\n",
       "      <td>0</td>\n",
       "      <td>0</td>\n",
       "      <td>Q4</td>\n",
       "    </tr>\n",
       "    <tr>\n",
       "      <th>1</th>\n",
       "      <td>1.0</td>\n",
       "      <td>1.0</td>\n",
       "      <td>1.0</td>\n",
       "      <td>1.0</td>\n",
       "      <td>0.0</td>\n",
       "      <td>0.0</td>\n",
       "      <td>0.0</td>\n",
       "      <td>0.0</td>\n",
       "      <td>1.0</td>\n",
       "      <td>0.0</td>\n",
       "      <td>0.0</td>\n",
       "      <td>0.0</td>\n",
       "      <td>0.0</td>\n",
       "      <td>1.0</td>\n",
       "      <td>0.0</td>\n",
       "      <td>0.0</td>\n",
       "      <td>0.0</td>\n",
       "      <td>0.0</td>\n",
       "      <td>0.0</td>\n",
       "      <td>1.0</td>\n",
       "      <td>4.0</td>\n",
       "      <td>2.0</td>\n",
       "      <td>5.0</td>\n",
       "      <td>-0.267721</td>\n",
       "      <td>0.059791</td>\n",
       "      <td>1350.0</td>\n",
       "      <td>0.0</td>\n",
       "      <td>30000.0</td>\n",
       "      <td>5.0</td>\n",
       "      <td>20.000</td>\n",
       "      <td>60.0</td>\n",
       "      <td>795.0</td>\n",
       "      <td>0.588889</td>\n",
       "      <td>1.597424</td>\n",
       "      <td>1</td>\n",
       "      <td>0</td>\n",
       "      <td>0</td>\n",
       "      <td>Q3</td>\n",
       "    </tr>\n",
       "    <tr>\n",
       "      <th>2</th>\n",
       "      <td>0.0</td>\n",
       "      <td>0.0</td>\n",
       "      <td>1.0</td>\n",
       "      <td>0.0</td>\n",
       "      <td>0.0</td>\n",
       "      <td>0.0</td>\n",
       "      <td>1.0</td>\n",
       "      <td>1.0</td>\n",
       "      <td>0.0</td>\n",
       "      <td>0.0</td>\n",
       "      <td>0.0</td>\n",
       "      <td>0.0</td>\n",
       "      <td>0.0</td>\n",
       "      <td>1.0</td>\n",
       "      <td>0.0</td>\n",
       "      <td>0.0</td>\n",
       "      <td>1.0</td>\n",
       "      <td>0.0</td>\n",
       "      <td>0.0</td>\n",
       "      <td>0.0</td>\n",
       "      <td>1.0</td>\n",
       "      <td>10.0</td>\n",
       "      <td>7.0</td>\n",
       "      <td>0.148588</td>\n",
       "      <td>0.059791</td>\n",
       "      <td>5200.0</td>\n",
       "      <td>0.0</td>\n",
       "      <td>90000.0</td>\n",
       "      <td>4.0</td>\n",
       "      <td>15.108</td>\n",
       "      <td>52.8</td>\n",
       "      <td>2344.0</td>\n",
       "      <td>0.450769</td>\n",
       "      <td>1.266409</td>\n",
       "      <td>1</td>\n",
       "      <td>0</td>\n",
       "      <td>0</td>\n",
       "      <td>Q4</td>\n",
       "    </tr>\n",
       "    <tr>\n",
       "      <th>3</th>\n",
       "      <td>0.0</td>\n",
       "      <td>0.0</td>\n",
       "      <td>1.0</td>\n",
       "      <td>0.0</td>\n",
       "      <td>1.0</td>\n",
       "      <td>0.0</td>\n",
       "      <td>0.0</td>\n",
       "      <td>1.0</td>\n",
       "      <td>0.0</td>\n",
       "      <td>0.0</td>\n",
       "      <td>0.0</td>\n",
       "      <td>0.0</td>\n",
       "      <td>0.0</td>\n",
       "      <td>0.0</td>\n",
       "      <td>0.0</td>\n",
       "      <td>1.0</td>\n",
       "      <td>0.0</td>\n",
       "      <td>0.0</td>\n",
       "      <td>0.0</td>\n",
       "      <td>1.0</td>\n",
       "      <td>4.0</td>\n",
       "      <td>0.0</td>\n",
       "      <td>12.0</td>\n",
       "      <td>-0.267721</td>\n",
       "      <td>-0.279869</td>\n",
       "      <td>1500.0</td>\n",
       "      <td>0.0</td>\n",
       "      <td>22000.0</td>\n",
       "      <td>4.0</td>\n",
       "      <td>35.500</td>\n",
       "      <td>48.0</td>\n",
       "      <td>864.0</td>\n",
       "      <td>0.576000</td>\n",
       "      <td>1.085929</td>\n",
       "      <td>0</td>\n",
       "      <td>0</td>\n",
       "      <td>1</td>\n",
       "      <td>Q1</td>\n",
       "    </tr>\n",
       "    <tr>\n",
       "      <th>4</th>\n",
       "      <td>1.0</td>\n",
       "      <td>1.0</td>\n",
       "      <td>1.0</td>\n",
       "      <td>0.0</td>\n",
       "      <td>0.0</td>\n",
       "      <td>0.0</td>\n",
       "      <td>0.0</td>\n",
       "      <td>1.0</td>\n",
       "      <td>0.0</td>\n",
       "      <td>0.0</td>\n",
       "      <td>0.0</td>\n",
       "      <td>0.0</td>\n",
       "      <td>0.0</td>\n",
       "      <td>1.0</td>\n",
       "      <td>0.0</td>\n",
       "      <td>0.0</td>\n",
       "      <td>0.0</td>\n",
       "      <td>0.0</td>\n",
       "      <td>0.0</td>\n",
       "      <td>1.0</td>\n",
       "      <td>4.0</td>\n",
       "      <td>2.0</td>\n",
       "      <td>7.0</td>\n",
       "      <td>0.034822</td>\n",
       "      <td>0.059791</td>\n",
       "      <td>1500.0</td>\n",
       "      <td>600.0</td>\n",
       "      <td>11000.0</td>\n",
       "      <td>5.0</td>\n",
       "      <td>20.000</td>\n",
       "      <td>60.0</td>\n",
       "      <td>291.0</td>\n",
       "      <td>0.594000</td>\n",
       "      <td>0.527150</td>\n",
       "      <td>1</td>\n",
       "      <td>0</td>\n",
       "      <td>0</td>\n",
       "      <td>Q4</td>\n",
       "    </tr>\n",
       "  </tbody>\n",
       "</table>\n",
       "</div>"
      ],
      "text/plain": [
       "   Gender  Contacted  Primary_Bank_Type  City_Category_B  City_Category_C  \\\n",
       "0     0.0        0.0                0.0              0.0              0.0   \n",
       "1     1.0        1.0                1.0              1.0              0.0   \n",
       "2     0.0        0.0                1.0              0.0              0.0   \n",
       "3     0.0        0.0                1.0              0.0              1.0   \n",
       "4     1.0        1.0                1.0              0.0              0.0   \n",
       "\n",
       "   Employer_Category1_B  Employer_Category1_C  Source_Category_B  \\\n",
       "0                   0.0                   0.0                0.0   \n",
       "1                   0.0                   0.0                0.0   \n",
       "2                   0.0                   1.0                1.0   \n",
       "3                   0.0                   0.0                1.0   \n",
       "4                   0.0                   0.0                1.0   \n",
       "\n",
       "   Source_Category_C  Source_Category_D  Source_Category_E  Source_Category_F  \\\n",
       "0                1.0                0.0                0.0                0.0   \n",
       "1                1.0                0.0                0.0                0.0   \n",
       "2                0.0                0.0                0.0                0.0   \n",
       "3                0.0                0.0                0.0                0.0   \n",
       "4                0.0                0.0                0.0                0.0   \n",
       "\n",
       "   Source_Category_G  Age_Cat_Middle-Aged  Age_Cat_Old  Age_Cat_Young  \\\n",
       "0                0.0                  0.0          0.0            1.0   \n",
       "1                0.0                  1.0          0.0            0.0   \n",
       "2                0.0                  1.0          0.0            0.0   \n",
       "3                0.0                  0.0          0.0            1.0   \n",
       "4                0.0                  1.0          0.0            0.0   \n",
       "\n",
       "   Employer_Cat3_M  Employer_Cat3_S  Employer_Cat3_VL  Employer_Cat3_VS  \\\n",
       "0              0.0              0.0               0.0               1.0   \n",
       "1              0.0              0.0               0.0               1.0   \n",
       "2              1.0              0.0               0.0               0.0   \n",
       "3              0.0              0.0               0.0               1.0   \n",
       "4              0.0              0.0               0.0               1.0   \n",
       "\n",
       "   Employer_Category2  Var1  Lead_Creation_Month  City_Code    Source  \\\n",
       "0                 4.0   0.0                  7.0   0.148588  0.059791   \n",
       "1                 4.0   2.0                  5.0  -0.267721  0.059791   \n",
       "2                 1.0  10.0                  7.0   0.148588  0.059791   \n",
       "3                 4.0   0.0                 12.0  -0.267721 -0.279869   \n",
       "4                 4.0   2.0                  7.0   0.034822  0.059791   \n",
       "\n",
       "   Monthly_Income  Existing_EMI  Loan_Amount  Loan_Period  Interest_Rate  \\\n",
       "0          1680.0           0.0      19600.0          3.0         18.040   \n",
       "1          1350.0           0.0      30000.0          5.0         20.000   \n",
       "2          5200.0           0.0      90000.0          4.0         15.108   \n",
       "3          1500.0           0.0      22000.0          4.0         35.500   \n",
       "4          1500.0         600.0      11000.0          5.0         20.000   \n",
       "\n",
       "   loan_period_months  emi_recal  EMI-Monthly_Income_Ratio  Income_loan_Ratio  \\\n",
       "0                40.8      646.0                  0.384524           0.879263   \n",
       "1                60.0      795.0                  0.588889           1.597424   \n",
       "2                52.8     2344.0                  0.450769           1.266409   \n",
       "3                48.0      864.0                  0.576000           1.085929   \n",
       "4                60.0      291.0                  0.594000           0.527150   \n",
       "\n",
       "   IR_15-20  IR_20-25  IR_25+ Quarter  \n",
       "0         1         0       0      Q4  \n",
       "1         1         0       0      Q3  \n",
       "2         1         0       0      Q4  \n",
       "3         0         0       1      Q1  \n",
       "4         1         0       0      Q4  "
      ]
     },
     "execution_count": 164,
     "metadata": {},
     "output_type": "execute_result"
    }
   ],
   "source": [
    "xtrain.head()"
   ]
  },
  {
   "cell_type": "code",
   "execution_count": 165,
   "id": "7f99e07d",
   "metadata": {},
   "outputs": [],
   "source": [
    "xtrain = pd.get_dummies(xtrain, drop_first=True)\n",
    "xtest = pd.get_dummies(xtest, drop_first=True)"
   ]
  },
  {
   "cell_type": "code",
   "execution_count": 166,
   "id": "1fb1a9a4",
   "metadata": {},
   "outputs": [],
   "source": [
    "xtrain = xtrain.drop('Lead_Creation_Month', axis=1)\n",
    "xtest = xtest.drop('Lead_Creation_Month', axis=1)"
   ]
  },
  {
   "cell_type": "code",
   "execution_count": 167,
   "id": "ea8af832",
   "metadata": {},
   "outputs": [],
   "source": [
    "xtrain = pd.concat([xtrain.iloc[:, 24:33], xtrain.iloc[:, 21:24], xtrain.iloc[:, :21], xtrain.iloc[:, 33:]], axis=1)\n",
    "xtest = pd.concat([xtest.iloc[:, 24:33], xtest.iloc[:, 21:24], xtest.iloc[:, :21], xtest.iloc[:, 33:]], axis=1)"
   ]
  },
  {
   "cell_type": "code",
   "execution_count": 168,
   "id": "9a2d2aac",
   "metadata": {},
   "outputs": [
    {
     "data": {
      "text/html": [
       "<div>\n",
       "<style scoped>\n",
       "    .dataframe tbody tr th:only-of-type {\n",
       "        vertical-align: middle;\n",
       "    }\n",
       "\n",
       "    .dataframe tbody tr th {\n",
       "        vertical-align: top;\n",
       "    }\n",
       "\n",
       "    .dataframe thead th {\n",
       "        text-align: right;\n",
       "    }\n",
       "</style>\n",
       "<table border=\"1\" class=\"dataframe\">\n",
       "  <thead>\n",
       "    <tr style=\"text-align: right;\">\n",
       "      <th></th>\n",
       "      <th>Monthly_Income</th>\n",
       "      <th>Existing_EMI</th>\n",
       "      <th>Loan_Amount</th>\n",
       "      <th>Loan_Period</th>\n",
       "      <th>Interest_Rate</th>\n",
       "      <th>loan_period_months</th>\n",
       "      <th>emi_recal</th>\n",
       "      <th>EMI-Monthly_Income_Ratio</th>\n",
       "      <th>Income_loan_Ratio</th>\n",
       "      <th>Var1</th>\n",
       "      <th>City_Code</th>\n",
       "      <th>Source</th>\n",
       "      <th>Gender</th>\n",
       "      <th>Contacted</th>\n",
       "      <th>Primary_Bank_Type</th>\n",
       "      <th>City_Category_B</th>\n",
       "      <th>City_Category_C</th>\n",
       "      <th>Employer_Category1_B</th>\n",
       "      <th>Employer_Category1_C</th>\n",
       "      <th>Source_Category_B</th>\n",
       "      <th>Source_Category_C</th>\n",
       "      <th>Source_Category_D</th>\n",
       "      <th>Source_Category_E</th>\n",
       "      <th>Source_Category_F</th>\n",
       "      <th>Source_Category_G</th>\n",
       "      <th>Age_Cat_Middle-Aged</th>\n",
       "      <th>Age_Cat_Old</th>\n",
       "      <th>Age_Cat_Young</th>\n",
       "      <th>Employer_Cat3_M</th>\n",
       "      <th>Employer_Cat3_S</th>\n",
       "      <th>Employer_Cat3_VL</th>\n",
       "      <th>Employer_Cat3_VS</th>\n",
       "      <th>Employer_Category2</th>\n",
       "      <th>IR_15-20</th>\n",
       "      <th>IR_20-25</th>\n",
       "      <th>IR_25+</th>\n",
       "      <th>Quarter_Q2</th>\n",
       "      <th>Quarter_Q3</th>\n",
       "      <th>Quarter_Q4</th>\n",
       "    </tr>\n",
       "  </thead>\n",
       "  <tbody>\n",
       "    <tr>\n",
       "      <th>0</th>\n",
       "      <td>1680.0</td>\n",
       "      <td>0.0</td>\n",
       "      <td>19600.0</td>\n",
       "      <td>3.0</td>\n",
       "      <td>18.040</td>\n",
       "      <td>40.8</td>\n",
       "      <td>646.0</td>\n",
       "      <td>0.384524</td>\n",
       "      <td>0.879263</td>\n",
       "      <td>0.0</td>\n",
       "      <td>0.148588</td>\n",
       "      <td>0.059791</td>\n",
       "      <td>0.0</td>\n",
       "      <td>0.0</td>\n",
       "      <td>0.0</td>\n",
       "      <td>0.0</td>\n",
       "      <td>0.0</td>\n",
       "      <td>0.0</td>\n",
       "      <td>0.0</td>\n",
       "      <td>0.0</td>\n",
       "      <td>1.0</td>\n",
       "      <td>0.0</td>\n",
       "      <td>0.0</td>\n",
       "      <td>0.0</td>\n",
       "      <td>0.0</td>\n",
       "      <td>0.0</td>\n",
       "      <td>0.0</td>\n",
       "      <td>1.0</td>\n",
       "      <td>0.0</td>\n",
       "      <td>0.0</td>\n",
       "      <td>0.0</td>\n",
       "      <td>1.0</td>\n",
       "      <td>4.0</td>\n",
       "      <td>1</td>\n",
       "      <td>0</td>\n",
       "      <td>0</td>\n",
       "      <td>0</td>\n",
       "      <td>0</td>\n",
       "      <td>1</td>\n",
       "    </tr>\n",
       "    <tr>\n",
       "      <th>1</th>\n",
       "      <td>1350.0</td>\n",
       "      <td>0.0</td>\n",
       "      <td>30000.0</td>\n",
       "      <td>5.0</td>\n",
       "      <td>20.000</td>\n",
       "      <td>60.0</td>\n",
       "      <td>795.0</td>\n",
       "      <td>0.588889</td>\n",
       "      <td>1.597424</td>\n",
       "      <td>2.0</td>\n",
       "      <td>-0.267721</td>\n",
       "      <td>0.059791</td>\n",
       "      <td>1.0</td>\n",
       "      <td>1.0</td>\n",
       "      <td>1.0</td>\n",
       "      <td>1.0</td>\n",
       "      <td>0.0</td>\n",
       "      <td>0.0</td>\n",
       "      <td>0.0</td>\n",
       "      <td>0.0</td>\n",
       "      <td>1.0</td>\n",
       "      <td>0.0</td>\n",
       "      <td>0.0</td>\n",
       "      <td>0.0</td>\n",
       "      <td>0.0</td>\n",
       "      <td>1.0</td>\n",
       "      <td>0.0</td>\n",
       "      <td>0.0</td>\n",
       "      <td>0.0</td>\n",
       "      <td>0.0</td>\n",
       "      <td>0.0</td>\n",
       "      <td>1.0</td>\n",
       "      <td>4.0</td>\n",
       "      <td>1</td>\n",
       "      <td>0</td>\n",
       "      <td>0</td>\n",
       "      <td>0</td>\n",
       "      <td>1</td>\n",
       "      <td>0</td>\n",
       "    </tr>\n",
       "    <tr>\n",
       "      <th>2</th>\n",
       "      <td>5200.0</td>\n",
       "      <td>0.0</td>\n",
       "      <td>90000.0</td>\n",
       "      <td>4.0</td>\n",
       "      <td>15.108</td>\n",
       "      <td>52.8</td>\n",
       "      <td>2344.0</td>\n",
       "      <td>0.450769</td>\n",
       "      <td>1.266409</td>\n",
       "      <td>10.0</td>\n",
       "      <td>0.148588</td>\n",
       "      <td>0.059791</td>\n",
       "      <td>0.0</td>\n",
       "      <td>0.0</td>\n",
       "      <td>1.0</td>\n",
       "      <td>0.0</td>\n",
       "      <td>0.0</td>\n",
       "      <td>0.0</td>\n",
       "      <td>1.0</td>\n",
       "      <td>1.0</td>\n",
       "      <td>0.0</td>\n",
       "      <td>0.0</td>\n",
       "      <td>0.0</td>\n",
       "      <td>0.0</td>\n",
       "      <td>0.0</td>\n",
       "      <td>1.0</td>\n",
       "      <td>0.0</td>\n",
       "      <td>0.0</td>\n",
       "      <td>1.0</td>\n",
       "      <td>0.0</td>\n",
       "      <td>0.0</td>\n",
       "      <td>0.0</td>\n",
       "      <td>1.0</td>\n",
       "      <td>1</td>\n",
       "      <td>0</td>\n",
       "      <td>0</td>\n",
       "      <td>0</td>\n",
       "      <td>0</td>\n",
       "      <td>1</td>\n",
       "    </tr>\n",
       "    <tr>\n",
       "      <th>3</th>\n",
       "      <td>1500.0</td>\n",
       "      <td>0.0</td>\n",
       "      <td>22000.0</td>\n",
       "      <td>4.0</td>\n",
       "      <td>35.500</td>\n",
       "      <td>48.0</td>\n",
       "      <td>864.0</td>\n",
       "      <td>0.576000</td>\n",
       "      <td>1.085929</td>\n",
       "      <td>0.0</td>\n",
       "      <td>-0.267721</td>\n",
       "      <td>-0.279869</td>\n",
       "      <td>0.0</td>\n",
       "      <td>0.0</td>\n",
       "      <td>1.0</td>\n",
       "      <td>0.0</td>\n",
       "      <td>1.0</td>\n",
       "      <td>0.0</td>\n",
       "      <td>0.0</td>\n",
       "      <td>1.0</td>\n",
       "      <td>0.0</td>\n",
       "      <td>0.0</td>\n",
       "      <td>0.0</td>\n",
       "      <td>0.0</td>\n",
       "      <td>0.0</td>\n",
       "      <td>0.0</td>\n",
       "      <td>0.0</td>\n",
       "      <td>1.0</td>\n",
       "      <td>0.0</td>\n",
       "      <td>0.0</td>\n",
       "      <td>0.0</td>\n",
       "      <td>1.0</td>\n",
       "      <td>4.0</td>\n",
       "      <td>0</td>\n",
       "      <td>0</td>\n",
       "      <td>1</td>\n",
       "      <td>0</td>\n",
       "      <td>0</td>\n",
       "      <td>0</td>\n",
       "    </tr>\n",
       "    <tr>\n",
       "      <th>4</th>\n",
       "      <td>1500.0</td>\n",
       "      <td>600.0</td>\n",
       "      <td>11000.0</td>\n",
       "      <td>5.0</td>\n",
       "      <td>20.000</td>\n",
       "      <td>60.0</td>\n",
       "      <td>291.0</td>\n",
       "      <td>0.594000</td>\n",
       "      <td>0.527150</td>\n",
       "      <td>2.0</td>\n",
       "      <td>0.034822</td>\n",
       "      <td>0.059791</td>\n",
       "      <td>1.0</td>\n",
       "      <td>1.0</td>\n",
       "      <td>1.0</td>\n",
       "      <td>0.0</td>\n",
       "      <td>0.0</td>\n",
       "      <td>0.0</td>\n",
       "      <td>0.0</td>\n",
       "      <td>1.0</td>\n",
       "      <td>0.0</td>\n",
       "      <td>0.0</td>\n",
       "      <td>0.0</td>\n",
       "      <td>0.0</td>\n",
       "      <td>0.0</td>\n",
       "      <td>1.0</td>\n",
       "      <td>0.0</td>\n",
       "      <td>0.0</td>\n",
       "      <td>0.0</td>\n",
       "      <td>0.0</td>\n",
       "      <td>0.0</td>\n",
       "      <td>1.0</td>\n",
       "      <td>4.0</td>\n",
       "      <td>1</td>\n",
       "      <td>0</td>\n",
       "      <td>0</td>\n",
       "      <td>0</td>\n",
       "      <td>0</td>\n",
       "      <td>1</td>\n",
       "    </tr>\n",
       "  </tbody>\n",
       "</table>\n",
       "</div>"
      ],
      "text/plain": [
       "   Monthly_Income  Existing_EMI  Loan_Amount  Loan_Period  Interest_Rate  \\\n",
       "0          1680.0           0.0      19600.0          3.0         18.040   \n",
       "1          1350.0           0.0      30000.0          5.0         20.000   \n",
       "2          5200.0           0.0      90000.0          4.0         15.108   \n",
       "3          1500.0           0.0      22000.0          4.0         35.500   \n",
       "4          1500.0         600.0      11000.0          5.0         20.000   \n",
       "\n",
       "   loan_period_months  emi_recal  EMI-Monthly_Income_Ratio  Income_loan_Ratio  \\\n",
       "0                40.8      646.0                  0.384524           0.879263   \n",
       "1                60.0      795.0                  0.588889           1.597424   \n",
       "2                52.8     2344.0                  0.450769           1.266409   \n",
       "3                48.0      864.0                  0.576000           1.085929   \n",
       "4                60.0      291.0                  0.594000           0.527150   \n",
       "\n",
       "   Var1  City_Code    Source  Gender  Contacted  Primary_Bank_Type  \\\n",
       "0   0.0   0.148588  0.059791     0.0        0.0                0.0   \n",
       "1   2.0  -0.267721  0.059791     1.0        1.0                1.0   \n",
       "2  10.0   0.148588  0.059791     0.0        0.0                1.0   \n",
       "3   0.0  -0.267721 -0.279869     0.0        0.0                1.0   \n",
       "4   2.0   0.034822  0.059791     1.0        1.0                1.0   \n",
       "\n",
       "   City_Category_B  City_Category_C  Employer_Category1_B  \\\n",
       "0              0.0              0.0                   0.0   \n",
       "1              1.0              0.0                   0.0   \n",
       "2              0.0              0.0                   0.0   \n",
       "3              0.0              1.0                   0.0   \n",
       "4              0.0              0.0                   0.0   \n",
       "\n",
       "   Employer_Category1_C  Source_Category_B  Source_Category_C  \\\n",
       "0                   0.0                0.0                1.0   \n",
       "1                   0.0                0.0                1.0   \n",
       "2                   1.0                1.0                0.0   \n",
       "3                   0.0                1.0                0.0   \n",
       "4                   0.0                1.0                0.0   \n",
       "\n",
       "   Source_Category_D  Source_Category_E  Source_Category_F  Source_Category_G  \\\n",
       "0                0.0                0.0                0.0                0.0   \n",
       "1                0.0                0.0                0.0                0.0   \n",
       "2                0.0                0.0                0.0                0.0   \n",
       "3                0.0                0.0                0.0                0.0   \n",
       "4                0.0                0.0                0.0                0.0   \n",
       "\n",
       "   Age_Cat_Middle-Aged  Age_Cat_Old  Age_Cat_Young  Employer_Cat3_M  \\\n",
       "0                  0.0          0.0            1.0              0.0   \n",
       "1                  1.0          0.0            0.0              0.0   \n",
       "2                  1.0          0.0            0.0              1.0   \n",
       "3                  0.0          0.0            1.0              0.0   \n",
       "4                  1.0          0.0            0.0              0.0   \n",
       "\n",
       "   Employer_Cat3_S  Employer_Cat3_VL  Employer_Cat3_VS  Employer_Category2  \\\n",
       "0              0.0               0.0               1.0                 4.0   \n",
       "1              0.0               0.0               1.0                 4.0   \n",
       "2              0.0               0.0               0.0                 1.0   \n",
       "3              0.0               0.0               1.0                 4.0   \n",
       "4              0.0               0.0               1.0                 4.0   \n",
       "\n",
       "   IR_15-20  IR_20-25  IR_25+  Quarter_Q2  Quarter_Q3  Quarter_Q4  \n",
       "0         1         0       0           0           0           1  \n",
       "1         1         0       0           0           1           0  \n",
       "2         1         0       0           0           0           1  \n",
       "3         0         0       1           0           0           0  \n",
       "4         1         0       0           0           0           1  "
      ]
     },
     "execution_count": 168,
     "metadata": {},
     "output_type": "execute_result"
    }
   ],
   "source": [
    "xtrain.head()\n"
   ]
  },
  {
   "cell_type": "code",
   "execution_count": 169,
   "id": "b84b51ee",
   "metadata": {},
   "outputs": [
    {
     "data": {
      "text/plain": [
       "(52270, 39)"
      ]
     },
     "execution_count": 169,
     "metadata": {},
     "output_type": "execute_result"
    }
   ],
   "source": [
    "xtrain.shape"
   ]
  },
  {
   "cell_type": "code",
   "execution_count": 170,
   "id": "8bc59121",
   "metadata": {},
   "outputs": [
    {
     "data": {
      "text/html": [
       "<div>\n",
       "<style scoped>\n",
       "    .dataframe tbody tr th:only-of-type {\n",
       "        vertical-align: middle;\n",
       "    }\n",
       "\n",
       "    .dataframe tbody tr th {\n",
       "        vertical-align: top;\n",
       "    }\n",
       "\n",
       "    .dataframe thead th {\n",
       "        text-align: right;\n",
       "    }\n",
       "</style>\n",
       "<table border=\"1\" class=\"dataframe\">\n",
       "  <thead>\n",
       "    <tr style=\"text-align: right;\">\n",
       "      <th></th>\n",
       "      <th>Monthly_Income</th>\n",
       "      <th>Existing_EMI</th>\n",
       "      <th>Loan_Amount</th>\n",
       "      <th>Loan_Period</th>\n",
       "      <th>Interest_Rate</th>\n",
       "      <th>loan_period_months</th>\n",
       "      <th>emi_recal</th>\n",
       "      <th>EMI-Monthly_Income_Ratio</th>\n",
       "      <th>Income_loan_Ratio</th>\n",
       "      <th>Var1</th>\n",
       "      <th>City_Code</th>\n",
       "      <th>Source</th>\n",
       "      <th>Gender</th>\n",
       "      <th>Contacted</th>\n",
       "      <th>Primary_Bank_Type</th>\n",
       "      <th>City_Category_B</th>\n",
       "      <th>City_Category_C</th>\n",
       "      <th>Employer_Category1_B</th>\n",
       "      <th>Employer_Category1_C</th>\n",
       "      <th>Source_Category_B</th>\n",
       "      <th>Source_Category_C</th>\n",
       "      <th>Source_Category_D</th>\n",
       "      <th>Source_Category_E</th>\n",
       "      <th>Source_Category_F</th>\n",
       "      <th>Source_Category_G</th>\n",
       "      <th>Age_Cat_Middle-Aged</th>\n",
       "      <th>Age_Cat_Old</th>\n",
       "      <th>Age_Cat_Young</th>\n",
       "      <th>Employer_Cat3_M</th>\n",
       "      <th>Employer_Cat3_S</th>\n",
       "      <th>Employer_Cat3_VL</th>\n",
       "      <th>Employer_Cat3_VS</th>\n",
       "      <th>Employer_Category2</th>\n",
       "      <th>IR_15-20</th>\n",
       "      <th>IR_20-25</th>\n",
       "      <th>IR_25+</th>\n",
       "      <th>Quarter_Q2</th>\n",
       "      <th>Quarter_Q3</th>\n",
       "      <th>Quarter_Q4</th>\n",
       "    </tr>\n",
       "  </thead>\n",
       "  <tbody>\n",
       "    <tr>\n",
       "      <th>0</th>\n",
       "      <td>1680.0</td>\n",
       "      <td>0.0</td>\n",
       "      <td>19600.0</td>\n",
       "      <td>3.0</td>\n",
       "      <td>18.040</td>\n",
       "      <td>40.8</td>\n",
       "      <td>646.0</td>\n",
       "      <td>0.384524</td>\n",
       "      <td>0.879263</td>\n",
       "      <td>0.0</td>\n",
       "      <td>0.148588</td>\n",
       "      <td>0.059791</td>\n",
       "      <td>0.0</td>\n",
       "      <td>0.0</td>\n",
       "      <td>0.0</td>\n",
       "      <td>0.0</td>\n",
       "      <td>0.0</td>\n",
       "      <td>0.0</td>\n",
       "      <td>0.0</td>\n",
       "      <td>0.0</td>\n",
       "      <td>1.0</td>\n",
       "      <td>0.0</td>\n",
       "      <td>0.0</td>\n",
       "      <td>0.0</td>\n",
       "      <td>0.0</td>\n",
       "      <td>0.0</td>\n",
       "      <td>0.0</td>\n",
       "      <td>1.0</td>\n",
       "      <td>0.0</td>\n",
       "      <td>0.0</td>\n",
       "      <td>0.0</td>\n",
       "      <td>1.0</td>\n",
       "      <td>4.0</td>\n",
       "      <td>1</td>\n",
       "      <td>0</td>\n",
       "      <td>0</td>\n",
       "      <td>0</td>\n",
       "      <td>0</td>\n",
       "      <td>1</td>\n",
       "    </tr>\n",
       "    <tr>\n",
       "      <th>1</th>\n",
       "      <td>1350.0</td>\n",
       "      <td>0.0</td>\n",
       "      <td>30000.0</td>\n",
       "      <td>5.0</td>\n",
       "      <td>20.000</td>\n",
       "      <td>60.0</td>\n",
       "      <td>795.0</td>\n",
       "      <td>0.588889</td>\n",
       "      <td>1.597424</td>\n",
       "      <td>2.0</td>\n",
       "      <td>-0.267721</td>\n",
       "      <td>0.059791</td>\n",
       "      <td>1.0</td>\n",
       "      <td>1.0</td>\n",
       "      <td>1.0</td>\n",
       "      <td>1.0</td>\n",
       "      <td>0.0</td>\n",
       "      <td>0.0</td>\n",
       "      <td>0.0</td>\n",
       "      <td>0.0</td>\n",
       "      <td>1.0</td>\n",
       "      <td>0.0</td>\n",
       "      <td>0.0</td>\n",
       "      <td>0.0</td>\n",
       "      <td>0.0</td>\n",
       "      <td>1.0</td>\n",
       "      <td>0.0</td>\n",
       "      <td>0.0</td>\n",
       "      <td>0.0</td>\n",
       "      <td>0.0</td>\n",
       "      <td>0.0</td>\n",
       "      <td>1.0</td>\n",
       "      <td>4.0</td>\n",
       "      <td>1</td>\n",
       "      <td>0</td>\n",
       "      <td>0</td>\n",
       "      <td>0</td>\n",
       "      <td>1</td>\n",
       "      <td>0</td>\n",
       "    </tr>\n",
       "    <tr>\n",
       "      <th>2</th>\n",
       "      <td>5200.0</td>\n",
       "      <td>0.0</td>\n",
       "      <td>90000.0</td>\n",
       "      <td>4.0</td>\n",
       "      <td>15.108</td>\n",
       "      <td>52.8</td>\n",
       "      <td>2344.0</td>\n",
       "      <td>0.450769</td>\n",
       "      <td>1.266409</td>\n",
       "      <td>10.0</td>\n",
       "      <td>0.148588</td>\n",
       "      <td>0.059791</td>\n",
       "      <td>0.0</td>\n",
       "      <td>0.0</td>\n",
       "      <td>1.0</td>\n",
       "      <td>0.0</td>\n",
       "      <td>0.0</td>\n",
       "      <td>0.0</td>\n",
       "      <td>1.0</td>\n",
       "      <td>1.0</td>\n",
       "      <td>0.0</td>\n",
       "      <td>0.0</td>\n",
       "      <td>0.0</td>\n",
       "      <td>0.0</td>\n",
       "      <td>0.0</td>\n",
       "      <td>1.0</td>\n",
       "      <td>0.0</td>\n",
       "      <td>0.0</td>\n",
       "      <td>1.0</td>\n",
       "      <td>0.0</td>\n",
       "      <td>0.0</td>\n",
       "      <td>0.0</td>\n",
       "      <td>1.0</td>\n",
       "      <td>1</td>\n",
       "      <td>0</td>\n",
       "      <td>0</td>\n",
       "      <td>0</td>\n",
       "      <td>0</td>\n",
       "      <td>1</td>\n",
       "    </tr>\n",
       "    <tr>\n",
       "      <th>3</th>\n",
       "      <td>1500.0</td>\n",
       "      <td>0.0</td>\n",
       "      <td>22000.0</td>\n",
       "      <td>4.0</td>\n",
       "      <td>35.500</td>\n",
       "      <td>48.0</td>\n",
       "      <td>864.0</td>\n",
       "      <td>0.576000</td>\n",
       "      <td>1.085929</td>\n",
       "      <td>0.0</td>\n",
       "      <td>-0.267721</td>\n",
       "      <td>-0.279869</td>\n",
       "      <td>0.0</td>\n",
       "      <td>0.0</td>\n",
       "      <td>1.0</td>\n",
       "      <td>0.0</td>\n",
       "      <td>1.0</td>\n",
       "      <td>0.0</td>\n",
       "      <td>0.0</td>\n",
       "      <td>1.0</td>\n",
       "      <td>0.0</td>\n",
       "      <td>0.0</td>\n",
       "      <td>0.0</td>\n",
       "      <td>0.0</td>\n",
       "      <td>0.0</td>\n",
       "      <td>0.0</td>\n",
       "      <td>0.0</td>\n",
       "      <td>1.0</td>\n",
       "      <td>0.0</td>\n",
       "      <td>0.0</td>\n",
       "      <td>0.0</td>\n",
       "      <td>1.0</td>\n",
       "      <td>4.0</td>\n",
       "      <td>0</td>\n",
       "      <td>0</td>\n",
       "      <td>1</td>\n",
       "      <td>0</td>\n",
       "      <td>0</td>\n",
       "      <td>0</td>\n",
       "    </tr>\n",
       "    <tr>\n",
       "      <th>4</th>\n",
       "      <td>1500.0</td>\n",
       "      <td>600.0</td>\n",
       "      <td>11000.0</td>\n",
       "      <td>5.0</td>\n",
       "      <td>20.000</td>\n",
       "      <td>60.0</td>\n",
       "      <td>291.0</td>\n",
       "      <td>0.594000</td>\n",
       "      <td>0.527150</td>\n",
       "      <td>2.0</td>\n",
       "      <td>0.034822</td>\n",
       "      <td>0.059791</td>\n",
       "      <td>1.0</td>\n",
       "      <td>1.0</td>\n",
       "      <td>1.0</td>\n",
       "      <td>0.0</td>\n",
       "      <td>0.0</td>\n",
       "      <td>0.0</td>\n",
       "      <td>0.0</td>\n",
       "      <td>1.0</td>\n",
       "      <td>0.0</td>\n",
       "      <td>0.0</td>\n",
       "      <td>0.0</td>\n",
       "      <td>0.0</td>\n",
       "      <td>0.0</td>\n",
       "      <td>1.0</td>\n",
       "      <td>0.0</td>\n",
       "      <td>0.0</td>\n",
       "      <td>0.0</td>\n",
       "      <td>0.0</td>\n",
       "      <td>0.0</td>\n",
       "      <td>1.0</td>\n",
       "      <td>4.0</td>\n",
       "      <td>1</td>\n",
       "      <td>0</td>\n",
       "      <td>0</td>\n",
       "      <td>0</td>\n",
       "      <td>0</td>\n",
       "      <td>1</td>\n",
       "    </tr>\n",
       "  </tbody>\n",
       "</table>\n",
       "</div>"
      ],
      "text/plain": [
       "   Monthly_Income  Existing_EMI  Loan_Amount  Loan_Period  Interest_Rate  \\\n",
       "0          1680.0           0.0      19600.0          3.0         18.040   \n",
       "1          1350.0           0.0      30000.0          5.0         20.000   \n",
       "2          5200.0           0.0      90000.0          4.0         15.108   \n",
       "3          1500.0           0.0      22000.0          4.0         35.500   \n",
       "4          1500.0         600.0      11000.0          5.0         20.000   \n",
       "\n",
       "   loan_period_months  emi_recal  EMI-Monthly_Income_Ratio  Income_loan_Ratio  \\\n",
       "0                40.8      646.0                  0.384524           0.879263   \n",
       "1                60.0      795.0                  0.588889           1.597424   \n",
       "2                52.8     2344.0                  0.450769           1.266409   \n",
       "3                48.0      864.0                  0.576000           1.085929   \n",
       "4                60.0      291.0                  0.594000           0.527150   \n",
       "\n",
       "   Var1  City_Code    Source  Gender  Contacted  Primary_Bank_Type  \\\n",
       "0   0.0   0.148588  0.059791     0.0        0.0                0.0   \n",
       "1   2.0  -0.267721  0.059791     1.0        1.0                1.0   \n",
       "2  10.0   0.148588  0.059791     0.0        0.0                1.0   \n",
       "3   0.0  -0.267721 -0.279869     0.0        0.0                1.0   \n",
       "4   2.0   0.034822  0.059791     1.0        1.0                1.0   \n",
       "\n",
       "   City_Category_B  City_Category_C  Employer_Category1_B  \\\n",
       "0              0.0              0.0                   0.0   \n",
       "1              1.0              0.0                   0.0   \n",
       "2              0.0              0.0                   0.0   \n",
       "3              0.0              1.0                   0.0   \n",
       "4              0.0              0.0                   0.0   \n",
       "\n",
       "   Employer_Category1_C  Source_Category_B  Source_Category_C  \\\n",
       "0                   0.0                0.0                1.0   \n",
       "1                   0.0                0.0                1.0   \n",
       "2                   1.0                1.0                0.0   \n",
       "3                   0.0                1.0                0.0   \n",
       "4                   0.0                1.0                0.0   \n",
       "\n",
       "   Source_Category_D  Source_Category_E  Source_Category_F  Source_Category_G  \\\n",
       "0                0.0                0.0                0.0                0.0   \n",
       "1                0.0                0.0                0.0                0.0   \n",
       "2                0.0                0.0                0.0                0.0   \n",
       "3                0.0                0.0                0.0                0.0   \n",
       "4                0.0                0.0                0.0                0.0   \n",
       "\n",
       "   Age_Cat_Middle-Aged  Age_Cat_Old  Age_Cat_Young  Employer_Cat3_M  \\\n",
       "0                  0.0          0.0            1.0              0.0   \n",
       "1                  1.0          0.0            0.0              0.0   \n",
       "2                  1.0          0.0            0.0              1.0   \n",
       "3                  0.0          0.0            1.0              0.0   \n",
       "4                  1.0          0.0            0.0              0.0   \n",
       "\n",
       "   Employer_Cat3_S  Employer_Cat3_VL  Employer_Cat3_VS  Employer_Category2  \\\n",
       "0              0.0               0.0               1.0                 4.0   \n",
       "1              0.0               0.0               1.0                 4.0   \n",
       "2              0.0               0.0               0.0                 1.0   \n",
       "3              0.0               0.0               1.0                 4.0   \n",
       "4              0.0               0.0               1.0                 4.0   \n",
       "\n",
       "   IR_15-20  IR_20-25  IR_25+  Quarter_Q2  Quarter_Q3  Quarter_Q4  \n",
       "0         1         0       0           0           0           1  \n",
       "1         1         0       0           0           1           0  \n",
       "2         1         0       0           0           0           1  \n",
       "3         0         0       1           0           0           0  \n",
       "4         1         0       0           0           0           1  "
      ]
     },
     "execution_count": 170,
     "metadata": {},
     "output_type": "execute_result"
    }
   ],
   "source": [
    "xtrain.head()"
   ]
  },
  {
   "cell_type": "code",
   "execution_count": 173,
   "id": "d6f223db",
   "metadata": {},
   "outputs": [],
   "source": [
    "xtrain.to_csv('xtrain_final.csv',index=False)\n",
    "xtest.to_csv('xtest_final.csv',index=False)\n",
    "ytest.to_csv('ytest_final.csv',index=False)\n",
    "ytrain.to_csv('ytrain_final.csv',index=False)"
   ]
  },
  {
   "cell_type": "code",
   "execution_count": null,
   "id": "36ccc29c",
   "metadata": {},
   "outputs": [],
   "source": []
  }
 ],
 "metadata": {
  "kernelspec": {
   "display_name": "Python 3 (ipykernel)",
   "language": "python",
   "name": "python3"
  },
  "language_info": {
   "codemirror_mode": {
    "name": "ipython",
    "version": 3
   },
   "file_extension": ".py",
   "mimetype": "text/x-python",
   "name": "python",
   "nbconvert_exporter": "python",
   "pygments_lexer": "ipython3",
   "version": "3.9.7"
  }
 },
 "nbformat": 4,
 "nbformat_minor": 5
}
